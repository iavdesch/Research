{
 "cells": [
  {
   "cell_type": "markdown",
   "id": "da641a17-7391-4fe1-8f30-806774241e8c",
   "metadata": {},
   "source": [
    "# \"A method for determining the accuracy of formulas for calculation of crack wdith and spacing in reinforced concrete elements\""
   ]
  },
  {
   "cell_type": "markdown",
   "id": "1ee23db6-c70a-47ae-8116-74a912f0f6f8",
   "metadata": {},
   "source": [
    "This file generates the working database, from the origional database \"Crack width and crack spacing in reinforced and prestressed concrete elements: database\". <br>\n",
    "\n",
    "This is related to the paper \"A method for determining the performance of formulas for calculating the crack width and spacing in reinforced concrete elements\".\n",
    "\n",
    "2025-08-19 <br>\n",
    "(c) Anton van der Esch <br>\n",
    "-antonvanderesch@hotmail.com or i.a.v.d.esch@tue.nl\n",
    "\n",
    "Please read the licence.\n",
    "\n",
    "Sections: <br>\n",
    "00 - Import packages <br>\n",
    "01 - Settings <br>\n",
    "02 - Import and prepare data <br>\n",
    "03 - Set data types <br>\n",
    "04 - Inspect various variables <br>\n",
    "05 - Functions <br>"
   ]
  },
  {
   "cell_type": "markdown",
   "id": "1abc2d07-d49f-4917-bca5-cfdd91f8d78d",
   "metadata": {},
   "source": [
    "## 00 - Import packages"
   ]
  },
  {
   "cell_type": "code",
   "execution_count": 1,
   "id": "8340901f-fd32-4442-b2e9-5bb6506dd922",
   "metadata": {},
   "outputs": [],
   "source": [
    "import pandas as pd\n",
    "import matplotlib.pyplot as plt\n",
    "from matplotlib.lines import Line2D\n",
    "import numpy as np\n",
    "import numpy.ma as ma\n",
    "\n",
    "from pathlib import Path\n",
    "import ast\n",
    "\n",
    "from scipy.integrate import quad\n",
    "from scipy.interpolate import interp1d\n",
    "from scipy.optimize import fsolve\n",
    "\n",
    "from sklearn.metrics import r2_score \n",
    "\n",
    "from contextlib import suppress\n",
    "\n",
    "from scipy.stats import norm\n",
    "from scipy.stats import lognorm\n",
    "from sklearn.metrics import root_mean_squared_error\n",
    "\n",
    "import time\n",
    "import os"
   ]
  },
  {
   "cell_type": "markdown",
   "id": "90b1213f-92ea-460a-bf5b-b667d745dbb0",
   "metadata": {},
   "source": [
    "## 01 - Settings"
   ]
  },
  {
   "cell_type": "markdown",
   "id": "9ce8dc59-4ea1-44f7-97fe-aa4930eef295",
   "metadata": {},
   "source": [
    "The settings used below are also incorporated in the study."
   ]
  },
  {
   "cell_type": "code",
   "execution_count": 2,
   "id": "d7bed520-c400-43b6-b6fb-4765df7556a0",
   "metadata": {},
   "outputs": [],
   "source": [
    "Ncond = 15;\n",
    "Nint = 100;\n",
    "g = 9.81;\n",
    "timecutoff = 100; # Transition from short to long term\n",
    "Nrepcutoff = 2000; # Transition from static to repeated loading\n",
    "chi = 0.8; # Aeging factor\n",
    "\n",
    "importsigs = \"no\"; # Choice to import steel stress calculation from previous calculation --> save tremendous time\n",
    "importdat = \"no\";\n",
    "\n",
    "exclude_secondary_cracks = \"no\"; # Perform additional check for exclusion of secondary cracks\n",
    "uniformtargets = \"yes\"; # Incorporate uniform targets --> convert wm to wmax in case wmax is not available (same for sm)\n",
    "hordijksigs = \"no\"; # In case yes, then the stress according to Hordijk is calculated\n",
    "includeinitshrinkage = \"no\"; # Include initial shrinkage in the calculations\n",
    "\n",
    "# Global constraints\n",
    "globalfilterstress = \"yes\"; # Filters for the steel stress on the complete database!\n",
    "sigslower = 150; # <-- eigenlijk vind ik dat dit 138 of 150 MPa moet zijn, komt ook overeen met ondergrens volgens Frosch?\n",
    "sigsupper = 350;\n",
    "\n",
    "filtercrackingplateau = \"yes\";\n",
    "\n",
    "# Impute mean crack spacings based on known values?\n",
    "targetimputation = \"no\";\n",
    "Ncracksub = 4; # 4 means: imputation by 5 cracks or more (in case target imputation is switched on)\n",
    "\n",
    "# Transform wm and sm to wmax and smax, respectively\n",
    "# Constraints\n",
    "soft_constraints = \"no\";\n",
    "hard_constraints = \"yes\";\n",
    "\n",
    "tol = 0.001;\n",
    "\n",
    "fitleroutliers = \"yes\";\n",
    "wmaxL = 0.05;\n",
    "wmaxU = 0.5; # Cut-off limit mean and maximum crack width\n",
    "smaxU = 400; # Cut-off limit mean and maximum crack spacing\n",
    "\n",
    "ignorewarnings = \"yes\";\n",
    "\n",
    "# Filter on the lengths\n",
    "filter_length = 500; # Filter out considered lengths equal and smaller than .....\n",
    "\n",
    "# Filter on a lower bound of the cylindrical compression strength\n",
    "fcmlower = 5;"
   ]
  },
  {
   "cell_type": "code",
   "execution_count": 3,
   "id": "8b2a97ec-ddf8-4758-84a6-966e1ad5521c",
   "metadata": {},
   "outputs": [],
   "source": [
    "if ignorewarnings == \"yes\":\n",
    "\n",
    "    #https://www.javatpoint.com/how-to-suppress-warnings-in-python\n",
    "    import warnings\n",
    "    warnings.filterwarnings('ignore');"
   ]
  },
  {
   "cell_type": "code",
   "execution_count": 4,
   "id": "a3eaaa32-8c2e-42f7-a562-2314f996a333",
   "metadata": {},
   "outputs": [],
   "source": [
    "# https://stackoverflow.com/questions/3899980/how-to-change-the-font-size-on-a-matplotlib-plot\n",
    "\n",
    "# 8, 10, 12\n",
    "# 10, 12, 14\n",
    "\n",
    "SMALL_SIZE = 10\n",
    "MEDIUM_SIZE = 12\n",
    "BIGGER_SIZE = 14\n",
    "\n",
    "plt.rc('font', size=SMALL_SIZE)          # controls default text sizes\n",
    "plt.rc('axes', titlesize=SMALL_SIZE)     # fontsize of the axes title\n",
    "plt.rc('axes', labelsize=MEDIUM_SIZE)    # fontsize of the x and y labels\n",
    "plt.rc('xtick', labelsize=SMALL_SIZE)    # fontsize of the tick labels\n",
    "plt.rc('ytick', labelsize=SMALL_SIZE)    # fontsize of the tick labels\n",
    "plt.rc('legend', fontsize=SMALL_SIZE)    # legend fontsize\n",
    "plt.rc('figure', titlesize=BIGGER_SIZE)  # fontsize of the figure title"
   ]
  },
  {
   "cell_type": "markdown",
   "id": "7a9d4e2d-874e-47e9-af22-74a9a4ba5c78",
   "metadata": {},
   "source": [
    "## 02 - Import and prepare data"
   ]
  },
  {
   "cell_type": "markdown",
   "id": "46cae919-e390-47f2-a9c3-c4166134e5ec",
   "metadata": {},
   "source": [
    "### 02.01 - Import data"
   ]
  },
  {
   "cell_type": "code",
   "execution_count": 5,
   "id": "d2d1b0ac-b43f-4a67-ad7d-de21ebdb9da9",
   "metadata": {},
   "outputs": [],
   "source": [
    "# Download dataset from Github, save it on your computer (for instance, downloads), and run\n",
    "df = pd.read_csv(r\"C:\\Users/20210065/Downloads/df_master_sorted.csv\")"
   ]
  },
  {
   "cell_type": "code",
   "execution_count": 6,
   "id": "d224e2a5-b8bb-4d02-9d7e-29d8785aef2e",
   "metadata": {},
   "outputs": [
    {
     "name": "stdout",
     "output_type": "stream",
     "text": [
      "(6375, 79)\n",
      "Number of tested elements 481\n"
     ]
    }
   ],
   "source": [
    "print(df.shape)\n",
    "print(\"Number of tested elements\",df['ELID'].nunique());"
   ]
  },
  {
   "cell_type": "code",
   "execution_count": 7,
   "id": "743a2ef4-028c-4b6e-ad7d-cd839f9af3a2",
   "metadata": {},
   "outputs": [
    {
     "name": "stdout",
     "output_type": "stream",
     "text": [
      "Number of elements loaded in tension 262\n",
      "Number of elements loaded in tension 6\n",
      "Number of elements loaded in bending 159\n",
      "Number of elements with prestressing 54\n",
      "Number of elements with eccentric tension 0\n"
     ]
    }
   ],
   "source": [
    "print(\"Number of elements loaded in tension\",df[df[\"epsin\"] == str(\"1a\")][\"ELID\"].nunique());\n",
    "print(\"Number of elements loaded in tension\",df[df[\"epsin\"] == str(\"1b\")][\"ELID\"].nunique());\n",
    "print(\"Number of elements loaded in bending\",df[df[\"epsin\"] == str(\"2\")][\"ELID\"].nunique());\n",
    "print(\"Number of elements with prestressing\",df[(df[\"epsin\"] == str(\"3\")) & (df[\"Ap\"] != 0)][\"ELID\"].nunique());\n",
    "print(\"Number of elements with eccentric tension\",df[(df[\"epsin\"] == str(\"3\")) & (df[\"Ap\"] == 0)][\"ELID\"].nunique());"
   ]
  },
  {
   "cell_type": "code",
   "execution_count": 8,
   "id": "f77881dd",
   "metadata": {},
   "outputs": [],
   "source": [
    "df.drop(df[(df[\"ELID\"] == \"A-FPhs/f1-5\")].index, inplace=True); # Bevat vezels in regio buiten constant moment\n",
    "df.drop(df[(df[\"ELID\"] == \"A-PPhs/f1-5\")].index, inplace=True); # Bevat vezels in regio buiten constant moment\n",
    "df.drop(df[(df[\"EPID\"] == 8)].index, inplace=True); # Holmberg; no crack spacing available\n",
    "df.drop(df[(df[\"EPID\"] == 9)].index, inplace=True); # Bennet; te weinig info beschikbaar voor betrouwbare analyse\n",
    "df.drop(df[(df[\"EPID\"] == 22)].index, inplace=True); # Dawood; bi-axiale belasting (te weinig proefstukken beschikbaar)\n",
    "df.drop(df[(df[\"EPID\"] == 26)].index, inplace=True); # Heuveln; lichtgewicht beton aanwezig\n",
    "\n",
    "df.drop(df[(df[\"EPID\"] == 31)].index, inplace=True); # Lisa; reinforcing ratio is very low\n",
    "\n",
    "df.drop(df[(df[\"ELID\"] == \"1B1a\")].index, inplace=True); # Contains excentric tension\n",
    "df.drop(df[(df[\"ELID\"] == \"2B1a\")].index, inplace=True); # Contains excentric tension\n",
    "df.drop(df[(df[\"ELID\"] == \"3B1a\")].index, inplace=True); # Contains excentric tension\n",
    "df.drop(df[(df[\"ELID\"] == \"1C1a\")].index, inplace=True); # Contains excentric tension\n",
    "df.drop(df[(df[\"ELID\"] == \"3C1a\")].index, inplace=True); # Contains excentric tension\n",
    "# 5\n",
    "\n",
    "# Contains likely measurement errors\n",
    "df.drop(df[(df[\"ELID\"] == \"S1UND\")].index, inplace=True);\n",
    "# 6\n",
    "\n",
    "# Contains likely measurement errors\n",
    "df.drop(df[(df[\"ELID\"] == \"250-20-2\")].index, inplace=True);\n",
    "df.drop(df[(df[\"ELID\"] == \"250-20-3\")].index, inplace=True);\n",
    "df.drop(df[(df[\"ELID\"] == \"350-20-3\")].index, inplace=True);\n",
    "# 9\n",
    "\n",
    "# Data files inconsistent with thesis\n",
    "df.drop(df[(df[\"ELID\"] == \"350-10-1\")].index, inplace=True);\n",
    "df.drop(df[(df[\"ELID\"] == \"350-10-2\")].index, inplace=True);\n",
    "df.drop(df[(df[\"ELID\"] == \"350-10-3\")].index, inplace=True);\n",
    "# 12\n",
    "\n",
    "# Huge differences in calculated steel stress\n",
    "df.drop(df[(df[\"ELID\"] == \"12-20-00\")].index, inplace=True);\n",
    "df.drop(df[(df[\"ELID\"] == \"12-20-10\")].index, inplace=True);\n",
    "df.drop(df[(df[\"ELID\"] == \"12-20-30\")].index, inplace=True);\n",
    "df.drop(df[(df[\"ELID\"] == \"25-70-30\")].index, inplace=True);\n",
    "df.drop(df[(df[\"ELID\"] == \"12-70-00\")].index, inplace=True);\n",
    "df.drop(df[(df[\"ELID\"] == \"12-70-10\")].index, inplace=True);\n",
    "df.drop(df[(df[\"ELID\"] == \"12-70-30\")].index, inplace=True);\n",
    "# 19\n",
    "\n",
    "# High-strength concrete\n",
    "df.drop(df[(df[\"ELID\"] == \"H50-10-1\")].index, inplace=True);\n",
    "df.drop(df[(df[\"ELID\"] == \"H50-10-2\")].index, inplace=True);\n",
    "df.drop(df[(df[\"ELID\"] == \"H50-10-3\")].index, inplace=True);\n",
    "df.drop(df[(df[\"ELID\"] == \"H50-14-1\")].index, inplace=True);\n",
    "df.drop(df[(df[\"ELID\"] == \"H50-14-2\")].index, inplace=True);\n",
    "df.drop(df[(df[\"ELID\"] == \"H50-14-3\")].index, inplace=True);\n",
    "df.drop(df[(df[\"ELID\"] == \"H50-20-1\")].index, inplace=True);\n",
    "df.drop(df[(df[\"ELID\"] == \"H50-20-2\")].index, inplace=True);\n",
    "df.drop(df[(df[\"ELID\"] == \"H50-20-3\")].index, inplace=True);\n",
    "df.drop(df[(df[\"ELID\"] == \"H52-10-1\")].index, inplace=True);\n",
    "df.drop(df[(df[\"ELID\"] == \"H52-10-2\")].index, inplace=True);\n",
    "df.drop(df[(df[\"ELID\"] == \"H52-14-1\")].index, inplace=True);\n",
    "df.drop(df[(df[\"ELID\"] == \"H52-14-2\")].index, inplace=True);\n",
    "df.drop(df[(df[\"ELID\"] == \"H52-14-3\")].index, inplace=True);\n",
    "df.drop(df[(df[\"ELID\"] == \"H52-20-1\")].index, inplace=True);\n",
    "# 34\n",
    "\n",
    "# Unrealistic values\n",
    "df.drop(df[(df[\"ELID\"] == \"S20-10-1\")].index, inplace=True);\n",
    "df.drop(df[(df[\"ELID\"] == \"S20-10-2\")].index, inplace=True);\n",
    "df.drop(df[(df[\"ELID\"] == \"S22-10-1\")].index, inplace=True);\n",
    "df.drop(df[(df[\"ELID\"] == \"S22-10-2\")].index, inplace=True);\n",
    "df.drop(df[(df[\"ELID\"] == \"S22-10-3\")].index, inplace=True);\n",
    "df.drop(df[(df[\"ELID\"] == \"S30-10-1\")].index, inplace=True);\n",
    "df.drop(df[(df[\"ELID\"] == \"S30-10-2\")].index, inplace=True);\n",
    "df.drop(df[(df[\"ELID\"] == \"S30-10-3\")].index, inplace=True);\n",
    "df.drop(df[(df[\"ELID\"] == \"S32-10-1\")].index, inplace=True);\n",
    "df.drop(df[(df[\"ELID\"] == \"S32-10-2\")].index, inplace=True);\n",
    "# 44\n",
    "\n",
    "# Unrealistic crack widths\n",
    "df.drop(df[(df[\"ELID\"] == \"C210\")].index, inplace=True);\n",
    "# 45\n",
    "\n",
    "# Unrealistic crack widths; possibly yielding\n",
    "df.drop(df[(df[\"ELID\"] == \"1C2a\")].index, inplace=True);\n",
    "df.drop(df[(df[\"ELID\"] == \"3C2a\")].index, inplace=True);\n",
    "df.drop(df[(df[\"ELID\"] == \"3C2b\")].index, inplace=True);\n",
    "# 48\n",
    "\n",
    "# Implicit calculation required to compute the section forces\n",
    "df.drop(df[(df[\"ELID\"] == \"B8\")].index, inplace=True);\n",
    "df.drop(df[(df[\"ELID\"] == \"P7\")].index, inplace=True);\n",
    "df.drop(df[(df[\"ELID\"] == \"T16\")].index, inplace=True);\n",
    "# 51\n",
    "\n",
    "# Unrealistic crack widths\n",
    "df.drop(df[(df[\"ELID\"] == \"T-C3-1\")].index, inplace=True);\n",
    "df.drop(df[(df[\"ELID\"] == \"T-C3-2\")].index, inplace=True);\n",
    "df.drop(df[(df[\"ELID\"] == \"T-C3-4\")].index, inplace=True);\n",
    "df.drop(df[(df[\"ELID\"] == \"T-CR2-2\")].index, inplace=True);\n",
    "# 55\n",
    "\n",
    "# Unrealistic crack widths\n",
    "df.drop(df[(df[\"ELID\"] == \"PL 15/201\")].index, inplace=True);\n",
    "df.drop(df[(df[\"ELID\"] == \"PL 15/207\")].index, inplace=True); # Neptunsthal\n",
    "df.drop(df[(df[\"ELID\"] == \"PL 15/209\")].index, inplace=True); # bi-stahl\n",
    "# 58\n",
    "\n",
    "# Secondary cracks + unrealistic crack widths\n",
    "df.drop(df[(df[\"ELID\"] == \"T40\")].index, inplace=True); # neptunstahl\n",
    "df.drop(df[(df[\"ELID\"] == \"T31\")].index, inplace=True); # Neptunstahl!\n",
    "df.drop(df[(df[\"ELID\"] == \"T13\")].index, inplace=True);\n",
    "df.drop(df[(df[\"ELID\"] == \"T39\")].index, inplace=True);\n",
    "df.drop(df[(df[\"ELID\"] == \"T26\")].index, inplace=True); # neptunstahl\n",
    "df.drop(df[(df[\"ELID\"] == \"T29\")].index, inplace=True);\n",
    "df.drop(df[(df[\"ELID\"] == \"T16\")].index, inplace=True);\n",
    "# 65\n",
    "\n",
    "# Unrealistic crack widths and spacings\n",
    "df.drop(df[(df[\"ELID\"] == \"R22\")].index, inplace=True);\n",
    "df.drop(df[(df[\"ELID\"] == \"R13\")].index, inplace=True);\n",
    "df.drop(df[(df[\"ELID\"] == \"R23\")].index, inplace=True);\n",
    "df.drop(df[(df[\"ELID\"] == \"R24\")].index, inplace=True);\n",
    "df.drop(df[(df[\"ELID\"] == \"R1\")].index, inplace=True); #drillwulststaal.....\n",
    "df.drop(df[(df[\"ELID\"] == \"R34\")].index, inplace=True);\n",
    "df.drop(df[(df[\"ELID\"] == \"R35\")].index, inplace=True);\n",
    "df.drop(df[(df[\"ELID\"] == \"R38\")].index, inplace=True);\n",
    "df.drop(df[(df[\"ELID\"] == \"R4\")].index, inplace=True);\n",
    "df.drop(df[(df[\"ELID\"] == \"R14\")].index, inplace=True);\n",
    "df.drop(df[(df[\"ELID\"] == \"R50\")].index, inplace=True);\n",
    "df.drop(df[(df[\"ELID\"] == \"R54\")].index, inplace=True);\n",
    "df.drop(df[(df[\"ELID\"] == \"R70\")].index, inplace=True);\n",
    "df.drop(df[(df[\"ELID\"] == \"R65\")].index, inplace=True);\n",
    "df.drop(df[(df[\"ELID\"] == \"R8\")].index, inplace=True);\n",
    "df.drop(df[(df[\"ELID\"] == \"R9\")].index, inplace=True);\n",
    "df.drop(df[(df[\"ELID\"] == \"R69\")].index, inplace=True);\n",
    "df.drop(df[(df[\"ELID\"] == \"R72\")].index, inplace=True);\n",
    "df.drop(df[(df[\"ELID\"] == \"R37\")].index, inplace=True);\n",
    "# 84\n",
    "\n",
    "# Yielding of reinforcement\n",
    "df.drop(df[(df[\"ELID\"] == \"2-32R2\")].index, inplace=True);\n",
    "df.drop(df[(df[\"ELID\"] == \"2-4.75R\")].index, inplace=True); # Implicit calculation required to compute the section forces\n",
    "df.drop(df[(df[\"ELID\"] == \"3-S3\")].index, inplace=True); # Implicit calculation required to compute the section forces\n",
    "df.drop(df[(df[\"ELID\"] == \"3-S4\")].index, inplace=True); # Implicit calculation required to compute the section forces\n",
    "# 88"
   ]
  },
  {
   "cell_type": "code",
   "execution_count": 9,
   "id": "81b7d1ae-add2-47c3-b7af-7d4cc18c5c0f",
   "metadata": {},
   "outputs": [],
   "source": [
    "df.drop_duplicates(inplace=True);"
   ]
  },
  {
   "cell_type": "code",
   "execution_count": 10,
   "id": "f4dac981-2d90-4775-9a95-f4941f2971d3",
   "metadata": {},
   "outputs": [
    {
     "name": "stdout",
     "output_type": "stream",
     "text": [
      "Dataset contains 4783 rows\n",
      "Dataset contains 79 columns\n"
     ]
    }
   ],
   "source": [
    "print(\"Dataset contains\",df.shape[0], \"rows\")\n",
    "print(\"Dataset contains\",df.shape[1], \"columns\")"
   ]
  },
  {
   "cell_type": "code",
   "execution_count": 11,
   "id": "b8039f57-6a7e-45f9-8e8e-e93c3dde8ef7",
   "metadata": {},
   "outputs": [],
   "source": [
    "df.rename(columns={\"Unnamed: 0\": \"ID\"},inplace=True);"
   ]
  },
  {
   "cell_type": "code",
   "execution_count": 12,
   "id": "809ef2cc-376f-49b9-8260-728f98d425ce",
   "metadata": {},
   "outputs": [],
   "source": [
    "df.reset_index(drop=True, inplace=True)"
   ]
  },
  {
   "cell_type": "code",
   "execution_count": 13,
   "id": "6d9a05a1-bcfe-4180-8a4d-85e58d8927de",
   "metadata": {},
   "outputs": [
    {
     "name": "stdout",
     "output_type": "stream",
     "text": [
      "Number of tested elements 346\n"
     ]
    }
   ],
   "source": [
    "print(\"Number of tested elements\",df['ELID'].nunique());"
   ]
  },
  {
   "cell_type": "markdown",
   "id": "e6eb47ed-e01d-446b-aa7c-e72f5da6f4fa",
   "metadata": {},
   "source": [
    "### 02.02 - Impute data"
   ]
  },
  {
   "cell_type": "markdown",
   "id": "7458030a-84f8-4ea9-8ba3-472dd3acafeb",
   "metadata": {},
   "source": [
    "Estimate the values of $f_{p01k}$, which are unknown in some experimental programs, from $f_{\\text{pk}}$."
   ]
  },
  {
   "cell_type": "markdown",
   "id": "4f5b7c39-8a16-4033-931e-608345639551",
   "metadata": {},
   "source": [
    "#### EPID 14"
   ]
  },
  {
   "cell_type": "markdown",
   "id": "66c1bc45-b31e-4986-baf5-555605eb3492",
   "metadata": {},
   "source": [
    "$f_{\\text{pk}}$ is known, $f_{\\text{p}01\\text{k}}$ is estimated using EN 10138: $f_{\\text{p}01\\text{k}} = 0.9 \\cdot f_{\\text{pk}}$"
   ]
  },
  {
   "cell_type": "code",
   "execution_count": 14,
   "id": "1c6b3bce-42b3-4763-a2b4-896130fa2f7d",
   "metadata": {},
   "outputs": [],
   "source": [
    "for i in range(df.shape[0]):\n",
    "    if df[\"EPID\"].iloc[i] == 14 and df[\"fpk\"].iloc[i] > tol:\n",
    "        df[\"fp01k\"].iloc[i] = 0.9*df[\"fpk\"].iloc[i];"
   ]
  },
  {
   "cell_type": "markdown",
   "id": "d0c19cfb-fd19-4efd-b851-4746c9f3692d",
   "metadata": {},
   "source": [
    "#### EPID 17"
   ]
  },
  {
   "cell_type": "markdown",
   "id": "1c3f588a-42eb-4983-a5f7-ac03eddeb6c5",
   "metadata": {},
   "source": [
    "$f_{\\text{pk}}$ is known, $f_{\\text{p}01\\text{k}}$ is estimated using EN 10138: $f_{\\text{p}01\\text{k}} = 0.9 \\cdot f_{\\text{pk}}$"
   ]
  },
  {
   "cell_type": "code",
   "execution_count": 15,
   "id": "5886a43f-f554-4b6b-afeb-525ec9a8f022",
   "metadata": {},
   "outputs": [],
   "source": [
    "for i in range(df.shape[0]):\n",
    "    if df[\"EPID\"].iloc[i] == 17 and df[\"fpk\"].iloc[i] > tol:\n",
    "        df[\"fp01k\"].iloc[i] = 0.9*df[\"fpk\"].iloc[i];"
   ]
  },
  {
   "cell_type": "markdown",
   "id": "14932f86-c3b3-42f9-82dc-eeec85131ba8",
   "metadata": {},
   "source": [
    "#### Change target type of EPID28"
   ]
  },
  {
   "cell_type": "markdown",
   "id": "086d6ec0-252e-41f7-8f9b-3ae95c1b2616",
   "metadata": {},
   "source": [
    "Change, since characteristic crack widths $w_{\\text{k}}$ will be considered as maximum crack widths $w_{\\text{max}}$."
   ]
  },
  {
   "cell_type": "code",
   "execution_count": 16,
   "id": "1ecf9076-9a35-430e-baf6-1c3c3fc2c84e",
   "metadata": {},
   "outputs": [],
   "source": [
    "for i in range(df.shape[0]):\n",
    "    if df[\"EPID\"].iloc[i] == 28:\n",
    "        if df[\"wk\"].iloc[i] > tol:\n",
    "            df[\"wmax\"].iloc[i] = df[\"wk\"].iloc[i];\n",
    "\n",
    "for i in range(df.shape[0]):\n",
    "    if df[\"EPID\"].iloc[i] == 28:\n",
    "        df[\"wk\"].iloc[i] = 0;"
   ]
  },
  {
   "cell_type": "markdown",
   "id": "4a0284eb-dc9b-4000-9c36-e60a8229c1ee",
   "metadata": {},
   "source": [
    "#### Impute $cat_{\\text{f}}$"
   ]
  },
  {
   "cell_type": "code",
   "execution_count": 17,
   "id": "b96a0efb-cde8-442e-a74c-5bd118b22555",
   "metadata": {},
   "outputs": [],
   "source": [
    "for i in range(df.shape[0]):\n",
    "    if df[\"EPID\"].iloc[i] == 12:\n",
    "        df[\"catf\"].iloc[i] == 2;\n",
    "    elif df[\"EPID\"].iloc[i] == 22:\n",
    "        df[\"catf\"].iloc[i] == 2;"
   ]
  },
  {
   "cell_type": "markdown",
   "id": "f5223675-f41e-439c-b8bb-1033837c7cf0",
   "metadata": {},
   "source": [
    "#### Inpute $f_{\\text{pr}}$"
   ]
  },
  {
   "cell_type": "code",
   "execution_count": 18,
   "id": "7a762262-a09e-4ff5-8f7c-ff13746ca569",
   "metadata": {},
   "outputs": [],
   "source": [
    "for i in range(df.shape[0]):\n",
    "    if df[\"EPID\"].iloc[i] == 9:\n",
    "        df[\"fpr\"].iloc[i] == 1;\n",
    "    elif df[\"EPID\"].iloc[i] == 14:\n",
    "        df[\"fpr\"].iloc[i] == 1;\n",
    "    elif df[\"EPID\"].iloc[i] == 17:\n",
    "        df[\"fpr\"].iloc[i] == 1;"
   ]
  },
  {
   "cell_type": "markdown",
   "id": "4ab1ec37-5c98-4b3d-a0c4-9c5437b25342",
   "metadata": {},
   "source": [
    "## 03 - Set DF types and extract additional data types"
   ]
  },
  {
   "cell_type": "markdown",
   "id": "f600d6d1-06eb-4c53-a17b-9e6e7141fedd",
   "metadata": {},
   "source": [
    "### 03.01 - Functions"
   ]
  },
  {
   "cell_type": "markdown",
   "id": "62469bac",
   "metadata": {},
   "source": [
    "Function to extract concrete properties from the imported database."
   ]
  },
  {
   "cell_type": "code",
   "execution_count": 19,
   "id": "6e0dc883-2157-4254-bac0-b6f4f60951c0",
   "metadata": {},
   "outputs": [],
   "source": [
    "def func_extract_prop(data,var):\n",
    "\n",
    "    Nrow = data.shape[0];\n",
    "    hc = np.zeros((Nrow,Ncond));\n",
    "\n",
    "    for i in range(Nrow):\n",
    "        hctemp = ast.literal_eval(data[var].iloc[i]);\n",
    "        Nhc = np.shape(hctemp)[0];\n",
    "        \n",
    "        for j in range(Nhc):\n",
    "            hc[i,j] = float(hctemp[j]);\n",
    "\n",
    "    return hc"
   ]
  },
  {
   "cell_type": "markdown",
   "id": "eeaaf6d4",
   "metadata": {},
   "source": [
    "Function to extract concrete properties from the variable $\\text{cat}_{\\text{fcm}}$."
   ]
  },
  {
   "cell_type": "code",
   "execution_count": 20,
   "id": "59cc5b70-995a-4997-893b-f2981fe7e60b",
   "metadata": {},
   "outputs": [],
   "source": [
    "def func_extract_catfcm(data):\n",
    "\n",
    "    Nrowele = data.shape[0];\n",
    "    \n",
    "    col = [\"Shape\",\"Dim\",\"Treat\"];\n",
    "    catfcm = pd.DataFrame(np.zeros((Nrowele,len(col))),columns=col);\n",
    "\n",
    "    for i in range(data.shape[0]):\n",
    "        for j in range(len(col)):\n",
    "            catfcm[col[j]].iloc[i] = data[\"catfcm\"].iloc[i].strip(\"[]\").split(\",\")[j];\n",
    "\n",
    "    fcm_shape = catfcm[\"Shape\"].astype(int);\n",
    "    fcm_dim = catfcm[\"Dim\"].astype(str);\n",
    "    fcm_treat = catfcm[\"Treat\"].astype(int);\n",
    "\n",
    "    return fcm_shape, fcm_dim, fcm_treat"
   ]
  },
  {
   "cell_type": "markdown",
   "id": "d4980bb2",
   "metadata": {},
   "source": [
    "Function to extract concrete properties from the variable $\\text{cat}_{\\text{fctm}}$."
   ]
  },
  {
   "cell_type": "code",
   "execution_count": 21,
   "id": "ca4005ec-40b4-46d6-abae-9b002f51ff26",
   "metadata": {},
   "outputs": [],
   "source": [
    "def func_extract_catfctm(data):\n",
    "\n",
    "    Nrowele = data.shape[0];\n",
    "    \n",
    "    col = [\"Shape\",\"Dim\",\"Test\"];\n",
    "    catfctm = pd.DataFrame(np.zeros((Nrowele,len(col))),columns=col);\n",
    "\n",
    "    for i in range(data.shape[0]):\n",
    "        for j in range(len(col)):\n",
    "            catfctm[col[j]].iloc[i] = data[\"catfctm\"].iloc[i].strip(\"[]\").split(\",\")[j];\n",
    "\n",
    "    fctm_shape = catfctm[\"Shape\"].astype(int);\n",
    "    fctm_dim = catfctm[\"Dim\"].astype(str);\n",
    "    fctm_test = catfctm[\"Test\"].astype(int);\n",
    "\n",
    "    return fctm_shape, fctm_dim, fctm_test"
   ]
  },
  {
   "cell_type": "markdown",
   "id": "fb72f6b5",
   "metadata": {},
   "source": [
    "Function to extract concrete properties from the variable $\\text{cat}_{\\text{Ecm}}$."
   ]
  },
  {
   "cell_type": "code",
   "execution_count": 22,
   "id": "c8bac8e9-3a97-4611-bbc3-fc7f74c6f952",
   "metadata": {},
   "outputs": [],
   "source": [
    "def func_extract_catEcm(data):\n",
    "\n",
    "    Nrowele = data.shape[0];\n",
    "    \n",
    "    col = [\"Shape\",\"Dim\",\"Test\"];\n",
    "    catEcm = pd.DataFrame(np.zeros((Nrowele,len(col))),columns=col);\n",
    "\n",
    "    for i in range(data.shape[0]):\n",
    "        for j in range(len(col)):\n",
    "            catEcm[col[j]].iloc[i] = data[\"catEcm\"].iloc[i].strip(\"[]\").split(\",\")[j];\n",
    "\n",
    "    Ecm_shape = catEcm[\"Shape\"].astype(int);\n",
    "    Ecm_dim = catEcm[\"Dim\"].astype(str);\n",
    "    Ecm_test = catEcm[\"Test\"].astype(int);\n",
    "\n",
    "    return Ecm_shape, Ecm_dim, Ecm_test"
   ]
  },
  {
   "cell_type": "markdown",
   "id": "44eba966",
   "metadata": {},
   "source": [
    "Function to extract concrete properties from the variable $\\text{mix}$."
   ]
  },
  {
   "cell_type": "code",
   "execution_count": 23,
   "id": "06d18757-d246-4fc6-9f4e-e7af3a7ab628",
   "metadata": {},
   "outputs": [],
   "source": [
    "def func_extract_mix(data):\n",
    "    \n",
    "    Nrowele = data.shape[0];\n",
    "    \n",
    "    col = [\"CEM\",\"classCEM\",\"cons\",\"clinker\",\"w/c\",\"dmax\",\"typeagg\",\"add\",\"rho\"];\n",
    "    mix = pd.DataFrame(np.zeros((Nrowele,len(col))),columns=col);\n",
    "    \n",
    "    for i in range(Nrowele):\n",
    "        for j in range(len(col)):\n",
    "            mix[col[j]].iloc[i] = data[\"mix\"].iloc[i].strip(\"[]\").split(\",\")[j];\n",
    "\n",
    "    CEM = mix[\"CEM\"].astype(int);\n",
    "    classCEM = mix[\"classCEM\"].astype(int);\n",
    "    cons = mix[\"cons\"].astype(int);\n",
    "    clinker = mix[\"clinker\"].astype(int);\n",
    "    wc = mix[\"w/c\"].astype(float);\n",
    "    dmax = mix[\"dmax\"].astype(float);\n",
    "    typeagg = mix[\"typeagg\"].astype(int);\n",
    "    add = mix[\"add\"].astype(str);\n",
    "    rho = mix[\"rho\"].astype(float);\n",
    "\n",
    "    return CEM, classCEM, cons, clinker, wc, dmax, typeagg, add, rho"
   ]
  },
  {
   "cell_type": "markdown",
   "id": "ea53e351-452b-4538-b64e-1a55013348f6",
   "metadata": {},
   "source": [
    "### 03.02 - Metadata"
   ]
  },
  {
   "cell_type": "code",
   "execution_count": 24,
   "id": "c6b03c11-4e3b-425d-a05b-e51c92e78b6b",
   "metadata": {},
   "outputs": [],
   "source": [
    "df = df.astype({\n",
    "    \"EPID\": \"int64\",\n",
    "    \"ELID\": \"string\",\n",
    "    \"LOADID\": \"int64\",\n",
    "    \"DOI\": \"string\",\n",
    "    \"title\": \"string\",\n",
    "    \"year\": \"int64\",\n",
    "    \"journal\": \"string\",\n",
    "    \"country\": \"string\",\n",
    "    \"institution\": \"string\",\n",
    "    \"laboratory\": \"string\",\n",
    "    \"authors\": \"string\"\n",
    "});"
   ]
  },
  {
   "cell_type": "markdown",
   "id": "3b8ba235-fc4b-46bd-9090-216d92010171",
   "metadata": {},
   "source": [
    "### 03.03 - Geometry"
   ]
  },
  {
   "cell_type": "code",
   "execution_count": 25,
   "id": "98daf909-b40b-4236-badf-7d2dabced96e",
   "metadata": {},
   "outputs": [],
   "source": [
    "df = df.astype({\n",
    "    \"Ltot\": \"float\",\n",
    "    \"Lspan\": \"float\",\n",
    "    \"Lcons\": \"float\",\n",
    "    \"Lmeas\": \"float\",\n",
    "    \"h\": \"float\",\n",
    "    \"b\": \"string\"\n",
    "});"
   ]
  },
  {
   "cell_type": "markdown",
   "id": "c9314fd3-e2ab-424f-8de8-83d29edd7bb0",
   "metadata": {},
   "source": [
    "### 03.04 - Element preparations"
   ]
  },
  {
   "cell_type": "code",
   "execution_count": 26,
   "id": "9696e3da-e911-423e-80ec-c450949bdee0",
   "metadata": {},
   "outputs": [],
   "source": [
    "df = df.astype({\n",
    "    \"hc\": \"string\",\n",
    "    \"thc\": \"string\",\n",
    "    \"RH\": \"string\",\n",
    "    \"Temp\": \"string\",\n",
    "    \"pd\": \"int64\",\n",
    "});"
   ]
  },
  {
   "cell_type": "code",
   "execution_count": 27,
   "id": "cc68db29-e955-43d4-b2dc-903a6453d03d",
   "metadata": {},
   "outputs": [],
   "source": [
    "hc = func_extract_prop(df,\"hc\");\n",
    "thc = func_extract_prop(df,\"thc\");\n",
    "RH = func_extract_prop(df,\"RH\");\n",
    "Temp = func_extract_prop(df,\"Temp\");"
   ]
  },
  {
   "cell_type": "markdown",
   "id": "20a41c45-8467-469e-a066-a97a4b59916a",
   "metadata": {},
   "source": [
    "### 03.05 - Concrete"
   ]
  },
  {
   "cell_type": "code",
   "execution_count": 28,
   "id": "d2330633-888c-41c1-a1f2-fa9d281d831f",
   "metadata": {},
   "outputs": [],
   "source": [
    "df = df.astype({\n",
    "    \"fcm\": \"string\",\n",
    "    \"catfcm\": \"string\",\n",
    "    \"tfcm\": \"string\",\n",
    "    \"fctm\": \"string\",\n",
    "    \"catfctm\": \"string\",\n",
    "    \"tfctm\": \"string\",\n",
    "    \"Ecm\": \"string\",\n",
    "    \"catEcm\": \"string\",\n",
    "    \"tEcm\": \"string\",\n",
    "    \"mix\": \"string\",\n",
    "});"
   ]
  },
  {
   "cell_type": "code",
   "execution_count": 29,
   "id": "cb6c3926-512e-453f-8f81-a247177fe103",
   "metadata": {},
   "outputs": [],
   "source": [
    "fcm = func_extract_prop(df,\"fcm\");\n",
    "tfcm = func_extract_prop(df,\"tfcm\");\n",
    "fctm = func_extract_prop(df,\"fctm\");\n",
    "tfctm = func_extract_prop(df,\"tfctm\");\n",
    "Ecm = func_extract_prop(df,\"Ecm\");\n",
    "tEcm = func_extract_prop(df,\"tEcm\");\n",
    "\n",
    "fcm_shape, fcm_dim, fcm_treat = func_extract_catfcm(df);\n",
    "fctm_shape, fctm_dim, fctm_test = func_extract_catfctm(df);\n",
    "Ecm_shape, Ecm_dim, Ecm_test = func_extract_catEcm(df);\n",
    "\n",
    "CEM, classCEM, cons, clinker, wc, dmax, typeagg, add, rho = func_extract_mix(df);"
   ]
  },
  {
   "cell_type": "markdown",
   "id": "ab1b969a-8346-434e-9d86-23edfd4867ab",
   "metadata": {},
   "source": [
    "### 03.06 - Reinforcing steel - longitudinal direction"
   ]
  },
  {
   "cell_type": "code",
   "execution_count": 30,
   "id": "40ba4830-f44a-4cd3-89f6-ad059f57f957",
   "metadata": {},
   "outputs": [],
   "source": [
    "df = df.astype({\n",
    "    \"Es\": \"float\",\n",
    "    \"fsr\": \"int64\",\n",
    "    \"fy\": \"float\",\n",
    "    \"phi\": \"string\",\n",
    "    \"zs\": \"string\",\n",
    "    \"nbl\": \"string\",\n",
    "    \"clat\": \"string\"\n",
    "});"
   ]
  },
  {
   "cell_type": "code",
   "execution_count": 31,
   "id": "0e6ac0ba-cc73-43b0-a2bf-451a2d064b76",
   "metadata": {},
   "outputs": [],
   "source": [
    "phi = func_extract_prop(df,\"phi\");\n",
    "zs = func_extract_prop(df,\"zs\");\n",
    "nbl = func_extract_prop(df,\"nbl\");\n",
    "clat = func_extract_prop(df,\"clat\")"
   ]
  },
  {
   "cell_type": "markdown",
   "id": "bdce0f4e-7fe3-411a-a71a-d585c34ab42b",
   "metadata": {},
   "source": [
    "### 03.07 - Reinforcing steel - transverse direction"
   ]
  },
  {
   "cell_type": "code",
   "execution_count": 32,
   "id": "b3e8bfda-2a15-4d3f-ae9f-04c92efd9ded",
   "metadata": {},
   "outputs": [],
   "source": [
    "df = df.astype({\n",
    "    \"phit\": \"string\",\n",
    "    \"st\": \"string\"\n",
    "});"
   ]
  },
  {
   "cell_type": "code",
   "execution_count": 33,
   "id": "886b1718-5b74-4e10-b7cf-ac1b485503c1",
   "metadata": {},
   "outputs": [],
   "source": [
    "phit = func_extract_prop(df,\"phit\");\n",
    "st = func_extract_prop(df,\"st\");"
   ]
  },
  {
   "cell_type": "markdown",
   "id": "a3f3a382-8d3b-4040-95c2-81d6b27ac4b4",
   "metadata": {},
   "source": [
    "### 03.08 - Reinforcing steel - stirrups"
   ]
  },
  {
   "cell_type": "code",
   "execution_count": 34,
   "id": "f854fe3d-438a-44d6-bd11-c1f212dc676f",
   "metadata": {},
   "outputs": [],
   "source": [
    "df = df.astype({\n",
    "    \"phiw\": \"float\",\n",
    "    \"sw\": \"float\"\n",
    "});"
   ]
  },
  {
   "cell_type": "markdown",
   "id": "c2b4f1ca-9aff-462b-94d9-eebc8fe00449",
   "metadata": {},
   "source": [
    "### 03.09 - Prestressing steel"
   ]
  },
  {
   "cell_type": "code",
   "execution_count": 35,
   "id": "5569e7a7-a1fe-4429-a9bc-b3ace25b2695",
   "metadata": {},
   "outputs": [],
   "source": [
    "df = df.astype({\n",
    "    \"type\": \"string\",\n",
    "    \"method\": \"int64\",\n",
    "    \"fpk\": \"float\",\n",
    "    \"fp01k\": \"float\",\n",
    "    \"Ep\": \"float\",\n",
    "    \"rel\": \"int64\",\n",
    "    \"fpr\": \"int64\",\n",
    "    \"npl\": \"string\",\n",
    "    \"phip\": \"string\",\n",
    "    \"Ap\": \"string\",\n",
    "    \"zp\": \"string\",\n",
    "    \"cplat\": \"string\"\n",
    "});"
   ]
  },
  {
   "cell_type": "code",
   "execution_count": 36,
   "id": "5576b8b7-ac00-4845-89c8-f65278a083be",
   "metadata": {},
   "outputs": [],
   "source": [
    "npl = func_extract_prop(df,\"npl\");\n",
    "phip = func_extract_prop(df,\"phip\");\n",
    "Ap = func_extract_prop(df,\"Ap\");\n",
    "zp = func_extract_prop(df,\"zp\");\n",
    "cplat = func_extract_prop(df,\"cplat\");"
   ]
  },
  {
   "cell_type": "markdown",
   "id": "7025620b-e644-4836-b477-098a2f36fcb3",
   "metadata": {},
   "source": [
    "### 03.10 - Test setup"
   ]
  },
  {
   "cell_type": "code",
   "execution_count": 37,
   "id": "5b151924-6ebe-4ee8-8ac9-2d5a2f457e78",
   "metadata": {},
   "outputs": [],
   "source": [
    "df = df.astype({\n",
    "    \"catf\": \"int64\",\n",
    "    \"epsin\": \"string\",\n",
    "    \"catcal\": \"int64\",\n",
    "    \"selfw\": \"int64\",\n",
    "    \"typew\": \"int64\",\n",
    "    \"locw\": \"int64\"  \n",
    "});"
   ]
  },
  {
   "cell_type": "markdown",
   "id": "a0228ad2-0500-455b-b07b-31b5a8af1630",
   "metadata": {},
   "source": [
    "### 03.11 - Loads"
   ]
  },
  {
   "cell_type": "code",
   "execution_count": 38,
   "id": "76865c85-112d-481f-97c6-703c15892090",
   "metadata": {},
   "outputs": [],
   "source": [
    "df = df.astype({\n",
    "    \"LOADID\": \"int64\",\n",
    "    \"epsc\": \"float\",\n",
    "    \"Nrep\": \"int64\",\n",
    "    \"N\": \"float\",\n",
    "    \"M\": \"float\",\n",
    "    \"sigs\": \"float\",\n",
    "    \"t0\": \"int64\",\n",
    "    \"t\": \"int64\",\n",
    "    \"PL\": \"float\",\n",
    "    \"catp\": \"int64\",\n",
    "    \"t0p\": \"int64\",\n",
    "    \"tp\": \"int64\",\n",
    "});"
   ]
  },
  {
   "cell_type": "markdown",
   "id": "f920e063-067e-4f9d-bf76-af4e15b397ee",
   "metadata": {},
   "source": [
    "### 03.12 - Datapoints"
   ]
  },
  {
   "cell_type": "code",
   "execution_count": 39,
   "id": "5c7d8615-7953-4f49-9359-5993a1a37aca",
   "metadata": {},
   "outputs": [],
   "source": [
    "df = df.astype({\n",
    "    \"ncr\": \"int64\",\n",
    "    \"wm\": \"float\",\n",
    "    \"wk\": \"float\",\n",
    "    \"wmax\": \"float\",\n",
    "    \"sm\": \"float\",\n",
    "    \"smax\": \"float\",\n",
    "});"
   ]
  },
  {
   "cell_type": "markdown",
   "id": "e8a8fac2-a811-498c-a21f-53776607b24a",
   "metadata": {},
   "source": [
    "## 04 - Inspect the various variables"
   ]
  },
  {
   "cell_type": "code",
   "execution_count": 40,
   "id": "ba07b279-a072-418b-83f3-1c5e96ced39c",
   "metadata": {},
   "outputs": [
    {
     "data": {
      "image/png": "[encoded data removed]",
      "text/plain": [
       "<Figure size 640x480 with 1 Axes>"
      ]
     },
     "metadata": {},
     "output_type": "display_data"
    }
   ],
   "source": [
    "plt.figure();\n",
    "plt.plot(df[\"ncr\"],\"*\");\n",
    "plt.title(\"Number of cracks $n_{cr}$\");"
   ]
  },
  {
   "cell_type": "code",
   "execution_count": 41,
   "id": "32f8ab83-da9f-4e8f-a5a9-d63a1f5f81f0",
   "metadata": {},
   "outputs": [
    {
     "data": {
      "image/png": "[encoded data removed]",
      "text/plain": [
       "<Figure size 640x480 with 1 Axes>"
      ]
     },
     "metadata": {},
     "output_type": "display_data"
    }
   ],
   "source": [
    "plt.figure();\n",
    "plt.plot(df[\"ELID\"],df[\"wm\"],\"*\");\n",
    "plt.title(\"Mean crack width $w_m$\");"
   ]
  },
  {
   "cell_type": "code",
   "execution_count": 42,
   "id": "499111df",
   "metadata": {},
   "outputs": [
    {
     "data": {
      "image/png": "[encoded data removed]",
      "text/plain": [
       "<Figure size 640x480 with 1 Axes>"
      ]
     },
     "metadata": {},
     "output_type": "display_data"
    }
   ],
   "source": [
    "plt.figure();\n",
    "plt.plot(df[\"wk\"],\"*\");\n",
    "plt.title(\"Characteristic crack width $w_k$\");"
   ]
  },
  {
   "cell_type": "code",
   "execution_count": 43,
   "id": "60ba6e2c",
   "metadata": {},
   "outputs": [
    {
     "data": {
      "image/png": "[encoded data removed]",
      "text/plain": [
       "<Figure size 640x480 with 1 Axes>"
      ]
     },
     "metadata": {},
     "output_type": "display_data"
    }
   ],
   "source": [
    "plt.figure();\n",
    "plt.plot(df[\"wmax\"],\"*\");\n",
    "plt.title(\"Maximum crack width $w_{max}$\");"
   ]
  },
  {
   "cell_type": "code",
   "execution_count": 44,
   "id": "16ccf52e-0642-4fb8-a22d-b019505a1df3",
   "metadata": {},
   "outputs": [
    {
     "data": {
      "image/png": "[encoded data removed]",
      "text/plain": [
       "<Figure size 640x480 with 1 Axes>"
      ]
     },
     "metadata": {},
     "output_type": "display_data"
    }
   ],
   "source": [
    "plt.figure();\n",
    "plt.plot(df[\"sm\"],\"*\");\n",
    "plt.title(\"Maximum crack spacing $s_{r,m}$\");"
   ]
  },
  {
   "cell_type": "code",
   "execution_count": 45,
   "id": "473e084b-4ca5-45c2-b804-9b1df034e44c",
   "metadata": {},
   "outputs": [
    {
     "data": {
      "image/png": "[encoded data removed]",
      "text/plain": [
       "<Figure size 640x480 with 1 Axes>"
      ]
     },
     "metadata": {},
     "output_type": "display_data"
    }
   ],
   "source": [
    "plt.figure();\n",
    "plt.plot(df[\"smax\"],\"*\");\n",
    "plt.title(\"Maximum crack spacing $s_{r,max}$\");"
   ]
  },
  {
   "cell_type": "markdown",
   "id": "2680b722-d781-400a-b999-e517a9951470",
   "metadata": {},
   "source": [
    "## 05 - Functions"
   ]
  },
  {
   "cell_type": "markdown",
   "id": "8ffc3746-dd26-422e-a362-b2c686aa7e25",
   "metadata": {},
   "source": [
    "### 05.02 - Nonzero layers"
   ]
  },
  {
   "cell_type": "markdown",
   "id": "a4a9fa7a",
   "metadata": {},
   "source": [
    "Function to inspect which elments in a array-type cell are empty. Returns last element that is not zero."
   ]
  },
  {
   "cell_type": "code",
   "execution_count": 46,
   "id": "54d3cc24-16d9-4a2b-a6d5-596756eef95d",
   "metadata": {},
   "outputs": [],
   "source": [
    "def func_cal_nonzero(data,var):\n",
    "    nonzero = np.zeros(data.shape[0]);\n",
    "\n",
    "    for i in range(data.shape[0]):\n",
    "        nonzero[i] = int(np.where(var[i,:]<tol)[0][0]-1);\n",
    "        \n",
    "    return nonzero"
   ]
  },
  {
   "cell_type": "code",
   "execution_count": 47,
   "id": "a0b71c96-a53a-4ef7-975a-ff020f4e32b3",
   "metadata": {},
   "outputs": [],
   "source": [
    "df[\"indLR\"] = func_cal_nonzero(df,zs);\n",
    "df[\"indNP\"] = func_cal_nonzero(df,zp);\n",
    "df[\"indtfcm\"] = func_cal_nonzero(df,tfcm);\n",
    "df[\"indtfctm\"] = func_cal_nonzero(df,tfctm);\n",
    "df[\"indtEcm\"] = func_cal_nonzero(df,tEcm);\n",
    "\n",
    "df = df.astype({\n",
    "    \"indLR\": \"int\",\n",
    "    \"indNP\": \"int\",\n",
    "    \"indtfcm\": \"int\",\n",
    "    \"indtfctm\": \"int\",\n",
    "    \"indtEcm\": \"int\"\n",
    "});"
   ]
  },
  {
   "cell_type": "markdown",
   "id": "233cec87-9e50-4656-b0dd-5ad00fc44831",
   "metadata": {},
   "source": [
    "### 05.03 - Functions to extract geometrical properties"
   ]
  },
  {
   "cell_type": "markdown",
   "id": "8bcf544f-c5c7-4d55-8cb6-84c79c4232b3",
   "metadata": {},
   "source": [
    "#### Function to extract the section width of a string"
   ]
  },
  {
   "cell_type": "code",
   "execution_count": 48,
   "id": "ed306210-9bd9-4ee5-ac5e-79a42539517f",
   "metadata": {},
   "outputs": [],
   "source": [
    "def func_extract_width(z,bstr):\n",
    "\n",
    "    # This function computes the widht of a cross-section, at a certain height\n",
    "    bstr = str(bstr);\n",
    "    tempstr = bstr.strip(\"[]\");    \n",
    "    nfunc = len(tempstr.split(\",\"));\n",
    "    \n",
    "    # Create temparray to store different bounds, widths and heights\n",
    "    if nfunc > 1:\n",
    "        \n",
    "        boundstore = np.zeros((2,nfunc)); # Lower resp. upper bound\n",
    "        funcstore = [];\n",
    "        \n",
    "        for j in range(nfunc):\n",
    "            boundstore[0,j] = float(tempstr.split(\",\")[j].split(\"if\")[1].split(\"<z<\")[0]);\n",
    "            boundstore[1,j] = float(tempstr.split(\",\")[j].split(\"if\")[1].split(\"<z<\")[1]);\n",
    "    \n",
    "            def f(z):\n",
    "                return float(eval(tempstr.split(\",\")[j].split(\"if\")[0]));\n",
    "            \n",
    "            funcstore.append(f(z));\n",
    "                    \n",
    "        b = np.piecewise(\n",
    "                        z,\n",
    "                        [(z < boundstore[1,j]) & (z >= boundstore[0,j]) for j in range(nfunc)],funcstore);\n",
    "  \n",
    "    else:\n",
    "        b = float(eval(bstr));\n",
    "\n",
    "    return b"
   ]
  },
  {
   "cell_type": "markdown",
   "id": "771014b2-aa45-4fed-853a-5aab3c3326f3",
   "metadata": {},
   "source": [
    "#### Function to determine if something is a beam or a slab"
   ]
  },
  {
   "cell_type": "code",
   "execution_count": 49,
   "id": "70315942-da0b-4cac-93f4-9840c85cdb25",
   "metadata": {},
   "outputs": [],
   "source": [
    "def func_slab_or_beam(data):\n",
    "\n",
    "    # Determine if an element is a slab (yes/no)\n",
    "    \n",
    "    slab = np.zeros(data.shape[0]);\n",
    "    \n",
    "    for i in range(data.shape[0]):\n",
    "        if data[\"epsin\"].iloc[i] == str(\"2\"):\n",
    "            if data[\"h\"].iloc[i] <= 200:\n",
    "                # Width evaluated at most compressed fibre; since otherwise, T-beams would be assigned as slabs\n",
    "                if func_extract_width(tol,data[\"b\"].iloc[i])/data[\"h\"].iloc[i] >= 2:\n",
    "                    slab[i] = 1; # It is a slab\n",
    "        else:\n",
    "            slab[i] = 0; # It is not a slab\n",
    "    \n",
    "    return slab"
   ]
  },
  {
   "cell_type": "code",
   "execution_count": 50,
   "id": "29fce028-fd8e-4a5e-9a9e-dcb96ea4e675",
   "metadata": {},
   "outputs": [],
   "source": [
    "df[\"slab\"] = func_slab_or_beam(df);\n",
    "df = df.astype({\n",
    "    \"slab\": \"int64\"\n",
    "});"
   ]
  },
  {
   "cell_type": "markdown",
   "id": "4001c59e-f9ff-4cb8-b53a-1cb509533bb3",
   "metadata": {},
   "source": [
    "#### Function to calculate the concrete area (including reinforcing steel)"
   ]
  },
  {
   "cell_type": "code",
   "execution_count": 51,
   "id": "197d6065-09f4-4fa6-a3b3-7fc9be8621f5",
   "metadata": {},
   "outputs": [],
   "source": [
    "def func_cal_Ac(data):\n",
    "   \n",
    "    Ac = np.zeros(data.shape[0]);\n",
    "    \n",
    "    for i in range(data.shape[0]):\n",
    "        Ac[i] = quad(func_extract_width,0,data[\"h\"].iloc[i],args=(data[\"b\"].iloc[i]))[0];\n",
    "    \n",
    "    return Ac"
   ]
  },
  {
   "cell_type": "code",
   "execution_count": 52,
   "id": "7370567d-45de-43a8-a6b4-0aa1e8a8fef1",
   "metadata": {},
   "outputs": [],
   "source": [
    "df[\"Ac\"] = func_cal_Ac(df);\n",
    "df = df.astype({\n",
    "    \"Ac\": \"float\"\n",
    "});"
   ]
  },
  {
   "cell_type": "markdown",
   "id": "5f891515-1b8c-460c-9c55-cf771cdc9296",
   "metadata": {},
   "source": [
    "#### Computation of total reinforcing steel"
   ]
  },
  {
   "cell_type": "code",
   "execution_count": 53,
   "id": "9e798e99-a916-493f-8113-73920aa1ba95",
   "metadata": {},
   "outputs": [],
   "source": [
    "def func_cal_Astot(data):\n",
    "    Astot = np.zeros(data.shape[0]);\n",
    "    for i in range(data.shape[0]):\n",
    "        Aslayer = np.zeros(Ncond);\n",
    "        for j in range(Ncond):\n",
    "            Aslayer[j] = nbl[i,j]*(1/4)*np.pi*(phi[i,j]**2);\n",
    "\n",
    "        Astot[i] = sum(Aslayer);\n",
    "        \n",
    "    return Astot"
   ]
  },
  {
   "cell_type": "code",
   "execution_count": 54,
   "id": "1624aaf2-98a0-469c-8b32-3d2ea8d5d720",
   "metadata": {},
   "outputs": [],
   "source": [
    "df[\"Astot\"] = func_cal_Astot(df);\n",
    "df = df.astype({\n",
    "    \"Astot\": \"float\"\n",
    "});"
   ]
  },
  {
   "cell_type": "markdown",
   "id": "4aaf0f9f-d64a-48ed-b029-dff2e01564b3",
   "metadata": {},
   "source": [
    "### 05.04 - Functions to extract structural element preparations"
   ]
  },
  {
   "cell_type": "markdown",
   "id": "bb84c38f-d96c-4412-9785-b3c5542b4715",
   "metadata": {},
   "source": [
    "#### Imputation of t0"
   ]
  },
  {
   "cell_type": "markdown",
   "id": "09e8902a-bbe4-4f24-a54e-fead11751efa",
   "metadata": {},
   "source": [
    "$t_0$ is the age of the concrete when the structural element is loaded first."
   ]
  },
  {
   "cell_type": "code",
   "execution_count": 55,
   "id": "5535b1a1-1c01-4cb2-9344-39ac2b18f53c",
   "metadata": {},
   "outputs": [],
   "source": [
    "def func_impute_t0(data,thc,tfcm):\n",
    "    t0 = np.zeros(data.shape[0]);\n",
    "\n",
    "    for i in range(data.shape[0]):\n",
    "        \n",
    "        if data[\"t0\"].iloc[i] == 0: # Assume the time where loading starts; start of unloading is unknown\n",
    "            if thc[i,0] > 0 and tfcm[i,0] == 0: # Address thc\n",
    "                t0[i] = sum(thc[i,:]);\n",
    "            elif thc[i,0] > 0 and tfcm[i,0] > 0: # Address tfcm\n",
    "                t0[i] = max(tfcm[i,:]);  # Take the last value of the nonzero values\n",
    "            else:\n",
    "                t0[i] = 28;\n",
    "        if data[\"t0\"].iloc[i] > 0: # Start of loading is known\n",
    "            t0[i] = data[\"t0\"].iloc[i];\n",
    "        \n",
    "    return t0"
   ]
  },
  {
   "cell_type": "code",
   "execution_count": 56,
   "id": "c99b5b4a-8bae-4672-ba45-8a4a0b73b8fe",
   "metadata": {},
   "outputs": [],
   "source": [
    "df[\"t0\"] = func_impute_t0(df,thc,tfcm);\n",
    "df = df.astype({\n",
    "    \"t0\": \"int\"\n",
    "});"
   ]
  },
  {
   "cell_type": "markdown",
   "id": "f52815b6-bd47-4f67-b077-954998809c67",
   "metadata": {},
   "source": [
    "#### Imputation of t (duration of the loading)"
   ]
  },
  {
   "cell_type": "code",
   "execution_count": 57,
   "id": "405235d8-4611-40c3-b242-3ad9b0bc22a8",
   "metadata": {},
   "outputs": [],
   "source": [
    "def func_impute_t(data):\n",
    "    t = np.zeros(data.shape[0]);\n",
    "\n",
    "    for i in range(data.shape[0]):\n",
    "\n",
    "        if data[\"t\"].iloc[i] == 0:\n",
    "            t[i] = 1; # Just impute a 1 --> this an assumption of the load duration, for unreported cases\n",
    "        else:\n",
    "            t[i] = data[\"t\"].iloc[i];\n",
    "\n",
    "    return t"
   ]
  },
  {
   "cell_type": "code",
   "execution_count": 58,
   "id": "431af723-3b20-4b9b-b7cc-2e2e29fdd68e",
   "metadata": {},
   "outputs": [],
   "source": [
    "df[\"t\"] = func_impute_t(df);\n",
    "df = df.astype({\n",
    "    \"t\": \"int\"\n",
    "});"
   ]
  },
  {
   "cell_type": "markdown",
   "id": "6be85760-e2ec-4db5-80f8-f1f7769ce1a3",
   "metadata": {},
   "source": [
    "#### Adjustment of RH"
   ]
  },
  {
   "cell_type": "code",
   "execution_count": 59,
   "id": "d47fdd6c-b69a-440f-abf7-ba863268afdc",
   "metadata": {},
   "outputs": [],
   "source": [
    "def func_determine_RH(rh):\n",
    "\n",
    "    RH = np.zeros(rh.shape[0]);\n",
    "\n",
    "    for i in range(rh.shape[0]):\n",
    "        RHtemp = np.max(rh[i,:]);\n",
    "        if RHtemp > 1:\n",
    "            RH[i] = RHtemp;\n",
    "        else:\n",
    "            RH[i] = 65;\n",
    "\n",
    "    return RH"
   ]
  },
  {
   "cell_type": "code",
   "execution_count": 60,
   "id": "844212f4-dc39-450a-97e6-359d18b3a4e7",
   "metadata": {},
   "outputs": [],
   "source": [
    "df[\"RH\"] = func_determine_RH(RH);\n",
    "df = df.astype({\n",
    "    \"RH\": \"float\"\n",
    "});"
   ]
  },
  {
   "cell_type": "markdown",
   "id": "e3d73058-8569-487f-a130-d318c5b4b397",
   "metadata": {},
   "source": [
    "#### Computation of $t_s$"
   ]
  },
  {
   "cell_type": "markdown",
   "id": "9a8c8e9b-7b14-4408-bba4-ef0601e996cb",
   "metadata": {},
   "source": [
    "$t_s$ is the age of the concrete at the beginning of drying in days. Assumption: in case hardening condition $hc$ equals 0 (unknown), 6 (elements stored inside test hall) or 8 (elements stored outside), then it is assumed that the hardening condition is contributing to the drying shrinkage."
   ]
  },
  {
   "cell_type": "code",
   "execution_count": 61,
   "id": "99c999eb-14d9-415a-8d04-c3e7aec4da3c",
   "metadata": {},
   "outputs": [],
   "source": [
    "def func_determine_ts(hc,data):\n",
    "    ts = np.zeros(data.shape[0]);\n",
    "    tstemp = np.zeros((data.shape[0],Ncond));\n",
    "\n",
    "    indxtemp = np.zeros((data.shape[0],Ncond));\n",
    "    for i in range(data.shape[0]):\n",
    "        for j in range(Ncond):\n",
    "            if int(hc[i,j]) not in [6,8,0]:\n",
    "                indxtemp[i,j] = int(thc[i,j]);\n",
    "\n",
    "        idx = np.where(indxtemp[i,:] == 0)[0][0];\n",
    "        ts[i] = sum(indxtemp[i,0:idx]);\n",
    "    \n",
    "    return ts"
   ]
  },
  {
   "cell_type": "code",
   "execution_count": 62,
   "id": "7c6f20c7-5108-4c2d-81ac-0bd4ace0d8d0",
   "metadata": {},
   "outputs": [],
   "source": [
    "df[\"ts\"] = func_determine_ts(hc,df);\n",
    "df = df.astype({\n",
    "    \"ts\": \"int\"\n",
    "});"
   ]
  },
  {
   "cell_type": "markdown",
   "id": "eea0765f-f12c-4f83-bd7b-f4d25cae61f8",
   "metadata": {},
   "source": [
    "### 05.05 - Functions to extract concrete properties"
   ]
  },
  {
   "cell_type": "markdown",
   "id": "f4d26017-331c-4789-b482-dbbb0b28a8b5",
   "metadata": {},
   "source": [
    "#### Diff fcm"
   ]
  },
  {
   "cell_type": "code",
   "execution_count": 63,
   "id": "df06ce0e-82b6-4ba4-b94d-fbce90f2872c",
   "metadata": {},
   "outputs": [],
   "source": [
    "diff_tfcm = np.zeros((df.shape[0],10));\n",
    "for i in range(df.shape[0]):\n",
    "    for j in range(df[\"indtfcm\"].iloc[i]+1):\n",
    "        diff_tfcm[i,j] = abs(df[\"t0\"].iloc[i] + df[\"t\"].iloc[i] - 1 - tfcm[i,j]);"
   ]
  },
  {
   "cell_type": "markdown",
   "id": "c67f0cea-d1cb-48e9-b9c7-2bb0796f264d",
   "metadata": {},
   "source": [
    "#### Diff fctm"
   ]
  },
  {
   "cell_type": "code",
   "execution_count": 64,
   "id": "44fbb78c-97ea-4792-832a-59a3e8880acf",
   "metadata": {},
   "outputs": [],
   "source": [
    "diff_tfctm = np.zeros((df.shape[0],10));\n",
    "for i in range(df.shape[0]):\n",
    "    for j in range(df[\"indtfctm\"].iloc[i]+1):\n",
    "        diff_tfctm[i,j] = abs(df[\"t0\"].iloc[i] + df[\"t\"].iloc[i] - 1 - tfctm[i,j]);"
   ]
  },
  {
   "cell_type": "markdown",
   "id": "8e3fafd4-e2ab-4720-a3ba-ea6978eb7759",
   "metadata": {},
   "source": [
    "#### Diff Ecm"
   ]
  },
  {
   "cell_type": "code",
   "execution_count": 65,
   "id": "2f745d7c-a5ac-4a6e-a026-5a732514b085",
   "metadata": {},
   "outputs": [],
   "source": [
    "diff_tEcm = np.zeros((df.shape[0],10));\n",
    "for i in range(df.shape[0]):\n",
    "    for j in range(df[\"indtEcm\"].iloc[i]+1):\n",
    "        diff_tEcm[i,j] = abs(df[\"t0\"].iloc[i] + df[\"t\"].iloc[i] - 1 - tEcm[i,j]);"
   ]
  },
  {
   "cell_type": "markdown",
   "id": "c1aaa048-b743-455b-9f85-1baeb8889117",
   "metadata": {},
   "source": [
    "#### Estimation of the characteristic compression strength from the mean strength"
   ]
  },
  {
   "cell_type": "markdown",
   "id": "56d951ae-053e-407f-8776-392c537acba7",
   "metadata": {},
   "source": [
    "Conversion is according to fib MC 2020."
   ]
  },
  {
   "cell_type": "code",
   "execution_count": 66,
   "id": "9d0e9b25-0286-44d8-882a-1d608255d8e4",
   "metadata": {},
   "outputs": [],
   "source": [
    "def func_cal_fck(fcm):\n",
    "    return fcm - 8;"
   ]
  },
  {
   "cell_type": "markdown",
   "id": "87af5bfb-5cec-404f-8fb3-5c576430a88b",
   "metadata": {},
   "source": [
    "#### Calculation of uniformly defined concrete compression strength, related to correct loading stage"
   ]
  },
  {
   "cell_type": "markdown",
   "id": "b8154709-7b1d-4373-95d4-a730f25e01e7",
   "metadata": {},
   "source": [
    "Conversions according to HEFT 597."
   ]
  },
  {
   "cell_type": "code",
   "execution_count": 67,
   "id": "00a4bef6-55ab-4374-8225-c7a8524812a5",
   "metadata": {},
   "outputs": [],
   "source": [
    "def func_cal_fcm_unified(fcm):\n",
    "\n",
    "    fcm_unified = np.zeros((fcm.shape[0],fcm.shape[1]));\n",
    "    \n",
    "    for i in range(fcm.shape[0]):\n",
    "        \n",
    "        if int(fcm_shape[i]) == 1: # Conversion to cylinder 150x300\n",
    "            if float(fcm_dim[i].split(\"x\")[0]) > 100-10 and float(fcm_dim[i].split(\"x\")[0]) < 100+10:\n",
    "                for j in range(fcm.shape[1]):\n",
    "                    fcm_unified[i,j] = (0.92/0.95)*fcm[i,j];\n",
    "            elif float(fcm_dim[i].split(\"x\")[0]) > 150-15 and float(fcm_dim[i].split(\"x\")[0]) < 150+15:\n",
    "                for j in range(fcm.shape[1]):\n",
    "                    fcm_unified[i,j] = 1*fcm[i,j];\n",
    "            elif float(fcm_dim[i].split(\"x\")[0]) > 70-7 and float(fcm_dim[i].split(\"x\")[0]) < 70+7:\n",
    "                for j in range(fcm.shape[1]):\n",
    "                    fcm_unified[i,j] = (1/1.06)*fcm[i,j];\n",
    "            else:\n",
    "                for j in range(fcm.shape[1]):\n",
    "                    fcm_unified[i,j] = fcm[i,j];\n",
    "\n",
    "        elif int(fcm_shape[i]) == 2: # Conversion from cubes to cylinders 150x300\n",
    "            if float(fcm_dim[i].split(\"x\")[0]) > 200-20 and float(fcm_dim[i].split(\"x\")[0]) < 200+20:\n",
    "                for j in range(fcm.shape[1]):\n",
    "                    fcm_unified[i,j] = 0.975*fcm[i,j]; # This factor converts directly to cylinder 150x300, the conversion from cube to cyl is incor.\n",
    "            elif float(fcm_dim[i].split(\"x\")[0]) > 100-10 and float(fcm_dim[i].split(\"x\")[0]) < 100+10:\n",
    "                for j in range(fcm.shape[1]):\n",
    "                    if fcm[i,j] <= 72.5:\n",
    "                        fcm_unified[i,j] = 0.745*fcm[i,j];\n",
    "                    else:\n",
    "                        fcm_unified[i,j] = 1.2*fcm[i,j]-32.4;\n",
    "            elif float(fcm_dim[i].split(\"x\")[0]) > 150-15 and float(fcm_dim[i].split(\"x\")[0]) < 150+15:\n",
    "                for j in range(fcm.shape[1]):\n",
    "                    #fcm_unified[i,j] = 0.75*fcm[i,j];\n",
    "                    if fcm[i,j] <= 65:\n",
    "                        fcm_unified[i,j] = 0.83*fcm[i,j];\n",
    "                    else:\n",
    "                        fcm_unified[i,j] = 1.0*fcm[i,j] - 11.1;\n",
    "            else:\n",
    "                for j in range(fcm.shape[1]): # In case no dimensions of cubes are available1\n",
    "                    fcm_unified[i,j] = fcm[i,j];\n",
    "\n",
    "        else: # No correction, in case of missing values\n",
    "            for j in range(fcm.shape[1]):\n",
    "                fcm_unified[i,j] = fcm[i,j];\n",
    "                \n",
    "    return fcm_unified"
   ]
  },
  {
   "cell_type": "code",
   "execution_count": 68,
   "id": "4b856f9d-75be-4040-8d5e-92b6a24abbc4",
   "metadata": {},
   "outputs": [],
   "source": [
    "fcm_unified = func_cal_fcm_unified(fcm);"
   ]
  },
  {
   "cell_type": "markdown",
   "id": "0ed0af25-d7b8-41a3-89f8-a91bce8f2430",
   "metadata": {},
   "source": [
    "#### Coefficient considering the strength development"
   ]
  },
  {
   "cell_type": "markdown",
   "id": "607a7fa5-865e-431b-9055-751ee2590f3f",
   "metadata": {},
   "source": [
    "$s_c$ is a coefficient depending on the strength development class of concrete. In case the strength development class is unknown, class $CN$ is assumed."
   ]
  },
  {
   "cell_type": "code",
   "execution_count": 69,
   "id": "aa4acb81-d990-4f43-83f0-3e118f875695",
   "metadata": {},
   "outputs": [],
   "source": [
    "def func_cal_sc(data,fcm,CEM):\n",
    "    sc = np.zeros(data.shape[0]);\n",
    "    class_C = np.empty(data.shape[0],dtype=\"U256\");\n",
    "    for i in range(data.shape[0]):\n",
    "        \n",
    "        # Determination of sc; according to fib MC 2020, table 14.9-1\n",
    "        # =============================\n",
    "\n",
    "        fck = func_cal_fck(fcm[i,0]); # Call function func_cal_fck\n",
    "        \n",
    "        if CEM[i] == 1 or CEM[i] == 2:\n",
    "            if classCEM[i] == 2 or classCEM[i] == 0: # address class SC = CN\n",
    "                class_C[i] = \"CN\";\n",
    "                if fck > 35 and fck < 60:\n",
    "                    sc[i] = 0.4;\n",
    "                elif fck < 35:\n",
    "                    sc[i] = 0.5;\n",
    "                elif fck > 60:\n",
    "                    sc[i] = 0.3;\n",
    "            elif classCEM[i] == 3: # address class SC = CR\n",
    "                class_C[i] = \"CR\";\n",
    "                if fck > 35 and fck < 60:\n",
    "                    sc[i] = 0.2;\n",
    "                elif fck < 35:\n",
    "                    sc[i] = 0.3;\n",
    "                elif fck > 60:\n",
    "                    sc[i] = 0.1;\n",
    "        elif CEM[i] == 3:\n",
    "            class_C[i] = \"CS\";\n",
    "            if fck > 35 and fck < 60:\n",
    "                sc[i] = 0.6;\n",
    "            elif fck < 35:\n",
    "                sc[i] = 0.5;\n",
    "            elif fck > 60:\n",
    "                sc[i] = 0.4;\n",
    "        else:\n",
    "            class_C[i] = \"CN\";\n",
    "            if fck > 35 and fck < 60:\n",
    "                sc[i] = 0.4;\n",
    "            elif fck < 35:\n",
    "                sc[i] = 0.5;\n",
    "            elif fck > 60:\n",
    "                sc[i] = 0.3;\n",
    "    \n",
    "    return sc, class_C"
   ]
  },
  {
   "cell_type": "code",
   "execution_count": 70,
   "id": "d060fa55-9884-46ed-8dd3-3885f6dc2437",
   "metadata": {},
   "outputs": [],
   "source": [
    "df[\"sc\"], df[\"class_C\"] = func_cal_sc(df,fcm,CEM);\n",
    "df = df.astype({\n",
    "    \"sc\": \"float\",\n",
    "    \"class_C\": \"str\"\n",
    "});"
   ]
  },
  {
   "cell_type": "markdown",
   "id": "a79ea22c-5738-43e5-9966-2113164b3eee",
   "metadata": {},
   "source": [
    "#### Correction of the strength, based on the reference time"
   ]
  },
  {
   "cell_type": "code",
   "execution_count": 71,
   "id": "fb89b6d4-6698-4aa1-aa89-98f05dccf61d",
   "metadata": {},
   "outputs": [],
   "source": [
    "# For the correction in time, the reference time closest to the testing time (in absolute sense) is considered.\n",
    "\n",
    "def func_correct_time(t0,t,sc,fcm,tfcm,exp):\n",
    "   \n",
    "    # Adjustment in time - concrete compression strength - determination testing structural element\n",
    "    # =============================\n",
    "\n",
    "    t28 = 28;\n",
    "    t_ele_test = t0 + t - 1; # Time at testing\n",
    "    t_mat_test_fcm = 0;\n",
    "\n",
    "    if len(tfcm) > 1 and max(tfcm) > 0:\n",
    "            arg = np.argmin(np.where(tfcm > 0,abs(tfcm-t28),1000)); # Temporarily substitutes 1000 in places of 0\n",
    "            t_mat_test_fcm = tfcm[arg]; # Selection of the test\n",
    "            fcm_not_adjusted = fcm[arg];\n",
    "    else:\n",
    "        fcm_not_adjusted = fcm[0]; # Because then no compression strength was tested\n",
    "\n",
    "    if t_mat_test_fcm == 0 or t_ele_test == 0:\n",
    "        Bcc = 1;\n",
    "    else:\n",
    "        Bcc = np.exp(sc*((1-(t_mat_test_fcm/t_ele_test)**0.5)) * (28/t_mat_test_fcm)**0.5);\n",
    "    \n",
    "    fcm_adj = ((Bcc)**(exp))*fcm_not_adjusted;\n",
    "    \n",
    "    # Adjustment in time - concrete compression strength - determination 28 day strength\n",
    "    # =============================\n",
    "    if len(tfcm) > 1 and max(tfcm) > 0:\n",
    "            arg = np.argmin(np.where(tfcm > 0,abs(tfcm-t28),1000)); # Temporarily substitutes 1000 in places of 0\n",
    "            t_mat_test_fcm = tfcm[arg]; # Selection of the test\n",
    "            fcm_not_adjusted = fcm[arg];\n",
    "    else:\n",
    "        fcm_not_adjusted = fcm[0]; # Because then no compression strength was tested\n",
    "\n",
    "    if t_mat_test_fcm == 0 or t_ele_test == 0:\n",
    "        Bccadj = 1;\n",
    "    else:\n",
    "        Bccadj = np.exp(sc*((1-(t_mat_test_fcm/t28)**0.5)) * (28/t_mat_test_fcm)**0.5);\n",
    "\n",
    "    fcm28 = ((Bccadj)**(exp))*fcm_not_adjusted;\n",
    "    \n",
    "    return fcm_adj, fcm28, Bcc\n",
    "        \n",
    "# Outputs: 28 day fcm unified strength, fcm strength at moment of testing structural element"
   ]
  },
  {
   "cell_type": "code",
   "execution_count": 72,
   "id": "fb4808b3-a432-4763-bb55-c187b2d20cf8",
   "metadata": {},
   "outputs": [],
   "source": [
    "fcm_uni = np.zeros(df.shape[0]);\n",
    "fcm28_uni = np.zeros(df.shape[0]);\n",
    "Bcc = np.zeros(df.shape[0]);\n",
    "\n",
    "for i in range(df.shape[0]):\n",
    "    fcm_uni[i], fcm28_uni[i], Bcc[i] = func_correct_time(df[\"t0\"].iloc[i],df[\"t\"].iloc[i],df[\"sc\"].iloc[i],fcm_unified[i,:],tfcm[i,:],1); \n",
    "\n",
    "df[\"fcm\"], df[\"fcm28\"], df[\"Bcc\"] = fcm_uni, fcm28_uni, Bcc;\n",
    "\n",
    "df = df.astype({\n",
    "    \"fcm\": \"float\",\n",
    "    \"fcm28\": \"float\",\n",
    "    \"Bcc\": \"float\"\n",
    "});"
   ]
  },
  {
   "cell_type": "code",
   "execution_count": 73,
   "id": "5c97df6f-f9a7-437b-a7be-0e58af382ec1",
   "metadata": {},
   "outputs": [],
   "source": [
    "df[\"fck28\"] = func_cal_fck(df[\"fcm28\"]);\n",
    "df = df.astype({\n",
    "    \"fck28\": \"float\"\n",
    "});"
   ]
  },
  {
   "cell_type": "markdown",
   "id": "2a81e90a-991d-4cdf-a238-62f27a197fef",
   "metadata": {},
   "source": [
    "#### Calculation of the cube compression strength (based on dimensions 150x150x150mm)"
   ]
  },
  {
   "cell_type": "markdown",
   "id": "eac03e9e-ed45-429a-9cee-3288e99ac6a0",
   "metadata": {},
   "source": [
    "For the conversion, HEFT 597 is used."
   ]
  },
  {
   "cell_type": "code",
   "execution_count": 74,
   "id": "fe46d949-20e5-4489-84d7-488807d428b5",
   "metadata": {},
   "outputs": [],
   "source": [
    "def func_cal_fcm_cube_150(fcm):\n",
    "    if fcm <= 54:\n",
    "        fcm_cube_150 = fcm/0.83;\n",
    "    else:\n",
    "        fcm_cube_150 = fcm + 11.1;\n",
    "\n",
    "    return fcm_cube_150"
   ]
  },
  {
   "cell_type": "code",
   "execution_count": 75,
   "id": "9d71476e-f625-49c5-b6fa-0829df9ae10e",
   "metadata": {},
   "outputs": [],
   "source": [
    "fcm_cube_150_temp = np.zeros(df.shape[0]);\n",
    "\n",
    "for i in range(df.shape[0]):\n",
    "    fcm_cube_150_temp[i] = func_cal_fcm_cube_150(df[\"fcm\"].iloc[i]);\n",
    "\n",
    "df[\"fcm_cube_150\"] = fcm_cube_150_temp;\n",
    "df = df.astype({\n",
    "    \"fcm_cube_150\": \"float\"\n",
    "});"
   ]
  },
  {
   "cell_type": "markdown",
   "id": "e616b6d8-6163-43f7-8611-ea1e09111c32",
   "metadata": {},
   "source": [
    "#### Calculation of uniformly defined concrete tensile strength, related to correct loading stage"
   ]
  },
  {
   "cell_type": "markdown",
   "id": "22183605-9bc6-4592-866b-80d653b2fe18",
   "metadata": {},
   "source": [
    "Estimation of the mean tensile strength, based on the mean compression strength."
   ]
  },
  {
   "cell_type": "code",
   "execution_count": 76,
   "id": "765a990c-09e4-41b4-93d3-25def93f7617",
   "metadata": {},
   "outputs": [],
   "source": [
    "def func_cal_fctm_from_fcm(fck28,fcm28):\n",
    "  \n",
    "    if fck28 < 50:\n",
    "        fctm = 0.3*fck28**(2/3);\n",
    "    else:\n",
    "        fctm = 2.12 * np.log(1+fcm28/10);\n",
    "    \n",
    "    return fctm"
   ]
  },
  {
   "cell_type": "code",
   "execution_count": 77,
   "id": "8fdc9f11-58f3-453f-9c12-c868c640eee2",
   "metadata": {},
   "outputs": [],
   "source": [
    "# Requires input of 28 day splitting tensile strength\n",
    "def func_cal_fctm_from_fctm_splitting(fctm_splitting):\n",
    "    asp = 1;\n",
    "    return asp*fctm_splitting"
   ]
  },
  {
   "cell_type": "code",
   "execution_count": 78,
   "id": "f77cc08f-be97-4956-976b-9062ca991526",
   "metadata": {},
   "outputs": [],
   "source": [
    "# Requires input of 28 day flexural tensile strength\n",
    "def func_cal_fctm_from_fctmfl(fctmfl,h):\n",
    "    arup = (1 + 0.06*(h**0.7))/(0.06*(h**0.7));\n",
    "    fctm = fctmfl/arup;\n",
    "    return fctm"
   ]
  },
  {
   "cell_type": "code",
   "execution_count": 79,
   "id": "e9b543a6-662f-4244-bd54-0cac11c45696",
   "metadata": {},
   "outputs": [],
   "source": [
    "# Requires input of 28 day tensile strength\n",
    "def func_cal_fctmfl_from_fctm(fctm,h):\n",
    "    arup = (1 + 0.06*(h**0.7))/(0.06*(h**0.7));\n",
    "    fctmfl = fctm*arup;\n",
    "    return fctmfl"
   ]
  },
  {
   "cell_type": "code",
   "execution_count": 80,
   "id": "2439b8d7-9626-4413-b061-fc19f0844c67",
   "metadata": {},
   "outputs": [],
   "source": [
    "def func_cal_fcteff_from_fctm(fctm):\n",
    "    fcteff = 1.3*fctm\n",
    "    return fcteff"
   ]
  },
  {
   "cell_type": "code",
   "execution_count": 81,
   "id": "ded13683-0f98-4f92-9622-52657c1ba519",
   "metadata": {},
   "outputs": [],
   "source": [
    "def func_cal_fcteff_from_fctm_005(fctm):\n",
    "    fcteff = 0.7*fctm\n",
    "    return fcteff"
   ]
  },
  {
   "cell_type": "code",
   "execution_count": 82,
   "id": "5e47b190-0b0e-457b-913e-ed78a1e92d79",
   "metadata": {},
   "outputs": [],
   "source": [
    "# In case tensile stress was not determined using tests; the testing time was imputed\n",
    "# In case of direct tensile test: this tensile stress was not used; however, testing time was employed when direct tensile test was performed"
   ]
  },
  {
   "cell_type": "code",
   "execution_count": 83,
   "id": "733e7db8-da81-4363-b62c-007fff335513",
   "metadata": {},
   "outputs": [],
   "source": [
    "def func_cal_uniformly_fctm(data,fctm,tfctm,exp):\n",
    "\n",
    "    fctm_unified_28 = np.zeros(data.shape[0]); # This is the 28th day tensile strength (uniformly defined)\n",
    "    fctm_unified = np.zeros(data.shape[0]); # This is the unixial tensile strength, based on the testing time!\n",
    "\n",
    "    fctmfl_unified_28 = np.zeros(data.shape[0]);\n",
    "    fctmfl_unified = np.zeros(data.shape[0]);\n",
    "\n",
    "    fct095_28 = np.zeros(data.shape[0]);\n",
    "    fct095 = np.zeros(data.shape[0]);\n",
    "\n",
    "    fct095_28_fl = np.zeros(data.shape[0]);\n",
    "    fct095_fl = np.zeros(data.shape[0]);\n",
    "\n",
    "    fct005_28 = np.zeros(data.shape[0]);\n",
    "    fct005 = np.zeros(data.shape[0]);\n",
    "\n",
    "    fct005_28_fl = np.zeros(data.shape[0]);\n",
    "    fct005_fl = np.zeros(data.shape[0]);\n",
    "\n",
    "    for i in range(data.shape[0]): # Loop through all the rows in the database\n",
    "\n",
    "        # step 1: describe the tensile strength uniformly\n",
    "        # ==========================\n",
    "        t0 = data[\"t0\"].iloc[i];\n",
    "        t = data[\"t\"].iloc[i];\n",
    "        sc = data[\"sc\"].iloc[i];\n",
    "    \n",
    "        t_ele_test = t0 + t - 1;\n",
    "        \n",
    "        if fctm[i,0] < tol: # First, address the cases where the tensile strength is unknown\n",
    "            \n",
    "            fctm_unified_28[i] = func_cal_fctm_from_fcm(data[\"fck28\"].iloc[i],data[\"fcm28\"].iloc[i]);  # Replace with the 28th day tensile strength\n",
    "            fctmfl_unified_28[i] = func_cal_fctmfl_from_fctm(fctm_unified_28[i],data[\"h\"].iloc[i]);\n",
    "    \n",
    "            fct095_28[i] = func_cal_fcteff_from_fctm(fctm_unified_28[i]);\n",
    "            fct095_28_fl[i] = func_cal_fcteff_from_fctm(fctmfl_unified_28[i]);\n",
    "\n",
    "            fct005_28[i] = func_cal_fcteff_from_fctm_005(fctm_unified_28[i]);\n",
    "            fct005_28_fl[i] = func_cal_fcteff_from_fctm_005(fctmfl_unified_28[i]);\n",
    "            \n",
    "            fctm_temp = np.zeros(Ncond);\n",
    "            fctm_temp[0] = fctm_unified_28[i];\n",
    "    \n",
    "            time_temp = np.zeros(Ncond);\n",
    "            time_temp[0] = t_ele_test; # Impute testing time\n",
    "\n",
    "            tfctm_temp = np.zeros(Ncond);\n",
    "            tfctm_temp[0] = 28;\n",
    "            \n",
    "            #fctm_unified[i] = func_correct_time(t0,t,sc,fctm_temp,time_temp,exp)[0];\n",
    "            fctm_unified[i] = func_correct_time(t0,t,sc,fctm_temp,tfctm_temp,exp)[0];\n",
    "    \n",
    "            fctm_temp = np.zeros(Ncond);\n",
    "            fctm_temp[0] = fctmfl_unified_28[i];\n",
    "    \n",
    "            time_temp = np.zeros(Ncond);\n",
    "            time_temp[0] = t_ele_test; # Impute testing time\n",
    "\n",
    "            tfctm_temp = np.zeros(Ncond);\n",
    "            tfctm_temp[0] = 28;\n",
    "            \n",
    "            fctmfl_unified[i] = func_correct_time(t0,t,sc,fctm_temp,tfctm_temp,exp)[0];\n",
    "    \n",
    "            fctm_temp = np.zeros(Ncond);\n",
    "            fctm_temp[0] = fct095_28[i];\n",
    "    \n",
    "            time_temp = np.zeros(Ncond);\n",
    "            #time_temp[0] = t_ele_test; # Impute testing time\n",
    "            #time_temp[0] = t_ele_test; # Impute testing time\n",
    "\n",
    "            tfctm_temp = np.zeros(Ncond);\n",
    "            tfctm_temp[0] = 28;\n",
    "\n",
    "            fct095[i] = func_correct_time(t0,t,sc,fctm_temp,tfctm_temp,exp)[0];\n",
    "            \n",
    "            fctm_temp = np.zeros(Ncond);\n",
    "            fctm_temp[0] = fct095_28_fl[i];\n",
    "    \n",
    "            time_temp = np.zeros(Ncond);\n",
    "            time_temp[0] = t_ele_test; # Impute testing time\n",
    "\n",
    "            tfctm_temp = np.zeros(Ncond);\n",
    "            tfctm_temp[0] = 28;\n",
    "    \n",
    "            fct095_fl[i] = func_correct_time(t0,t,sc,fctm_temp,tfctm_temp,exp)[0];\n",
    "\n",
    "            fctm_temp = np.zeros(Ncond);\n",
    "            fctm_temp[0] = fct005_28[i];\n",
    "    \n",
    "            time_temp = np.zeros(Ncond);\n",
    "            time_temp[0] = t_ele_test; # Impute testing time\n",
    "\n",
    "            tfctm_temp = np.zeros(Ncond);\n",
    "            tfctm_temp[0] = 28;\n",
    "    \n",
    "            fct005[i] = func_correct_time(t0,t,sc,fctm_temp,tfctm_temp,exp)[0];\n",
    "\n",
    "            fctm_temp = np.zeros(Ncond);\n",
    "            fctm_temp[0] = fct005_28_fl[i];\n",
    "    \n",
    "            time_temp = np.zeros(Ncond);\n",
    "            time_temp[0] = t_ele_test; # Impute testing time\n",
    "            \n",
    "            tfctm_temp = np.zeros(Ncond);\n",
    "            tfctm_temp[0] = 28;\n",
    "    \n",
    "            fct005_fl[i] = func_correct_time(t0,t,sc,fctm_temp,tfctm_temp,exp)[0];\n",
    "        \n",
    "        elif fctm[i,0] > tol and fctm_test[i] == 1: # Tensile strength measured with direct tensile test --> unusuable\n",
    "            \n",
    "            fctm_unified_28[i] = func_cal_fctm_from_fcm(data[\"fck28\"].iloc[i],data[\"fcm28\"].iloc[i]);  # Replace with the 28th day tensile strength\n",
    "            fctmfl_unified_28[i] = func_cal_fctmfl_from_fctm(fctm_unified_28[i],data[\"h\"].iloc[i]);\n",
    "    \n",
    "            fct095_28[i] = func_cal_fcteff_from_fctm(fctm_unified_28[i]);\n",
    "            fct095_28_fl[i] = func_cal_fcteff_from_fctm(fctmfl_unified_28[i]);\n",
    "\n",
    "            fct005_28[i] = func_cal_fcteff_from_fctm_005(fctm_unified_28[i]);\n",
    "            fct005_28_fl[i] = func_cal_fcteff_from_fctm_005(fctmfl_unified_28[i]);\n",
    "            \n",
    "            fctm_temp = np.zeros(Ncond);\n",
    "            fctm_temp[0] = fctm_unified_28[i]; # Use testing time when the direct tensile test was performed\n",
    "            tfctm_temp = np.zeros(Ncond);\n",
    "            tfctm_temp[0] = 28;\n",
    "            \n",
    "            fctm_unified[i] = func_correct_time(t0,t,sc,fctm_temp,tfctm_temp,exp)[0];\n",
    "    \n",
    "            fctm_temp = np.zeros(Ncond);\n",
    "            fctm_temp[0] = fctmfl_unified_28[i]; # Use testing time when the direct tensile test was performed\n",
    "            tfctm_temp = np.zeros(Ncond);\n",
    "            tfctm_temp[0] = 28;\n",
    "            \n",
    "            fctmfl_unified[i] = func_correct_time(t0,t,sc,fctm_temp,tfctm_temp,exp)[0];\n",
    "    \n",
    "            fctm_temp = np.zeros(Ncond);\n",
    "            fctm_temp[0] = fct095_28[i];\n",
    "    \n",
    "            time_temp = np.zeros(Ncond);\n",
    "            time_temp[0] = t_ele_test; # Impute testing time\n",
    "            tfctm_temp = np.zeros(Ncond);\n",
    "            tfctm_temp[0] = 28;\n",
    "            \n",
    "            fct095[i] = func_correct_time(t0,t,sc,fctm_temp,tfctm_temp,exp)[0];\n",
    "            \n",
    "            fctm_temp = np.zeros(Ncond);\n",
    "            fctm_temp[0] = fct095_28_fl[i];\n",
    "    \n",
    "            time_temp = np.zeros(Ncond);\n",
    "            time_temp[0] = t_ele_test; # Impute testing time\n",
    "            tfctm_temp = np.zeros(Ncond);\n",
    "            tfctm_temp[0] = 28;\n",
    "    \n",
    "            fct095_fl[i] = func_correct_time(t0,t,sc,fctm_temp,tfctm_temp,exp)[0];\n",
    "\n",
    "            fctm_temp = np.zeros(Ncond);\n",
    "            fctm_temp[0] = fct005_28[i];\n",
    "    \n",
    "            time_temp = np.zeros(Ncond);\n",
    "            time_temp[0] = t_ele_test; # Impute testing time\n",
    "            tfctm_temp = np.zeros(Ncond);\n",
    "            tfctm_temp[0] = 28;\n",
    "    \n",
    "            #fct005[i] = func_correct_time(t0,t,sc,fctm_temp,time_temp,exp)[0];\n",
    "            fct005[i] = func_correct_time(t0,t,sc,fctm_temp,tfctm_temp,exp)[0];\n",
    "            \n",
    "            fctm_temp = np.zeros(Ncond);\n",
    "            fctm_temp[0] = fct005_28_fl[i];\n",
    "    \n",
    "            time_temp = np.zeros(Ncond);\n",
    "            time_temp[0] = t_ele_test; # Impute testing time\n",
    "            tfctm_temp = np.zeros(Ncond);\n",
    "            tfctm_temp[0] = 28;\n",
    "    \n",
    "            fct005_fl[i] = func_correct_time(t0,t,sc,fctm_temp,tfctm_temp,exp)[0];\n",
    "        \n",
    "        elif fctm[i,0] > 0.01 and fctm_test[i] == 2: # Address tensile splitting test\n",
    "            \n",
    "            fctm_temp = func_cal_fctm_from_fctm_splitting(fctm[i,:]); # Value of tensile strength at moment of testing\n",
    "            \n",
    "            # convert it to 28 day tensile testing\n",
    "            fctm_unified_28[i] = func_correct_time(t0,t,sc,fctm_temp,tfctm[i,:],exp)[1]; # Replace with the 28th day tensile strength\n",
    "            fctmfl_unified_28[i] = func_cal_fctmfl_from_fctm(fctm_unified_28[i],data[\"h\"].iloc[i]);\n",
    "                  \n",
    "            fct095_28[i] = func_cal_fcteff_from_fctm(fctm_unified_28[i]);\n",
    "            fct095_28_fl[i] = func_cal_fcteff_from_fctm(fctmfl_unified_28[i]);\n",
    "\n",
    "            fct005_28[i] = func_cal_fcteff_from_fctm_005(fctm_unified_28[i]);\n",
    "            fct005_28_fl[i] = func_cal_fcteff_from_fctm_005(fctmfl_unified_28[i]);\n",
    "\n",
    "            fctm_temp = np.zeros(Ncond);\n",
    "            fctm_temp[0] = fctm_unified_28[i];\n",
    "            tfctm_temp = np.zeros(Ncond);\n",
    "            tfctm_temp[0] = 28;\n",
    "            \n",
    "            #fctm_unified[i] = func_correct_time(t0,t,sc,fctm_temp,tfctm[i,:],exp)[0]; # Value of tensile strength at moment of testing\n",
    "            fctm_unified[i] = func_correct_time(t0,t,sc,fctm_temp,tfctm_temp,exp)[0]; # Value of tensile strength at moment of testing\n",
    "            \n",
    "            fctm_temp = np.zeros(Ncond);\n",
    "            fctm_temp[0] = fctmfl_unified_28[i]; # Use testing time when the direct tensile test was performed\n",
    "            tfctm_temp = np.zeros(Ncond);\n",
    "            tfctm_temp[0] = 28;\n",
    "            \n",
    "            fctmfl_unified[i] = func_correct_time(t0,t,sc,fctm_temp,tfctm_temp,exp)[0]; \n",
    "    \n",
    "            fctm_temp = np.zeros(Ncond);\n",
    "            fctm_temp[0] = fct095_28[i]; \n",
    "            tfctm_temp = np.zeros(Ncond);\n",
    "            tfctm_temp[0] = 28;\n",
    "            \n",
    "            fct095[i] = func_correct_time(t0,t,sc,fctm_temp,tfctm_temp,exp)[0]; \n",
    "    \n",
    "            fctm_temp = np.zeros(Ncond);\n",
    "            fctm_temp[0] = fct095_28_fl[i]; \n",
    "            tfctm_temp = np.zeros(Ncond);\n",
    "            tfctm_temp[0] = 28;\n",
    "    \n",
    "            fct095_fl[i] = func_correct_time(t0,t,sc,fctm_temp,tfctm_temp,exp)[0]; \n",
    "\n",
    "            fctm_temp = np.zeros(Ncond);\n",
    "            fctm_temp[0] = fct005_28[i];\n",
    "            tfctm_temp = np.zeros(Ncond);\n",
    "            tfctm_temp[0] = 28;\n",
    "\n",
    "            #print(\"t0\",t0)\n",
    "            #print(,\"t\",t)\n",
    "\n",
    "            fct005[i] = func_correct_time(t0,t,sc,fctm_temp,tfctm_temp,exp)[0];\n",
    "            #fct005[i] = func_correct_time(t0,t,sc,fctm_temp,tfctm[i,:],exp)[0];\n",
    "\n",
    "            fctm_temp = np.zeros(Ncond);\n",
    "            fctm_temp[0] = fct005_28_fl[i];\n",
    "            tfctm_temp = np.zeros(Ncond);\n",
    "            tfctm_temp[0] = 28;\n",
    "\n",
    "            fct005_fl[i] = func_correct_time(t0,t,sc,fctm_temp,tfctm_temp,exp)[0];\n",
    "        \n",
    "        elif fctm[i,0] > tol and fctm_test[i] == 3: # Address flexural tensile strength\n",
    "            \n",
    "            fctm_temp = func_correct_time(t0,t,sc,fctm[i,:],tfctm[i,:],exp)[1]; # Replace with the 28th day tensile strength\n",
    "            fctm_unified_28[i] = func_cal_fctm_from_fctmfl(fctm_temp,data[\"h\"].iloc[i]); # Replace with the 28th day tensile strength\n",
    "            fctmfl_unified_28[i] = fctm_temp;\n",
    "            fct095_28[i] = func_cal_fcteff_from_fctm(fctm_unified_28[i]);\n",
    "            fct095_28_fl[i] = func_cal_fcteff_from_fctm(fctmfl_unified_28[i]);\n",
    "\n",
    "            fct005_28[i] = func_cal_fcteff_from_fctm_005(fctm_unified_28[i]);\n",
    "            fct005_28_fl[i] = func_cal_fcteff_from_fctm_005(fctmfl_unified_28[i]);\n",
    "            \n",
    "            fctm_temp = np.zeros(Ncond);\n",
    "            fctm_temp[0] = fctm_unified_28[i];\n",
    "    \n",
    "            time_temp = np.zeros(Ncond);\n",
    "            time_temp[0] = t_ele_test; # Impute testing time (at first element in the array)\n",
    "\n",
    "            tfctm_temp = np.zeros(Ncond);\n",
    "            tfctm_temp[0] = 28;\n",
    "            \n",
    "            fctm_unified[i] = func_correct_time(t0,t,sc,fctm_temp,tfctm_temp,exp)[0]; # Value of tensile strength at moment of testing\n",
    "    \n",
    "            fctm_temp = np.zeros(Ncond);\n",
    "            fctm_temp[0] = fctmfl_unified_28[i];\n",
    "    \n",
    "            time_temp = np.zeros(Ncond);\n",
    "            time_temp[0] = t_ele_test; # Impute testing time (at first element in the array)\n",
    "            tfctm_temp = np.zeros(Ncond);\n",
    "            tfctm_temp[0] = 28;\n",
    "            \n",
    "            fctmfl_unified[i] = func_correct_time(t0,t,sc,fctm_temp,tfctm_temp,exp)[0]; \n",
    "    \n",
    "            fctm_temp = np.zeros(Ncond);\n",
    "            fctm_temp[0] = fct095_28[i];\n",
    "    \n",
    "            time_temp = np.zeros(Ncond);\n",
    "            time_temp[0] = t_ele_test; # Impute testing time (at first element in the array)\n",
    "\n",
    "            tfctm_temp = np.zeros(Ncond);\n",
    "            tfctm_temp[0] = 28;\n",
    "            \n",
    "            fct095[i] = func_correct_time(t0,t,sc,fctm_temp,tfctm_temp,exp)[0]; \n",
    "    \n",
    "            fctm_temp = np.zeros(Ncond);\n",
    "            fctm_temp[0] = fct095_28_fl[i];\n",
    "    \n",
    "            time_temp = np.zeros(Ncond);\n",
    "            time_temp[0] = t_ele_test; # Impute testing time (at first element in the array)\n",
    "\n",
    "            tfctm_temp = np.zeros(Ncond);\n",
    "            tfctm_temp[0] = 28;\n",
    "            \n",
    "            fct095_fl[i] = func_correct_time(t0,t,sc,fctm_temp,tfctm_temp,exp)[0]; \n",
    "\n",
    "            fctm_temp = np.zeros(Ncond);\n",
    "            fctm_temp[0] = fct005_28[i];\n",
    "\n",
    "            time_temp = np.zeros(Ncond);\n",
    "            time_temp[0] = t_ele_test; # Impute testing time (at the first element in the array)\n",
    "\n",
    "            tfctm_temp = np.zeros(Ncond);\n",
    "            tfctm_temp[0] = 28;\n",
    "            \n",
    "            fct005[i] = func_correct_time(t0,t,sc,fctm_temp,tfctm_temp,exp)[0];\n",
    "\n",
    "            fctm_temp = np.zeros(Ncond);\n",
    "            fctm_temp[0] = fct005_28_fl[i];\n",
    "\n",
    "            time_temp = np.zeros(Ncond);\n",
    "            time_temp[0] = t_ele_test; # Impute testing time (at the first element in the array)\n",
    "            tfctm_temp = np.zeros(Ncond);\n",
    "            tfctm_temp[0] = 28;\n",
    "            \n",
    "            fct005_fl[i] = func_correct_time(t0,t,sc,fctm_temp,tfctm_temp,exp)[0];\n",
    "        \n",
    "        elif fctm[i,0] > tol and fctm_test[i] == 0: # Address case were testing method was unknown, but it was tested --> assume splitting tensile test\n",
    "            fctm_unified_28[i] = func_correct_time(t0,t,sc,fctm[i,:],tfctm[i,:],exp)[1]; # Replace with the 28th day tensile strength\n",
    "            fctmfl_unified_28[i] = func_cal_fctmfl_from_fctm(fctm_unified_28[i],data[\"h\"].iloc[i]);\n",
    "            fct095_28[i] = func_cal_fcteff_from_fctm(fctm_unified_28[i]);\n",
    "            fct095_28_fl[i] = func_cal_fcteff_from_fctm(fctmfl_unified_28[i]);\n",
    "\n",
    "            fct005_28[i] = func_cal_fcteff_from_fctm_005(fctm_unified_28[i]);\n",
    "            fct005_28_fl[i] = func_cal_fcteff_from_fctm_005(fctmfl_unified_28[i]);\n",
    "            \n",
    "            fctm_temp = np.zeros(Ncond);\n",
    "            fctm_temp[0] = fctm_unified_28[i];\n",
    "    \n",
    "            time_temp = np.zeros(Ncond);\n",
    "            time_temp[0] = t_ele_test; # Impute testing time (at first element in the array)\n",
    "            tfctm_temp = np.zeros(Ncond);\n",
    "            tfctm_temp[0] = 28;\n",
    "            \n",
    "            fctm_unified[i] = func_correct_time(t0,t,sc,fctm_temp,tfctm_temp,exp)[0]; # Value of tensile strength at moment of testing\n",
    "    \n",
    "            fctm_temp = np.zeros(Ncond);\n",
    "            fctm_temp[0] = fctmfl_unified_28[i];\n",
    "    \n",
    "            time_temp = np.zeros(Ncond);\n",
    "            time_temp[0] = t_ele_test; # Impute testing time (at first element in the array)\n",
    "            tfctm_temp = np.zeros(Ncond);\n",
    "            tfctm_temp[0] = 28;\n",
    "    \n",
    "            fctmfl_unified[i] = func_correct_time(t0,t,sc,fctm_temp,tfctm_temp,exp)[0];\n",
    "    \n",
    "            fctm_temp = np.zeros(Ncond);\n",
    "            fctm_temp[0] = fct095_28[i];\n",
    "    \n",
    "            time_temp = np.zeros(Ncond);\n",
    "            time_temp[0] = t_ele_test; # Impute testing time (at first element in the array)\n",
    "            tfctm_temp = np.zeros(Ncond);\n",
    "            tfctm_temp[0] = 28;\n",
    "            \n",
    "            fct095[i] = func_correct_time(t0,t,sc,fctm_temp,tfctm_temp,exp)[0];\n",
    "            \n",
    "            fctm_temp = np.zeros(Ncond);\n",
    "            fctm_temp[0] = fct095_28_fl[i];\n",
    "            \n",
    "            time_temp = np.zeros(Ncond);\n",
    "            time_temp[0] = t_ele_test; # Impute testing time (at first element in the array)\n",
    "            \n",
    "            tfctm_temp = np.zeros(Ncond);\n",
    "            tfctm_temp[0] = 28;\n",
    "            \n",
    "            fct095_fl[i] = func_correct_time(t0,t,sc,fctm_temp,tfctm_temp,exp)[0];\n",
    "            \n",
    "            fctm_temp = np.zeros(Ncond);\n",
    "            fctm_temp[0] = fct005_28[i];\n",
    "\n",
    "            time_temp = np.zeros(Ncond);\n",
    "            time_temp[0] = t_ele_test; # Impute testing time (at first element in the array)\n",
    "\n",
    "            tfctm_temp = np.zeros(Ncond);\n",
    "            tfctm_temp[0] = 28;\n",
    "            \n",
    "            fct005[i] = func_correct_time(t0,t,sc,fctm_temp,fctm_temp,exp)[0];\n",
    "\n",
    "            fctm_temp = np.zeros(Ncond);\n",
    "            fctm_temp[0] = fct005_28_fl[i];\n",
    "\n",
    "            time_temp = np.zeros(Ncond);\n",
    "            time_temp[0] = t_ele_test; # Impute testing time (at first element in the array)\n",
    "\n",
    "            tfctm_temp = np.zeros(Ncond);\n",
    "            tfctm_temp[0] = 28;\n",
    "            \n",
    "            fct005_fl[i] = func_correct_time(t0,t,sc,fctm_temp,fctm_temp,exp)[0];\n",
    "    \n",
    "    return fctm_unified_28, fctm_unified, fctmfl_unified_28, fctmfl_unified, fct095_28, fct095, fct095_28_fl, fct095_fl, fct005, fct005_28, fct005_fl"
   ]
  },
  {
   "cell_type": "code",
   "execution_count": 84,
   "id": "3ff849b0-6db1-4383-8f27-9591cacc9e9c",
   "metadata": {},
   "outputs": [],
   "source": [
    "df[\"fctm28\"], df[\"fctm\"], df[\"fctmfl28\"], df[\"fctmfl\"], df[\"fct095_28\"], df[\"fct095\"], df[\"fct095fl_28\"], df[\"fct095fl\"], \\\n",
    "    df[\"fct005\"], df[\"fct005_28\"], df[\"fct005fl\"] = func_cal_uniformly_fctm(df,fctm,tfctm,0.6)\n",
    "df = df.astype({\n",
    "    \"fctm28\": \"float\",\n",
    "    \"fctm\": \"float\",\n",
    "    \"fctmfl28\": \"float\",\n",
    "    \"fctmfl\": \"float\",\n",
    "    \"fct095_28\": \"float\",\n",
    "    \"fct095\": \"float\", \n",
    "    \"fct095fl_28\": \"float\",\n",
    "    \"fct095fl\": \"float\",\n",
    "    \"fct005\": \"float\",\n",
    "    \"fct005_28\": \"float\",\n",
    "    \"fct005fl\": \"float\"\n",
    "});"
   ]
  },
  {
   "cell_type": "markdown",
   "id": "ecf470a3-1688-4a3f-a6d9-f05312be57c1",
   "metadata": {},
   "source": [
    "#### Calculation of uniformly defined youngs modulus, related to correct loading stage"
   ]
  },
  {
   "cell_type": "markdown",
   "id": "8e34282c-14fc-4a35-b9ce-1242eda9b786",
   "metadata": {},
   "source": [
    "Estimation of the Youngs Modulus, based on the mean compression strength. Since the aggregate type is unknown, the standard value of $21500$ MPa is used."
   ]
  },
  {
   "cell_type": "code",
   "execution_count": 85,
   "id": "d3474ae1-e6bc-4804-91a7-bfb66725f63d",
   "metadata": {},
   "outputs": [],
   "source": [
    "def func_cal_Ecm_from_fcm(fcm,ae):\n",
    "    Ec0 = 21500;\n",
    "    Ecm = Ec0*ae*(fcm/10)**(1/3);\n",
    "    return Ecm"
   ]
  },
  {
   "cell_type": "code",
   "execution_count": 86,
   "id": "b35a900b-d0b9-4692-b5e4-4a06cedadd43",
   "metadata": {},
   "outputs": [],
   "source": [
    "def func_cal_uniformly_Ecm(data,Ecm,tEcm,exp):\n",
    "\n",
    "    Ecm_unified_28 = np.zeros(data.shape[0]);\n",
    "    Ecm_unified = np.zeros(data.shape[0]);\n",
    "\n",
    "    for i in range(data.shape[0]):\n",
    "        \n",
    "        # ==========================\n",
    "        t0 = data[\"t0\"].iloc[i];\n",
    "        t = data[\"t\"].iloc[i];\n",
    "        sc = data[\"sc\"].iloc[i];\n",
    "\n",
    "        t_ele_test = t0 + t - 1;\n",
    "        # Address case were the Youngs modulus is unknown (not tested)\n",
    "        if Ecm[i,0] < tol:\n",
    "            Ecm_unified_28[i] = func_cal_Ecm_from_fcm(data[\"fcm28\"].iloc[i],1);  # Replace with the 28th day tensile strength\n",
    "\n",
    "            Ecm_temp = np.zeros(Ncond);\n",
    "            Ecm_temp[0] = Ecm_unified_28[i];\n",
    "\n",
    "            time_temp = np.zeros(Ncond);\n",
    "            time_temp[0] = 28;\n",
    "            #time_temp[0] = t_ele_test; # Impute testing time\n",
    "            \n",
    "            Ecm_unified[i] = func_correct_time(t0,t,sc,Ecm_temp,time_temp,exp)[0];\n",
    "\n",
    "        # Address case were the Youngs modulus is known\n",
    "        elif Ecm[i,0] > tol:\n",
    "\n",
    "            Ecm_unified_28[i] = func_correct_time(t0,t,sc,Ecm[i,:],tEcm[i,:],exp)[1];\n",
    "            Ecm_temp = np.zeros(Ncond);\n",
    "            Ecm_temp[0] = Ecm_unified_28[i];\n",
    "\n",
    "            time_temp = np.zeros(Ncond);\n",
    "            time_temp[0] = 28;\n",
    "\n",
    "            Ecm_unified[i] = func_correct_time(t0,t,sc,Ecm_temp,time_temp,exp)[0]; \n",
    "            \n",
    "    return Ecm_unified_28, Ecm_unified"
   ]
  },
  {
   "cell_type": "code",
   "execution_count": 87,
   "id": "eaccf33c-6d9e-447e-990f-52e0704a106a",
   "metadata": {},
   "outputs": [],
   "source": [
    "df[\"Ecm28\"], df[\"Ecm\"] = func_cal_uniformly_Ecm(df,Ecm,tEcm,0.33)\n",
    "df = df.astype({\n",
    "    \"Ecm28\": \"float\",\n",
    "    \"Ecm\": \"float\"\n",
    "});"
   ]
  },
  {
   "cell_type": "markdown",
   "id": "f1cac08d-eff3-4532-ad08-19e8e460b276",
   "metadata": {},
   "source": [
    "#### Calculation of the creep coefficient"
   ]
  },
  {
   "cell_type": "markdown",
   "id": "1add6418-696a-4daa-bf43-80f7ccd57d6a",
   "metadata": {},
   "source": [
    "##### Basic creep (load, no prestressing)"
   ]
  },
  {
   "cell_type": "code",
   "execution_count": 88,
   "id": "1d9a6ef3-2e62-481a-9c8a-f4391da26326",
   "metadata": {},
   "outputs": [],
   "source": [
    "def func_alpha(class_conc):\n",
    "    \n",
    "    if class_conc == \"CS\":\n",
    "        alpha = -1;\n",
    "    elif class_conc == \"CN\":\n",
    "        alpha = 0;\n",
    "    elif class_conc == \"CR\":\n",
    "        alpha = 1;\n",
    "\n",
    "    return alpha"
   ]
  },
  {
   "cell_type": "code",
   "execution_count": 89,
   "id": "e50fac5b-904a-41a3-8892-e07052b0270c",
   "metadata": {},
   "outputs": [],
   "source": [
    "def func_beta_bc_fcm(fcm):\n",
    "    return (1.8/(fcm**0.7))"
   ]
  },
  {
   "cell_type": "code",
   "execution_count": 90,
   "id": "6916c6d9-db91-4206-bc19-ad3fed34c5e3",
   "metadata": {},
   "outputs": [],
   "source": [
    "def func_beta_t_t0(t0adj,t,t0,xi_bc2):\n",
    "    return np.log(  (((30/t0adj) + 0.035)**2) * ((t-t0)/xi_bc2) + 1);"
   ]
  },
  {
   "cell_type": "code",
   "execution_count": 91,
   "id": "3bacb08d-361b-42ac-acf2-674f8e05ca95",
   "metadata": {},
   "outputs": [],
   "source": [
    "def func_t0adj(t0T,alpha):\n",
    "    return max(t0T*(9/(2+t0T**1.2) + 1)**alpha , 0.5);    "
   ]
  },
  {
   "cell_type": "code",
   "execution_count": 92,
   "id": "a649a5e1-5581-48f3-9ba6-87c646077e84",
   "metadata": {},
   "outputs": [],
   "source": [
    "def func_compute_basic_creep(data):\n",
    "\n",
    "    xi_bc2 = 1;\n",
    "    phi_bc = np.zeros(data.shape[0]); # Basic creep coefficient\n",
    "    \n",
    "    for i in range(data.shape[0]):\n",
    "\n",
    "        t = data[\"t\"].iloc[i] + data[\"t0\"].iloc[i] - 1;\n",
    "        t0 = data[\"t0\"].iloc[i];\n",
    "        t0T = t0; # In case of lab conditions with temperature of 20 degrees\n",
    "        \n",
    "        beta_bc_fcm = func_beta_bc_fcm(data[\"fcm28\"].iloc[i]);\n",
    "\n",
    "        alpha = func_alpha(data[\"class_C\"].iloc[i]);\n",
    "        \n",
    "        t0adj = func_t0adj(t0T,alpha);\n",
    "        beta_t_t0 = func_beta_t_t0(t0adj,t,t0,xi_bc2);\n",
    "\n",
    "        phi_bc[i] = beta_bc_fcm*beta_t_t0; # Basic creep coefficient\n",
    "    \n",
    "    return phi_bc, t0adj"
   ]
  },
  {
   "cell_type": "code",
   "execution_count": 93,
   "id": "a9398480-4cf6-49c1-aaec-30ae12a906a6",
   "metadata": {},
   "outputs": [],
   "source": [
    "df[\"phi_bc\"],t0adj = func_compute_basic_creep(df);\n",
    "df = df.astype({\n",
    "    \"phi_bc\": \"float\"\n",
    "});"
   ]
  },
  {
   "cell_type": "markdown",
   "id": "17590719-8627-4af4-ba43-540b1c3c9bec",
   "metadata": {},
   "source": [
    "##### Basis creep (prestressing)"
   ]
  },
  {
   "cell_type": "code",
   "execution_count": 94,
   "id": "58b6244e-2642-44c7-833d-71f7a0b72f69",
   "metadata": {},
   "outputs": [],
   "source": [
    "def func_compute_basic_creep_prestress(data):\n",
    "\n",
    "    xi_bc2 = 1;\n",
    "    phi_bc = np.zeros(data.shape[0]); # Basic creep coefficient\n",
    "    \n",
    "    for i in range(data.shape[0]):\n",
    "\n",
    "        t = data[\"t\"].iloc[i] + data[\"t0\"].iloc[i] - 1; # fib MC 2020 convention\n",
    "        t0 = data[\"t0p\"].iloc[i]; # fib MC 2020 convention\n",
    "        t0T = t0; # In case of lab conditions with temperature of 20 degrees\n",
    "        \n",
    "        beta_bc_fcm = func_beta_bc_fcm(data[\"fcm28\"].iloc[i]);\n",
    "\n",
    "        alpha = func_alpha(data[\"class_C\"].iloc[i]);\n",
    "        \n",
    "        t0adj = func_t0adj(t0T,alpha);\n",
    "        beta_t_t0 = func_beta_t_t0(t0adj,t,t0,xi_bc2);\n",
    "\n",
    "        phi_bc[i] = beta_bc_fcm*beta_t_t0; # Basic creep coefficient\n",
    "    \n",
    "    return phi_bc, t0adj"
   ]
  },
  {
   "cell_type": "code",
   "execution_count": 95,
   "id": "37055e5c-20d9-49f4-acb1-7a87efec8dc3",
   "metadata": {},
   "outputs": [],
   "source": [
    "df[\"phi_bc_prestress\"],t0adj = func_compute_basic_creep_prestress(df);\n",
    "df = df.astype({\n",
    "    \"phi_bc_prestress\": \"float\"\n",
    "});"
   ]
  },
  {
   "cell_type": "markdown",
   "id": "28145de6-1432-4155-bf0b-3b04be363c86",
   "metadata": {},
   "source": [
    "##### Basis creep (prior to loading)"
   ]
  },
  {
   "cell_type": "code",
   "execution_count": 96,
   "id": "563217d6-f3aa-4a6f-a2f7-d6242463617e",
   "metadata": {},
   "outputs": [],
   "source": [
    "def func_compute_basic_creep_prior_load(data):\n",
    "\n",
    "    xi_bc2 = 1;\n",
    "    phi_bc = np.zeros(data.shape[0]); # Basic creep coefficient\n",
    "    \n",
    "    for i in range(data.shape[0]):\n",
    "\n",
    "        t = data[\"t\"].iloc[i] + data[\"t0\"].iloc[i] - 1; # fib MC 2020 convention\n",
    "        t0 = 0; # fib MC 2020 convention\n",
    "        t0T = t0; # In case of lab conditions with temperature of 20 degrees\n",
    "        \n",
    "        beta_bc_fcm = func_beta_bc_fcm(data[\"fcm28\"].iloc[i]);\n",
    "\n",
    "        alpha = func_alpha(data[\"class_C\"].iloc[i]);\n",
    "        \n",
    "        t0adj = func_t0adj(t0T,alpha);\n",
    "        beta_t_t0 = func_beta_t_t0(t0adj,t,t0,xi_bc2);\n",
    "\n",
    "        phi_bc[i] = beta_bc_fcm*beta_t_t0; # Basic creep coefficient\n",
    "    \n",
    "    return phi_bc, t0adj"
   ]
  },
  {
   "cell_type": "code",
   "execution_count": 97,
   "id": "0d6efc22-da9e-4d23-bc59-fd5950106fb6",
   "metadata": {},
   "outputs": [],
   "source": [
    "df[\"phi_bc_prior_load\"],t0adj = func_compute_basic_creep_prior_load(df);\n",
    "df = df.astype({\n",
    "    \"phi_bc_prior_load\": \"float\"\n",
    "});"
   ]
  },
  {
   "cell_type": "markdown",
   "id": "e2bc5880-0e43-46ce-a190-a6263d07c823",
   "metadata": {},
   "source": [
    "##### Drying creep (load, no prestress)"
   ]
  },
  {
   "cell_type": "code",
   "execution_count": 98,
   "id": "8b3364dd-afe3-4a30-b485-42b0b0ba95ba",
   "metadata": {},
   "outputs": [],
   "source": [
    "def func_dc_fcm(fcm):\n",
    "    return 412/(fcm**1.4);"
   ]
  },
  {
   "cell_type": "code",
   "execution_count": 99,
   "id": "67e259c3-08fa-4a40-a18c-659760440f56",
   "metadata": {},
   "outputs": [],
   "source": [
    "def func_compute_h0(b,h,Ac,Nint):\n",
    "\n",
    "    Lint = np.zeros(Nint);\n",
    "    zint = np.zeros(Nint);\n",
    "    bint = np.zeros(Nint);\n",
    "\n",
    "    dz = h/Nint;\n",
    "\n",
    "    for i in range(Nint):\n",
    "        if i > 1 and i < Nint:\n",
    "            zint[i] = (h/Nint)*i;\n",
    "            bint[i] = (func_extract_width(max(zint[i],tol),b) - func_extract_width(max(zint[i-1],tol),b))/2;\n",
    "            Lint[i] = np.sqrt(dz**2 + bint[i]**2);\n",
    "\n",
    "        if i == 0:\n",
    "            bint[i] = (func_extract_width(max(zint[1],tol),b) - func_extract_width(max(zint[0],tol),b))/2;\n",
    "            Lint[i] = np.sqrt(dz**2 + bint[i]**2);\n",
    "           \n",
    "    arclength = sum(Lint);\n",
    "\n",
    "    u = func_extract_width(0+tol,b) + func_extract_width(h-tol,b) + 2*arclength;\n",
    "\n",
    "    h0 = 2*Ac/u;\n",
    "    \n",
    "    return h0"
   ]
  },
  {
   "cell_type": "code",
   "execution_count": 100,
   "id": "4a8808d6-0990-49f9-bd53-c541722c9982",
   "metadata": {},
   "outputs": [],
   "source": [
    "def func_beta_RH(h0,RH):\n",
    "    return (1-RH/100)/( (0.1*h0/100)**(1/3) );"
   ]
  },
  {
   "cell_type": "code",
   "execution_count": 101,
   "id": "dce37ea4-1b7c-4ac4-b866-d6810f0fcd9e",
   "metadata": {},
   "outputs": [],
   "source": [
    "def func_a_fcm(fcm):\n",
    "    return (35/fcm)**0.5;"
   ]
  },
  {
   "cell_type": "code",
   "execution_count": 102,
   "id": "85ff0db3-e61a-429e-83c9-646a80bf78d7",
   "metadata": {},
   "outputs": [],
   "source": [
    "def func_gamma_t0(t0adj):\n",
    "    return (1/(2.3 + 3.5/(np.sqrt(t0adj))));"
   ]
  },
  {
   "cell_type": "code",
   "execution_count": 103,
   "id": "ac25baf9-a47a-4f93-873c-3e40d289465b",
   "metadata": {},
   "outputs": [],
   "source": [
    "def func_beta_h(h0,afcm):\n",
    "    return min(1.5*h0 + 250*afcm , 1500*afcm)"
   ]
  },
  {
   "cell_type": "code",
   "execution_count": 104,
   "id": "d66ed02c-cc6b-44a0-bce0-7e146e403016",
   "metadata": {},
   "outputs": [],
   "source": [
    "def func_dc_t0(t0adj):\n",
    "    return 1/(0.1 + t0adj**0.2);"
   ]
  },
  {
   "cell_type": "code",
   "execution_count": 105,
   "id": "d6a03b60-2818-4531-8507-5828c3a67398",
   "metadata": {},
   "outputs": [],
   "source": [
    "def func_beta_dc(t,t0,gamma_t0,beta_h,xi_dc2):\n",
    "    return ( (t-t0)/(beta_h*xi_dc2 + (t-t0)) )**gamma_t0"
   ]
  },
  {
   "cell_type": "code",
   "execution_count": 106,
   "id": "67014290-b1be-46a3-af45-8cf5daed611b",
   "metadata": {},
   "outputs": [],
   "source": [
    "def func_compute_drying_creep(data):\n",
    "\n",
    "    xi_dc2 = 1;\n",
    "    phi_dc = np.zeros(data.shape[0]); # drying creep coefficient\n",
    "\n",
    "    for i in range(data.shape[0]):\n",
    "\n",
    "        t = data[\"t\"].iloc[i] + data[\"t0\"].iloc[i] - 1; # fib MC 2020 convention\n",
    "        t0 = data[\"t0\"].iloc[i]; # fib MC 2020 convention\n",
    "        t0T = t0; # In case of lab conditions with temperature of 20 degrees\n",
    "\n",
    "        alpha = func_alpha(data[\"class_C\"].iloc[i]);\n",
    "        t0adj = func_t0adj(t0T,alpha);\n",
    "        \n",
    "        dc_fcmb = func_dc_fcm(data[\"fcm28\"].iloc[i]);\n",
    "        h0 = func_compute_h0(data[\"b\"].iloc[i],data[\"h\"].iloc[i],data[\"Ac\"].iloc[i],Nint);\n",
    "        beta_RH = func_beta_RH(h0,data[\"RH\"].iloc[i]);\n",
    "        a_fcm = func_a_fcm(data[\"fcm28\"].iloc[i]);\n",
    "        \n",
    "        gamma_t0 = func_gamma_t0(t0adj);\n",
    "        beta_h = func_beta_h(h0,a_fcm);\n",
    "    \n",
    "        dc_t0 = func_dc_t0(t0adj);\n",
    "        beta_dc = func_beta_dc(t,t0,gamma_t0,beta_h,xi_dc2);\n",
    "        phi_dc[i] = dc_fcmb*beta_RH*dc_t0*beta_dc;\n",
    "    \n",
    "    return phi_dc"
   ]
  },
  {
   "cell_type": "code",
   "execution_count": 107,
   "id": "c2fd5371-5c67-4fff-99c6-eec73c229e8a",
   "metadata": {},
   "outputs": [],
   "source": [
    "df[\"phi_dc\"] = func_compute_drying_creep(df);\n",
    "df = df.astype({\n",
    "    \"phi_dc\": \"float\"\n",
    "});"
   ]
  },
  {
   "cell_type": "markdown",
   "id": "60326477-bdb5-4ee1-ab7f-b8f421fc9ae5",
   "metadata": {},
   "source": [
    "##### Drying creep, prestress"
   ]
  },
  {
   "cell_type": "code",
   "execution_count": 108,
   "id": "a13ec947-dc9c-4d60-9bb6-4ea4c5d60b4c",
   "metadata": {},
   "outputs": [],
   "source": [
    "def func_compute_drying_creep_prestress(data):\n",
    "\n",
    "    xi_dc2 = 1;\n",
    "    phi_dc = np.zeros(data.shape[0]); # drying creep coefficient\n",
    "\n",
    "    for i in range(data.shape[0]):\n",
    "\n",
    "        t = data[\"t\"].iloc[i] + data[\"t0\"].iloc[i] - 1; # fib MC 2020 convention\n",
    "        t0 = data[\"t0p\"].iloc[i]; # fib MC 2020 convention\n",
    "        t0T = t0; # In case of lab conditions with temperature of 20 degrees\n",
    "\n",
    "        alpha = func_alpha(data[\"class_C\"].iloc[i]);\n",
    "        t0adj = func_t0adj(t0T,alpha);\n",
    "        \n",
    "        dc_fcmb = func_dc_fcm(data[\"fcm28\"].iloc[i]);\n",
    "        h0 = func_compute_h0(data[\"b\"].iloc[i],data[\"h\"].iloc[i],data[\"Ac\"].iloc[i],Nint);\n",
    "        beta_RH = func_beta_RH(h0,data[\"RH\"].iloc[i]);\n",
    "        a_fcm = func_a_fcm(data[\"fcm28\"].iloc[i]);\n",
    "        \n",
    "        gamma_t0 = func_gamma_t0(t0adj);\n",
    "        beta_h = func_beta_h(h0,a_fcm);\n",
    "    \n",
    "        dc_t0 = func_dc_t0(t0adj);\n",
    "        beta_dc = func_beta_dc(t,t0,gamma_t0,beta_h,xi_dc2);\n",
    "        phi_dc[i] = dc_fcmb*beta_RH*dc_t0*beta_dc;\n",
    "    \n",
    "    return phi_dc"
   ]
  },
  {
   "cell_type": "code",
   "execution_count": 109,
   "id": "0a2e383f-3182-431c-b285-720e3e64f71f",
   "metadata": {},
   "outputs": [],
   "source": [
    "df[\"phi_dc_prestress\"] = func_compute_drying_creep_prestress(df);\n",
    "df = df.astype({\n",
    "    \"phi_dc_prestress\": \"float\"\n",
    "});"
   ]
  },
  {
   "cell_type": "markdown",
   "id": "aa1bc61b-debf-40e5-9004-551235644a3a",
   "metadata": {},
   "source": [
    "##### Dyring creep, prior to loading"
   ]
  },
  {
   "cell_type": "code",
   "execution_count": 110,
   "id": "12f3e67f-a5f5-4547-abca-97099fbcde89",
   "metadata": {},
   "outputs": [],
   "source": [
    "def func_compute_drying_creep_prior_load(data):\n",
    "\n",
    "    xi_dc2 = 1;\n",
    "    phi_dc = np.zeros(data.shape[0]); # drying creep coefficient\n",
    "\n",
    "    for i in range(data.shape[0]):\n",
    "\n",
    "        t = data[\"t\"].iloc[i] + data[\"t0\"].iloc[i] - 1; # fib MC 2020 convention\n",
    "        t0 = 0; # fib MC 2020 convention\n",
    "        t0T = t0; # In case of lab conditions with temperature of 20 degrees\n",
    "\n",
    "        alpha = func_alpha(data[\"class_C\"].iloc[i]);\n",
    "        t0adj = func_t0adj(t0T,alpha);\n",
    "        \n",
    "        dc_fcmb = func_dc_fcm(data[\"fcm28\"].iloc[i]);\n",
    "        h0 = func_compute_h0(data[\"b\"].iloc[i],data[\"h\"].iloc[i],data[\"Ac\"].iloc[i],Nint);\n",
    "        beta_RH = func_beta_RH(h0,data[\"RH\"].iloc[i]);\n",
    "        a_fcm = func_a_fcm(data[\"fcm28\"].iloc[i]);\n",
    "        \n",
    "        gamma_t0 = func_gamma_t0(t0adj);\n",
    "        beta_h = func_beta_h(h0,a_fcm);\n",
    "    \n",
    "        dc_t0 = func_dc_t0(t0adj);\n",
    "        beta_dc = func_beta_dc(t,t0,gamma_t0,beta_h,xi_dc2);\n",
    "        phi_dc[i] = dc_fcmb*beta_RH*dc_t0*beta_dc;\n",
    "    \n",
    "    return phi_dc"
   ]
  },
  {
   "cell_type": "code",
   "execution_count": 111,
   "id": "37fcf663-f816-4fdc-b611-3679544d236d",
   "metadata": {},
   "outputs": [],
   "source": [
    "df[\"phi_dc_prior_load\"] = func_compute_drying_creep_prior_load(df);\n",
    "df = df.astype({\n",
    "    \"phi_dc_prior_load\": \"float\"\n",
    "});"
   ]
  },
  {
   "cell_type": "markdown",
   "id": "baaa3989-7758-42dc-8fd4-f4c53124007b",
   "metadata": {},
   "source": [
    "##### Resulting creep"
   ]
  },
  {
   "cell_type": "code",
   "execution_count": 112,
   "id": "de23a33f-2510-433d-8ae8-0c040d6df36b",
   "metadata": {},
   "outputs": [],
   "source": [
    "xi_bc1 = 1;\n",
    "xi_dc1 = 1;\n",
    "\n",
    "df[\"phi_creep\"] = xi_bc1*df[\"phi_bc\"] + xi_dc1*df[\"phi_dc\"];\n",
    "df[\"phi_creep_prestress\"] = xi_bc1*df[\"phi_bc_prestress\"] + xi_dc1*df[\"phi_dc_prestress\"];\n",
    "df[\"phi_creep_prior_load\"] = xi_bc1*df[\"phi_bc_prior_load\"] + xi_dc1*df[\"phi_dc_prior_load\"];"
   ]
  },
  {
   "cell_type": "markdown",
   "id": "2a528a23-5e14-4de7-82de-226b66ea9a7a",
   "metadata": {},
   "source": [
    "#### Calculation of the Youngs Modulus including creep effects"
   ]
  },
  {
   "cell_type": "code",
   "execution_count": 113,
   "id": "6dd14c21-73bd-4a9d-ac5a-055b18565e4c",
   "metadata": {},
   "outputs": [],
   "source": [
    "# For the tangent, the value 1.05 is used since this is in accordance with the k values in table 14.7-2"
   ]
  },
  {
   "cell_type": "code",
   "execution_count": 114,
   "id": "ad108d99-d5ff-470f-84b8-598b53a2537b",
   "metadata": {},
   "outputs": [],
   "source": [
    "df[\"Ecm0\"] = df[\"Ecm\"];\n",
    "df[\"Ecm\"] = 1.05*df[\"Ecm\"]/(1 + chi*df[\"phi_creep\"]);\n",
    "\n",
    "df = df.astype({\n",
    "    \"Ecm0\": \"float\",\n",
    "    \"Ecm\": \"float\"\n",
    "});"
   ]
  },
  {
   "cell_type": "markdown",
   "id": "307b5c9e-61cb-4c20-ba14-2af12f057cc5",
   "metadata": {},
   "source": [
    "#### Calculation of the shrinkage (at moment of loading)"
   ]
  },
  {
   "cell_type": "markdown",
   "id": "7f521c41-5f76-4136-9ea9-229d88b41cbf",
   "metadata": {},
   "source": [
    "##### Calculation of the basic shrinkage (pouring to load application)"
   ]
  },
  {
   "cell_type": "code",
   "execution_count": 115,
   "id": "31f6563c-1edc-4607-9054-62af03eda449",
   "metadata": {},
   "outputs": [],
   "source": [
    "def func_alpha_bs(class_conc):\n",
    "    if class_conc == \"CS\":\n",
    "        alpha_bs = 800;\n",
    "    elif class_conc == \"CN\":\n",
    "        alpha_bs = 700;\n",
    "    elif class_conc == \"CR\":\n",
    "        alpha_bs = 600;\n",
    "\n",
    "    return alpha_bs"
   ]
  },
  {
   "cell_type": "code",
   "execution_count": 116,
   "id": "5e77e347-8077-4850-b42f-25d5b8e3e38a",
   "metadata": {},
   "outputs": [],
   "source": [
    "def func_eps_cbs0(alpha_bs,fcm):\n",
    "    return (-alpha_bs * ((0.1*fcm)/(6 + 0.1*fcm))**2.5)*(10**(-6));"
   ]
  },
  {
   "cell_type": "code",
   "execution_count": 117,
   "id": "52b4ca9a-b4d5-4eac-92d5-008a6bc0ba0f",
   "metadata": {},
   "outputs": [],
   "source": [
    "def func_beta_bs(xi_bs2,t):\n",
    "    return 1 - np.exp(-0.2*xi_bs2*np.sqrt(t));"
   ]
  },
  {
   "cell_type": "code",
   "execution_count": 118,
   "id": "22ab0bce-b97f-4b36-95db-2c20f06a476c",
   "metadata": {},
   "outputs": [],
   "source": [
    "def func_compute_basic_shrinkage(data):\n",
    "\n",
    "    eps_cbs = np.zeros(data.shape[0]);\n",
    "    xi_bs2 = 1;\n",
    "    \n",
    "    for i in range(data.shape[0]):\n",
    "\n",
    "        t = data[\"t\"].iloc[i] + data[\"t0\"].iloc[i] - 1; # fib MC 2020 convention\n",
    "        alpha_bs = func_alpha_bs(data[\"class_C\"].iloc[i]);\n",
    "        eps_cbs0 = func_eps_cbs0(alpha_bs,data[\"fcm28\"].iloc[i]);\n",
    "        beta_bs = func_beta_bs(xi_bs2,t);\n",
    "\n",
    "        eps_cbs[i] = eps_cbs0*beta_bs;\n",
    "    \n",
    "    return eps_cbs"
   ]
  },
  {
   "cell_type": "code",
   "execution_count": 119,
   "id": "f1869291-a554-4197-9318-734bc8f691b6",
   "metadata": {},
   "outputs": [],
   "source": [
    "df[\"eps_cbs\"] = func_compute_basic_shrinkage(df);\n",
    "df = df.astype({\n",
    "    \"eps_cbs\": \"float\"\n",
    "});"
   ]
  },
  {
   "cell_type": "markdown",
   "id": "668a68c2-5f07-452b-919a-f83c3ceb99d8",
   "metadata": {},
   "source": [
    "##### Calculation of the basic shrinkage (prestressing to load application)"
   ]
  },
  {
   "cell_type": "code",
   "execution_count": 120,
   "id": "ccc99608-6104-4d04-8b91-5829cb087e23",
   "metadata": {},
   "outputs": [],
   "source": [
    "def func_compute_basic_shrinkage_prestress(data):\n",
    "\n",
    "    eps_cbs = np.zeros(data.shape[0]);\n",
    "    xi_bs2 = 1;\n",
    "    \n",
    "    for i in range(data.shape[0]):\n",
    "\n",
    "        # Computation of the total shrinkage; from pouring concrete to loading\n",
    "        t = data[\"t0\"].iloc[i] + data[\"t\"].iloc[i] - 1; # fib MC 2020 convention\n",
    "        alpha_bs = func_alpha_bs(data[\"class_C\"].iloc[i]);\n",
    "        eps_cbs0 = func_eps_cbs0(alpha_bs,data[\"fcm28\"].iloc[i]);\n",
    "        beta_bs = func_beta_bs(xi_bs2,t);\n",
    "\n",
    "        eps_cbs[i] = eps_cbs0*beta_bs;\n",
    "    \n",
    "    return eps_cbs"
   ]
  },
  {
   "cell_type": "code",
   "execution_count": 121,
   "id": "f7e165b1-08e1-43e1-b628-09142a0b73d6",
   "metadata": {},
   "outputs": [],
   "source": [
    "df[\"eps_cbs_prestress\"] = func_compute_basic_shrinkage_prestress(df);\n",
    "df = df.astype({\n",
    "    \"eps_cbs_prestress\": \"float\"\n",
    "});"
   ]
  },
  {
   "cell_type": "markdown",
   "id": "8df850b6-641a-441c-9b4c-179de8b47e4f",
   "metadata": {},
   "source": [
    "##### Calculation of the drying shrinkage"
   ]
  },
  {
   "cell_type": "code",
   "execution_count": 122,
   "id": "cf6a0865-57ee-4ab7-a79c-e638cb3a672e",
   "metadata": {},
   "outputs": [],
   "source": [
    "def func_alpha_ds1(class_conc):\n",
    "    if class_conc == \"CS\":\n",
    "        alpha_ds1 = 3;\n",
    "    elif class_conc == \"CN\":\n",
    "        alpha_ds1 = 4;\n",
    "    elif class_conc == \"CR\":\n",
    "        alpha_ds1 = 6;\n",
    "\n",
    "    return alpha_ds1"
   ]
  },
  {
   "cell_type": "code",
   "execution_count": 123,
   "id": "5b5ea45d-ed14-4144-96cc-a36b9b30152d",
   "metadata": {},
   "outputs": [],
   "source": [
    "def func_alpha_ds2(class_conc):\n",
    "    if class_conc == \"CS\":\n",
    "        alpha_ds2 = 0.013;\n",
    "    elif class_conc == \"CN\":\n",
    "        alpha_ds2 = 0.012;\n",
    "    elif class_conc == \"CR\":\n",
    "        alpha_ds2 = 0.012;\n",
    "\n",
    "    return alpha_ds2"
   ]
  },
  {
   "cell_type": "code",
   "execution_count": 124,
   "id": "761bde8f-03d6-445c-b60f-534168014034",
   "metadata": {},
   "outputs": [],
   "source": [
    "def func_eps_cds0(alpha_ds1,alpha_ds2,fcm):\n",
    "    return ( (220 + 110*alpha_ds1)*np.exp(-alpha_ds2*fcm) )*10**(-6);"
   ]
  },
  {
   "cell_type": "code",
   "execution_count": 125,
   "id": "b62ca99b-901e-41c8-a764-d3d3d3c6ec1f",
   "metadata": {},
   "outputs": [],
   "source": [
    "def func_RHeq(fcm):\n",
    "    return min(99*(35/fcm)**0.1 , 99);"
   ]
  },
  {
   "cell_type": "code",
   "execution_count": 126,
   "id": "9f30088f-d980-420b-a8cc-8e17af5f6703",
   "metadata": {},
   "outputs": [],
   "source": [
    "def func_betaRH(RH,RHeq):\n",
    "\n",
    "    if RH >= 20 and RH <= RHeq:\n",
    "        betaRH = -1.55*(1-(RH/RHeq)**3);\n",
    "        \n",
    "    elif RH >= RHeq and RH < 100:\n",
    "        betaRH = -1.55*(1-(RH/RHeq)**2);\n",
    "        print(betaRH)\n",
    "        \n",
    "    elif RH == 100:\n",
    "        betaRH = -1.55*(1-(RH/RHeq)**2) + 0.25;        \n",
    "    \n",
    "    return betaRH"
   ]
  },
  {
   "cell_type": "code",
   "execution_count": 127,
   "id": "e93b1168-8398-481b-8552-df4eb4844bba",
   "metadata": {},
   "outputs": [],
   "source": [
    "def func_beta_ds_delta_t(t,ts,xi_ds2,h0):\n",
    "    dt = t-ts;\n",
    "    return (dt/(0.035*xi_ds2*(h0**2) + dt))**0.5"
   ]
  },
  {
   "cell_type": "code",
   "execution_count": 128,
   "id": "206225c8-ddc4-4fcb-97c1-02e0e0ed5730",
   "metadata": {},
   "outputs": [],
   "source": [
    "def func_compute_drying_shrinkage(data):\n",
    "\n",
    "    eps_cds = np.zeros(data.shape[0]);\n",
    "    xi_ds2 = 1;\n",
    "    \n",
    "    for i in range(data.shape[0]):\n",
    "        t = data[\"t\"].iloc[i] + data[\"t0\"].iloc[i] - 1; # fib MC 2020 convention; total time, from pouring concrete until loading\n",
    "        t0 = data[\"t0\"].iloc[i]; # fib MC 2020 convention\n",
    "        \n",
    "        t0T = t0; # In case of lab conditions with temperature of 20 degrees\n",
    "        ts = data[\"ts\"].iloc[i];\n",
    "\n",
    "        alpha_ds1 = func_alpha_ds1(data[\"class_C\"].iloc[i]);\n",
    "        alpha_ds2 = func_alpha_ds2(data[\"class_C\"].iloc[i]);\n",
    "        h0 = func_compute_h0(data[\"b\"].iloc[i],data[\"h\"].iloc[i],data[\"Ac\"].iloc[i],Nint);\n",
    "        \n",
    "        ds_delta_t = func_beta_ds_delta_t(t,ts,xi_ds2,h0);\n",
    "\n",
    "        RHeq = func_RHeq(data[\"fcm28\"].iloc[i]);\n",
    "        betaRH = func_betaRH(data[\"RH\"].iloc[i],RHeq);\n",
    "        \n",
    "        eps_cds0 = func_eps_cds0(alpha_ds1,alpha_ds2,data[\"fcm28\"].iloc[i]);\n",
    "        eps_cds[i] = eps_cds0*betaRH*ds_delta_t;\n",
    "    \n",
    "    return eps_cds"
   ]
  },
  {
   "cell_type": "code",
   "execution_count": 129,
   "id": "c801482f-25d8-4ae0-ae10-826cc6cd0179",
   "metadata": {},
   "outputs": [],
   "source": [
    "df[\"eps_cds\"] = func_compute_drying_shrinkage(df);\n",
    "df = df.astype({\n",
    "    \"eps_cds\": \"float\"\n",
    "});"
   ]
  },
  {
   "cell_type": "markdown",
   "id": "fd3e47d9-51ec-4a76-9ed0-69623612642b",
   "metadata": {},
   "source": [
    "##### Calculation of the drying shrinkage (prestress)"
   ]
  },
  {
   "cell_type": "code",
   "execution_count": 130,
   "id": "83a2fc68-0e0a-48e1-82a9-b05f844f440d",
   "metadata": {},
   "outputs": [],
   "source": [
    "def func_compute_drying_shrinkage_prestress(data):\n",
    "\n",
    "    eps_cds = np.zeros(data.shape[0]);\n",
    "    xi_ds2 = 1;\n",
    "    \n",
    "    for i in range(data.shape[0]):\n",
    "        t = data[\"t\"].iloc[i] + data[\"t0\"].iloc[i] - 1; # fib MC 2020 convention; total time, from pouring concrete until loading\n",
    "        t0 = data[\"t0p\"].iloc[i]; # fib MC 2020 convention\n",
    "        \n",
    "        t0T = t0; # In case of lab conditions with temperature of 20 degrees\n",
    "        ts = data[\"ts\"].iloc[i];\n",
    "\n",
    "        alpha_ds1 = func_alpha_ds1(data[\"class_C\"].iloc[i]);\n",
    "        alpha_ds2 = func_alpha_ds2(data[\"class_C\"].iloc[i]);\n",
    "        h0 = func_compute_h0(data[\"b\"].iloc[i],data[\"h\"].iloc[i],data[\"Ac\"].iloc[i],Nint);\n",
    "        \n",
    "        ds_delta_t = func_beta_ds_delta_t(t,ts,xi_ds2,h0);\n",
    "\n",
    "        RHeq = func_RHeq(data[\"fcm28\"].iloc[i]);\n",
    "        betaRH = func_betaRH(data[\"RH\"].iloc[i],RHeq);\n",
    "        \n",
    "        eps_cds0 = func_eps_cds0(alpha_ds1,alpha_ds2,data[\"fcm28\"].iloc[i]);\n",
    "        eps_cds[i] = eps_cds0*betaRH*ds_delta_t;\n",
    "    \n",
    "    return eps_cds"
   ]
  },
  {
   "cell_type": "code",
   "execution_count": 131,
   "id": "189b3c68-ed6e-4bd8-baca-dbe01ce6a095",
   "metadata": {},
   "outputs": [],
   "source": [
    "df[\"eps_cds_prestress\"] = func_compute_drying_shrinkage_prestress(df);\n",
    "df = df.astype({\n",
    "    \"eps_cds_prestress\": \"float\"\n",
    "});"
   ]
  },
  {
   "cell_type": "markdown",
   "id": "dacd6081-8439-41df-a18f-1df10b4f5071",
   "metadata": {},
   "source": [
    "##### Total shrinkage"
   ]
  },
  {
   "cell_type": "code",
   "execution_count": 132,
   "id": "7a1681f3-0ca1-4ad8-bbdd-80981f92b459",
   "metadata": {},
   "outputs": [],
   "source": [
    "xi_bs1 = 1;\n",
    "xi_ds1 = 1;\n",
    "\n",
    "df[\"shrinkage\"] = xi_bs1*df[\"eps_cbs\"] + xi_ds1*df[\"eps_cds\"]; # Shrinkage from pouring concrete until loading in element setup\n",
    "df[\"shrinkage_prestress\"] = xi_bs1*df[\"eps_cbs_prestress\"] + xi_ds1*df[\"eps_cds_prestress\"];"
   ]
  },
  {
   "cell_type": "markdown",
   "id": "3e6601ab-d4a8-4e3f-b0d5-2ebb3d4bb52e",
   "metadata": {},
   "source": [
    "#### Initial shrinkage"
   ]
  },
  {
   "cell_type": "code",
   "execution_count": 133,
   "id": "364348f1-3ac5-41cb-b4d2-040765fca0dc",
   "metadata": {},
   "outputs": [],
   "source": [
    "def func_compute_initial_shrinkage(data):\n",
    "    # Function to compute the initial shrinkage\n",
    "    initshrink = np.zeros(data.shape[0]);\n",
    "\n",
    "    for i in range(data.shape[0]):\n",
    "        if data[\"epsc\"].iloc[i] < tol:    # Address unknown values of the initial shrinkage: impute them\n",
    "            if data[\"t\"].iloc[i] < timecutoff:\n",
    "                initshrink[i] = data[\"shrinkage\"].iloc[i];\n",
    "            elif data[\"t\"].iloc[i] >= timecutoff:\n",
    "                if data[\"ELID\"].iloc[i] == \"C210\":\n",
    "                    initshrink[i] = data.loc[((data['ELID']== \"C210\") & (data['LOADID']==1))][[\"shrinkage\"]].values[0,0];\n",
    "                elif data[\"ELID\"].iloc[i] == \"C211\":\n",
    "                    initshrink[i] = data.loc[((data['ELID']== \"C211\") & (data['LOADID']==1))][[\"shrinkage\"]].values[0,0];\n",
    "                elif data[\"ELID\"].iloc[i] == \"C212\":\n",
    "                    initshrink[i] = data.loc[((data['ELID']== \"C212\") & (data['LOADID']==1))][[\"shrinkage\"]].values[0,0];\n",
    "                elif data[\"ELID\"].iloc[i] == \"C213\":\n",
    "                    initshrink[i] = data.loc[((data['ELID']== \"C213\") & (data['LOADID']==1))][[\"shrinkage\"]].values[0,0];\n",
    "                elif data[\"ELID\"].iloc[i] == \"C214\":\n",
    "                    initshrink[i] = data.loc[((data['ELID']== \"C214\") & (data['LOADID']==1))][[\"shrinkage\"]].values[0,0];\n",
    "                elif data[\"ELID\"].iloc[i] == \"C216\":\n",
    "                    initshrink[i] = data.loc[((data['ELID']== \"C216\") & (data['LOADID']==1))][[\"shrinkage\"]].values[0,0];\n",
    "                elif data[\"ELID\"].iloc[i] == \"C218\":\n",
    "                    initshrink[i] = data.loc[((data['ELID']== \"C218\") & (data['LOADID']==1))][[\"shrinkage\"]].values[0,0];\n",
    "\n",
    "                elif data[\"ELID\"].iloc[i] == \"LTN12A\":\n",
    "                    initshrink[i] = data.loc[((data['ELID']== \"LTN12A\") & (data['LOADID']==1))][[\"shrinkage\"]].values[0,0];\n",
    "                elif data[\"ELID\"].iloc[i] == \"LTN12B\":\n",
    "                    initshrink[i] = data.loc[((data['ELID']== \"LTN12B\") & (data['LOADID']==1))][[\"shrinkage\"]].values[0,0];\n",
    "                elif data[\"ELID\"].iloc[i] == \"LTN12C\":\n",
    "                    initshrink[i] = data.loc[((data['ELID']== \"LTN12C\") & (data['LOADID']==1))][[\"shrinkage\"]].values[0,0];\n",
    "                elif data[\"ELID\"].iloc[i] == \"LTN12D\":\n",
    "                    initshrink[i] = data.loc[((data['ELID']== \"LTN12D\") & (data['LOADID']==1))][[\"shrinkage\"]].values[0,0];\n",
    "                elif data[\"ELID\"].iloc[i] == \"SLTN4-12A\":\n",
    "                    initshrink[i] = data.loc[((data['ELID']== \"SLTN4-12A\") & (data['LOADID']==1))][[\"shrinkage\"]].values[0,0];\n",
    "                elif data[\"ELID\"].iloc[i] == \"SLTN4-12B\":\n",
    "                    initshrink[i] = data.loc[((data['ELID']== \"SLTN4-12B\") & (data['LOADID']==1))][[\"shrinkage\"]].values[0,0];\n",
    "\n",
    "        # Impute for known initial shrinkage values\n",
    "        else:\n",
    "            if data[\"t\"].iloc[i] < timecutoff: # To make sure that only short-term loaded elements are included (t=1).\n",
    "                initshrink[i] = -(10**-6)*data[\"epsc\"].iloc[i];\n",
    "            elif data[\"t\"].iloc[i] >= timecutoff:\n",
    "                if data[\"ELID\"].iloc[i] == \"C210\":\n",
    "                    initshrink[i] = -(10**-6)*data.loc[((data['ELID']== \"C210\") & (data['LOADID']==1))][[\"epsc\"]].values[0,0];\n",
    "                elif data[\"ELID\"].iloc[i] == \"C211\":\n",
    "                    initshrink[i] = -(10**-6)*data.loc[((data['ELID']== \"C211\") & (data['LOADID']==1))][[\"epsc\"]].values[0,0];\n",
    "                elif data[\"ELID\"].iloc[i] == \"C212\":\n",
    "                    initshrink[i] = -(10**-6)*data.loc[((data['ELID']== \"C212\") & (data['LOADID']==1))][[\"epsc\"]].values[0,0];\n",
    "                elif data[\"ELID\"].iloc[i] == \"C213\":\n",
    "                    initshrink[i] = -(10**-6)*data.loc[((data['ELID']== \"C213\") & (data['LOADID']==1))][[\"epsc\"]].values[0,0];\n",
    "                elif data[\"ELID\"].iloc[i] == \"C214\":\n",
    "                    initshrink[i] = -(10**-6)*data.loc[((data['ELID']== \"C214\") & (data['LOADID']==1))][[\"epsc\"]].values[0,0];\n",
    "                elif data[\"ELID\"].iloc[i] == \"C216\":\n",
    "                    initshrink[i] = -(10**-6)*data.loc[((data['ELID']== \"C216\") & (data['LOADID']==1))][[\"epsc\"]].values[0,0];\n",
    "                elif data[\"ELID\"].iloc[i] == \"C218\":\n",
    "                    initshrink[i] = -(10**-6)*data.loc[((data['ELID']== \"C218\") & (data['LOADID']==1))][[\"epsc\"]].values[0,0];\n",
    "\n",
    "                elif data[\"ELID\"].iloc[i] == \"LTN12A\":\n",
    "                    initshrink[i] = -(10**-6)*data.loc[((data['ELID']== \"LTN12A\") & (data['LOADID']==1))][[\"epsc\"]].values[0,0];\n",
    "                elif data[\"ELID\"].iloc[i] == \"LTN12B\":\n",
    "                    initshrink[i] = -(10**-6)*data.loc[((data['ELID']== \"LTN12B\") & (data['LOADID']==1))][[\"epsc\"]].values[0,0];\n",
    "                elif data[\"ELID\"].iloc[i] == \"LTN12C\":\n",
    "                    initshrink[i] = -(10**-6)*data.loc[((data['ELID']== \"LTN12C\") & (data['LOADID']==1))][[\"epsc\"]].values[0,0];\n",
    "                elif data[\"ELID\"].iloc[i] == \"LTN12D\":\n",
    "                    initshrink[i] = -(10**-6)*data.loc[((data['ELID']== \"LTN12D\") & (data['LOADID']==1))][[\"epsc\"]].values[0,0];\n",
    "                elif data[\"ELID\"].iloc[i] == \"SLTN4-12A\":\n",
    "                    initshrink[i] = -(10**-6)*data.loc[((data['ELID']== \"SLTN4-12A\") & (data['LOADID']==1))][[\"epsc\"]].values[0,0];\n",
    "                elif data[\"ELID\"].iloc[i] == \"SLTN4-12B\":\n",
    "                    initshrink[i] = -(10**-6)*data.loc[((data['ELID']== \"SLTN4-12B\") & (data['LOADID']==1))][[\"epsc\"]].values[0,0];\n",
    "    \n",
    "    return initshrink"
   ]
  },
  {
   "cell_type": "code",
   "execution_count": 134,
   "id": "48a9b0e9-1fc6-4330-9779-7b912ccbff50",
   "metadata": {},
   "outputs": [],
   "source": [
    "df[\"shrinkage_init\"] = func_compute_initial_shrinkage(df);\n",
    "df = df.astype({\n",
    "    \"shrinkage_init\": \"float\"\n",
    "});"
   ]
  },
  {
   "cell_type": "markdown",
   "id": "4279bd49-1c1b-40a8-95c5-a91404080fe4",
   "metadata": {},
   "source": [
    "#### Bond conditions"
   ]
  },
  {
   "cell_type": "code",
   "execution_count": 135,
   "id": "80c4c831-0df6-4b56-8041-804180a89634",
   "metadata": {},
   "outputs": [],
   "source": [
    "def func_determine_bond_cond(data):\n",
    "\n",
    "    bondLR = np.zeros((data.shape[0],Ncond)); # 1 = good bond, 2 = bad bond\n",
    "    bondPR = np.zeros((data.shape[0],Ncond)); # 1 = good bond, 2 = bad bond\n",
    "\n",
    "    bondLRexp = np.zeros(data.shape[0]);\n",
    "    bondPRexp = np.zeros(data.shape[0]);\n",
    "    \n",
    "    for i in range(data.shape[0]):\n",
    "        if data[\"Astot\"].iloc[i] > tol:\n",
    "            if data[\"pd\"].iloc[i] == 1: # Elements are parallel to concreting\n",
    "                bondLR[i,0:data[\"indLR\"].iloc[i]+1] = 2;\n",
    "            elif data[\"pd\"].iloc[i] == 2: # Elements perpendicular to concreting\n",
    "                for j in range(data[\"indLR\"].iloc[i]+1):\n",
    "                    if data[\"h\"].iloc[i] > 300 and data[\"h\"].iloc[i] - zs[i,j] > 300:\n",
    "                        bondLR[i,0:data[\"indLR\"].iloc[i]+1] = 2;\n",
    "                    else:\n",
    "                        bondLR[i,0:data[\"indLR\"].iloc[i]+1] = 1;\n",
    "            else: # In case the pouring direction is unknown, assume that elements are poured perpendicular to concreting\n",
    "                for j in range(data[\"indLR\"].iloc[i]+1):\n",
    "                    if data[\"h\"].iloc[i] > 300 and data[\"h\"].iloc[i] - zs[i,j] > 300:\n",
    "                        bondLR[i,0:data[\"indLR\"].iloc[i]+1] = 2;\n",
    "                    else:\n",
    "                        bondLR[i,0:data[\"indLR\"].iloc[i]+1] = 1;\n",
    "\n",
    "        else:\n",
    "            if data[\"pd\"].iloc[i] == 1: # Elements are parallel to concreting\n",
    "                bondPR[i,0:data[\"indNP\"].iloc[i]+1] = 2;\n",
    "            elif data[\"pd\"].iloc[i] == 2: # Elements perpendicular to concreting\n",
    "                for j in range(data[\"indNP\"].iloc[i]+1):\n",
    "                    if data[\"h\"].iloc[i] > 300 and data[\"h\"].iloc[i] - zp[i,j] > 300:\n",
    "                        \n",
    "                        bondPR[i,0:data[\"indNP\"].iloc[i]+1] = 2;\n",
    "                    else:\n",
    "                        bondPR[i,0:data[\"indNP\"].iloc[i]+1] = 1;\n",
    "            else:\n",
    "                for j in range(data[\"indNP\"].iloc[i]+1):\n",
    "                    if data[\"h\"].iloc[i] > 300 and data[\"h\"].iloc[i] - zp[i,j] > 300:\n",
    "                        bondPR[i,0:data[\"indNP\"].iloc[i]+1] = 2;\n",
    "                    else:\n",
    "                        bondPR[i,0:data[\"indNP\"].iloc[i]+1] = 1;\n",
    "        \n",
    "        bondLRexp[i] = bondLR[i,data[\"indLR\"].iloc[i]];\n",
    "        bondPRexp[i] = bondPR[i,data[\"indNP\"].iloc[i]];    \n",
    "\n",
    "    return bondLRexp, bondPRexp"
   ]
  },
  {
   "cell_type": "code",
   "execution_count": 136,
   "id": "d64f994b-c3ec-4a47-b12e-909b27306d8c",
   "metadata": {},
   "outputs": [],
   "source": [
    "df[\"bondLR\"] = func_determine_bond_cond(df)[0]; # The lowest reinforcing bar is used to calculate crack widths\n",
    "df[\"bondPR\"] = func_determine_bond_cond(df)[1]; # The lowest tendon is used to calculate crack widths\n",
    "df = df.astype({\n",
    "    \"bondLR\": \"int\",\n",
    "    \"bondPR\": \"int\"\n",
    "});"
   ]
  },
  {
   "cell_type": "markdown",
   "id": "a13628cb-6303-4450-b138-6dadfc4e8c34",
   "metadata": {},
   "source": [
    "### 05.06 - Functions to extract properties reinforcing steel - longitudinal direction"
   ]
  },
  {
   "cell_type": "markdown",
   "id": "d7dcb59b-06bf-4fd3-baf4-4a4af155fb53",
   "metadata": {},
   "source": [
    "#### Imputation of the yield strength"
   ]
  },
  {
   "cell_type": "code",
   "execution_count": 137,
   "id": "a432d94f-0daa-4a5e-88a2-e50c48f4f852",
   "metadata": {},
   "outputs": [],
   "source": [
    "def func_cal_fy(data):\n",
    "    fy = np.zeros(data.shape[0]);\n",
    "\n",
    "    for i in range(data.shape[0]):\n",
    "        if data[\"fy\"].iloc[i] > tol:\n",
    "            fy[i] = data[\"fy\"].iloc[i];\n",
    "            \n",
    "        elif data[\"fy\"].iloc[i] < tol and phi[i,0] > tol:\n",
    "            fy[i] = 500;\n",
    "            \n",
    "    return fy"
   ]
  },
  {
   "cell_type": "code",
   "execution_count": 138,
   "id": "468630d2-1f84-498b-8cd5-67643369a63b",
   "metadata": {},
   "outputs": [],
   "source": [
    "df[\"fy\"] = func_cal_fy(df);\n",
    "df = df.astype({\n",
    "    \"fy\": \"float\"\n",
    "});"
   ]
  },
  {
   "cell_type": "markdown",
   "id": "10478efe-7f6e-4f9a-bdb2-e82726fb18f3",
   "metadata": {},
   "source": [
    "#### Imputation of the youngs modulus of reinforcing steel"
   ]
  },
  {
   "cell_type": "code",
   "execution_count": 139,
   "id": "6492e0a0-8ba1-4656-9a79-f8c1ef0a5a27",
   "metadata": {},
   "outputs": [],
   "source": [
    "def func_cal_Es(data):\n",
    "    Es = np.zeros(data.shape[0]);\n",
    "    \n",
    "    for i in range(data.shape[0]):\n",
    "        if data[\"Es\"].iloc[i] != 0:\n",
    "            Es[i] = data[\"Es\"].iloc[i];\n",
    "        else:\n",
    "            Es[i] = 200000;\n",
    "            \n",
    "    return Es"
   ]
  },
  {
   "cell_type": "code",
   "execution_count": 140,
   "id": "28587d33-06ed-4044-9753-3d48f6756fcd",
   "metadata": {},
   "outputs": [],
   "source": [
    "df[\"Es\"] = func_cal_Es(df);\n",
    "df = df.astype({\n",
    "    \"Es\": \"float\"\n",
    "});"
   ]
  },
  {
   "cell_type": "markdown",
   "id": "76f8a804-005d-4970-a9ff-f54555094433",
   "metadata": {},
   "source": [
    "#### Imputation of the youngs modulus of prestressing steel"
   ]
  },
  {
   "cell_type": "code",
   "execution_count": 141,
   "id": "f7835562-aeed-4fae-b7d0-67cd6cf404fb",
   "metadata": {},
   "outputs": [],
   "source": [
    "def func_cal_Ep(data,npl):\n",
    "    Ep = np.zeros(data.shape[0]);\n",
    "    \n",
    "    for i in range(data.shape[0]):\n",
    "        if data[\"Ep\"].iloc[i] > tol:\n",
    "            Ep[i] = data[\"Ep\"].iloc[i];\n",
    "            \n",
    "        else:\n",
    "            if npl[i,0] > tol and data[\"EPID\"].iloc[i] == 8:\n",
    "                Ep[i] = 205000; # Since it seems that the youngs modulus for the bars is closer to 205 GPa, instead of 165 GPa\n",
    "                # and 205 GPa is also used for single wires\n",
    "                \n",
    "            elif npl[i,0] > tol and data[\"EPID\"].iloc[i] == 9:\n",
    "                Ep[i] = 195000; # For strands\n",
    "\n",
    "            elif npl[i,0] > tol and data[\"EPID\"].iloc[i] == 14:\n",
    "                Ep[i] = 195000; # For strands\n",
    "            \n",
    "            elif npl[i,0] > tol and data[\"EPID\"].iloc[i] == 17:\n",
    "                Ep[i] = 195000; # For strands\n",
    "\n",
    "            elif npl[i,0] > tol and data[\"EPID\"].iloc[i] == 20: \n",
    "                Ep[i] = 205000; # For single wires\n",
    "            \n",
    "            else:\n",
    "                Ep[i] = 0;\n",
    "    \n",
    "    return Ep"
   ]
  },
  {
   "cell_type": "code",
   "execution_count": 142,
   "id": "88c50f05-7a6f-4dba-89dc-939f9051cab2",
   "metadata": {},
   "outputs": [],
   "source": [
    "df[\"Ep\"] = func_cal_Ep(df,npl);\n",
    "df = df.astype({\n",
    "    \"Ep\": \"float\"\n",
    "});"
   ]
  },
  {
   "cell_type": "markdown",
   "id": "f583ff99-138d-4d52-a56b-038b5a37f0b8",
   "metadata": {},
   "source": [
    "#### Computation of ae en ap"
   ]
  },
  {
   "cell_type": "code",
   "execution_count": 143,
   "id": "bb361e9c-7ff3-4b65-b86c-2f4584a73dfe",
   "metadata": {},
   "outputs": [],
   "source": [
    "def func_cal_ae(data):\n",
    "    ae = data[\"Es\"]/data[\"Ecm\"]\n",
    "    return ae"
   ]
  },
  {
   "cell_type": "code",
   "execution_count": 144,
   "id": "69ffeb60-e6fb-4dbc-9f6f-88fd29661fcf",
   "metadata": {},
   "outputs": [],
   "source": [
    "def func_cal_ap(data):\n",
    "    ap = data[\"Ep\"]/data[\"Ecm\"]\n",
    "    return ap"
   ]
  },
  {
   "cell_type": "code",
   "execution_count": 145,
   "id": "acd310c0-af3e-4806-a6bd-3651bceb8eba",
   "metadata": {},
   "outputs": [],
   "source": [
    "df[\"ae\"] = func_cal_ae(df);\n",
    "df[\"ap\"] = func_cal_ap(df);\n",
    "df = df.astype({\n",
    "    \"ae\": \"float\",\n",
    "    \"ap\": \"float\"\n",
    "});"
   ]
  },
  {
   "cell_type": "markdown",
   "id": "60d8bf10-a5c5-4aa1-b5c6-608debc27604",
   "metadata": {},
   "source": [
    "#### Horizontal spacing"
   ]
  },
  {
   "cell_type": "code",
   "execution_count": 146,
   "id": "761e10b9-3bf4-4066-b1c6-47ac9cb1b87a",
   "metadata": {},
   "outputs": [],
   "source": [
    "exceptlist = [\"R18\",\"R21\",\"T16\"];"
   ]
  },
  {
   "cell_type": "code",
   "execution_count": 147,
   "id": "ff981404-528b-4f57-ab4e-9b9d14075797",
   "metadata": {},
   "outputs": [],
   "source": [
    "# Horizontal spacing\n",
    "def func_cal_spac(data):\n",
    "    \n",
    "    spac = np.zeros(data.shape[0]);\n",
    "    spac_press = np.zeros(data.shape[0]);\n",
    "    \n",
    "    for i in range(data.shape[0]):\n",
    "\n",
    "        if data[\"ELID\"].iloc[i] not in exceptlist:\n",
    "            b =  float(func_extract_width(zs[i,data[\"indLR\"].iloc[i]],data[\"b\"].iloc[i]));\n",
    "        \n",
    "            if nbl[i,data[\"indLR\"].iloc[i]] > 0:\n",
    "                # Case: bottom layer contains a single diameter\n",
    "                if zs[i,data[\"indLR\"].iloc[i]] - nbl[i,data[\"indLR\"].iloc[i]-1] < tol and nbl[i,data[\"indLR\"].iloc[i]-1] > 0:\n",
    "                    if nbl[i,data[\"indLR\"].iloc[i]] > 1: # Multiple bars within a layer\n",
    "                        spac[i] = (b - 2*clat[i,data[\"indLR\"].iloc[i]] - phi[i,data[\"indLR\"].iloc[i]])/ \\\n",
    "                            ((nbl[i,data[\"indLR\"].iloc[i]]) + (nbl[i,data[\"indLR\"].iloc[i]-1]) - 1);  \n",
    "                # Case: multiple bars within a layer\n",
    "                elif nbl[i,data[\"indLR\"].iloc[i]] > 1:\n",
    "                    spac[i] = (b - 2*clat[i,data[\"indLR\"].iloc[i]] - phi[i,data[\"indLR\"].iloc[i]])/(nbl[i,data[\"indLR\"].iloc[i]]-1);\n",
    "                elif nbl[i,data[\"indLR\"].iloc[i]] == 1:\n",
    "                    spac[i] = b;\n",
    "\n",
    "            if npl[i,data[\"indNP\"].iloc[i]] > 0:\n",
    "                # Case: bottom layer contains a single diameter\n",
    "                if zp[i,data[\"indNP\"].iloc[i]] - npl[i,data[\"indNP\"].iloc[i]-1] < tol and npl[i,data[\"indNP\"].iloc[i]-1] > 0:\n",
    "                    if npl[i,data[\"indNP\"].iloc[i]] > 1: # Multiple bars within a layer\n",
    "                        spac_press[i] = (b - 2*cplat[i,data[\"indNP\"].iloc[i]] - phip[i,data[\"indNP\"].iloc[i]])/ \\\n",
    "                            ((npl[i,data[\"indNP\"].iloc[i]]) + (npl[i,data[\"indNP\"].iloc[i]-1]) - 1);  \n",
    "                # Case: multiple bars within a layer\n",
    "                elif npl[i,data[\"indNP\"].iloc[i]] > 1:\n",
    "                    spac_press[i] = (b - 2*cplat[i,data[\"indNP\"].iloc[i]] - phip[i,data[\"indNP\"].iloc[i]])/(npl[i,data[\"indNP\"].iloc[i]]-1);\n",
    "                elif npl[i,data[\"indNP\"].iloc[i]] == 1:\n",
    "                    spac_press[i] = b;        \n",
    "\n",
    "        # Below: custom elements, different diameters within a single layer\n",
    "        elif data[\"ELID\"].iloc[i] == \"R18\":\n",
    "            b =  float(func_extract_width(zs[i,data[\"indLR\"].iloc[i]],data[\"b\"].iloc[i]));\n",
    "            spac[i] = (b - 2*clat[i,data[\"indLR\"].iloc[i]] - phi[i,data[\"indLR\"].iloc[i]])/(2);\n",
    "            \n",
    "        elif data[\"ELID\"].iloc[i] == \"R21\":\n",
    "            b =  float(func_extract_width(zs[i,data[\"indLR\"].iloc[i]],data[\"b\"].iloc[i]));\n",
    "            spac[i] = (b - 2*clat[i,data[\"indLR\"].iloc[i]] - phi[i,data[\"indLR\"].iloc[i]])/(2);\n",
    "            \n",
    "        elif data[\"ELID\"].iloc[i] == \"T16\":\n",
    "            b =  float(func_extract_width(zs[i,data[\"indLR\"].iloc[i]],data[\"b\"].iloc[i]));\n",
    "            spac[i] = (b - 2*clat[i,data[\"indLR\"].iloc[i]] - phi[i,data[\"indLR\"].iloc[i]])/(2);\n",
    "\n",
    "    return spac, spac_press"
   ]
  },
  {
   "cell_type": "code",
   "execution_count": 148,
   "id": "67d28a74-89cc-442d-915d-3ac20e76b533",
   "metadata": {},
   "outputs": [],
   "source": [
    "df[\"sxLR\"], df[\"sxNP\"] = func_cal_spac(df); # The lowest layer is used (reinforcing steel)"
   ]
  },
  {
   "cell_type": "code",
   "execution_count": 149,
   "id": "a3a6ee3e-3065-4080-ad15-ad760695924c",
   "metadata": {},
   "outputs": [],
   "source": [
    "def func_cal_spac_all(data):\n",
    "\n",
    "    spac = np.zeros((data.shape[0],Ncond));\n",
    "\n",
    "    for i in range(data.shape[0]):\n",
    "        \n",
    "        if data[\"ELID\"].iloc[i] not in exceptlist:\n",
    "            for j in range(Ncond):\n",
    "                b =  float(func_extract_width(zs[i,j],data[\"b\"].iloc[i]));\n",
    "                if nbl[i,j] > 1:\n",
    "                    spac[i,j] = (b - 2*clat[i,j] - phi[i,j])/(nbl[i,j]-1);\n",
    "                elif nbl[i,j] == 1:\n",
    "                    spac[i,j] = b;\n",
    "                else:\n",
    "                    spac[i,j] = 0;\n",
    "\n",
    "        elif data[\"ELID\"].iloc[i] == \"R18\":\n",
    "            b =  float(func_extract_width(zs[i,data[\"indLR\"].iloc[i]],data[\"b\"].iloc[i]));\n",
    "            spac[i,0] = (b - 2*clat[i,0] - phi[i,0])/(nbl[i,0]-1);\n",
    "            spac[i,1] = (b - 2*clat[i,1] - phi[i,1])/(nbl[i,1]-1);\n",
    "            spac[i,2] = (b - 2*clat[i,2] - phi[i,2])/(2);\n",
    "            spac[i,3] = (b - 2*clat[i,2] - phi[i,2])/(2);\n",
    "            \n",
    "        elif data[\"ELID\"].iloc[i] == \"R21\":\n",
    "            b =  float(func_extract_width(zs[i,data[\"indLR\"].iloc[i]],data[\"b\"].iloc[i]));\n",
    "            spac[i,0] = (b - 2*clat[i,0] - phi[i,0])/(nbl[i,0]-1);\n",
    "            spac[i,1] = (b - 2*clat[i,1] - phi[i,1])/(2);\n",
    "            spac[i,2] = (b - 2*clat[i,1] - phi[i,1])/(2);\n",
    "            \n",
    "        elif data[\"ELID\"].iloc[i] == \"T16\":\n",
    "            b =  float(func_extract_width(zs[i,data[\"indLR\"].iloc[i]],data[\"b\"].iloc[i]));\n",
    "            spac[i,0] = (b - 2*clat[i,0] - phi[i,0])/(nbl[i,0]-1);\n",
    "            spac[i,1] = (b - 2*clat[i,1] - phi[i,1])/(2);\n",
    "            spac[i,2] = (b - 2*clat[i,1] - phi[i,1])/(2);\n",
    "    \n",
    "    return spac"
   ]
  },
  {
   "cell_type": "code",
   "execution_count": 150,
   "id": "6471b348-abfb-4a60-96a2-27cc96819c6f",
   "metadata": {},
   "outputs": [],
   "source": [
    "spacall = func_cal_spac_all(df);"
   ]
  },
  {
   "cell_type": "markdown",
   "id": "d92b0ebc-be37-481b-ae23-441960441563",
   "metadata": {},
   "source": [
    "#### Centre of gravity of longitudinal reinforcing steel (based on all reinforcing steel layers)"
   ]
  },
  {
   "cell_type": "code",
   "execution_count": 151,
   "id": "7f1c0905-a48b-4026-ac27-8d8e879c74e5",
   "metadata": {},
   "outputs": [],
   "source": [
    "def func_cal_zstot(data):\n",
    "    Aslayer = np.zeros((data.shape[0],Ncond)); # Storage for reinforcing area, for each layer\n",
    "    zstot = np.zeros(data.shape[0]);\n",
    "    Aszstemp = np.zeros((data.shape[0],Ncond));\n",
    "    \n",
    "    for i in range(data.shape[0]):\n",
    "        for j in range(Ncond):\n",
    "            Aslayer[i,j] = nbl[i,j]*(1/4)*np.pi*(phi[i,j]**2);\n",
    "            Aszstemp[i,j] = zs[i,j]*Aslayer[i,j];\n",
    "\n",
    "        if data[\"Astot\"].iloc[i] > 0:\n",
    "            zstot[i] = sum(Aszstemp[i,:])/data[\"Astot\"].iloc[i];\n",
    "\n",
    "    return zstot, Aslayer"
   ]
  },
  {
   "cell_type": "code",
   "execution_count": 152,
   "id": "49963a52-b93b-4605-b9aa-515110434944",
   "metadata": {},
   "outputs": [],
   "source": [
    "df[\"zstot\"] = func_cal_zstot(df)[0];\n",
    "df = df.astype({\n",
    "    \"zstot\": \"float\"\n",
    "});"
   ]
  },
  {
   "cell_type": "code",
   "execution_count": 153,
   "id": "20c8f266-45bc-4666-ba00-d25549541aeb",
   "metadata": {},
   "outputs": [],
   "source": [
    "Aslayer = func_cal_zstot(df)[1];"
   ]
  },
  {
   "cell_type": "markdown",
   "id": "ab51d05c-6bd3-40a5-b1c0-892ea2db2153",
   "metadata": {},
   "source": [
    "#### Centre of gravity of longitudinal reinforcing steel (tension reinforcement only - initial)"
   ]
  },
  {
   "cell_type": "markdown",
   "id": "f5743e12-5091-40c6-bc54-1eaf8f012307",
   "metadata": {},
   "source": [
    "Assumption for the determination of the compression reinforcement: layers where z > 0.5*h (for elements loaded in bending and/or subjected to prestressing)."
   ]
  },
  {
   "cell_type": "code",
   "execution_count": 154,
   "id": "03fe6d76-3c9e-4c35-8efa-76eef85a4f2e",
   "metadata": {},
   "outputs": [],
   "source": [
    "def func_cal_zstens_init(data):\n",
    "    Aslayer = np.zeros((data.shape[0],Ncond)); # Storage for reinforcing area, for each layer\n",
    "    zstens = np.zeros(data.shape[0]);\n",
    "    Aszstemp = np.zeros((data.shape[0],Ncond));\n",
    "\n",
    "    Astens = np.zeros(data.shape[0]);\n",
    "    \n",
    "    for i in range(data.shape[0]):\n",
    "        if data[\"epsin\"].iloc[i] == str(2) or data[\"epsin\"].iloc[i] == str(3):\n",
    "        \n",
    "            for j in range(Ncond):\n",
    "                if zs[i,j] - tol > data[\"h\"].iloc[i]/2:\n",
    "                    Aslayer[i,j] = nbl[i,j]*(1/4)*np.pi*(phi[i,j]**2);\n",
    "                    Aszstemp[i,j] = zs[i,j]*Aslayer[i,j];\n",
    "    \n",
    "            Astens[i] = sum(Aslayer[i,:]);\n",
    "    \n",
    "            if Astens[i] > 0:\n",
    "                zstens[i] = sum(Aszstemp[i,:])/Astens[i];\n",
    "\n",
    "    return zstens, Astens"
   ]
  },
  {
   "cell_type": "code",
   "execution_count": 155,
   "id": "79da1e71-a59a-4963-811a-3cb541a2622d",
   "metadata": {},
   "outputs": [],
   "source": [
    "df[\"zstensinit\"],df[\"Astensinit\"] = func_cal_zstens_init(df);\n",
    "df = df.astype({\n",
    "    \"zstensinit\": \"float\",\n",
    "    \"Astensinit\": \"float\"\n",
    "});"
   ]
  },
  {
   "cell_type": "markdown",
   "id": "c1b99613-600a-4891-8094-023ebc58f46d",
   "metadata": {},
   "source": [
    "#### Computation of total reinforcing ratio"
   ]
  },
  {
   "cell_type": "markdown",
   "id": "d1711ab3-4a55-490c-95c7-2a2e5b4e9e39",
   "metadata": {},
   "source": [
    "This is the total reinforcing ratio, including compression reinforcement."
   ]
  },
  {
   "cell_type": "code",
   "execution_count": 156,
   "id": "7fabfc6f-52f9-45bb-8fd7-5b1b7ff26bdf",
   "metadata": {},
   "outputs": [],
   "source": [
    "def func_cal_rhotot(data):\n",
    "    rhotot = np.zeros(data.shape[0]);\n",
    "\n",
    "    for i in range(data.shape[0]):\n",
    "\n",
    "        if data[\"epsin\"].iloc[i] == str(\"1a\"):\n",
    "        \n",
    "            if data[\"Astot\"].iloc[i] > tol:\n",
    "                rhotot[i] = data[\"Astot\"].iloc[i] / data[\"Ac\"].iloc[i];\n",
    "        else:\n",
    "            if data[\"Astot\"].iloc[i] > tol:\n",
    "                Ac = quad(func_extract_width,0,data[\"zstot\"].iloc[i],args=(data[\"b\"].iloc[i]))[0];\n",
    "                rhotot[i] = data[\"Astot\"].iloc[i] / Ac;\n",
    "    \n",
    "    return rhotot"
   ]
  },
  {
   "cell_type": "code",
   "execution_count": 157,
   "id": "fcfe73d5-b8ba-4b09-8bf1-29acd2a95565",
   "metadata": {},
   "outputs": [],
   "source": [
    "df[\"rhotot\"] = func_cal_rhotot(df);\n",
    "df = df.astype({\n",
    "    \"rhotot\": \"float\"\n",
    "});"
   ]
  },
  {
   "cell_type": "markdown",
   "id": "61d16178-a57e-4927-aedc-6d0132d636db",
   "metadata": {},
   "source": [
    "#### Computation of reinforcing ratio based on tension reinforcement"
   ]
  },
  {
   "cell_type": "code",
   "execution_count": 158,
   "id": "02aad225-02a4-49eb-a86a-3fd51e9ea3ba",
   "metadata": {},
   "outputs": [],
   "source": [
    "def func_cal_rhotens(data):\n",
    "    rhotens = np.zeros(data.shape[0]);\n",
    "\n",
    "    for i in range(data.shape[0]):\n",
    "\n",
    "        if data[\"epsin\"].iloc[i] == str(\"1a\"):\n",
    "        \n",
    "            if data[\"Astot\"].iloc[i] > tol:\n",
    "                rhotens[i] = data[\"Astot\"].iloc[i] / data[\"Ac\"].iloc[i];\n",
    "        else:\n",
    "            if data[\"Astot\"].iloc[i] > tol:\n",
    "                Ac = quad(func_extract_width,0,data[\"zstensinit\"].iloc[i],args=(data[\"b\"].iloc[i]))[0];\n",
    "                rhotens[i] = data[\"Astensinit\"].iloc[i] / Ac;\n",
    "    \n",
    "    return rhotens"
   ]
  },
  {
   "cell_type": "code",
   "execution_count": 159,
   "id": "9d7e9edf-968c-4c73-9fde-5b0ca404e87b",
   "metadata": {},
   "outputs": [],
   "source": [
    "df[\"rhotensinit\"] = func_cal_rhotens(df);\n",
    "df = df.astype({\n",
    "    \"rhotensinit\": \"float\"\n",
    "});"
   ]
  },
  {
   "cell_type": "markdown",
   "id": "a4637922-0fd2-40c8-ba99-170dfa71ad24",
   "metadata": {},
   "source": [
    "### 05.07 - Functions to extract properties reinforcing steel - transverse direction"
   ]
  },
  {
   "cell_type": "markdown",
   "id": "7aaab3aa-eba9-4605-98d4-b1fd95022ddb",
   "metadata": {},
   "source": [
    "#### Reinforcing area of transverse steel, in region of constant bending moment"
   ]
  },
  {
   "cell_type": "code",
   "execution_count": 160,
   "id": "445e3216-682d-4fc5-9c59-0720a261e887",
   "metadata": {},
   "outputs": [],
   "source": [
    "def func_cal_At(data,phit,st):\n",
    "    \n",
    "    At = np.zeros(data.shape[0]);\n",
    "    \n",
    "    for i in range(data.shape[0]):\n",
    "        Atlayer = np.zeros(Ncond);\n",
    "        \n",
    "        for j in range(Ncond):\n",
    "            if st[i,j] == 0:\n",
    "                At[i] = 0;\n",
    "            \n",
    "            elif st[i,j] > 0:\n",
    "                nt = 1000/st[i,j];\n",
    "                Atlayer[j] = nt*(1/4)*np.pi*(phit[i,j])**2;\n",
    "                \n",
    "        At[i] = np.sum(Atlayer);\n",
    "    \n",
    "    return At"
   ]
  },
  {
   "cell_type": "code",
   "execution_count": 161,
   "id": "e32e9542-deb0-4ffb-8fcc-774c2a77b509",
   "metadata": {},
   "outputs": [],
   "source": [
    "df[\"At\"] = func_cal_At(df,phit,st);\n",
    "df = df.astype({\n",
    "    \"At\": \"float\"\n",
    "});"
   ]
  },
  {
   "cell_type": "markdown",
   "id": "ee22f654-80f0-4afc-a113-ab93db77a562",
   "metadata": {},
   "source": [
    "### 05.08 - Functions to extract properties reinforcing steel - stirrups"
   ]
  },
  {
   "cell_type": "markdown",
   "id": "0db000de-f090-41bb-ad39-afbcb3de0b4a",
   "metadata": {},
   "source": [
    "#### Calculation of stirrup area, in region of constant bending moment"
   ]
  },
  {
   "cell_type": "code",
   "execution_count": 162,
   "id": "69c57b57-7781-4a68-929d-8d8014ccb44c",
   "metadata": {},
   "outputs": [],
   "source": [
    "def func_cal_Aw(data):\n",
    "    \n",
    "    Aw = np.zeros(data.shape[0]);\n",
    "\n",
    "    for i in range(data.shape[0]):\n",
    "        if data[\"sw\"].iloc[i] < tol:\n",
    "            Aw[i] = 0;\n",
    "            \n",
    "        else:\n",
    "            nw = (1000/data[\"sw\"].iloc[i]);\n",
    "            if data[\"EPID\"].iloc[i] == 31:\n",
    "                Aw[i] = nw*1*(1/4)*np.pi*(data[\"phiw\"].iloc[i])**2; # *1 (single leg stirrup)\n",
    "            else:\n",
    "                Aw[i] = nw*2*(1/4)*np.pi*(data[\"phiw\"].iloc[i])**2; # *2 (double leg stirrup)\n",
    "\n",
    "    \"\"\"\n",
    "    for i in range(data.shape[0]):\n",
    "        if data[\"sw\"].iloc[i] < tol:\n",
    "            Aw[i] = 0;\n",
    "            \n",
    "        else:\n",
    "            nw = (1000/data[\"sw\"].iloc[i]);\n",
    "            Aw[i] = nw*2*(1/4)*np.pi*(data[\"phiw\"].iloc[i])**2; # *2 omdat dubbelsnedig\n",
    "    \"\"\"\n",
    "    \n",
    "    return Aw"
   ]
  },
  {
   "cell_type": "code",
   "execution_count": 163,
   "id": "881d4fbc-d8e8-4980-90bc-f85f24e5963e",
   "metadata": {},
   "outputs": [],
   "source": [
    "df[\"Aw\"] = func_cal_Aw(df);\n",
    "df = df.astype({\n",
    "    \"Aw\": \"float\"\n",
    "});"
   ]
  },
  {
   "cell_type": "markdown",
   "id": "9a041585-7fca-40a9-a998-4e7148648592",
   "metadata": {},
   "source": [
    "### 05.09 - Functions to extract properties prestressing steel"
   ]
  },
  {
   "cell_type": "markdown",
   "id": "f2515b9a-a011-4843-9176-1dbd2ed1a796",
   "metadata": {},
   "source": [
    "#### Computation of Aplayer, Aptot en zp"
   ]
  },
  {
   "cell_type": "code",
   "execution_count": 164,
   "id": "5d38879d-5134-4b49-a0b0-44b877ef2045",
   "metadata": {},
   "outputs": [],
   "source": [
    "def func_compute_prestress_prop(Ap,npl,zp):\n",
    "    Aplayer = np.zeros((Ap.shape[0],Ap.shape[1]));\n",
    "    Aptot = np.zeros(Ap.shape[0]);\n",
    "    zptot = np.zeros(Ap.shape[0])\n",
    "\n",
    "    for i in range(Ap.shape[0]):\n",
    "        if npl[i,0] > tol:\n",
    "            zpAp = np.zeros(Ap.shape[1]);\n",
    "            for j in range(Ap.shape[1]):\n",
    "                Aplayer[i,j] = Ap[i,j]*npl[i,j];\n",
    "                zpAp[j] = Aplayer[i,j]*zp[i,j]\n",
    "    \n",
    "            Aptot[i] = np.sum(Aplayer[i,:]);\n",
    "            zptot[i] = np.sum(zpAp)/Aptot[i];       \n",
    "    \n",
    "    return Aplayer, Aptot, zptot"
   ]
  },
  {
   "cell_type": "code",
   "execution_count": 165,
   "id": "a076d4ba-223f-441e-b2f1-0f4b9384735c",
   "metadata": {},
   "outputs": [],
   "source": [
    "Aplayer, df[\"Aptot\"], df[\"zptot\"] = func_compute_prestress_prop(Ap,npl,zp);\n",
    "df = df.astype({\n",
    "    \"Aptot\": \"float\",\n",
    "    \"zptot\": \"float\"\n",
    "});"
   ]
  },
  {
   "cell_type": "markdown",
   "id": "60242f37-644f-4e90-a8c0-b3b1fa31e4a9",
   "metadata": {},
   "source": [
    "#### Computation of the bond factor prestressing steel and surrounding concrete"
   ]
  },
  {
   "cell_type": "markdown",
   "id": "b1cc70bb-ccc0-4c41-acd7-cbf75395b9de",
   "metadata": {},
   "source": [
    "This is the computation of the factor $\\xi_1$"
   ]
  },
  {
   "cell_type": "code",
   "execution_count": 166,
   "id": "5f9d9764-90f0-427f-bba5-7b9100aed4d0",
   "metadata": {},
   "outputs": [],
   "source": [
    "def func_compuate_zeta1(data):\n",
    "\n",
    "    zeta = np.zeros(data.shape[0]);\n",
    "    zeta1 = np.zeros(data.shape[0]);\n",
    "    phi_peq = np.zeros(data.shape[0]);\n",
    "    \n",
    "    for i in range(data.shape[0]):\n",
    "        if data[\"EPID\"].iloc[i] == 8 and data[\"Aptot\"].iloc[i] > tol:\n",
    "            # This case is not specified in MC 2020\n",
    "            # prEN1992: bonded-post tensioned, smoth bars and wires: 0.3 if fck < 50, 0.15 if fck > 50 (fck is voor epid 8 < 50)\n",
    "            zeta[i] = 0.3;\n",
    "\n",
    "            if data[\"Astot\"].iloc[i] < 1: # Case: only prestressing steel present\n",
    "                zeta1[i] = np.sqrt(zeta[i]); # MC 2020 convention; derived\n",
    "                phi_peq[i] = phip[i,0];\n",
    "            else: # Straightforward, wires and bars used\n",
    "                circ = np.zeros(Ncond);\n",
    "                for j in range(Ncond):\n",
    "                    circ[j] = npl[i,j]*np.pi*phip[i,j];\n",
    "                phi_peq[i] = 4*data[\"Aptot\"].iloc[i]/(sum(circ));\n",
    "                \n",
    "                zeta1[i]  = np.sqrt(zeta[i]*max(phi[i,:])/phi_peq[i]); # it is allowed to use max(phi); since just a single diameter was used.\n",
    "\n",
    "                #if data[\"Ep\"].iloc[i] == 0:\n",
    "                #    data[\"Ep\"].iloc[i] == 205000; # Closer to 205 GPa, and applicable to wires\n",
    "\n",
    "        elif data[\"EPID\"].iloc[i] == 9 and data[\"Aptot\"].iloc[i] > tol:\n",
    "            # strands --> according to MC 2020: 0.4\n",
    "            zeta[i] = 0.4;\n",
    "\n",
    "            if data[\"Astot\"].iloc[i] < 1: # Case: only prestressing steel present\n",
    "                zeta1[i] = np.sqrt(zeta[i]); # MC 2020 convention; derived\n",
    "                for j in range(Ncond):\n",
    "                    phi_wire = np.sqrt(Ap[i,j]*4/(3*np.pi));\n",
    "                    circ[j] = npl[i,j]*1.2*np.pi*phi_wire; # See MC 2020, eq. 30.5-24b (assupmtion wire diameter: 4mm; berekend vanuit bekend opp)\n",
    "                phi_peq[i] = 4*data[\"Aptot\"].iloc[i]/(sum(circ))\n",
    "            else:\n",
    "                circ = np.zeros(Ncond);\n",
    "                for j in range(Ncond):\n",
    "                    phi_wire = np.sqrt(Ap[i,j]*4/(3*np.pi));\n",
    "                    circ[j] = npl[i,j]*1.2*np.pi*phi_wire; # See MC 2020, eq. 30.5-24b (assupmtion wire diameter: 4mm; berekend vanuit bekend opp)\n",
    "                phi_peq[i] = 4*data[\"Aptot\"].iloc[i]/(sum(circ))\n",
    "\n",
    "                zeta1[i]  = np.sqrt(zeta[i]*max(phi[i,:])/phi_peq[i]);# it is allowed to use max(phi); since just a single diameter was used.\n",
    "\n",
    "                #if data[\"Ep\"].iloc[i] == 0:\n",
    "                #    data[\"Ep\"].iloc[i] == 195000; # For strands\n",
    "        \n",
    "        elif data[\"EPID\"].iloc[i] == 14 and data[\"Aptot\"].iloc[i] > tol:\n",
    "            # strands --> according to MC 2020: 0.4\n",
    "            zeta[i] = 0.4;\n",
    "\n",
    "            if data[\"Astot\"].iloc[i] < 1: # Case: only prestressing steel present\n",
    "                zeta1[i] = np.sqrt(zeta[i]); # MC 2020 convention; derived\n",
    "                for j in range(Ncond):\n",
    "                    circ[j] = npl[i,j]*1.6*np.pi*np.sqrt(Ap[i,j]); # See MC 2020, eq. 30.5-24b --> here 12 wires in a strand considered as a bundle\n",
    "                phi_peq[i] = 4*data[\"Aptot\"].iloc[i]/(sum(circ))\n",
    "            else:\n",
    "                circ = np.zeros(Ncond);\n",
    "                for j in range(Ncond):\n",
    "                    circ[j] = npl[i,j]*1.6*np.pi*np.sqrt(Ap[i,j]); # See MC 2020, eq. 30.5-24b --> here 12 wires in a strand considered as a bundle\n",
    "                phi_peq[i] = 4*data[\"Aptot\"].iloc[i]/(sum(circ))\n",
    "\n",
    "                zeta1[i]  = np.sqrt(zeta[i]*max(phi[i,:])/phi_peq[i]); # it is allowed to use max(phi); since just a single diameter was used.\n",
    "\n",
    "                #if data[\"Ep\"].iloc[i] == 0:\n",
    "                #    data[\"Ep\"].iloc[i] == 195000; # For strands\n",
    "        \n",
    "        elif data[\"EPID\"].iloc[i] == 17 and data[\"Aptot\"].iloc[i] > tol:\n",
    "            # strands --> according to MC 2020: 0.6\n",
    "            zeta[i] = 0.6;\n",
    "\n",
    "            if data[\"Astot\"].iloc[i] < 1: # Case: only prestressing steel present\n",
    "                zeta1[i] = np.sqrt(zeta[i]); # MC 2020 convention; derived\n",
    "                circ = np.zeros(Ncond);\n",
    "                for j in range(Ncond):\n",
    "                    phi_wire = np.sqrt(Ap[i,j]*4/(7*np.pi));\n",
    "                    circ[j] = npl[i,j]*1.75*np.pi*phi_wire; # See MC 2020, eq. 30.5-24b\n",
    "                phi_peq[i] = 4*data[\"Aptot\"].iloc[i]/(sum(circ))\n",
    "            else:\n",
    "                circ = np.zeros(Ncond);\n",
    "                for j in range(Ncond):\n",
    "                    phi_wire = np.sqrt(Ap[i,j]*4/(7*np.pi));\n",
    "                    circ[j] = npl[i,j]*1.75*np.pi*phi_wire; # See MC 2020, eq. 30.5-24b\n",
    "                phi_peq[i] = 4*data[\"Aptot\"].iloc[i]/(sum(circ)) # it is allowed to use max(phi); since just a single diameter was used.\n",
    "\n",
    "                zeta1[i]  = np.sqrt(zeta[i]*max(phi[i,:])/phi_peq[i]);\n",
    "\n",
    "                #if data[\"Ep\"].iloc[i] == 0:\n",
    "                #    data[\"Ep\"].iloc[i] == 195000; # For strands\n",
    "        \n",
    "        elif data[\"EPID\"].iloc[i] == 20 and data[\"Aptot\"].iloc[i] > tol:\n",
    "            # single wires --> according to MC 2020: 0.4\n",
    "            zeta[i] = 0.4;\n",
    "\n",
    "            if data[\"Astot\"].iloc[i] < 1: # Case: only prestressing steel present\n",
    "                zeta1[i] = np.sqrt(zeta[i]); # MC 2020 convention; derived\n",
    "                circ = np.zeros(Ncond);\n",
    "                for j in range(Ncond):\n",
    "                    circ[j] = npl[i,j]*np.pi*phip[i,j];\n",
    "                phi_peq[i] = 4*data[\"Aptot\"].iloc[i]/(sum(circ));\n",
    "            else:\n",
    "                circ = np.zeros(Ncond);\n",
    "                for j in range(Ncond):\n",
    "                    circ[j] = npl[i,j]*np.pi*phip[i,j];\n",
    "                phi_peq[i] = 4*data[\"Aptot\"].iloc[i]/(sum(circ));\n",
    "\n",
    "                zeta1[i]  = np.sqrt(zeta[i]*max(phi[i,:])/phi_peq[i]); # it is allowed to use max(phi); since just a single diameter was used.\n",
    "\n",
    "                #if data[\"Ep\"].iloc[i] == 0:\n",
    "                #    data[\"Ep\"].iloc[i] == 205000; # For single wires\n",
    "    \n",
    "    return zeta1, zeta, phi_peq"
   ]
  },
  {
   "cell_type": "code",
   "execution_count": 167,
   "id": "3310132d-1bc0-4f2d-862f-82087eba5c77",
   "metadata": {},
   "outputs": [],
   "source": [
    "df[\"zeta1\"], df[\"zeta\"], df[\"phi_peq\"] = func_compuate_zeta1(df);\n",
    "df = df.astype({\n",
    "    \"zeta1\": \"float\",\n",
    "    \"zeta\": \"float\",\n",
    "    \"phi_peq\": \"float\"\n",
    "});"
   ]
  },
  {
   "cell_type": "markdown",
   "id": "08c7c82a-8608-45e9-88e3-ddf64c3da1cd",
   "metadata": {},
   "source": [
    "### Steel properties"
   ]
  },
  {
   "cell_type": "markdown",
   "id": "da3e1819-cb2c-4e49-b213-71337a795829",
   "metadata": {},
   "source": [
    "#### Vertical cover"
   ]
  },
  {
   "cell_type": "code",
   "execution_count": 168,
   "id": "7144c591-bb33-4f69-9a85-818f2bc058b2",
   "metadata": {},
   "outputs": [],
   "source": [
    "def func_cal_ry(data):\n",
    "\n",
    "    ry0 = np.zeros(data.shape[0]);\n",
    "    ry = np.zeros(data.shape[0]);\n",
    "    cy = np.zeros(data.shape[0]);\n",
    "    ryp = np.zeros(data.shape[0]);\n",
    "\n",
    "    rx = np.zeros(data.shape[0]);\n",
    "    cyp = np.zeros(data.shape[0]);\n",
    "    \n",
    "    for i in range(data.shape[0]):\n",
    "        if data[\"Astot\"].iloc[i] > tol:\n",
    "            if data[\"indLR\"].iloc[i] > -tol:\n",
    "                ry[i] = data[\"h\"].iloc[i]-zs[i,data[\"indLR\"].iloc[i]];\n",
    "                cy[i] = ry[i] - 0.5*phi[i,data[\"indLR\"].iloc[i]];\n",
    "                ry0[i] = zs[i,0];\n",
    "                rx[i] = clat[i,data[\"indLR\"].iloc[i]] + phi[i,data[\"indLR\"].iloc[i]]/2;\n",
    "\n",
    "        if data[\"Aptot\"].iloc[i] > tol:\n",
    "            if data[\"indNP\"].iloc[i] > -tol:\n",
    "                ryp[i] = data[\"h\"].iloc[i]-zp[i,data[\"indNP\"].iloc[i]];\n",
    "                cyp[i] = ryp[i] - 0.5*data[\"phi_peq\"].iloc[i];\n",
    "    \n",
    "    return ry, cy, ry0, rx, ryp, cyp"
   ]
  },
  {
   "cell_type": "code",
   "execution_count": 169,
   "id": "d6cffb76-d1ed-4e7f-a423-1d086db8a2e3",
   "metadata": {},
   "outputs": [],
   "source": [
    "df[\"ry\"], df[\"cy\"], df[\"ry0\"], df[\"rx\"], df[\"ryp\"], df[\"cyp\"] = func_cal_ry(df);\n",
    "df = df.astype({\n",
    "    \"ry\": \"float\",\n",
    "    \"cy\": \"float\",\n",
    "    \"ry0\": \"float\",\n",
    "    \"rx\": \"float\",\n",
    "    \"ryp\": \"float\",\n",
    "    \"cyp\": \"float\"\n",
    "});"
   ]
  },
  {
   "cell_type": "markdown",
   "id": "c7765f28-d0fa-4c75-871c-aa53a6de495e",
   "metadata": {},
   "source": [
    "#### Centre of gravity of longitudinal reinforcing steel (based on all reinforcing steel layers)"
   ]
  },
  {
   "cell_type": "code",
   "execution_count": 170,
   "id": "93d73b32-e557-4396-b32c-76bebd4d473b",
   "metadata": {},
   "outputs": [],
   "source": [
    "Aslayer = func_cal_zstot(df)[1];"
   ]
  },
  {
   "cell_type": "markdown",
   "id": "77810eff-92a6-41dd-807a-5a313cec1b61",
   "metadata": {},
   "source": [
    "#### Function to calculate the elastic centre of gravity"
   ]
  },
  {
   "cell_type": "code",
   "execution_count": 171,
   "id": "86610dfe-9aa8-4849-8dd3-18813e890b96",
   "metadata": {},
   "outputs": [],
   "source": [
    "def func_cal_cog_elastic(data):\n",
    "    cogelas = np.zeros(data.shape[0]);\n",
    "\n",
    "    def integrand(z,bstr):\n",
    "        b = func_extract_width(z,bstr);\n",
    "        dSz = b*z;\n",
    "        return dSz;\n",
    "\n",
    "    for i in range(data.shape[0]):        \n",
    "        ESzz_concrete = quad(integrand,0,float(data[\"h\"].iloc[i]),args=(data[\"b\"].iloc[i]))[0];\n",
    "        ESzz_steel = data[\"Astot\"].iloc[i]*data[\"zstot\"].iloc[i]*(data[\"ae\"].iloc[i] - 1);\n",
    "        ESzz_pres = data[\"Aptot\"].iloc[i]*data[\"zptot\"].iloc[i]*(data[\"ap\"].iloc[i] - 1);\n",
    "\n",
    "        EA_concrete = data[\"Ac\"].iloc[i];\n",
    "        EA_steel = data[\"Astot\"].iloc[i]*(data[\"ae\"].iloc[i] - 1);\n",
    "        EA_pres = data[\"Aptot\"].iloc[i]*(data[\"ap\"].iloc[i] - 1);\n",
    "\n",
    "        cogelas[i] = (ESzz_concrete + ESzz_steel + ESzz_pres) / (EA_concrete + EA_steel + EA_pres);\n",
    "    \n",
    "    return cogelas"
   ]
  },
  {
   "cell_type": "code",
   "execution_count": 172,
   "id": "44bc5a33-3f6b-4f2c-89f3-8bc35490e75c",
   "metadata": {},
   "outputs": [],
   "source": [
    "df[\"cog\"] = func_cal_cog_elastic(df);"
   ]
  },
  {
   "cell_type": "markdown",
   "id": "0e23a73e-26b2-4b5d-8631-0f7e4b6dab58",
   "metadata": {},
   "source": [
    "#### Function to calculate Izz"
   ]
  },
  {
   "cell_type": "markdown",
   "id": "73acbf78-e103-470b-8ded-9988e5e4cc76",
   "metadata": {},
   "source": [
    "Steiner's rule is applied, since the origin of the coordinate system is not aligning with the center of normal force."
   ]
  },
  {
   "cell_type": "code",
   "execution_count": 173,
   "id": "d02c5de6-9deb-4425-8fd2-7472608deba8",
   "metadata": {},
   "outputs": [],
   "source": [
    "def func_cal_Izz(data):\n",
    "        \n",
    "    Izz = np.zeros(data.shape[0]);\n",
    "    \n",
    "    def integrand_1(z,bstr):\n",
    "            \n",
    "        bA = func_extract_width(z,bstr);\n",
    "        dI = (z**2)*bA;\n",
    "            \n",
    "        return dI;\n",
    "    \n",
    "    def integrand_2(z,bstr):\n",
    "        \n",
    "        bA = func_extract_width(z,bstr);\n",
    "        dS = z*bA\n",
    "        \n",
    "        return dS\n",
    "    \n",
    "    def integrand_3(z,bstr):\n",
    "        \n",
    "        bA = func_extract_width(z,bstr);\n",
    "        \n",
    "        return bA\n",
    "    \n",
    "    for i in range(data.shape[0]):\n",
    "        \n",
    "        Izz[i] = quad(integrand_1,0,float(data[\"h\"].iloc[i]),\\\n",
    "                                   args=(data[\"b\"].iloc[i]))[0] - \\\n",
    "                            (2*data[\"cog\"].iloc[i])*\\\n",
    "                              quad(integrand_2,0,float(data[\"h\"].iloc[i]),\\\n",
    "                                   args=(data[\"b\"].iloc[i]))[0] + \\\n",
    "                            (data[\"cog\"].iloc[i]**2)*\\\n",
    "                              quad(integrand_3,0,float(data[\"h\"].iloc[i]),\\\n",
    "                                   args=(data[\"b\"].iloc[i]))[0];\n",
    "    \n",
    "    return Izz"
   ]
  },
  {
   "cell_type": "code",
   "execution_count": 174,
   "id": "b84e3aec-f433-49d5-a67f-bb2f574040b6",
   "metadata": {},
   "outputs": [],
   "source": [
    "df[\"Izz\"] = func_cal_Izz(df);\n",
    "df = df.astype({\n",
    "    \"Izz\": \"float\"\n",
    "});"
   ]
  },
  {
   "cell_type": "markdown",
   "id": "b2a6380f-8e5c-4bd0-bc6f-efcba3c2b59f",
   "metadata": {},
   "source": [
    "#### Function to calculate Wb"
   ]
  },
  {
   "cell_type": "code",
   "execution_count": 175,
   "id": "80043f36-5b80-4e74-bbe4-54a9b1f54297",
   "metadata": {},
   "outputs": [],
   "source": [
    "def func_cal_W(data):\n",
    "    Wb = np.zeros(data.shape[0]); # Section modulus - bottom\n",
    "    Wt = np.zeros(data.shape[0]); # Section modulus - top\n",
    "    \n",
    "    for i in range(data.shape[0]):\n",
    "        Wb[i] = data[\"Izz\"].iloc[i]/ \\\n",
    "            (data[\"h\"].iloc[i] - data[\"cog\"].iloc[i]);\n",
    "\n",
    "        Wt[i] = data[\"Izz\"].iloc[i]/ \\\n",
    "            data[\"cog\"].iloc[i];\n",
    "    \n",
    "    return Wb, Wt"
   ]
  },
  {
   "cell_type": "code",
   "execution_count": 176,
   "id": "c33f86b8-966a-4570-9262-e4132dc55615",
   "metadata": {},
   "outputs": [],
   "source": [
    "df[\"Wb\"], df[\"Wt\"] = func_cal_W(df);"
   ]
  },
  {
   "cell_type": "code",
   "execution_count": 177,
   "id": "509016e1-101c-48ad-b6a0-caf3f36c35a1",
   "metadata": {},
   "outputs": [],
   "source": [
    "df = df.astype({\n",
    "    \"Wb\": \"float\",\n",
    "    \"Wt\": \"float\"\n",
    "});"
   ]
  },
  {
   "cell_type": "markdown",
   "id": "eb364017-d1f0-4a2d-b54a-b3cec68e2fa3",
   "metadata": {},
   "source": [
    "### 05.11 - Functions to extract properties loads"
   ]
  },
  {
   "cell_type": "markdown",
   "id": "821c98ee-2510-4f8d-b2cc-399d0f614fcf",
   "metadata": {},
   "source": [
    "#### Conversion from stresses to N and M"
   ]
  },
  {
   "cell_type": "markdown",
   "id": "54d284a9-f27b-421b-9eae-f7285db611fe",
   "metadata": {},
   "source": [
    "##### EPID 01"
   ]
  },
  {
   "cell_type": "markdown",
   "id": "4d0f48b0-1407-4a7f-adca-b1c136ab9bbf",
   "metadata": {},
   "source": [
    "First, addressing tension failure of rectangular girders and slabs."
   ]
  },
  {
   "cell_type": "code",
   "execution_count": 178,
   "id": "5c6b6ef0-9453-4660-822a-0f5612883d97",
   "metadata": {},
   "outputs": [],
   "source": [
    "def func_cal_Med_EPID01_rec_tens(As,fy,b,d,fcm,sigs):\n",
    "\n",
    "    Mrd = As*fy*d*(1-0.59*(As/(b*d))*fy/fcm);\n",
    "    Mapplied = (1e-6)*(sigs/fy)*Mrd;\n",
    "\n",
    "    return Mapplied"
   ]
  },
  {
   "cell_type": "markdown",
   "id": "33090de7-0808-4e50-b85e-dedf4c9cfde2",
   "metadata": {},
   "source": [
    "Then, address crushing failure of rectangular girders and slabs."
   ]
  },
  {
   "cell_type": "code",
   "execution_count": 179,
   "id": "f8465f02-e859-4944-ac4b-d1623a5ff020",
   "metadata": {},
   "outputs": [],
   "source": [
    "def func_cal_Med_EPID01_rec_crush(As,fy,b,d,fcm,sigs,Es,epsclim):\n",
    "\n",
    "    k1 = 0.85;\n",
    "    k2 = 0.5*k1;\n",
    "    p = As/(b*d);\n",
    "\n",
    "    m = Es*epsclim / (0.85*k1*fcm);\n",
    "    ku = np.sqrt(p*m + (p*m/2)**2) - (p*m/2);\n",
    "    \n",
    "    Mrd = 0.85*k1*fcm*b*(d**2)*ku*(1-k2*ku);\n",
    "    Mapplied = (1e-6)*(sigs/fy)*Mrd;\n",
    "    \n",
    "    return Mapplied"
   ]
  },
  {
   "cell_type": "code",
   "execution_count": 180,
   "id": "d77babeb-6855-4eb4-9e21-65385ca12518",
   "metadata": {},
   "outputs": [],
   "source": [
    "def func_cal_Med_EPID01_T_tens(As,fy,btf,bweb,d,fcm,sigs):\n",
    "\n",
    "    tflange = 3*25.4; # Each top flange has a thickness of 3 inches\n",
    "    Asf = 0.85*fcm*(btf-bweb)*tflange/fy;\n",
    "    Mrd = (As-Asf)*fy*d*(1-0.59*(fy/(bweb*d*fcm))*(As-Asf)) + Asf*fy*(d-tflange/2);\n",
    "    Mapplied = (1e-6)*(sigs/fy)*Mrd;\n",
    "\n",
    "    return Mapplied"
   ]
  },
  {
   "cell_type": "markdown",
   "id": "37c956a6-f0ee-4238-872f-ff3cf76c0939",
   "metadata": {},
   "source": [
    "##### EPID06"
   ]
  },
  {
   "cell_type": "code",
   "execution_count": 181,
   "id": "e159473d-5115-44ee-9c0b-c59159897990",
   "metadata": {},
   "outputs": [],
   "source": [
    "def func_cal_Med_EPID06(As,fy,b,fcm,h,sigs):\n",
    "    \n",
    "    x = 3*As*fy/(2*b*fcm);\n",
    "    Mrd = As*fy*(h-(3/8)*x);\n",
    "\n",
    "    Mapplied = (1e-6)*(sigs/fy)*Mrd;\n",
    "\n",
    "    return Mapplied"
   ]
  },
  {
   "cell_type": "markdown",
   "id": "d3262c01-14c3-4116-8fca-3e3e833ab5b4",
   "metadata": {},
   "source": [
    "##### EPID26"
   ]
  },
  {
   "cell_type": "code",
   "execution_count": 182,
   "id": "e3f7da1f-b493-4cdd-a524-9d7621a5fbbc",
   "metadata": {},
   "outputs": [],
   "source": [
    "def func_cal_Med_EPID26(As,d,ae,rho,sigs):\n",
    "\n",
    "    kx = -ae*rho + np.sqrt( (ae*rho)**2 + 2*ae*rho );\n",
    "    x = kx*d;\n",
    "    z = d - x/3;\n",
    "    \n",
    "    Mapplied = (1e-6)*sigs*z*As;\n",
    "\n",
    "    return Mapplied"
   ]
  },
  {
   "cell_type": "markdown",
   "id": "4d1e32ad-1f87-4500-b6f4-e17befe37705",
   "metadata": {},
   "source": [
    "##### EPID27"
   ]
  },
  {
   "cell_type": "code",
   "execution_count": 183,
   "id": "fa6f95c8-3791-4533-bfaa-2988b3cd6562",
   "metadata": {},
   "outputs": [],
   "source": [
    "def func_cal_Med_EPID27(As,d,ae,rho,sigs):\n",
    "\n",
    "    kx = -ae*rho + np.sqrt( (ae*rho)**2 + 2*ae*rho );\n",
    "    x = kx*d;\n",
    "    z = d - x/3;\n",
    "    \n",
    "    Mapplied = (1e-6)*sigs*z*As;\n",
    "\n",
    "    return Mapplied"
   ]
  },
  {
   "cell_type": "markdown",
   "id": "253a650e-0f62-4709-8662-24b93d14829c",
   "metadata": {},
   "source": [
    "##### Finally, fill in the empty values of M (and/or N):\n"
   ]
  },
  {
   "cell_type": "code",
   "execution_count": 184,
   "id": "f051d86b-77cd-4df5-9efc-701eb43e745d",
   "metadata": {},
   "outputs": [],
   "source": [
    "def func_fill_in_M_and_N(data):\n",
    "\n",
    "    for i in range(data.shape[0]):\n",
    "        # Address tension\n",
    "        if data[\"epsin\"].iloc[i] == \"1a\":\n",
    "            if data[\"N\"].iloc[i] < tol:\n",
    "                data[\"N\"].iloc[i] = data[\"sigs\"].iloc[i]*data[\"Astot\"].iloc[i]/(1e3);\n",
    "\n",
    "        # EPID 01: PCA4\n",
    "        if data[\"EPID\"].iloc[i] == 1:\n",
    "            if data[\"ELID\"].iloc[i] in {\"2-32R1\", \"2-32R2\", \"2-24R\", \"2-8R\", \"2-16R\", \"3-S1\", \"3-S2\"}:\n",
    "                # Then address tension failure of rectangular cross-sections\n",
    "                b = float(data[\"b\"].iloc[i].strip(\"[]\").split(\",\")[0].split(\"if\")[0]);\n",
    "                data[\"M\"].iloc[i] = func_cal_Med_EPID01_rec_tens(data[\"Astensinit\"].iloc[i],\n",
    "                                                                 data[\"fy\"].iloc[i],\n",
    "                                                                 b,\n",
    "                                                                 data[\"zstensinit\"].iloc[i],\n",
    "                                                                 data[\"fcm\"].iloc[i],\n",
    "                                                                 data[\"sigs\"].iloc[i]);\n",
    "\n",
    "            elif data[\"ELID\"].iloc[i] in {\"2-4.75R\", \"3-S3\", \"3-S4\"}:\n",
    "                # Then address crushing of rectangular cross-sections\n",
    "                b = float(data[\"b\"].iloc[i].strip(\"[]\").split(\",\")[0].split(\"if\")[0]);\n",
    "                data[\"M\"].iloc[i] = func_cal_Med_EPID01_rec_crush(data[\"Astensinit\"].iloc[i],\n",
    "                                                                  data[\"fy\"].iloc[i],\n",
    "                                                                  b,\n",
    "                                                                  data[\"zstensinit\"].iloc[i],\n",
    "                                                                  data[\"fcm\"].iloc[i],\n",
    "                                                                  data[\"sigs\"].iloc[i],\n",
    "                                                                  data[\"Es\"].iloc[i],\n",
    "                                                                  0.0035);\n",
    "            \n",
    "            elif data[\"ELID\"].iloc[i] in {\"2-4.75T\", \"2-8T\", \"2-16T\"}:\n",
    "                btemp = data[\"b\"].iloc[i].strip(\"[]\");\n",
    "                data[\"M\"].iloc[i] = func_cal_Med_EPID01_T_tens(data[\"Astensinit\"].iloc[i],\n",
    "                                                               data[\"fy\"].iloc[i],\n",
    "                                                               float(btemp.split(\",\")[0].split(\"if\")[0]),\n",
    "                                                               float(btemp.split(\",\")[1].split(\"if\")[0]),\n",
    "                                                               data[\"zstensinit\"].iloc[i],\n",
    "                                                               data[\"fcm\"].iloc[i],\n",
    "                                                               data[\"sigs\"].iloc[i]);\n",
    "        \n",
    "        # EPID 06: CUR 37\n",
    "        elif data[\"EPID\"].iloc[i] == 6:\n",
    "            # Calculation of steel stresses for all specimens, except for B8, P7, T16\n",
    "            if data[\"ELID\"].iloc[i] not in {\"B8\", \"P7\", \"T16\"}:\n",
    "                b = float(data[\"b\"].iloc[i].strip(\"[]\").split(\",\")[0].split(\"if\")[0]);\n",
    "                \n",
    "                data[\"M\"].iloc[i] = func_cal_Med_EPID06(data[\"Astensinit\"].iloc[i],\n",
    "                                                        data[\"fy\"].iloc[i],\n",
    "                                                        b,\n",
    "                                                        data[\"fcm\"].iloc[i],\n",
    "                                                        data[\"h\"].iloc[i],\n",
    "                                                        data[\"sigs\"].iloc[i]);\n",
    "\n",
    "        # EPID 09: Bennet\n",
    "\n",
    "        # EPID 26: Heuveln\n",
    "        elif data[\"EPID\"].iloc[i] == 26:\n",
    "            b = float(data[\"b\"].iloc[i].strip(\"[]\").split(\",\")[0].split(\"if\")[0]);\n",
    "            \n",
    "            data[\"M\"].iloc[i] = func_cal_Med_EPID26(data[\"Astensinit\"].iloc[i],\n",
    "                                                       data[\"zstensinit\"].iloc[i],\n",
    "                                                       data[\"ae\"].iloc[i],\n",
    "                                                       data[\"rhotensinit\"].iloc[i],\n",
    "                                                       data[\"sigs\"].iloc[i]);\n",
    "\n",
    "        # EPID 27: Garcia\n",
    "        elif data[\"EPID\"].iloc[i] == 27:\n",
    "            # Calculation of steel stresses for all specimens, except for B8, P7, T16\n",
    "            if data[\"ELID\"].iloc[i] in {\"16-20-00F\", \"16-70-00F\"}:\n",
    "\n",
    "                data[\"M\"].iloc[i] = func_cal_Med_EPID27(data[\"Astensinit\"].iloc[i],\n",
    "                                                       data[\"zstensinit\"].iloc[i],\n",
    "                                                       data[\"ae\"].iloc[i],\n",
    "                                                       data[\"rhotensinit\"].iloc[i],\n",
    "                                                       data[\"sigs\"].iloc[i]);\n",
    "\n",
    "    return data    "
   ]
  },
  {
   "cell_type": "code",
   "execution_count": 185,
   "id": "e373e2f5-a3b9-47cb-8105-ce482fe78466",
   "metadata": {},
   "outputs": [],
   "source": [
    "df = func_fill_in_M_and_N(df);"
   ]
  },
  {
   "cell_type": "markdown",
   "id": "d725f84f-8172-44e8-a8a9-78a2a8a87fff",
   "metadata": {},
   "source": [
    "#### Computation of the loads due to self-weight"
   ]
  },
  {
   "cell_type": "code",
   "execution_count": 186,
   "id": "a641afd8-bc50-4e45-aa2e-df59320678eb",
   "metadata": {},
   "outputs": [],
   "source": [
    "def func_cal_rho(data,g):\n",
    "    rhotemp = np.zeros(data.shape[0]);\n",
    "    qself = np.zeros(data.shape[0]);\n",
    "    \n",
    "    for i in range(data.shape[0]):\n",
    "        if rho[i] < 1: # Then, no rho is known --> use 25 kN/m3\n",
    "            rhotemp[i] = 25;\n",
    "        else:\n",
    "            rhotemp[i] = g*rho[i]/1000;\n",
    "\n",
    "        qself[i] = rhotemp[i]*data[\"Ac\"].iloc[i]/(1e6);\n",
    "    \n",
    "    return rhotemp, qself"
   ]
  },
  {
   "cell_type": "code",
   "execution_count": 187,
   "id": "50fd878a-e973-420b-bac9-37a9f9aa7f18",
   "metadata": {},
   "outputs": [],
   "source": [
    "df[\"rho\"], df[\"qself\"] = func_cal_rho(df,g);\n",
    "df = df.astype({\n",
    "    \"rho\": \"float\",\n",
    "    \"qself\": \"float\"\n",
    "});"
   ]
  },
  {
   "cell_type": "code",
   "execution_count": 188,
   "id": "979e0a80-58f9-4672-a730-41eda036b352",
   "metadata": {},
   "outputs": [],
   "source": [
    "def func_cal_self_weight(data):\n",
    "    Mself = np.zeros(data.shape[0]);\n",
    "    \n",
    "    for i in range(data.shape[0]):\n",
    "        if data[\"selfw\"].iloc[i] == 2: # Only consider self-weight if it is known that no self-weight was taken into account!\n",
    "            if data[\"epsin\"].iloc[i] == str(2) or data[\"epsin\"].iloc[i] == str(3): # Calculat self-weight in case of bending and/or compression\n",
    "                if data[\"EPID\"].iloc[i] != 14:\n",
    "                # Since the configuration in this test is different. (1/8) qL^2 doesn't apply here...\n",
    "                    if data[\"Lspan\"].iloc[i] > 1: # Avoid computing unknown spans; otherwise\n",
    "                        a = (1/1000)*(data[\"Lspan\"].iloc[i] - data[\"Lcons\"].iloc[i])/2\n",
    "                        b = a + (1/1000)*data[\"Lcons\"].iloc[i];\n",
    "                    \n",
    "                        Mself[i] = ((-1*df[\"qself\"].iloc[i]/6)*((b**3)-(a**3)) + (df[\"qself\"].iloc[i]/4)*(((1/1000)*data[\"Lspan\"].iloc[i])\\\n",
    "                            *((b**2) - (a**2))))/((1/1000)*data[\"Lcons\"].iloc[i]);\n",
    "    \n",
    "                    else:\n",
    "                        a = (1/1000)*(data[\"Ltot\"].iloc[i] - data[\"Lcons\"].iloc[i])/2\n",
    "                        b = a + (1/1000)*data[\"Lcons\"].iloc[i];\n",
    "                    \n",
    "                        Mself[i] = ((-1*df[\"qself\"].iloc[i]/6)*((b**3)-(a**3)) + (df[\"qself\"].iloc[i]/4)*(((1/1000)*data[\"Ltot\"].iloc[i])\\\n",
    "                            *((b**2) - (a**2))))/((1/1000)*data[\"Lcons\"].iloc[i]);\n",
    "                    if data[\"EPID\"].iloc[i] in [1, 24, 26, 27]:\n",
    "                        Mself[i] = -1*Mself[i];\n",
    "            \n",
    "            else: # Dont address elements which are subjected in pure tension\n",
    "                Mself[i] = 0;\n",
    "        else:\n",
    "            Mself[i] = 0;\n",
    "\n",
    "    return Mself"
   ]
  },
  {
   "cell_type": "code",
   "execution_count": 189,
   "id": "06039cd7-6075-40d6-bc95-c12a001fba1a",
   "metadata": {},
   "outputs": [],
   "source": [
    "df[\"Mself\"] = func_cal_self_weight(df);\n",
    "df = df.astype({\n",
    "    \"Mself\": \"float\"\n",
    "});"
   ]
  },
  {
   "cell_type": "markdown",
   "id": "9f9cd6fe-78c3-4345-a92d-ae53eb7f412d",
   "metadata": {},
   "source": [
    "#### Computation of load due to prestressing"
   ]
  },
  {
   "cell_type": "code",
   "execution_count": 190,
   "id": "a953cbd4-fb29-4a39-9f96-f7530271629c",
   "metadata": {},
   "outputs": [],
   "source": [
    "def func_calculate_Mpres(data):\n",
    "   \n",
    "    ep = np.zeros(data.shape[0]);\n",
    "    Mp = np.zeros(data.shape[0]);\n",
    "    \n",
    "    for i in range(data.shape[0]):\n",
    "        if data[\"Aptot\"].iloc[i] > tol:\n",
    "            ep[i] = data[\"cog\"].iloc[i]-data[\"zptot\"].iloc[i];\n",
    "            Mp[i] = (ep[i]/1000)*data[\"PL\"].iloc[i];\n",
    "        else:\n",
    "            ep[i] = 0;\n",
    "            Mp[i] = 0;\n",
    "    \n",
    "    return ep, Mp   "
   ]
  },
  {
   "cell_type": "code",
   "execution_count": 191,
   "id": "c43bd2ab-5ded-4b43-b1a9-cedd9748c767",
   "metadata": {},
   "outputs": [],
   "source": [
    "df[\"ep\"], df[\"Mp\"] = func_calculate_Mpres(df);\n",
    "df = df.astype({\n",
    "    \"ep\": \"float\",\n",
    "    \"Mp\": \"float\"\n",
    "});"
   ]
  },
  {
   "cell_type": "markdown",
   "id": "2f9ca218-1d10-4d7c-ae86-5af1c3c2fa78",
   "metadata": {},
   "source": [
    "#### Computation of the total applied load"
   ]
  },
  {
   "cell_type": "code",
   "execution_count": 192,
   "id": "a37c20a4-7212-41b5-a6bd-1b05e1f206cb",
   "metadata": {},
   "outputs": [],
   "source": [
    "def func_compute_M(data):\n",
    "    Muni = data[\"M\"] + data[\"Mp\"] + data[\"Mself\"];\n",
    "    return Muni"
   ]
  },
  {
   "cell_type": "code",
   "execution_count": 193,
   "id": "f1ca976d-b0c6-45e6-976a-ae1ee64f97fa",
   "metadata": {},
   "outputs": [],
   "source": [
    "df[\"M\"] = func_compute_M(df);\n",
    "df = df.astype({\n",
    "    \"M\": \"float\"\n",
    "});"
   ]
  },
  {
   "cell_type": "markdown",
   "id": "7eeca81f-dbe3-4bf4-b32b-f806c1eb5dab",
   "metadata": {},
   "source": [
    "#### Calculation of the prestress losses"
   ]
  },
  {
   "cell_type": "code",
   "execution_count": 194,
   "id": "38b34970-010e-448e-aad3-2fe5d03f7a56",
   "metadata": {},
   "outputs": [],
   "source": [
    "# In case of unknown, relaxation class 1 is assumed."
   ]
  },
  {
   "cell_type": "code",
   "execution_count": 195,
   "id": "9fe6872f-ec4c-4797-8e5f-e9d752b1814a",
   "metadata": {},
   "outputs": [],
   "source": [
    "def func_cal_prestress_losses(data):\n",
    "\n",
    "    pre_time_loss = np.zeros(data.shape[0]);\n",
    "    relax_class = 1;\n",
    "    \n",
    "    for i in range(data.shape[0]):\n",
    "\n",
    "        if data[\"Aptot\"].iloc[i] > tol:\n",
    "        \n",
    "            # First, calculate the stress in the concrete at the level of the prestressing steel (or at an equivalent reinforcing layer)\n",
    "            e_p = data[\"zptot\"].iloc[i]-data[\"cog\"].iloc[i];\n",
    "            sig_cps = -data[\"PL\"].iloc[i]*(10**3)/data[\"Ac\"].iloc[i] + (10**6)*data[\"Mp\"].iloc[i]*e_p/data[\"Izz\"].iloc[i];\n",
    "            \n",
    "            sig_pi = data[\"PL\"].iloc[i]*(10**3)/data[\"Aptot\"].iloc[i];\n",
    "            mu = sig_pi/data[\"fpk\"].iloc[i];\n",
    "            t = (data[\"t0\"].iloc[i] - data[\"t0p\"].iloc[i])*24; # Time is in hours\n",
    "\n",
    "            if relax_class == 1:\n",
    "                rho_1000 = 8;\n",
    "                sig_pr = 5.39*sig_pi*(10**(-5))*rho_1000*np.exp(6.7*mu) * (t/1000)**(0.75*(1-mu));\n",
    "            elif relax_class == 2:\n",
    "                rho_1000 = 2.5;\n",
    "                sig_pr = 0.66*sig_pi*(10**(-5))*rho_1000*np.exp(9.1*mu) * (t/1000)**(0.75*(1-mu));\n",
    "            \n",
    "            ae = data[\"Es\"].iloc[i]/data[\"Ecm0\"].iloc[i];\n",
    "            rho_p = data[\"Aptot\"].iloc[i] / data[\"Ac\"].iloc[i];\n",
    "            rho_s = data[\"Astot\"].iloc[i] / data[\"Ac\"].iloc[i];\n",
    "    \n",
    "            f = 1 + data[\"Ac\"].iloc[i]*(e_p**2) / data[\"Izz\"].iloc[i];\n",
    "            \n",
    "            # Final calculation of the time-dependent losses\n",
    "            time_dep_loss = ((sig_cps*ae*data[\"phi_creep_prestress\"].iloc[i] - 0.8*sig_pr - abs(data[\"shrinkage_prestress\"].iloc[i])*data[\"Ep\"].iloc[i])/ \\\n",
    "                    (1 + ae*(rho_p + rho_s) * f*(1 + chi*data[\"phi_creep_prestress\"].iloc[i])))*data[\"Aptot\"].iloc[i];\n",
    "            \n",
    "            if data[\"EPID\"].iloc[i] == 14 and data[\"fpk\"].iloc[i] > 1:\n",
    "                pre_time_loss[i] = time_dep_loss;\n",
    "            elif data[\"EPID\"].iloc[i] == 20 and data[\"fpk\"].iloc[i] > 1:\n",
    "                pre_time_loss[i] = time_dep_loss; \n",
    "    \n",
    "    return pre_time_loss"
   ]
  },
  {
   "cell_type": "code",
   "execution_count": 196,
   "id": "0531d4d7-e90a-4b1c-9cbf-4fb089ab0e1e",
   "metadata": {},
   "outputs": [],
   "source": [
    "df[\"pre_loss\"] = func_cal_prestress_losses(df);\n",
    "df = df.astype({\n",
    "    \"pre_loss\": \"float\"\n",
    "});"
   ]
  },
  {
   "cell_type": "code",
   "execution_count": 197,
   "id": "4f738926-0eba-475c-b2cd-3415608bfd25",
   "metadata": {},
   "outputs": [],
   "source": [
    "# Add the losses to the initial prestressing\n",
    "df[\"PL\"] = df[\"PL\"] + df[\"pre_loss\"]/1000;"
   ]
  },
  {
   "cell_type": "markdown",
   "id": "25e884f3-e5e6-4da6-aecf-dfb5f3d8c491",
   "metadata": {},
   "source": [
    "### Define kinematic relations"
   ]
  },
  {
   "cell_type": "code",
   "execution_count": 198,
   "id": "d896674a-b79f-4b72-988a-d757c485e6fe",
   "metadata": {},
   "outputs": [],
   "source": [
    "def func_create_strain_dist(epsctop,xc,z):\n",
    "    eps_c = epsctop - (epsctop*z/xc);\n",
    "    return eps_c"
   ]
  },
  {
   "cell_type": "code",
   "execution_count": 199,
   "id": "11f07b96-1a41-4884-afe1-00a4f0ccb5af",
   "metadata": {},
   "outputs": [],
   "source": [
    "def func_sum_steel_reinf(epsctop,Es,As,xc,zs,zt,fy,Nzero):\n",
    "    \n",
    "    Fstore = np.zeros(len(As));\n",
    "    Mfstore = np.zeros(len(As));\n",
    "    \n",
    "    # Sum over the layers\n",
    "    for i in range(int(Nzero)+1):\n",
    "\n",
    "        Fstore[i] = As[i]*func_cal_reinf_stress(Es,fy,epsctop*(zs[i]-xc)/xc);\n",
    "        Mfstore[i] = Fstore[i]*(zs[i]-zt);\n",
    "    \n",
    "    return Fstore, Mfstore"
   ]
  },
  {
   "cell_type": "markdown",
   "id": "7000f49b-325e-4d69-822c-ef5bdde6f998",
   "metadata": {},
   "source": [
    "### Define constitutive relations"
   ]
  },
  {
   "cell_type": "code",
   "execution_count": 200,
   "id": "1746ec13-e024-4444-be17-033f69a116df",
   "metadata": {},
   "outputs": [],
   "source": [
    "def func_cal_reinf_stress(Es,fy,eps):\n",
    "\n",
    "    stress = eps*Es;\n",
    "    \n",
    "    return stress"
   ]
  },
  {
   "cell_type": "markdown",
   "id": "18bc9056-5877-4006-b6f4-c7e3c9999edb",
   "metadata": {},
   "source": [
    "### Computation of the initial shrinkage strain"
   ]
  },
  {
   "cell_type": "code",
   "execution_count": 201,
   "id": "db75ae67-3db4-4e30-be2c-fff95cddda0c",
   "metadata": {},
   "outputs": [],
   "source": [
    "def func_int_compression_initstrain(z,b,Ecm,epsctop,xc,epsinit):\n",
    "\n",
    "    eps_c = func_create_strain_dist(epsctop,xc,z) + epsinit;\n",
    "    sig_c = Ecm*eps_c;\n",
    "\n",
    "    bz = func_extract_width(z,b);\n",
    "    dF = sig_c*bz;\n",
    "    \n",
    "    return dF"
   ]
  },
  {
   "cell_type": "code",
   "execution_count": 202,
   "id": "7176353a-cf59-431c-a9d1-799ad6302524",
   "metadata": {},
   "outputs": [],
   "source": [
    "def func_int_compression_moment_initstrain(z,b,Ecm,epsctop,xc,epsinit):\n",
    "\n",
    "    dF = func_int_compression_initstrain(z,b,Ecm,epsctop,xc,epsinit);\n",
    "    zdF = dF*z;\n",
    "\n",
    "    return zdF"
   ]
  },
  {
   "cell_type": "code",
   "execution_count": 203,
   "id": "031796ce-c9ba-4ae7-ab87-714b0fd424c8",
   "metadata": {},
   "outputs": [],
   "source": [
    "def func_cal_reinf_initstrain(p,Es,b,h,Nint,zs,As,fy,\\\n",
    "                                zt,Nzero,Ecm,chi,epsinit):\n",
    "\n",
    "    epsctop,xc = p;\n",
    "\n",
    "    # Compression part of concrete\n",
    "    # ==============================================\n",
    "    Fcp = quad(func_int_compression_initstrain,0,h,args=(b,Ecm,epsctop,xc,epsinit))[0];\n",
    "\n",
    "    # Lever arm of compression force\n",
    "    # ==============================================\n",
    "    zx = quad(func_int_compression_moment_initstrain,0,h,args=(b,Ecm,epsctop,xc,epsinit))[0]/Fcp;\n",
    "\n",
    "    # Force and bending moment in reinforcing steel\n",
    "    # ==============================================\n",
    "    Fs, Mf = func_sum_steel_reinf(epsctop,Es,As,xc,zs,zt,fy,Nzero);\n",
    "\n",
    "    Fstot = sum(Fs);\n",
    "    Mftot = sum(Mf);\n",
    "\n",
    "    # Return the equilibrium equations\n",
    "    # ==============================================\n",
    "    horeq = -Fstot + Fcp; \n",
    "    Meq = -Fcp*(zt-zx) - Mftot;\n",
    "\n",
    "    return horeq, Meq"
   ]
  },
  {
   "cell_type": "code",
   "execution_count": 204,
   "id": "15750d5a-c676-4179-a08b-576b0d2996cf",
   "metadata": {},
   "outputs": [],
   "source": [
    "def func_cal_strain_loc(epsctop,xc,zs,zp,zt,Astot,Aptot):\n",
    "\n",
    "    if Astot > tol:\n",
    "        epsloc = epsctop*(zs-xc)/xc;\n",
    "\n",
    "    elif Aptot > tol and Astot < tol:\n",
    "        epsloc = epsctop*(zp-xc)/xc;\n",
    "\n",
    "    return epsloc"
   ]
  },
  {
   "cell_type": "code",
   "execution_count": 205,
   "id": "2a394001-cc8d-4fac-a36a-4c5fb432bbae",
   "metadata": {},
   "outputs": [],
   "source": [
    "import numbers\n",
    "def cal_reinf_initstrain(data): # Continue calculation\n",
    "\n",
    "    initstrain = np.zeros(data.shape[0]);\n",
    "\n",
    "    for i in range(data.shape[0]):\n",
    "    \n",
    "        rho_L = data[\"Astot\"].iloc[i] / data[\"Ac\"].iloc[i];\n",
    "                \n",
    "        # Pure tension\n",
    "        # ==================================================================================\n",
    "        if str(data[\"epsin\"].iloc[i]) == str(\"1a\") and abs(data[\"shrinkage_init\"].iloc[i]) > tol*(10**(-5)):\n",
    "\n",
    "            initstrain[i] = data[\"shrinkage_init\"].iloc[i] / (1 + ((data[\"ae\"].iloc[i]))*rho_L);\n",
    "        \n",
    "        # Bending\n",
    "        # ==================================================================================\n",
    "        elif str(data[\"epsin\"].iloc[i]) == str(\"2\") and abs(data[\"shrinkage_init\"].iloc[i]) > tol*(10**(-5)):\n",
    "            sol = fsolve(func_cal_reinf_initstrain,[1e-3,data[\"h\"].iloc[i]/3],\n",
    "                                 args = (\n",
    "                                     data[\"Es\"].iloc[i],\n",
    "                                     data[\"b\"].iloc[i],\n",
    "                                     data[\"h\"].iloc[i],\n",
    "                                     500,\n",
    "                                     zs[i,:],\n",
    "                                     Aslayer[i,:],\n",
    "                                     data[\"fy\"].iloc[i],\n",
    "                                     data[\"cog\"].iloc[i],\n",
    "                                     data[\"indLR\"].iloc[i],\n",
    "                                     data[\"Ecm\"].iloc[i],\n",
    "                                     chi,\n",
    "                                     data[\"shrinkage_init\"].iloc[i]\n",
    "                                 ));\n",
    "        \n",
    "            eps, xc = sol[0], sol[1];\n",
    "                    \n",
    "            eps_bot = eps*(data[\"h\"].iloc[i]-xc)/xc;\n",
    "\n",
    "            epsloc = func_cal_strain_loc(eps,\n",
    "                                    xc,\n",
    "                                    zs[i,data[\"indLR\"].iloc[i]],\n",
    "                                    zp[i,data[\"indNP\"].iloc[i]],\n",
    "                                    data[\"cog\"].iloc[i],\n",
    "                                    data[\"Astot\"].iloc[i],\n",
    "                                    data[\"Aptot\"].iloc[i]);\n",
    "\n",
    "            initstrain[i] = epsloc;\n",
    "        \n",
    "        else:\n",
    "            initstrain[i] = 0;\n",
    "\n",
    "    data[\"initstrain\"] = initstrain;  \n",
    "    \n",
    "    return data"
   ]
  },
  {
   "cell_type": "code",
   "execution_count": 206,
   "id": "695ff2a8-7da2-422f-8328-1e2674dc92b6",
   "metadata": {},
   "outputs": [],
   "source": [
    "if includeinitshrinkage == \"yes\":\n",
    "    if importsigs == \"no\":\n",
    "        df = cal_reinf_initstrain(df);\n",
    "        df[\"initstrain\"].to_csv(\"initstrain.csv\",index = False);\n",
    "    else:\n",
    "        df[\"initstrain\"] = \\\n",
    "        pd.read_csv(Path(motherpath/r\"1_st_Journal_Paper\\Jupyter_Notebook\\Working_database\\initstrain.csv\"));\n",
    "else:\n",
    "    df[\"initstrain\"] = np.zeros(df.shape[0]);"
   ]
  },
  {
   "cell_type": "code",
   "execution_count": 207,
   "id": "e6cf67a7-da0d-48c4-8527-39e24105b04f",
   "metadata": {},
   "outputs": [],
   "source": [
    "df = df.astype({\n",
    "    \"initstrain\": \"float\"});"
   ]
  },
  {
   "cell_type": "code",
   "execution_count": 208,
   "id": "a3aba54d-24c8-4019-b81f-670acf6fdf31",
   "metadata": {},
   "outputs": [
    {
     "data": {
      "image/png": "[encoded data removed]",
      "text/plain": [
       "<Figure size 640x480 with 1 Axes>"
      ]
     },
     "metadata": {},
     "output_type": "display_data"
    }
   ],
   "source": [
    "plt.title(\"Estimated vs measured initial shrinkage for different elements\");\n",
    "plt.plot(df[\"ELID\"],-1*(xi_bs1*df[\"eps_cbs\"] + xi_ds1*df[\"eps_cds\"]),\"*k\",label=\"Estimated (initial) shrinkage\");\n",
    "plt.plot(df[\"ELID\"],1*df[\"epsc\"]*10**(-6),\"*r\",label=\"Measured initial shrinkage\");\n",
    "plt.legend();\n",
    "plt.xticks(rotation=90);\n",
    "plt.grid();"
   ]
  },
  {
   "cell_type": "code",
   "execution_count": 209,
   "id": "a2edcaa5-3330-4c2b-a24c-196f7deec4a5",
   "metadata": {},
   "outputs": [
    {
     "data": {
      "image/png": "[encoded data removed]",
      "text/plain": [
       "<Figure size 640x480 with 1 Axes>"
      ]
     },
     "metadata": {},
     "output_type": "display_data"
    }
   ],
   "source": [
    "plt.title(\"Estimated vs measured initial shrinkage for different experimental programmes\");\n",
    "plt.plot(df[\"EPID\"],-1*(xi_bs1*df[\"eps_cbs\"] + xi_ds1*df[\"eps_cds\"]),\"*k\",label=\"Estimated (initial) shrinkage\");\n",
    "plt.plot(df[\"EPID\"],1*df[\"epsc\"]*10**(-6),\"*r\",label=\"Measured initial shrinkage\");"
   ]
  },
  {
   "cell_type": "code",
   "execution_count": 210,
   "id": "d6864ec9-c728-4c46-a335-87c63e5ea74f",
   "metadata": {},
   "outputs": [],
   "source": [
    "def func_compute_fctmred(data):\n",
    "\n",
    "    fctmred = np.zeros(data.shape[0]);\n",
    "    red = np.zeros(data.shape[0]);\n",
    "    \n",
    "    for i in range(data.shape[0]):\n",
    "        fctmred[i] = data[\"fctm\"].iloc[i] - data[\"Ecm\"].iloc[i]*abs((abs(data[\"initstrain\"].iloc[i]) - abs(data[\"shrinkage_init\"].iloc[i])));\n",
    "\n",
    "    return fctmred"
   ]
  },
  {
   "cell_type": "code",
   "execution_count": 211,
   "id": "f9ddc7fe-df49-4407-b33a-ccda5a906169",
   "metadata": {},
   "outputs": [],
   "source": [
    "df[\"fctmorg\"] = df[\"fctm\"]; # Create a copy\n",
    "df[\"fcmorg\"] = df[\"fcm\"]; # Create a copy"
   ]
  },
  {
   "cell_type": "code",
   "execution_count": 212,
   "id": "8e5cbf22-feb7-4cd2-bfb1-d2a786eab33c",
   "metadata": {},
   "outputs": [],
   "source": [
    "if includeinitshrinkage == \"yes\":\n",
    "    df[\"fctm\"] = func_compute_fctmred(df); # Warning: original fctm is rewritten\n",
    "    df = df.astype({\n",
    "        \"fctm\": \"float\"});\n",
    "\n",
    "    for i in range(df.shape[0]):\n",
    "        df[\"fct095\"].iloc[i] = func_cal_fcteff_from_fctm(df[\"fctm\"].iloc[i]);\n",
    "        \n",
    "        df[\"fctmfl\"].iloc[i] = func_cal_fctmfl_from_fctm(df[\"fctm\"].iloc[i],df[\"h\"].iloc[i]);\n",
    "        \n",
    "        df[\"fct095fl\"].iloc[i] = func_cal_fcteff_from_fctm(df[\"fctm\"].iloc[i]);\n",
    "        "
   ]
  },
  {
   "cell_type": "markdown",
   "id": "e9cb6cca-78a3-49d1-b610-32044f404304",
   "metadata": {},
   "source": [
    "#### Cracking stage"
   ]
  },
  {
   "cell_type": "code",
   "execution_count": 213,
   "id": "b5e7c47c-bd90-47f8-b274-3bf50f7d9520",
   "metadata": {},
   "outputs": [],
   "source": [
    "def func_cal_EI_uncr(data):\n",
    "\n",
    "    W_Ib = np.zeros(data.shape[0]); W_It = np.zeros(data.shape[0]);\n",
    "\n",
    "    EI_conc = np.zeros(data.shape[0]); EI_steel = np.zeros(data.shape[0]); EI_prestress = np.zeros(data.shape[0]); EI_uncr = np.zeros(data.shape[0]);\n",
    "\n",
    "    for i in range(data.shape[0]):\n",
    "    \n",
    "        #if data[\"EPID\"].iloc[i] != 17: \n",
    "        # Ecm not included since it cancels out from the equations\n",
    "        EI_conc[i] = data[\"Izz\"].iloc[i];\n",
    "        EI_steel[i] = (data[\"Astot\"].iloc[i]*(data[\"cog\"].iloc[i]-data[\"zstot\"].iloc[i])**2)*(data[\"ae\"].iloc[i]-1)\n",
    "        EI_prestress[i] = (data[\"Aptot\"].iloc[i]*(data[\"cog\"].iloc[i]-data[\"zptot\"].iloc[i])**2)*(data[\"ap\"].iloc[i]-1)\n",
    "    \n",
    "        EI_uncr[i] = EI_conc[i] + EI_steel[i] + EI_prestress[i];\n",
    "    \n",
    "        W_Ib[i] = EI_uncr[i]/((data[\"h\"].iloc[i]-data[\"cog\"].iloc[i]));\n",
    "        W_It[i] = EI_uncr[i]/((data[\"cog\"].iloc[i]));\n",
    "    \n",
    "    return W_Ib, W_It"
   ]
  },
  {
   "cell_type": "code",
   "execution_count": 214,
   "id": "f071d186-0e7c-4076-b905-c6e6acb2b404",
   "metadata": {},
   "outputs": [],
   "source": [
    "df[\"W_Ib\"], df[\"W_It\"] = func_cal_EI_uncr(df);\n",
    "df = df.astype({\n",
    "    \"W_Ib\": \"float\",\n",
    "    \"W_It\": \"float\"\n",
    "});"
   ]
  },
  {
   "cell_type": "code",
   "execution_count": 215,
   "id": "898c2253-f4dd-42a1-8dec-58efc004591e",
   "metadata": {},
   "outputs": [],
   "source": [
    "def func_cal_CS(data):\n",
    "\n",
    "    Ncr = np.zeros(data.shape[0]);\n",
    "    Mcr = np.zeros(data.shape[0]);\n",
    "    \n",
    "    Ncr095 = np.zeros(data.shape[0]);\n",
    "    Mcr095 = np.zeros(data.shape[0]);\n",
    "\n",
    "    Ncr005 = np.zeros(data.shape[0]);\n",
    "    Mcr005 = np.zeros(data.shape[0]);\n",
    "\n",
    "    CS = np.zeros(data.shape[0]);\n",
    "\n",
    "    for i in range(data.shape[0]):\n",
    "        if data[\"epsin\"].iloc[i] == \"1a\" or data[\"epsin\"].iloc[i] == \"1b\":\n",
    "\n",
    "            if data[\"EPID\"].iloc[i] != 31:\n",
    "                rho = data[\"Astot\"].iloc[i]/data[\"Ac\"].iloc[i];\n",
    "    \n",
    "                Ncr[i] = data[\"Ac\"].iloc[i]*data[\"fctm\"].iloc[i]*(1+(data[\"ae\"].iloc[i]-1)*rho); # N-1 zware doorsnede\n",
    "                Ncr[i] = Ncr[i]/(1e3);\n",
    "                \n",
    "                Ncr095[i] = data[\"Ac\"].iloc[i]*data[\"fct095\"].iloc[i]*(1+(data[\"ae\"].iloc[i]-1)*rho); # N-1 zware doorsnede\n",
    "                Ncr095[i] = Ncr095[i]/(1e3);\n",
    "    \n",
    "                Ncr005[i] = data[\"Ac\"].iloc[i]*data[\"fct005\"].iloc[i]*(1+(data[\"ae\"].iloc[i]-1)*rho); # N-1 zware doorsnede\n",
    "                Ncr005[i] = Ncr005[i]/(1e3);\n",
    "\n",
    "            elif data[\"EPID\"].iloc[i] == 31:\n",
    "                rho = data[\"Astot\"].iloc[i]/(data[\"Ac\"].iloc[i] - (4*90*30));\n",
    "\n",
    "                Ncr[i] = (data[\"Ac\"].iloc[i] - (4*90*30))*data[\"fctm\"].iloc[i]*(1+(data[\"ae\"].iloc[i]-1)*rho); # N-1 zware doorsnede\n",
    "                Ncr[i] = Ncr[i]/(1e3);\n",
    "                \n",
    "                Ncr095[i] = (data[\"Ac\"].iloc[i] - (4*90*30))*data[\"fct095\"].iloc[i]*(1+(data[\"ae\"].iloc[i]-1)*rho); # N-1 zware doorsnede\n",
    "                Ncr095[i] = Ncr095[i]/(1e3);\n",
    "    \n",
    "                Ncr005[i] = (data[\"Ac\"].iloc[i] - (4*90*30))*data[\"fct005\"].iloc[i]*(1+(data[\"ae\"].iloc[i]-1)*rho); # N-1 zware doorsnede\n",
    "                Ncr005[i] = Ncr005[i]/(1e3);\n",
    "\n",
    "            if data[\"N\"].iloc[i] > Ncr095[i]:\n",
    "                CS[i] = 2; # Stabilized cracking stage\n",
    "            else:\n",
    "                CS[i] = 1; # Crack formation stage\n",
    "        \n",
    "        elif data[\"epsin\"].iloc[i] == str(2):\n",
    "\n",
    "            # include the effect of the crack inducers\n",
    "            if data[\"EPID\"].iloc[i] != 17:\n",
    "            \n",
    "                Mcr[i] = data[\"W_Ib\"].iloc[i]*data[\"fctmfl\"].iloc[i];\n",
    "                Mcr[i] = Mcr[i]/(1e6);\n",
    "                \n",
    "                Mcr095[i] = data[\"W_Ib\"].iloc[i]*data[\"fct095fl\"].iloc[i];\n",
    "                Mcr095[i] = Mcr095[i]/(1e6);\n",
    "    \n",
    "                Mcr005[i] = data[\"W_Ib\"].iloc[i]*data[\"fct005fl\"].iloc[i];\n",
    "                Mcr005[i] = Mcr005[i]/(1e6);\n",
    "\n",
    "            elif data[\"EPID\"].iloc[i] == 17:\n",
    "                \n",
    "                if data[\"Astot\"].iloc[i] < tol: # Crack inducers with height of 6.35 mm used\n",
    "                    red = ((data[\"h\"].iloc[i] - 6.35)**2) / (data[\"h\"].iloc[i]**2);\n",
    "                elif data[\"Astot\"].iloc[i] > tol: # Crack inducers up to reinforcing level used\n",
    "                    red = ((data[\"h\"].iloc[i] - data[\"cy\"].iloc[i])**2) / (data[\"h\"].iloc[i]**2);\n",
    "                \n",
    "                Mcr[i] = red*data[\"W_Ib\"].iloc[i]*data[\"fctmfl\"].iloc[i];\n",
    "                Mcr[i] = Mcr[i]/(1e6);\n",
    "                \n",
    "                Mcr095[i] = red*data[\"W_Ib\"].iloc[i]*data[\"fct095fl\"].iloc[i];\n",
    "                Mcr095[i] = Mcr095[i]/(1e6);\n",
    "    \n",
    "                Mcr005[i] = red*data[\"W_Ib\"].iloc[i]*data[\"fct005fl\"].iloc[i];\n",
    "                Mcr005[i] = Mcr005[i]/(1e6);\n",
    "                \n",
    "            if data[\"M\"].iloc[i] > Mcr095[i]:\n",
    "                CS[i] = 2; # Stabilized cracking stage\n",
    "            else:\n",
    "                CS[i] = 1; # Crack formation stage\n",
    "        \n",
    "        elif data[\"epsin\"].iloc[i] == str(3):\n",
    "\n",
    "            # include the effect of the crack inducers\n",
    "            if data[\"EPID\"].iloc[i] != 17:\n",
    "    \n",
    "                Mcr[i] = data[\"W_Ib\"].iloc[i]*(data[\"fctmfl\"].iloc[i] + 1000*data[\"PL\"].iloc[i]/data[\"Ac\"].iloc[i]);\n",
    "                Mcr[i] = Mcr[i]/(1e6);\n",
    "                \n",
    "                Mcr095[i] = data[\"W_Ib\"].iloc[i]*(data[\"fct095fl\"].iloc[i] + 1000*data[\"PL\"].iloc[i]/data[\"Ac\"].iloc[i]);\n",
    "                Mcr095[i] = Mcr095[i]/(1e6);\n",
    "    \n",
    "                Mcr005[i] = data[\"W_Ib\"].iloc[i]*(data[\"fct005fl\"].iloc[i] + 1000*data[\"PL\"].iloc[i]/data[\"Ac\"].iloc[i]);\n",
    "                Mcr005[i] = Mcr005[i]/(1e6);\n",
    "\n",
    "            elif data[\"EPID\"].iloc[i] == 17:\n",
    "                \n",
    "                if data[\"Astot\"].iloc[i] < tol: # Crack inducers with height of 6.35 mm used\n",
    "                    red = ((data[\"h\"].iloc[i] - 6.35)**2) / (data[\"h\"].iloc[i]**2);\n",
    "                elif data[\"Astot\"].iloc[i] > tol: # Crack inducers up to reinforcing level used\n",
    "                    red = ((data[\"h\"].iloc[i] - data[\"cy\"].iloc[i])**2) / (data[\"h\"].iloc[i]**2);\n",
    "\n",
    "                Mcr[i] = red*data[\"W_Ib\"].iloc[i]*(data[\"fctmfl\"].iloc[i] + 1000*data[\"PL\"].iloc[i]/data[\"Ac\"].iloc[i]);\n",
    "                Mcr[i] = Mcr[i]/(1e6);\n",
    "                \n",
    "                Mcr095[i] = red*data[\"W_Ib\"].iloc[i]*(data[\"fct095fl\"].iloc[i] + 1000*data[\"PL\"].iloc[i]/data[\"Ac\"].iloc[i]);\n",
    "                Mcr095[i] = Mcr095[i]/(1e6);\n",
    "    \n",
    "                Mcr005[i] = red*data[\"W_Ib\"].iloc[i]*(data[\"fct005fl\"].iloc[i] + 1000*data[\"PL\"].iloc[i]/data[\"Ac\"].iloc[i]);\n",
    "                Mcr005[i] = Mcr005[i]/(1e6);\n",
    "\n",
    "            if data[\"M\"].iloc[i] > Mcr095[i]:\n",
    "                CS[i] = 2;  # Stabilized cracking stage\n",
    "            else:\n",
    "                CS[i] = 1; # Crack formation stage\n",
    "                \n",
    "    return Ncr095, Mcr095, Ncr005, Mcr005, CS, Ncr, Mcr"
   ]
  },
  {
   "cell_type": "code",
   "execution_count": 216,
   "id": "10c4f912-3bb0-40f2-ace5-ee08967777bf",
   "metadata": {},
   "outputs": [],
   "source": [
    "df[\"Ncr095\"], df[\"Mcr095\"], df[\"Ncr005\"], df[\"Mcr005\"], df[\"CS\"], df[\"Ncr\"], df[\"Mcr\"] = func_cal_CS(df);\n",
    "df = df.astype({\n",
    "    \"Ncr095\": \"float\",\n",
    "    \"Mcr095\": \"float\",\n",
    "    \"Ncr005\": \"float\",\n",
    "    \"Mcr005\": \"float\",\n",
    "    \"CS\": \"int\",\n",
    "    \"Ncr\": \"float\",\n",
    "    \"Mcr\": \"float\",\n",
    "});"
   ]
  },
  {
   "cell_type": "markdown",
   "id": "74be7b4e-6ca6-490d-82e8-004cc3b13a34",
   "metadata": {},
   "source": [
    "#### Computation of the bond stress"
   ]
  },
  {
   "cell_type": "code",
   "execution_count": 217,
   "id": "ccd5f668-66a6-4fe7-8591-7feaf9ceb2cd",
   "metadata": {},
   "outputs": [],
   "source": [
    "def func_cal_bond(data,timecutoff,Nrepcutoff):\n",
    "\n",
    "    # tau_bms CS = 1 (CFS), CS = 2 (SCS)\n",
    "    # Good bond = 1, bad bond = 2\n",
    "\n",
    "    tau_bms = np.zeros(data.shape[0]);\n",
    "    tau_max = np.zeros(data.shape[0]);\n",
    "    \n",
    "    for i in range(data.shape[0]):\n",
    "        # tau_bms\n",
    "        # =======\n",
    "\n",
    "        if data[\"CS\"].iloc[i] == 1: # Address CFS\n",
    "            if data[\"Nrep\"].iloc[i] <= Nrepcutoff and data[\"t\"].iloc[i] <= timecutoff:\n",
    "                tau_bms[i] = 1.8*data[\"fctmorg\"].iloc[i];\n",
    "            if data[\"Nrep\"].iloc[i] <= Nrepcutoff and data[\"t\"].iloc[i] > timecutoff:\n",
    "                tau_bms[i] = 1.35*data[\"fctmorg\"].iloc[i];\n",
    "            if data[\"Nrep\"].iloc[i] > Nrepcutoff and data[\"t\"].iloc[i] <= timecutoff:\n",
    "                tau_bms[i] = 1.35*data[\"fctmorg\"].iloc[i];\n",
    "            if data[\"Nrep\"].iloc[i] > Nrepcutoff and data[\"t\"].iloc[i] > timecutoff:\n",
    "                tau_bms[i] = 1.35*data[\"fctmorg\"].iloc[i];\n",
    "        elif data[\"CS\"].iloc[i] == 2: # Address SCS\n",
    "            if data[\"Nrep\"].iloc[i] <= Nrepcutoff and data[\"t\"].iloc[i] <= timecutoff:\n",
    "                tau_bms[i] = 1.8*data[\"fctmorg\"].iloc[i];\n",
    "            if data[\"Nrep\"].iloc[i] <= Nrepcutoff and data[\"t\"].iloc[i] > timecutoff:\n",
    "                tau_bms[i] = 1.8*data[\"fctmorg\"].iloc[i];\n",
    "            if data[\"Nrep\"].iloc[i] > Nrepcutoff and data[\"t\"].iloc[i] <= timecutoff:\n",
    "                tau_bms[i] = 1.8*data[\"fctmorg\"].iloc[i];\n",
    "            if data[\"Nrep\"].iloc[i] > Nrepcutoff and data[\"t\"].iloc[i] > timecutoff:\n",
    "                tau_bms[i] = 1.8*data[\"fctmorg\"].iloc[i];\n",
    "        \n",
    "        # tau_max en tau_b0\n",
    "        # =======\n",
    "        if data[\"bondLR\"].iloc[i] in [0,1] or data[\"bondPR\"].iloc[i] in [0,1]: # Address good or unknown bond\n",
    "            tau_max[i] = 2.5*np.sqrt(data[\"fcmorg\"].iloc[i]);\n",
    "            \n",
    "        elif data[\"bondLR\"].iloc[i] == 2 or data[\"bondPR\"].iloc[i] == 2: # All other bond conditions\n",
    "            tau_max[i] = 1.25*np.sqrt(data[\"fcmorg\"].iloc[i]);\n",
    "    \n",
    "    return tau_bms, tau_max"
   ]
  },
  {
   "cell_type": "code",
   "execution_count": 218,
   "id": "7b0eda82-0a2a-4324-b5b0-3f9300f503e7",
   "metadata": {},
   "outputs": [],
   "source": [
    "df[\"tau_bms\"], df[\"tau_max\"] = func_cal_bond(df,timecutoff,Nrepcutoff);\n",
    "df = df.astype({\n",
    "    \"tau_bms\": \"float\",\n",
    "    \"tau_max\": \"float\"\n",
    "});"
   ]
  },
  {
   "cell_type": "code",
   "execution_count": 219,
   "id": "14aaab5c-b2cc-4ec5-9f3d-6cdc058eb5a2",
   "metadata": {},
   "outputs": [
    {
     "data": {
      "text/plain": [
       "(4783, 170)"
      ]
     },
     "execution_count": 219,
     "metadata": {},
     "output_type": "execute_result"
    }
   ],
   "source": [
    "df.shape"
   ]
  },
  {
   "cell_type": "markdown",
   "id": "768e005a-cee6-42b5-abff-684740ebefbc",
   "metadata": {},
   "source": [
    "### 05.12 - Computation of the steel stress"
   ]
  },
  {
   "cell_type": "markdown",
   "id": "dc08cc0a-e2b2-4740-b716-a5c02f373514",
   "metadata": {},
   "source": [
    "#### Create an initial guess for the bending case"
   ]
  },
  {
   "cell_type": "code",
   "execution_count": 220,
   "id": "88441bff-dfcf-41c0-8d3a-12cf4746a5b6",
   "metadata": {},
   "outputs": [],
   "source": [
    "def func_cal_init(data):\n",
    "\n",
    "    xcinit = np.zeros(data.shape[0]);\n",
    "    epsinit = np.zeros(data.shape[0]);\n",
    "\n",
    "    for i in range(data.shape[0]):\n",
    "        if str(data[\"epsin\"].iloc[i]) == str(2) or str(data[\"epsin\"].iloc[i]) == str(3) and data[\"Astot\"].iloc[i] > 0 and data[\"M\"].iloc[i] > 0:\n",
    "            \n",
    "            ae = data[\"ae\"].iloc[i]; rho = data[\"rhotensinit\"].iloc[i];\n",
    "            d = data[\"h\"].iloc[i] - data[\"ry\"].iloc[i];\n",
    "            \n",
    "            kx = -ae*rho + np.sqrt((ae*rho)**2 + 2*ae*rho);\n",
    "            xcinit[i] = d*kx;\n",
    "\n",
    "            b = data[\"Ac\"].iloc[i]/data[\"h\"].iloc[i]; # Pseudo-width of the cross-section\n",
    "            epsinit[i] = 2*(1e6)*data[\"M\"].iloc[i]/(data[\"Ecm\"].iloc[i]*b*xcinit[i]*(d-xcinit[i]/3));\n",
    "    \n",
    "    return xcinit, epsinit"
   ]
  },
  {
   "cell_type": "code",
   "execution_count": 221,
   "id": "6404fa15-5b5f-4a9f-8f69-2e9e0aefa260",
   "metadata": {},
   "outputs": [],
   "source": [
    "df[\"xcinit\"], df[\"epsinit\"] = func_cal_init(df);\n",
    "df = df.astype({\n",
    "    \"xcinit\": \"float\",\n",
    "    \"epsinit\": \"float\"\n",
    "});"
   ]
  },
  {
   "cell_type": "markdown",
   "id": "269d9e60-e7d4-4bff-a6af-c2f1f76c4d91",
   "metadata": {},
   "source": [
    "#### Constitutive relations"
   ]
  },
  {
   "cell_type": "markdown",
   "id": "4e749bcf-3354-46bb-b333-69b6c9ce302c",
   "metadata": {},
   "source": [
    "##### Concrete"
   ]
  },
  {
   "cell_type": "code",
   "execution_count": 222,
   "id": "cb6a2e5b-5c4e-4bdb-a6b5-24d195213fc3",
   "metadata": {},
   "outputs": [],
   "source": [
    "def func_interpolate_concrete_prop(fcm,E_ci):\n",
    "    \n",
    "    C_12 = [20,27100,11100,0.0019,0.0035,2.44];\n",
    "    C_16 = [24,28800,12200,0.002,0.0035,2.36];\n",
    "    C_20 = [28,30300,13300,0.0021,0.0035,2.28];\n",
    "    C_25 = [33,32000,14900,0.0022,0.0035,2.15];\n",
    "    C_30 = [38,33600,16500,0.0023,0.0035,2.04];\n",
    "    C_35 = [43,35000,18200,0.0023,0.0035,1.92];\n",
    "    C_40 = [48,36300,20000,0.0024,0.0035,1.82];\n",
    "    C_45 = [53,37500,21600,0.0025,0.0035,1.74];\n",
    "    C_50 = [58,38600,23200,0.0026,0.0034,1.66];\n",
    "    C_55 = [63,39700,24700,0.0026,0.0034,1.61];\n",
    "    C_60 = [68,40700,26200,0.0027,0.0033,1.55];\n",
    "    C_70 = [78,42600,28900,0.0027,0.0032,1.47];\n",
    "    C_80 = [88,44400,31400,0.0028,0.0031,1.41];\n",
    "    C_90 = [98,46000,33800,0.0029,0.003,1.36];\n",
    "    C_100 = [108,47500,36000,0.003,0.003,1.32];\n",
    "    \n",
    "    d = {\"C12\":C_12,\"C16\":C_16,\"C20\":C_20,\"C25\":C_25,\"C30\":C_30,\"C35\":C_35,\"C40\":C_40,\"C45\":C_45,\"C50\":C_50,\\\n",
    "         \"C55\":C_55,\"C60\":C_60,\"C70\":C_70,\"C80\":C_80,\"C90\":C_90,\"C100\":C_100};\n",
    "    \n",
    "    col = [\"fcm\",\"Eci\",\"Ec1\",\"epsc1\",\"epsclim\",\"k\"];\n",
    "        \n",
    "    df = pd.DataFrame(data=d).T\n",
    "    df.columns = col;\n",
    "    \n",
    "    E_c1_ipl = interp1d(df[\"fcm\"],df[\"Ec1\"],fill_value=\"extrapolate\");\n",
    "    eps_c1_ipl = interp1d(df[\"fcm\"],df[\"epsc1\"],fill_value=\"extrapolate\");\n",
    "    eps_clim_ipl = interp1d(df[\"fcm\"],df[\"epsclim\"],fill_value=\"extrapolate\");\n",
    "\n",
    "    Ec_1 = E_c1_ipl(fcm);\n",
    "    eps_c1 = eps_c1_ipl(fcm);\n",
    "    eps_clim = eps_clim_ipl(fcm);\n",
    "    \n",
    "    k = E_ci / Ec_1;\n",
    "    \n",
    "    return k, eps_c1, eps_clim"
   ]
  },
  {
   "cell_type": "code",
   "execution_count": 223,
   "id": "a7312f8d-3098-4fc3-9b3a-ccfeb7caa26a",
   "metadata": {},
   "outputs": [],
   "source": [
    "def func_cal_fcm_eps(fcm,eps_c,eps_c1,k,epslim,Ecm,phi_creep,chi):\n",
    "    \n",
    "    eta = (eps_c/(1+chi*phi_creep)) / eps_c1;\n",
    "\n",
    "    sig_c = 0;\n",
    "\n",
    "    if eps_c < 0:\n",
    "        sig_c = 0;\n",
    "    \n",
    "    # elif 0 <= eps_c <= epslim:\n",
    "    elif 0 <= eps_c <= epslim/(1+chi*phi_creep):\n",
    "        sig_c = fcm*(k*eta - (eta**2))/(1 + (k-2)*eta);\n",
    "    \n",
    "    elif eps_c > epslim/(1+chi*phi_creep):\n",
    "        sig_c = 0;\n",
    "    \n",
    "    return sig_c"
   ]
  },
  {
   "cell_type": "markdown",
   "id": "56f4085d-cb44-462c-98f7-5dfc9ba9708c",
   "metadata": {},
   "source": [
    "##### Reinforcing steel"
   ]
  },
  {
   "cell_type": "markdown",
   "id": "a58179af-7c45-4b3e-bce6-38e93d1f00cf",
   "metadata": {},
   "source": [
    "It is assumed that the steel behaves linear elastic. Afterwards, it is checked if the yield stress is exceeded."
   ]
  },
  {
   "cell_type": "markdown",
   "id": "d9753407-a918-404e-9037-18f178fea420",
   "metadata": {},
   "source": [
    "##### Prestressing steel"
   ]
  },
  {
   "cell_type": "code",
   "execution_count": 224,
   "id": "c2db7afa-a0f1-49dd-bdaf-908bbb30ffdc",
   "metadata": {},
   "outputs": [],
   "source": [
    "def func_cal_prestress(Ep,fp01k,fpk,eps_pud,eps):\n",
    "\n",
    "    stress = Ep*eps;\n",
    "    \n",
    "    return stress"
   ]
  },
  {
   "cell_type": "markdown",
   "id": "b91fb2be-3287-4e56-90bc-f3746c078dd2",
   "metadata": {},
   "source": [
    "#### Forces and point of application of forces"
   ]
  },
  {
   "cell_type": "markdown",
   "id": "45d9518c-8117-44bc-8f1c-6226ecdfdb7e",
   "metadata": {},
   "source": [
    "##### Concrete - compression"
   ]
  },
  {
   "cell_type": "code",
   "execution_count": 225,
   "id": "ea1db91f-0376-4f87-9dc4-d2b2f68da586",
   "metadata": {},
   "outputs": [],
   "source": [
    "def func_int_compression(z,epsctop,xc,b,h,Nint,fcm,eps_c1,k,epslim,Ecm,phi_creep,chi):\n",
    "           \n",
    "    eps_c = func_create_strain_dist(epsctop,xc,z);\n",
    "\n",
    "    sig_c = func_cal_fcm_eps(fcm,eps_c,eps_c1,k,epslim,Ecm,phi_creep,chi);\n",
    "\n",
    "    bz = func_extract_width(z,b);\n",
    "    dF = sig_c*bz;\n",
    "    \n",
    "    return dF"
   ]
  },
  {
   "cell_type": "code",
   "execution_count": 226,
   "id": "5383fc3b-9143-46cc-b2d5-3ed96f54b4a7",
   "metadata": {},
   "outputs": [],
   "source": [
    "def func_int_compression_moment(z,epsctop,xc,b,h,Nint,fcm,eps_c1,k,epslim,Ecm,phi_creep,chi):\n",
    "    \n",
    "    dF = func_int_compression(z,epsctop,xc,b,h,Nint,fcm,eps_c1,k,epslim,Ecm,phi_creep,chi);\n",
    "    zdF = dF*z;\n",
    "    \n",
    "    return zdF"
   ]
  },
  {
   "cell_type": "markdown",
   "id": "435a117c-5102-4dd2-9eef-ca8a40ec24d8",
   "metadata": {},
   "source": [
    "##### Concrete - uncracked part, but in tension"
   ]
  },
  {
   "cell_type": "code",
   "execution_count": 227,
   "id": "f2eafd98-1536-4888-ba82-88389a2a280d",
   "metadata": {},
   "outputs": [],
   "source": [
    "def func_int_uncracked_tension(z,epsctop,xc,b,Ecm):\n",
    "\n",
    "    eps_c = func_create_strain_dist(epsctop,xc,z);\n",
    "    \n",
    "    sigt = -1*Ecm*eps_c;\n",
    "    \n",
    "    bz = func_extract_width(z,b);\n",
    "    dF = sigt*bz;\n",
    "\n",
    "    return dF"
   ]
  },
  {
   "cell_type": "markdown",
   "id": "2df76e5a-ffa1-439a-b73b-c0a31f544da0",
   "metadata": {},
   "source": [
    "##### Concrete - cracked part, contribution according to Hordijk"
   ]
  },
  {
   "cell_type": "code",
   "execution_count": 228,
   "id": "12a612c0-8080-4cb7-8a80-269a70868b18",
   "metadata": {},
   "outputs": [],
   "source": [
    "def func_cal_tension_softening(fcm,fctm,w):\n",
    "    \n",
    "    c1 = 3; c2 = 6.93;\n",
    "    Gf = 85*(fcm**0.15)/1000;\n",
    "    wult = 5.136*Gf/fctm;\n",
    "    \n",
    "    if w >= 0 and w < wult:\n",
    "        sigct = fctm*\\\n",
    "            (( 1 + (c1*w/wult)**3 ) * np.exp(-c2*w/wult) - (w/wult)*(1+c1**3)*np.exp(-c2));\n",
    "\n",
    "    else:\n",
    "        sigct = 0;\n",
    "\n",
    "    return sigct"
   ]
  },
  {
   "cell_type": "code",
   "execution_count": 229,
   "id": "5c67af0b-1ab7-448a-a511-a8869cd2a83d",
   "metadata": {},
   "outputs": [],
   "source": [
    "def func_int_hordijk(z,zw,xc,xct1,fcm,b,h,fctm,w0,epsin):\n",
    "    \n",
    "    if epsin == str(2) or epsin == str(3): # Addressing case of bending, or prestressing\n",
    "        w = w0*(z-xc-xct1)/(zw-xc-xct1);\n",
    "        sig_t = func_cal_tension_softening(fcm,fctm,w);\n",
    "    elif epsin == str(\"1a\"): # Addressing case of pure tension\n",
    "        w = w0;\n",
    "        sig_t = func_cal_tension_softening(fcm,fctm,w);\n",
    "\n",
    "    bz = func_extract_width(z,b);\n",
    "    dF = sig_t*bz;\n",
    "\n",
    "    return dF"
   ]
  },
  {
   "cell_type": "code",
   "execution_count": 230,
   "id": "1ded156d-43c9-45e3-9c7a-1ebb4d4e6e68",
   "metadata": {},
   "outputs": [],
   "source": [
    "def func_int_hordijk_moment(z,zw,xc,xct1,fcm,b,h,fctm,w0,epsin):\n",
    "\n",
    "    dF = func_int_hordijk(z,zw,xc,xct1,fcm,b,h,fctm,w0,epsin);\n",
    "    dFz = dF*z;\n",
    "\n",
    "    return dFz    "
   ]
  },
  {
   "cell_type": "markdown",
   "id": "765cfe46-848f-4fc3-beae-9f9a427e5d17",
   "metadata": {},
   "source": [
    "##### Reinforcing steel"
   ]
  },
  {
   "cell_type": "code",
   "execution_count": 231,
   "id": "a7f30954-22fb-4698-a46e-caeb4adad9d4",
   "metadata": {},
   "outputs": [],
   "source": [
    "def func_compute_steel_stress(epsctop,Es,As,xc,zs,zt,fy,Nzero):\n",
    "    \n",
    "    Fstore = func_sum_steel_reinf(epsctop,Es,As,xc,zs,zt,fy,Nzero);\n",
    "\n",
    "    sigs = np.zeros(len(As));\n",
    "    \n",
    "    for i in range(int(Nzero)+1): \n",
    "        if As[i] > 0:\n",
    "            sigs[i] = Fstore[0][i]/As[i];\n",
    "\n",
    "        else:\n",
    "            sigs[i] = 0;\n",
    "    \n",
    "    return sigs"
   ]
  },
  {
   "cell_type": "markdown",
   "id": "405a2530-95d1-4f4d-b976-487678e35b6b",
   "metadata": {},
   "source": [
    "##### Prestressing steel"
   ]
  },
  {
   "cell_type": "code",
   "execution_count": 232,
   "id": "831b5a2b-7653-4d2f-be30-c192be0b527c",
   "metadata": {},
   "outputs": [],
   "source": [
    "def func_sum_steel_dP(epsctop,Ep,Ap,xc,zp,zt,fp01k,fpk,eps_pud,Pinf,Nzero,npl,zeta1):\n",
    "    \n",
    "    dPstore = np.zeros(len(Ap));\n",
    "    MdPstore = np.zeros(len(Ap));\n",
    "    sigptotstore = np.zeros(len(Ap));\n",
    "\n",
    "    Aplayer = np.zeros(len(Ap));\n",
    "\n",
    "    for i in range(int(Nzero)+1):\n",
    "        Aplayer[i] = npl[i]*Ap[i];\n",
    "    \n",
    "    Aptot = sum(Aplayer);\n",
    "    \n",
    "    sigpinf = Pinf/Aptot\n",
    "    \n",
    "    # Sum over the layers\n",
    "    for i in range(int(Nzero)+1):\n",
    "        \n",
    "\n",
    "        strainp = sigpinf/Ep + zeta1*epsctop*(zp[i]-xc)/xc;\n",
    "        dPstore[i] = Aplayer[i]*func_cal_prestress(Ep,fp01k,fpk,eps_pud,strainp) - Aplayer[i]*sigpinf;\n",
    "\n",
    "        MdPstore[i] = dPstore[i]*(zp[i]-zt);\n",
    "        sigptotstore = func_cal_prestress(Ep,fp01k,fpk,eps_pud,strainp);\n",
    "    \n",
    "    return dPstore, MdPstore, sigptotstore"
   ]
  },
  {
   "cell_type": "code",
   "execution_count": 233,
   "id": "b23077cb-c762-47d0-a12c-44f1240c3659",
   "metadata": {},
   "outputs": [],
   "source": [
    "def func_compute_dsigp(epsctop,Ep,Ap,xc,zp,zt,fp01k,fpk,eps_pud,Pinf,Nzero,npl,zeta1):\n",
    "    \n",
    "    dPstore, MdPstore, sigptotstore = func_sum_steel_dP(epsctop,Ep,Ap,xc,zp,zt,fp01k,fpk,eps_pud,Pinf,Nzero,npl,zeta1);\n",
    "    \n",
    "    dsigp = np.zeros(len(Ap));\n",
    "    Aplayer = np.zeros(len(Ap));\n",
    "\n",
    "    for i in range(int(Nzero)+1):\n",
    "        Aplayer[i] = npl[i]*Ap[i];\n",
    "    \n",
    "    for i in range(int(Nzero)+1):\n",
    "        if Aplayer[i] > 0:\n",
    "            dsigp[i] = dPstore[i]/Aplayer[i]\n",
    "    \n",
    "    return dsigp, sigptotstore"
   ]
  },
  {
   "cell_type": "markdown",
   "id": "496f7468-e4d9-4f2c-a14b-e600d1f56ebc",
   "metadata": {},
   "source": [
    "#### Equilibrium relations"
   ]
  },
  {
   "cell_type": "markdown",
   "id": "21f880e1-2dbf-4bff-a208-69937913ce5e",
   "metadata": {},
   "source": [
    "Equilibrium relations for elements loaded in pure bending."
   ]
  },
  {
   "cell_type": "code",
   "execution_count": 234,
   "id": "f563bb74-059f-4c4f-9e7b-ccaea156c97a",
   "metadata": {},
   "outputs": [],
   "source": [
    "def func_cal_steel_stress_eqset_reinf_V2(p,fcm,eps_c1,k,Es,b,h,Nint,zs,As,fy,Mext,\\\n",
    "                                zt,Nzero,epslim,Next,Ecm,phi_creep,chi):\n",
    "    \n",
    "    epsctop,xc = p; # set of unknowns, called xc and epstop\n",
    "    \n",
    "    # Compression part of concrete\n",
    "    # =================================================================\n",
    "    Fcp = quad(func_int_compression,0,xc,args=(epsctop,xc,b,h,Nint,fcm,eps_c1,k,epslim,Ecm,phi_creep,chi))[0];\n",
    "    \n",
    "    # Lever arm of compression force (wrt top!)\n",
    "    # =================================================================  \n",
    "    zx = quad(func_int_compression_moment,0,xc,args=(epsctop,xc,b,h,Nint,fcm,eps_c1,k,epslim,Ecm,phi_creep,chi))[0]/Fcp;\n",
    "    \n",
    "    # Force and bending moment in reinforcing steel\n",
    "    # =================================================================   \n",
    "    Fs, Mf = func_sum_steel_reinf(epsctop,Es,As,xc,zs,zt,fy,Nzero);\n",
    "\n",
    "    Fstot = sum(Fs);\n",
    "    Mftot = sum(Mf);\n",
    "    \n",
    "    # Return the equilibrium equations\n",
    "    # =================================================================\n",
    "        \n",
    "    horeq = Fcp - Fstot + (10**3)*Next;\n",
    "    Meq = (10**6)*Mext - Fcp*(zt-zx) - Mftot;\n",
    "    \n",
    "    return horeq, Meq"
   ]
  },
  {
   "cell_type": "markdown",
   "id": "c2d4194f-dd81-403e-a3a7-94871db5812f",
   "metadata": {},
   "source": [
    "Equilibrium relations for elements subjected to prestressing."
   ]
  },
  {
   "cell_type": "code",
   "execution_count": 235,
   "id": "6e614a08-592e-46b9-ba4a-d3a690be3410",
   "metadata": {},
   "outputs": [],
   "source": [
    "def func_cal_steel_stress_eqset_prestress_V2(p,fcm,eps_c1,k,Es,b,h,Nint,zs,As,fy,Mext,\\\n",
    "                                zt,Pinf,Ep,Ap,zp,fp01k,fpk,eps_pud,\\\n",
    "                                    NzeroAs,NzeroAp,Next,epslim,npl,zeta1,Ecm,phi_creep,chi):\n",
    "    \n",
    "    epsctop,xc = p; # set of unknowns, called xc and epstop\n",
    "\n",
    "    # Compression part of concrete\n",
    "    # =================================================================\n",
    "    Fcp = quad(func_int_compression,0,xc,args=(epsctop,xc,b,h,Nint,fcm,eps_c1,k,epslim,Ecm,phi_creep,chi))[0];\n",
    "    \n",
    "    # Lever arm of compression force (wrt top!)\n",
    "    # =================================================================\n",
    "    zx = quad(func_int_compression_moment,0,xc,args=(epsctop,xc,b,h,Nint,fcm,eps_c1,k,epslim,Ecm,phi_creep,chi))[0]/Fcp;\n",
    "    \n",
    "    # Force and bending moment in reinforcing steel\n",
    "    # =================================================================\n",
    "    Fs, Mf = func_sum_steel_reinf(epsctop,Es,As,xc,zs,zt,fy,NzeroAs);\n",
    "    \n",
    "    Fstot = sum(Fs);\n",
    "    Mftot = sum(Mf);\n",
    "\n",
    "    # Berekening invloed van de voorspanning\n",
    "    # =================================================================   \n",
    "    dPstore, MdPstore, sigptotstore = func_sum_steel_dP(epsctop,Ep,Ap,xc,zp,zt,fp01k,fpk,eps_pud,Pinf,NzeroAp,npl,zeta1);\n",
    "    \n",
    "    dFp = sum(dPstore);\n",
    "    Mptot = sum(MdPstore);\n",
    "    \n",
    "    # Return the equilibrium equations\n",
    "    # =================================================================\n",
    "    horeq = Fcp + (10**3)*Next - Fstot - dFp - Pinf;\n",
    "    Meq = (10**6)*Mext - Fcp*(zt-zx) - Mftot - Mptot;\n",
    "    \n",
    "    return horeq, Meq"
   ]
  },
  {
   "cell_type": "markdown",
   "id": "1379cc91-4e4c-41e9-aaaa-17d025ba5e89",
   "metadata": {},
   "source": [
    "Equilibrium relations for elements subjected to pure tension."
   ]
  },
  {
   "cell_type": "code",
   "execution_count": 236,
   "id": "03b947f3-4d54-49f6-99e2-73b0cee425e7",
   "metadata": {},
   "outputs": [],
   "source": [
    "def func_cal_steel_stress_eqset_reinf_Hordijk_tensioning(Next,zw,xc,xct1,fcm,b,h,fctm,w0,epsin):\n",
    "\n",
    "    Nct2 = quad(func_int_hordijk,0,h,args=(zw,xc,xct1,fcm,b,h,fctm,w0,epsin))[0];\n",
    "    Ns = Next - Nct2; # Linear elastic part, uncracked, in tension, does not exist (constant strain distribution over the height of the cross-section)\n",
    "\n",
    "    return Ns   \n",
    "    "
   ]
  },
  {
   "cell_type": "code",
   "execution_count": 237,
   "id": "70755730-093b-4235-8c40-228581b304f1",
   "metadata": {},
   "outputs": [],
   "source": [
    "def func_cal_steel_stress_eqset_reinf_Hordijk_bending(p,fcm,eps_c1,k,Es,b,h,Nint,zs,As,fy,Mext,\\\n",
    "                                zt,Nzero,epslim,Next,Ecm,phi_creep,chi,zw,w0,epsin,fctm):\n",
    "    \n",
    "    epsctop,xc = p; # set of unknowns, called xc and epstop\n",
    "    \n",
    "    # Compression part of concrete\n",
    "    # =================================================================\n",
    "    Fcp = quad(func_int_compression,0,xc,args=(epsctop,xc,b,h,Nint,fcm,eps_c1,k,epslim,Ecm,phi_creep,chi))[0];\n",
    "    \n",
    "    # Lever arm of compression force (wrt top!)\n",
    "    # =================================================================  \n",
    "    zx = quad(func_int_compression_moment,0,xc,args=(epsctop,xc,b,h,Nint,fcm,eps_c1,k,epslim,Ecm,phi_creep,chi))[0]/Fcp;\n",
    "\n",
    "    # Part of the concrete that is uncracked, but in tension\n",
    "    # =================================================================  \n",
    "    xct1 = (fctm/Ecm)*(xc/epsctop);\n",
    "    Nct1 = quad(func_int_uncracked_tension,xc,xc+xct1,args=(epsctop,xc,b,Ecm))[0];\n",
    "\n",
    "    # Location of force application of NCT1\n",
    "    # =================================================================  \n",
    "    zct1 = xc + (2/3)*xct1;\n",
    "\n",
    "    # Hordijk contribution\n",
    "    # =================================================================  \n",
    "    Nct2 = quad(func_int_hordijk,xc+xct1,h,args=(zw,xc,xct1,fcm,b,h,fctm,w0,epsin))[0];\n",
    "\n",
    "    # Location of force application of NCT2\n",
    "    # ================================================================= \n",
    "    zct2 = xc + xct1 + quad(func_int_hordijk_moment,xc+xct1,h,args=(zw,xc,xct1,fcm,b,h,fctm,w0,epsin))[0]/Nct2;\n",
    "    \n",
    "    # Force and bending moment in reinforcing steel\n",
    "    # =================================================================   \n",
    "    Fs, Mf = func_sum_steel_reinf(epsctop,Es,As,xc,zs,zt,fy,Nzero);\n",
    "\n",
    "    Fstot = sum(Fs);\n",
    "    Mftot = sum(Mf);\n",
    "    \n",
    "    # Return the equilibrium equations\n",
    "    # =================================================================\n",
    "        \n",
    "    horeq = Fcp - Nct1 - Nct2 - Fstot + (10**3)*Next;\n",
    "    Meq = (10**6)*Mext - Fcp*(zt-zx) - Mftot + Nct1*(zt-xc-(2/3)*xct1) - Nct2*(zct2-zt) ;\n",
    "    \n",
    "    return horeq, Meq"
   ]
  },
  {
   "cell_type": "code",
   "execution_count": 238,
   "id": "910298b4-66b8-43e7-bfc7-bb6984e4cd04",
   "metadata": {},
   "outputs": [],
   "source": [
    "def func_cal_steel_stress_eqset_prestress_Hordijk(p,fcm,eps_c1,k,Es,b,h,Nint,zs,As,fy,Mext,\\\n",
    "                                zt,Pinf,Ep,Ap,zp,fp01k,fpk,eps_pud,\\\n",
    "                                    NzeroAs,NzeroAp,Next,epslim,npl,zeta1,Ecm,phi_creep,chi,zw,w0,epsin,fctm):\n",
    "    \n",
    "    epsctop,xc = p; # set of unknowns, called xc and epstop\n",
    "\n",
    "    # Compression part of concrete\n",
    "    # =================================================================\n",
    "    Fcp = quad(func_int_compression,0,xc,args=(epsctop,xc,b,h,Nint,fcm,eps_c1,k,epslim,Ecm,phi_creep,chi))[0];\n",
    "    \n",
    "    # Lever arm of compression force (wrt top!)\n",
    "    # =================================================================\n",
    "    zx = quad(func_int_compression_moment,0,xc,args=(epsctop,xc,b,h,Nint,fcm,eps_c1,k,epslim,Ecm,phi_creep,chi))[0]/Fcp;\n",
    "\n",
    "    # Part of the concrete that is uncracked, but in tension\n",
    "    # =================================================================  \n",
    "    xct1 = (fctm/Ecm)*(xc/epsctop);\n",
    "    Nct1 = quad(func_int_uncracked_tension,xc,xc+xct1,args=(epsctop,xc,b,Ecm))[0];\n",
    "\n",
    "    # Location of force application of NCT1\n",
    "    # =================================================================  \n",
    "    zct1 = xc + (2/3)*xct1;\n",
    "\n",
    "    # Hordijk contribution\n",
    "    # =================================================================  \n",
    "    Nct2 = quad(func_int_hordijk,xc+xct1,h,args=(zw,xc,xct1,fcm,b,h,fctm,w0,epsin))[0];\n",
    "\n",
    "    # Location of force application of NCT2\n",
    "    # ================================================================= \n",
    "    zct2 = xc + xct1 + quad(func_int_hordijk_moment,xc+xct1,h,args=(zw,xc,xct1,fcm,b,h,fctm,w0,epsin))[0]/Nct2;\n",
    "    \n",
    "    # Force and bending moment in reinforcing steel\n",
    "    # =================================================================\n",
    "    Fs, Mf = func_sum_steel_reinf(epsctop,Es,As,xc,zs,zt,fy,NzeroAs);\n",
    "    \n",
    "    Fstot = sum(Fs);\n",
    "    Mftot = sum(Mf);\n",
    "\n",
    "    # Berekening invloed van de voorspanning\n",
    "    # =================================================================   \n",
    "    dPstore, MdPstore, sigptotstore = func_sum_steel_dP(epsctop,Ep,Ap,xc,zp,zt,fp01k,fpk,eps_pud,Pinf,NzeroAp,npl,zeta1);\n",
    "    \n",
    "    dFp = sum(dPstore);\n",
    "    Mptot = sum(MdPstore);\n",
    "    \n",
    "    # Return the equilibrium equations\n",
    "    # =================================================================\n",
    "    horeq = Fcp + (10**3)*Next - Nct1 - Nct2 - Fstot - dFp - Pinf;\n",
    "    Meq = (10**6)*Mext - Fcp*(zt-zx) - Mftot - Mptot + Nct1*(zt-xc-(2/3)*xct1) - Nct2*(zct2-zt);\n",
    "    \n",
    "    return horeq, Meq"
   ]
  },
  {
   "cell_type": "markdown",
   "id": "61a3fc7f-c901-4251-93a9-77a7bd30c9af",
   "metadata": {},
   "source": [
    "#### Calculation of steel stress including Hordijk Tension Softening"
   ]
  },
  {
   "cell_type": "code",
   "execution_count": 239,
   "id": "b7d82183-d256-4fc1-8073-9af82e8feb35",
   "metadata": {},
   "outputs": [],
   "source": [
    "def func_cal_steel_stress_hordijk(data):\n",
    "\n",
    "    sigstoresimplified = np.zeros(data.shape[0]);\n",
    "    sigstore = np.zeros((data.shape[0],Ncond)); # Store stresses of all reinforcement layers!\n",
    "    dpsigstore = np.zeros((data.shape[0],Ncond)); # Store stresses dpsig\n",
    "    sigptotstore = np.zeros((data.shape[0],Ncond)); # Store prestressing stresses acting in each tendon\n",
    "    \n",
    "    xc = np.zeros(data.shape[0]);\n",
    "    eps = np.zeros(data.shape[0]);# Calculated strain at the top of the considered concrete section\n",
    "    eps_bot = np.zeros(data.shape[0]);# Calculated strain at the bottom of the considered concrete section\n",
    "\n",
    "    data[\"sigs\"] = np.zeros(data.shape[0]); # Overwrite --> prevents that \"old stress remain\"\n",
    "    data[\"dpsigs\"] = np.zeros(data.shape[0]);\n",
    "    \n",
    "    for i in range(data.shape[0]):\n",
    "\n",
    "        # Determine param zw\n",
    "        if data[\"locw\"].iloc[i] == 1:\n",
    "            zw = zs[i,data[\"indLR\"].iloc[i]];\n",
    "        elif data[\"locw\"].iloc[i] == 2:\n",
    "            zw = data[\"h\"].iloc[i];\n",
    "        else:\n",
    "            zw = 0;\n",
    "\n",
    "        # Determine param w0\n",
    "        if data[\"wm\"].iloc[i] > tol and data[\"wmax\"].iloc[i] < tol:\n",
    "            w0 = data[\"wm\"].iloc[i];\n",
    "        elif data[\"wmax\"].iloc[i] > tol and data[\"wm\"].iloc[i] < tol:\n",
    "            w0 = data[\"wmax\"].iloc[i];\n",
    "        elif data[\"wm\"].iloc[i] > tol and data[\"wmax\"].iloc[i] > tol:\n",
    "            w0 = data[\"wmax\"].iloc[i];\n",
    "        else:\n",
    "            w0 = 0;\n",
    "\n",
    "        with suppress(ZeroDivisionError): # Continue calculation\n",
    "\n",
    "            # Pure axial force\n",
    "            # ==================================================================================\n",
    "            if str(data[\"epsin\"].iloc[i]) == str(\"1a\"):\n",
    "\n",
    "                if data[\"Astot\"].iloc[i] > tol:\n",
    "\n",
    "                    k, eps_c1, eps_clim = func_interpolate_concrete_prop(data[\"fcm\"].iloc[i],data[\"Ecm0\"].iloc[i]);\n",
    "                    Ns = func_cal_steel_stress_eqset_reinf_Hordijk_tensioning(data[\"N\"].iloc[i]*(10**3),\n",
    "                                                                              zw,\n",
    "                                                                              0, # xc is not needed (pure tension)\n",
    "                                                                              0, # xct1 is not needed (is 0, assumption: complete section is cracked))\n",
    "                                                                              data[\"fcm\"].iloc[i],\n",
    "                                                                              data[\"b\"].iloc[i],\n",
    "                                                                              data[\"h\"].iloc[i],\n",
    "                                                                              data[\"fctm\"].iloc[i],\n",
    "                                                                              w0,\n",
    "                                                                              data[\"epsin\"].iloc[i]);\n",
    "\n",
    "                    sigstore[i,:] = Ns/data[\"Astot\"].iloc[i];\n",
    "                    sigstoresimplified[i] = (10**3)*data[\"N\"].iloc[i] / data[\"Astot\"].iloc[i]; # Useful for shadow-calculation!\n",
    "\n",
    "                    if sigstore[i,data[\"indLR\"].iloc[i]] > data[\"fy\"].iloc[i]:\n",
    "                        #print(\"Warning: computed steel stress\",sigstore[i,data[\"indLR\"].iloc[i]],\n",
    "                        #      \"larger than yield strength\",data[\"fy\"].iloc[i],\"reject result\");\n",
    "                        sigstore[i,data[\"indLR\"].iloc[i]] == np.nan; # Since this steel stress is not valid!\n",
    "                        data[\"sigs\"].iloc[i] = np.nan;\n",
    "                    else:\n",
    "                        #print(\"Success: a valid steel stress (<fy) was computed\",sigstore[i,data[\"indLR\"].iloc[i]],\"<\",data[\"fy\"].iloc[i]);\n",
    "                        data[\"sigs\"].iloc[i] = sigstore[i,data[\"indLR\"].iloc[i]];\n",
    "            \n",
    "            # Pure bending and / or bending in combination with axial forces \n",
    "            # ==================================================================================\n",
    "            if str(data[\"epsin\"].iloc[i]) == str(2):\n",
    "                \n",
    "                # Below, address the case of reinforcing steel only\n",
    "                # ====================================\n",
    "                if data[\"Aptot\"].iloc[i] < tol:\n",
    "\n",
    "                    k, eps_c1, eps_clim = func_interpolate_concrete_prop(data[\"fcm\"].iloc[i],data[\"Ecm0\"].iloc[i]);\n",
    "                    \n",
    "                    sol = fsolve(func_cal_steel_stress_eqset_reinf_Hordijk_bending,[data[\"epsinit\"].iloc[i],data[\"xcinit\"].iloc[i]],\n",
    "                                                        args=(data[\"fcm\"].iloc[i],\n",
    "                                                                eps_c1,\n",
    "                                                                k,\n",
    "                                                                data[\"Es\"].iloc[i],\n",
    "                                                                data[\"b\"].iloc[i],\n",
    "                                                                data[\"h\"].iloc[i],\n",
    "                                                                500,\n",
    "                                                                zs[i,:],\n",
    "                                                                Aslayer[i,:],\n",
    "                                                                data[\"fy\"].iloc[i],\n",
    "                                                                data[\"M\"].iloc[i],\n",
    "                                                                data[\"cog\"].iloc[i],\n",
    "                                                                data[\"indLR\"].iloc[i],\n",
    "                                                                eps_clim,\n",
    "                                                                data[\"N\"].iloc[i],\n",
    "                                                                data[\"Ecm\"].iloc[i],\n",
    "                                                                data[\"phi_creep\"].iloc[i],\n",
    "                                                                chi,\n",
    "                                                                zw,\n",
    "                                                                w0,\n",
    "                                                                data[\"epsin\"].iloc[i],\n",
    "                                                                data[\"fctm\"].iloc[i]\n",
    "                                                            ));\n",
    "                    \n",
    "                    eps[i], xc[i] = sol[0], sol[1];\n",
    "                    eps_bot[i] = eps[i]*(data[\"h\"].iloc[i]-xc[i])/xc[i];\n",
    "        \n",
    "                    sigstore[i,:] = func_compute_steel_stress(eps[i],\n",
    "                                                                     data[\"Es\"].iloc[i],\n",
    "                                                                     Aslayer[i,:],\n",
    "                                                                     xc[i],\n",
    "                                                                     zs[i,:],\n",
    "                                                                     data[\"cog\"].iloc[i],\n",
    "                                                                     data[\"fy\"].iloc[i],\n",
    "                                                                     data[\"indLR\"].iloc[i]);\n",
    "\n",
    "                    sigstoresimplified[i] = ((10**6)*data[\"M\"].iloc[i] / data[\"Astot\"].iloc[i])*(1/(data[\"zstot\"].iloc[i]-data[\"xcinit\"].iloc[i]/3))\n",
    "\n",
    "                    # Check if conditions are met (w.r.t. lowest reinforcing layer; stress should be smaller than yield strength)\n",
    "                    if sigstore[i,data[\"indLR\"].iloc[i]] > data[\"fy\"].iloc[i]:\n",
    "                        #print(\"Warning: computed steel stress\",sigstore[i,data[\"indLR\"].iloc[i]],\n",
    "                        #      \"larger than yield strength\",data[\"fy\"].iloc[i],\"reject result\");\n",
    "                        sigstore[i,data[\"indLR\"].iloc[i]] == np.nan; # Since this steel stress is not valid!\n",
    "                        data[\"sigs\"].iloc[i] = np.nan;\n",
    "                    else:\n",
    "                        #print(\"Success: a valid steel stress (<fy) was computed\",sigstore[i,data[\"indLR\"].iloc[i]],\"<\",data[\"fy\"].iloc[i]);\n",
    "                        data[\"sigs\"].iloc[i] = sigstore[i,data[\"indLR\"].iloc[i]];\n",
    "\n",
    "            # Prestressing\n",
    "            # ==================================================================================\n",
    "            if str(data[\"epsin\"].iloc[i]) == str(3):\n",
    "                \n",
    "                # Below, address the case of prestressing steel, maybe in combination with reinforcing steel\n",
    "                # ====================================\n",
    "                if data[\"Aptot\"].iloc[i] > tol:\n",
    "\n",
    "                    k, eps_c1, eps_clim = func_interpolate_concrete_prop(data[\"fcm\"].iloc[i],data[\"Ecm0\"].iloc[i]);\n",
    "                    \n",
    "                    sol = fsolve(func_cal_steel_stress_eqset_prestress_Hordijk,[0.001,data[\"h\"].iloc[i]/3],\n",
    "                                                                args=(data[\"fcm\"].iloc[i],\n",
    "                                                                eps_c1,\n",
    "                                                                k,\n",
    "                                                                data[\"Es\"].iloc[i],\n",
    "                                                                data[\"b\"].iloc[i],\n",
    "                                                                data[\"h\"].iloc[i],\n",
    "                                                                500,\n",
    "                                                                zs[i,:],\n",
    "                                                                Aslayer[i,:],\n",
    "                                                                data[\"fy\"].iloc[i],\n",
    "                                                                data[\"M\"].iloc[i],\n",
    "                                                                data[\"cog\"].iloc[i],\n",
    "                                                                1000*data[\"PL\"].iloc[i],\n",
    "                                                                data[\"Ep\"].iloc[i],\n",
    "                                                                Ap[i,:], # Area per tendon in a layer\n",
    "                                                                zp[i,:],\n",
    "                                                                data[\"fp01k\"].iloc[i],\n",
    "                                                                data[\"fpk\"].iloc[i],\n",
    "                                                                0.005, # epsuk\n",
    "                                                                data[\"indLR\"].iloc[i],\n",
    "                                                                data[\"indNP\"].iloc[i],\n",
    "                                                                data[\"N\"].iloc[i],\n",
    "                                                                eps_clim,\n",
    "                                                                npl[i,:],\n",
    "                                                                data[\"zeta1\"].iloc[i],\n",
    "                                                                data[\"Ecm\"].iloc[i],\n",
    "                                                                data[\"phi_creep\"].iloc[i],\n",
    "                                                                chi,\n",
    "                                                                zw,\n",
    "                                                                w0,\n",
    "                                                                data[\"epsin\"].iloc[i],\n",
    "                                                                data[\"fctm\"].iloc[i]\n",
    "                                                                    ));    \n",
    "                        \n",
    "                    eps[i], xc[i] = sol[0], sol[1];\n",
    "                    eps_bot[i] = eps[i]*(data[\"h\"].iloc[i]-xc[i])/xc[i];\n",
    "                                    \n",
    "                    sigstore[i,:] = func_compute_steel_stress(eps[i],\n",
    "                                                             data[\"Es\"].iloc[i],\n",
    "                                                             Aslayer[i,:],\n",
    "                                                             xc[i],\n",
    "                                                             zs[i,:],\n",
    "                                                             data[\"cog\"].iloc[i],\n",
    "                                                             data[\"fy\"].iloc[i],\n",
    "                                                             data[\"indLR\"].iloc[i]);\n",
    "                    \n",
    "                    dpsigstore[i,:], sigptotstore[i,:] = func_compute_dsigp(eps[i],\n",
    "                                                                     data[\"Ep\"].iloc[i],\n",
    "                                                                     Ap[i,:],\n",
    "                                                                     xc[i],\n",
    "                                                                     zp[i,:],\n",
    "                                                                     data[\"cog\"].iloc[i],\n",
    "                                                                     data[\"fp01k\"].iloc[i],\n",
    "                                                                     data[\"fpk\"].iloc[i],\n",
    "                                                                     0.005, # epsuk\n",
    "                                                                     1000*data[\"PL\"].iloc[i],\n",
    "                                                                     data[\"indNP\"].iloc[i],\n",
    "                                                                     npl[i,:],\n",
    "                                                                     data[\"zeta1\"].iloc[i]);\n",
    "\n",
    "                    # Check if conditions are met (w.r.t. lowest reinforcing layer; stress should be smaller than yield strength)\n",
    "                    # Check if conditions are met (w.r.t. lowest reinforcing layer and prestressing layer)\n",
    "                    if sigstore[i,data[\"indLR\"].iloc[i]] > data[\"fy\"].iloc[i] or sigptotstore[i,data[\"indNP\"].iloc[i]] > data[\"fp01k\"].iloc[i]:\n",
    "                        #print(\"Warning: computed steel stress\",sigstore[i,data[\"indLR\"].iloc[i]],\n",
    "                        #      \"larger than yield strength\",data[\"fy\"].iloc[i],\"OR computed prestressing stress\",\n",
    "                        #     sigptotstore[i,data[\"indNP\"].iloc[i]],\"exceeds fp01k\",data[\"fp01k\"].iloc[i],\"REJECT\");\n",
    "                        sigstore[i,data[\"indLR\"].iloc[i]] == np.nan; # Since this steel stress is not valid!\n",
    "                        dpsigstore[i,data[\"indNP\"].iloc[i]] == np.nan; # Since this prestressing steel stress is not valid\n",
    "                        data[\"sigs\"].iloc[i] = np.nan;\n",
    "                        data[\"dpsigs\"].iloc[i] = np.nan;\n",
    "                    else:\n",
    "                        #print(\"Success: a valid steel stress was computed (<fy)\",sigstore[i,data[\"indLR\"].iloc[i]],\"<\",data[\"fy\"].iloc[i],\n",
    "                        #     \"or valid prestressing steel stress was computed (<fp01k)\",sigptotstore[i,data[\"indNP\"].iloc[i]],\"<\",data[\"fp01k\"].iloc[i]);\n",
    "                        data[\"sigs\"].iloc[i] = sigstore[i,data[\"indLR\"].iloc[i]];\n",
    "                        data[\"dpsigs\"].iloc[i] = dpsigstore[i,data[\"indNP\"].iloc[i]];\n",
    "\n",
    "    # Write results\n",
    "    # =====================================================================\n",
    "    \n",
    "    data[\"xc\"] = xc;\n",
    "    data[\"eps\"] = eps;\n",
    "    data[\"epsbot\"] = eps_bot;\n",
    "    data[\"sigssimpl\"] = sigstoresimplified;\n",
    "    \n",
    "    return data"
   ]
  },
  {
   "cell_type": "code",
   "execution_count": 240,
   "id": "3edc1037-88fb-4112-81a6-0726da80d3d8",
   "metadata": {},
   "outputs": [],
   "source": [
    "def func_cal_steel_stress(data):\n",
    "\n",
    "    sigstore = np.zeros((data.shape[0],Ncond)); # Store stresses of all reinforcement layers!\n",
    "    dpsigstore = np.zeros((data.shape[0],Ncond)); # Store stresses dpsig\n",
    "    sigptotstore = np.zeros((data.shape[0],Ncond)); # Store prestressing stresses acting in each tendon\n",
    "\n",
    "    sigstoresimplified = np.zeros(data.shape[0]);\n",
    "    \n",
    "    xc = np.zeros(data.shape[0]);\n",
    "    eps = np.zeros(data.shape[0]);# Calculated strain at the top of the considered concrete section\n",
    "    eps_bot = np.zeros(data.shape[0]);# Calculated strain at the bottom of the considered concrete section\n",
    "\n",
    "    data[\"sigs\"] = np.zeros(data.shape[0]);\n",
    "    data[\"dpsigs\"] = np.zeros(data.shape[0]);\n",
    "    \n",
    "    for i in range(data.shape[0]):\n",
    "\n",
    "        with suppress(ZeroDivisionError): # Continue calculation\n",
    "        \n",
    "            # Pure tension\n",
    "            # ==================================================================================\n",
    "            if str(data[\"epsin\"].iloc[i]) == str(\"1a\"):\n",
    "                if data[\"N\"].iloc[i] > tol:\n",
    "                    data[\"sigs\"].iloc[i] = (1e3)*data[\"N\"].iloc[i]/data[\"Astot\"].iloc[i];\n",
    "                            \n",
    "            # Pure bending and/or bending in combination with axial forces\n",
    "            # ==================================================================================\n",
    "            if str(data[\"epsin\"].iloc[i]) == str(2) or str(data[\"epsin\"].iloc[i]) == str(3):\n",
    "                \n",
    "                # Below, address the case of reinforcing steel\n",
    "                # ====================================\n",
    "                if data[\"Aptot\"].iloc[i] < tol:\n",
    "                    \n",
    "                    k, eps_c1, eps_clim = func_interpolate_concrete_prop(data[\"fcm\"].iloc[i],data[\"Ecm\"].iloc[i]);\n",
    "                    #print(\"k\",k)\n",
    "                    #print(\"eps_c1\",eps_c1)\n",
    "                    #print(\"eps_clim\",eps_clim)\n",
    "\n",
    "                    sol = fsolve(func_cal_steel_stress_eqset_reinf_V2,[data[\"epsinit\"].iloc[i],data[\"xcinit\"].iloc[i]],\n",
    "                                                        args=(data[\"fcm\"].iloc[i],\n",
    "                                                                eps_c1,\n",
    "                                                                k,\n",
    "                                                                data[\"Es\"].iloc[i],\n",
    "                                                                data[\"b\"].iloc[i],\n",
    "                                                                data[\"h\"].iloc[i],\n",
    "                                                                500,\n",
    "                                                                zs[i,:],\n",
    "                                                                Aslayer[i,:],\n",
    "                                                                data[\"fy\"].iloc[i],\n",
    "                                                                data[\"M\"].iloc[i],\n",
    "                                                                data[\"cog\"].iloc[i],\n",
    "                                                                data[\"indLR\"].iloc[i],\n",
    "                                                                eps_clim,\n",
    "                                                                data[\"N\"].iloc[i],\n",
    "                                                                data[\"Ecm\"].iloc[i],\n",
    "                                                                data[\"phi_creep\"].iloc[i],\n",
    "                                                                chi\n",
    "                                                            ));\n",
    "                    \n",
    "                    eps[i], xc[i] = sol[0], sol[1];\n",
    "                    eps_bot[i] = eps[i]*(data[\"h\"].iloc[i]-xc[i])/xc[i];\n",
    "        \n",
    "                    sigstore[i,:] = func_compute_steel_stress(eps[i],\n",
    "                                                                     data[\"Es\"].iloc[i],\n",
    "                                                                     Aslayer[i,:],\n",
    "                                                                     xc[i],\n",
    "                                                                     zs[i,:],\n",
    "                                                                     data[\"cog\"].iloc[i],\n",
    "                                                                     data[\"fy\"].iloc[i],\n",
    "                                                                     data[\"indLR\"].iloc[i]);\n",
    "        \n",
    "                    #print(sigstore[i,:]);\n",
    "                    \n",
    "                    # Check if conditions are met (w.r.t. lowest reinforcing layer; stress should be smaller than yield strength)\n",
    "                    if sigstore[i,data[\"indLR\"].iloc[i]] > data[\"fy\"].iloc[i]:\n",
    "                        #print(\"Warning: computed steel stress\",sigstore[i,data[\"indLR\"].iloc[i]],\n",
    "                        #      \"larger than yield strength\",data[\"fy\"].iloc[i],\"reject result\");\n",
    "                        sigstore[i,data[\"indLR\"].iloc[i]] == np.nan; # Since this steel stress is not valid!\n",
    "                        data[\"sigs\"].iloc[i] = np.nan;\n",
    "                    else:\n",
    "                        #print(\"Success: a valid steel stress (<fy) was computed\",sigstore[i,data[\"indLR\"].iloc[i]],\"<\",data[\"fy\"].iloc[i]);\n",
    "                        data[\"sigs\"].iloc[i] = sigstore[i,data[\"indLR\"].iloc[i]];\n",
    "    \n",
    "                # Below, address the case of prestressing steel (or in combination with reinforcing steel)\n",
    "                # ====================================\n",
    "                elif data[\"Aptot\"].iloc[i] > tol:\n",
    "    \n",
    "                    k, eps_c1, eps_clim = func_interpolate_concrete_prop(data[\"fcm\"].iloc[i],data[\"Ecm\"].iloc[i]);\n",
    "                    \n",
    "                    sol = fsolve(func_cal_steel_stress_eqset_prestress_V2,[0.001,data[\"h\"].iloc[i]/3],\n",
    "                                                args=(data[\"fcm\"].iloc[i],\n",
    "                                                eps_c1,\n",
    "                                                k,\n",
    "                                                data[\"Es\"].iloc[i],\n",
    "                                                data[\"b\"].iloc[i],\n",
    "                                                data[\"h\"].iloc[i],\n",
    "                                                500,\n",
    "                                                zs[i,:],\n",
    "                                                Aslayer[i,:],\n",
    "                                                data[\"fy\"].iloc[i],\n",
    "                                                data[\"M\"].iloc[i],\n",
    "                                                data[\"cog\"].iloc[i],\n",
    "                                                1000*data[\"PL\"].iloc[i],\n",
    "                                                data[\"Ep\"].iloc[i],\n",
    "                                                Ap[i,:], # Area per tendon in a layer\n",
    "                                                zp[i,:],\n",
    "                                                data[\"fp01k\"].iloc[i],\n",
    "                                                data[\"fpk\"].iloc[i],\n",
    "                                                0.005, # epsuk\n",
    "                                                data[\"indLR\"].iloc[i],\n",
    "                                                data[\"indNP\"].iloc[i],\n",
    "                                                data[\"N\"].iloc[i],\n",
    "                                                eps_clim,\n",
    "                                                npl[i,:],\n",
    "                                                data[\"zeta1\"].iloc[i],\n",
    "                                                data[\"Ecm\"].iloc[i],\n",
    "                                                data[\"phi_creep\"].iloc[i],\n",
    "                                                chi\n",
    "                                                    ));    \n",
    "        \n",
    "                    eps[i], xc[i] = sol[0], sol[1];\n",
    "                    eps_bot[i] = eps[i]*(data[\"h\"].iloc[i]-xc[i])/xc[i];\n",
    "                    \n",
    "                    sigstore[i,:] = func_compute_steel_stress(eps[i],\n",
    "                                                                     data[\"Es\"].iloc[i],\n",
    "                                                                     Aslayer[i,:],\n",
    "                                                                     xc[i],\n",
    "                                                                     zs[i,:],\n",
    "                                                                     data[\"cog\"].iloc[i],\n",
    "                                                                     data[\"fy\"].iloc[i],\n",
    "                                                                     data[\"indLR\"].iloc[i]);\n",
    "                    \n",
    "                    dpsigstore[i,:], sigptotstore[i,:] = func_compute_dsigp(eps[i],\n",
    "                                                                     data[\"Ep\"].iloc[i],\n",
    "                                                                     Ap[i,:],\n",
    "                                                                     xc[i],\n",
    "                                                                     zp[i,:],\n",
    "                                                                     data[\"cog\"].iloc[i],\n",
    "                                                                     data[\"fp01k\"].iloc[i],\n",
    "                                                                     data[\"fpk\"].iloc[i],\n",
    "                                                                     0.005, # epsuk\n",
    "                                                                     1000*data[\"PL\"].iloc[i],\n",
    "                                                                     data[\"indNP\"].iloc[i],\n",
    "                                                                     npl[i,:],\n",
    "                                                                     data[\"zeta1\"].iloc[i]);\n",
    "    \n",
    "                    # Check if conditions are met (w.r.t. lowest reinforcing layer; stress should be smaller than yield strength)\n",
    "                    # Check if conditions are met (w.r.t. lowest reinforcing layer and prestressing layer)\n",
    "                    if sigstore[i,data[\"indLR\"].iloc[i]] > data[\"fy\"].iloc[i] or sigptotstore[i,data[\"indNP\"].iloc[i]] > data[\"fp01k\"].iloc[i]:\n",
    "                        #print(\"Warning: computed steel stress\",sigstore[i,data[\"indLR\"].iloc[i]],\n",
    "                        #      \"larger than yield strength\",data[\"fy\"].iloc[i],\"OR computed prestressing stress\",\n",
    "                        #      sigptotstore[i,data[\"indNP\"].iloc[i]],\"exceeds fp01k\",data[\"fp01k\"].iloc[i],\"REJECT\");\n",
    "                        sigstore[i,data[\"indLR\"].iloc[i]] == np.nan; # Since this steel stress is not valid!\n",
    "                        dpsigstore[i,data[\"indNP\"].iloc[i]] == np.nan; # Since this prestressing steel stress is not valid\n",
    "                        data[\"sigs\"].iloc[i] = np.nan;\n",
    "                        data[\"dpsigs\"].iloc[i] = np.nan;\n",
    "                    else:\n",
    "                        #print(\"Success: a valid steel stress was computed (<fy)\",sigstore[i,data[\"indLR\"].iloc[i]],\"<\",data[\"fy\"].iloc[i],\n",
    "                        #     \"or valid prestressing steel stress was computed (<fp01k)\",sigptotstore[i,data[\"indNP\"].iloc[i]],\"<\",data[\"fp01k\"].iloc[i]);\n",
    "                        data[\"sigs\"].iloc[i] = sigstore[i,data[\"indLR\"].iloc[i]];\n",
    "                        data[\"dpsigs\"].iloc[i] = dpsigstore[i,data[\"indNP\"].iloc[i]];\n",
    "\n",
    "    data[\"xc\"] = xc;\n",
    "    data[\"eps\"] = eps;\n",
    "    data[\"epsbot\"] = eps_bot;\n",
    "    data[\"sigssimpl\"] = sigstoresimplified;\n",
    "    \n",
    "    return data"
   ]
  },
  {
   "cell_type": "code",
   "execution_count": 241,
   "id": "7aef9e69-9142-4b15-a135-e11b11193744",
   "metadata": {},
   "outputs": [],
   "source": [
    "if importsigs == \"no\" and hordijksigs == \"yes\":\n",
    "    df = func_cal_steel_stress_hordijk(df);\n",
    "    df[[\"sigs\",\"sigssimpl\",\"dpsigs\",\"xc\",\"eps\",\"epsbot\"]].to_csv(\"steel_stress_hordijk.csv\",index = False);\n",
    "elif importsigs == \"yes\" and hordijksigs == \"yes\":\n",
    "    df[[\"sigs\",\"sigssimpl\",\"dpsigs\",\"xc\",\"eps\",\"epsbot\"]] = \\\n",
    "        pd.read_csv(Path(motherpath/r\"1_st_Journal_Paper\\Jupyter_Notebook\\Working_database\\steel_stress_hordijk.csv\"));\n",
    "\n",
    "if importsigs == \"no\" and hordijksigs == \"no\":\n",
    "    df = func_cal_steel_stress(df);\n",
    "    df[[\"sigs\",\"dpsigs\"]].to_csv(\"steel_stress.csv\",index = False);\n",
    "elif importsigs == \"yes\" and hordijksigs == \"no\":\n",
    "    df[[\"sigs\",\"dpsigs\"]] = \\\n",
    "        pd.read_csv(Path(motherpath/r\"1_st_Journal_Paper\\Jupyter_Notebook\\Working_database\\steel_stress.csv\"));"
   ]
  },
  {
   "cell_type": "code",
   "execution_count": 242,
   "id": "523ecef6-1118-4427-ac94-c7a4ac5944ed",
   "metadata": {},
   "outputs": [],
   "source": [
    "df = df.astype({\n",
    "    \"sigs\": \"float\",\n",
    "    \"dpsigs\": \"float\",\n",
    "    \"xc\": \"float\",\n",
    "    \"eps\": \"float\"\n",
    "});"
   ]
  },
  {
   "cell_type": "markdown",
   "id": "86af2794-066b-43a9-a8d3-ae0f5624b454",
   "metadata": {},
   "source": [
    "### Function to compute the steel stress directly after cracking"
   ]
  },
  {
   "cell_type": "code",
   "execution_count": 243,
   "id": "44dee0ab-7688-4781-a7f4-c30898f77d52",
   "metadata": {},
   "outputs": [],
   "source": [
    "# Again, this is the steel stress at the most tensioned layer\n",
    "# Effects of creep are negelected since it is directly after first crack occured"
   ]
  },
  {
   "cell_type": "code",
   "execution_count": 244,
   "id": "1bd2978d-ae08-4785-bf75-7afd91fdba40",
   "metadata": {},
   "outputs": [],
   "source": [
    "def func_cal_steel_stress_directly_after_cracking(data):\n",
    "\n",
    "    sigsrstore = np.zeros((data.shape[0],Ncond)); # Store stresses of all reinforcement layers!\n",
    "    dpsigsrstore = np.zeros((data.shape[0],Ncond)); # Store stresses dpsig\n",
    "    sigpsrtotstore = np.zeros((data.shape[0],Ncond)); # Store prestressing stresses acting in each tendon\n",
    "\n",
    "    sigssrtoresimplified = np.zeros(data.shape[0]);\n",
    "    \n",
    "    xc = np.zeros(data.shape[0]);\n",
    "    eps = np.zeros(data.shape[0]);# Calculated strain at the top of the considered concrete section\n",
    "    eps_bot = np.zeros(data.shape[0]);# Calculated strain at the bottom of the considered concrete section\n",
    "\n",
    "    data[\"sigsr\"] = np.zeros(data.shape[0]);\n",
    "    data[\"dpsigsr\"] = np.zeros(data.shape[0]);\n",
    "    \n",
    "    for i in range(data.shape[0]):\n",
    "\n",
    "        with suppress(ZeroDivisionError): # Continue calculation\n",
    "        \n",
    "            # Pure tension\n",
    "            # ==================================================================================\n",
    "            if str(data[\"epsin\"].iloc[i]) == str(\"1a\"):\n",
    "                if data[\"N\"].iloc[i] > tol:\n",
    "                    data[\"sigsr\"].iloc[i] = (1e3)*data[\"Ncr\"].iloc[i]/data[\"Astot\"].iloc[i];\n",
    "                            \n",
    "            # Pure bending and / or bending in combination with axial forces \n",
    "            # ==================================================================================\n",
    "            if str(data[\"epsin\"].iloc[i]) == str(2) or str(data[\"epsin\"].iloc[i]) == str(3):\n",
    "                \n",
    "                # Below, address the case of reinforcing steel\n",
    "                # ====================================\n",
    "                if data[\"Aptot\"].iloc[i] < tol:\n",
    "                    \n",
    "                    k, eps_c1, eps_clim = func_interpolate_concrete_prop(data[\"fcm\"].iloc[i],data[\"Ecm\"].iloc[i]);\n",
    "\n",
    "                    sol = fsolve(func_cal_steel_stress_eqset_reinf_V2,[data[\"epsinit\"].iloc[i]*(data[\"Mcr\"].iloc[i]/data[\"M\"].iloc[i]),data[\"xcinit\"].iloc[i]],\n",
    "                                                        args=(data[\"fcm\"].iloc[i],\n",
    "                                                                eps_c1,\n",
    "                                                                k,\n",
    "                                                                data[\"Es\"].iloc[i],\n",
    "                                                                data[\"b\"].iloc[i],\n",
    "                                                                data[\"h\"].iloc[i],\n",
    "                                                                500,\n",
    "                                                                zs[i,:],\n",
    "                                                                Aslayer[i,:],\n",
    "                                                                data[\"fy\"].iloc[i],\n",
    "                                                                data[\"Mcr\"].iloc[i],\n",
    "                                                                data[\"cog\"].iloc[i],\n",
    "                                                                data[\"indLR\"].iloc[i],\n",
    "                                                                eps_clim,\n",
    "                                                                data[\"N\"].iloc[i],\n",
    "                                                                data[\"Ecm0\"].iloc[i],\n",
    "                                                                0, # For creep 0\n",
    "                                                                chi\n",
    "                                                            ));\n",
    "                    \n",
    "                    eps[i], xc[i] = sol[0], sol[1];\n",
    "                    eps_bot[i] = eps[i]*(data[\"h\"].iloc[i]-xc[i])/xc[i];\n",
    "        \n",
    "                    sigsrstore[i,:] = func_compute_steel_stress(eps[i],\n",
    "                                                                     data[\"Es\"].iloc[i],\n",
    "                                                                     Aslayer[i,:],\n",
    "                                                                     xc[i],\n",
    "                                                                     zs[i,:],\n",
    "                                                                     data[\"cog\"].iloc[i],\n",
    "                                                                     data[\"fy\"].iloc[i],\n",
    "                                                                     data[\"indLR\"].iloc[i]);\n",
    "        \n",
    "                    #print(sigstore[i,:]);\n",
    "                    \n",
    "                    # Check if conditions are met (w.r.t. lowest reinforcing layer; stress should be smaller than yield strength)\n",
    "                    if sigsrstore[i,data[\"indLR\"].iloc[i]] > data[\"fy\"].iloc[i]:\n",
    "                        #print(\"Warning: computed steel stress\",sigstore[i,data[\"indLR\"].iloc[i]],\n",
    "                        #      \"larger than yield strength\",data[\"fy\"].iloc[i],\"reject result\");\n",
    "                        sigsrstore[i,data[\"indLR\"].iloc[i]] == np.nan; # Since this steel stress is not valid!\n",
    "                        data[\"sigsr\"].iloc[i] = np.nan;\n",
    "                    else:\n",
    "                        #print(\"Success: a valid steel stress (<fy) was computed\",sigstore[i,data[\"indLR\"].iloc[i]],\"<\",data[\"fy\"].iloc[i]);\n",
    "                        data[\"sigsr\"].iloc[i] = sigsrstore[i,data[\"indLR\"].iloc[i]];\n",
    "    \n",
    "                # Below, address the case of prestressing steel (or in combination with reinforcing steel)\n",
    "                # ====================================\n",
    "                elif data[\"Aptot\"].iloc[i] > tol:\n",
    "    \n",
    "                    k, eps_c1, eps_clim = func_interpolate_concrete_prop(data[\"fcm\"].iloc[i],data[\"Ecm\"].iloc[i]);\n",
    "\n",
    "                    sol = fsolve(func_cal_steel_stress_eqset_prestress_V2,[0.001,data[\"h\"].iloc[i]/3],\n",
    "                                                args=(data[\"fcm\"].iloc[i],\n",
    "                                                eps_c1,\n",
    "                                                k,\n",
    "                                                data[\"Es\"].iloc[i],\n",
    "                                                data[\"b\"].iloc[i],\n",
    "                                                data[\"h\"].iloc[i],\n",
    "                                                500,\n",
    "                                                zs[i,:],\n",
    "                                                Aslayer[i,:],\n",
    "                                                data[\"fy\"].iloc[i],\n",
    "                                                data[\"Mcr\"].iloc[i],\n",
    "                                                data[\"cog\"].iloc[i],\n",
    "                                                1000*data[\"PL\"].iloc[i],\n",
    "                                                data[\"Ep\"].iloc[i],\n",
    "                                                Ap[i,:], # Area per tendon in a layer\n",
    "                                                zp[i,:],\n",
    "                                                data[\"fp01k\"].iloc[i],\n",
    "                                                data[\"fpk\"].iloc[i],\n",
    "                                                0.005, # epsuk\n",
    "                                                data[\"indLR\"].iloc[i],\n",
    "                                                data[\"indNP\"].iloc[i],\n",
    "                                                data[\"N\"].iloc[i],\n",
    "                                                eps_clim,\n",
    "                                                npl[i,:],\n",
    "                                                data[\"zeta1\"].iloc[i],\n",
    "                                                data[\"Ecm0\"].iloc[i],\n",
    "                                                0,\n",
    "                                                chi\n",
    "                                                    ));    \n",
    "        \n",
    "                    eps[i], xc[i] = sol[0], sol[1];\n",
    "                    eps_bot[i] = eps[i]*(data[\"h\"].iloc[i]-xc[i])/xc[i];\n",
    "                    \n",
    "                    sigsrstore[i,:] = func_compute_steel_stress(eps[i],\n",
    "                                                                     data[\"Es\"].iloc[i],\n",
    "                                                                     Aslayer[i,:],\n",
    "                                                                     xc[i],\n",
    "                                                                     zs[i,:],\n",
    "                                                                     data[\"cog\"].iloc[i],\n",
    "                                                                     data[\"fy\"].iloc[i],\n",
    "                                                                     data[\"indLR\"].iloc[i]);\n",
    "                    \n",
    "                    dpsigsrstore[i,:], sigpsrtotstore[i,:] = func_compute_dsigp(eps[i],\n",
    "                                                                     data[\"Ep\"].iloc[i],\n",
    "                                                                     Ap[i,:],\n",
    "                                                                     xc[i],\n",
    "                                                                     zp[i,:],\n",
    "                                                                     data[\"cog\"].iloc[i],\n",
    "                                                                     data[\"fp01k\"].iloc[i],\n",
    "                                                                     data[\"fpk\"].iloc[i],\n",
    "                                                                     0.005, # epsuk\n",
    "                                                                     1000*data[\"PL\"].iloc[i],\n",
    "                                                                     data[\"indNP\"].iloc[i],\n",
    "                                                                     npl[i,:],\n",
    "                                                                     data[\"zeta1\"].iloc[i]);\n",
    "    \n",
    "                    # Check if conditions are met (w.r.t. lowest reinforcing layer; stress should be smaller than yield strength)\n",
    "                    # Check if conditions are met (w.r.t. lowest reinforcing layer and prestressing layer)\n",
    "                    if sigsrstore[i,data[\"indLR\"].iloc[i]] > data[\"fy\"].iloc[i] or sigpsrtotstore[i,data[\"indNP\"].iloc[i]] > data[\"fp01k\"].iloc[i]:\n",
    "                        #print(\"Warning: computed steel stress\",sigstore[i,data[\"indLR\"].iloc[i]],\n",
    "                        #      \"larger than yield strength\",data[\"fy\"].iloc[i],\"OR computed prestressing stress\",\n",
    "                        #      sigptotstore[i,data[\"indNP\"].iloc[i]],\"exceeds fp01k\",data[\"fp01k\"].iloc[i],\"REJECT\");\n",
    "                        sigsrstore[i,data[\"indLR\"].iloc[i]] == np.nan; # Since this steel stress is not valid!\n",
    "                        dpsigsrstore[i,data[\"indNP\"].iloc[i]] == np.nan; # Since this prestressing steel stress is not valid\n",
    "                        data[\"sigsr\"].iloc[i] = np.nan;\n",
    "                        data[\"dpsigsr\"].iloc[i] = np.nan;\n",
    "                    else:\n",
    "                        #print(\"Success: a valid steel stress was computed (<fy)\",sigstore[i,data[\"indLR\"].iloc[i]],\"<\",data[\"fy\"].iloc[i],\n",
    "                        #     \"or valid prestressing steel stress was computed (<fp01k)\",sigptotstore[i,data[\"indNP\"].iloc[i]],\"<\",data[\"fp01k\"].iloc[i]);\n",
    "                        data[\"sigsr\"].iloc[i] = sigsrstore[i,data[\"indLR\"].iloc[i]];\n",
    "                        data[\"dpsigsr\"].iloc[i] = dpsigsrstore[i,data[\"indNP\"].iloc[i]];\n",
    "\n",
    "    data[\"xc_sr\"] = xc;\n",
    "    data[\"eps_sr\"] = eps;\n",
    "    \n",
    "    return data"
   ]
  },
  {
   "cell_type": "code",
   "execution_count": 245,
   "id": "a3977fc8-9f23-437c-9859-8f28cee47eff",
   "metadata": {},
   "outputs": [],
   "source": [
    "if hordijksigs == \"no\":\n",
    "    df = func_cal_steel_stress_directly_after_cracking(df);"
   ]
  },
  {
   "cell_type": "code",
   "execution_count": 246,
   "id": "1c96f68f-6202-4726-b9f9-164060534964",
   "metadata": {},
   "outputs": [],
   "source": [
    "df = df.astype({\n",
    "    \"sigsr\": \"float\",\n",
    "    \"dpsigsr\": \"float\",\n",
    "    \"xc_sr\": \"float\",\n",
    "    \"eps_sr\": \"float\"\n",
    "});"
   ]
  },
  {
   "cell_type": "markdown",
   "id": "d1b9d7b4-804f-47ba-9a58-87411e5dfe25",
   "metadata": {},
   "source": [
    "### Function to compute the centre of gravity of the steel in tension"
   ]
  },
  {
   "cell_type": "code",
   "execution_count": 247,
   "id": "bcce555f-1335-4fbd-baa6-46c90cee60a6",
   "metadata": {},
   "outputs": [],
   "source": [
    "def func_compute_zstottens(data):\n",
    "\n",
    "    zstemp = np.zeros((data.shape[0],Ncond));\n",
    "    zstottens = np.zeros(data.shape[0]);\n",
    "    zstottenstemp = np.zeros((data.shape[0],Ncond));\n",
    "    zptottens = np.zeros(data.shape[0]);\n",
    "    zptottenstemp = np.zeros((data.shape[0],Ncond));\n",
    "    nbltens = np.zeros((data.shape[0],Ncond));\n",
    "    phitens = np.zeros((data.shape[0],Ncond));\n",
    "    Astenstemp = np.zeros((data.shape[0],Ncond));\n",
    "    Astens = np.zeros(data.shape[0]);\n",
    "    Actens = np.zeros(data.shape[0]);\n",
    "\n",
    "    Aptens = np.zeros(data.shape[0]);\n",
    "    npltens = np.zeros((data.shape[0],Ncond));\n",
    "    zptemp = np.zeros((data.shape[0],Ncond));\n",
    "    Aptenstemp = np.zeros((data.shape[0],Ncond));\n",
    "    Aptenstemptemp = np.zeros((data.shape[0],Ncond));\n",
    "    \n",
    "    for i in range(data.shape[0]):\n",
    "        if data[\"Astot\"].iloc[i] > tol:\n",
    "            for j in range(Ncond):\n",
    "                if zs[i,j] > data[\"xc\"].iloc[i]:\n",
    "                    zstemp[i,j] = zs[i,j];\n",
    "                    nbltens[i,j] = nbl[i,j];\n",
    "                    phitens[i,j] = phi[i,j];\n",
    "    \n",
    "                else:\n",
    "                    zstemp[i,j] = 0;\n",
    "                    nbltens[i,j] = 0;\n",
    "                    phitens[i,j] = 0;\n",
    "    \n",
    "                zstottenstemp[i,j] = zstemp[i,j]*(nbltens[i,j]*(1/4)*np.pi*phitens[i,j]**2);\n",
    "                Astenstemp[i,j] = (nbltens[i,j]*(1/4)*np.pi*phitens[i,j]**2);\n",
    "\n",
    "        if data[\"Aptot\"].iloc[i] > tol:\n",
    "            for k in range(Ncond):\n",
    "                if zp[i,k] > data[\"xc\"].iloc[i]:\n",
    "                    zptemp[i,k] = zp[i,k];\n",
    "                    npltens[i,k] = npl[i,k];\n",
    "                    Aptenstemptemp[i,k] = Ap[i,k];\n",
    "    \n",
    "                else:\n",
    "                    zptemp[i,k] = 0;\n",
    "                    npltens[i,k] = 0;\n",
    "                    Aptenstemptemp[i,k] = 0;\n",
    "    \n",
    "                zptottenstemp[i,k] = zptemp[i,k]*(npltens[i,k]*Aptenstemptemp[i,k]);\n",
    "                Aptenstemp[i,k] = npltens[i,k]*Aptenstemptemp[i,k];\n",
    "\n",
    "        if np.sum(Astenstemp[i,:]) > tol:\n",
    "            Astens[i] = sum(Astenstemp[i,:]);\n",
    "            zstottens[i] = np.sum(zstottenstemp[i,:])/np.sum(Astenstemp[i,:]);\n",
    "        else:\n",
    "            zstottens[i] = 0;\n",
    "\n",
    "        if np.sum(Aptenstemp[i,:]) > tol:\n",
    "            Aptens[i] = sum(Aptenstemp[i,:]);\n",
    "            zptottens[i] = np.sum(zptottenstemp[i,:])/np.sum(Aptenstemp[i,:]);\n",
    "        else:\n",
    "            zptottens[i] = 0;\n",
    "\n",
    "        Actens[i] = quad(func_extract_width,data[\"h\"].iloc[i]-data[\"xc\"].iloc[i],data[\"h\"].iloc[i]-tol,args=(data[\"b\"].iloc[i]))[0];\n",
    "    \n",
    "    return zstottens, zptottens, Astens, Actens, Aptens"
   ]
  },
  {
   "cell_type": "code",
   "execution_count": 248,
   "id": "d1825640-0922-4396-a176-d043bf9778cb",
   "metadata": {},
   "outputs": [],
   "source": [
    "df[\"zstottens\"], df[\"zptottens\"], df[\"Astens\"], df[\"Actens\"], df[\"Aptens\"] = func_compute_zstottens(df);"
   ]
  },
  {
   "cell_type": "code",
   "execution_count": 249,
   "id": "49decbf7-d409-4e91-b0c0-69883aa8404b",
   "metadata": {},
   "outputs": [
    {
     "data": {
      "text/plain": [
       "(4783, 186)"
      ]
     },
     "execution_count": 249,
     "metadata": {},
     "output_type": "execute_result"
    }
   ],
   "source": [
    "df.shape"
   ]
  },
  {
   "cell_type": "markdown",
   "id": "20df35d3-f5d0-496d-ba86-627c4ad33d9d",
   "metadata": {},
   "source": [
    "### Function to compute the effective concrete area"
   ]
  },
  {
   "cell_type": "code",
   "execution_count": 250,
   "id": "2daf9a21-f172-44e5-ad74-3e1ff84d4d30",
   "metadata": {},
   "outputs": [],
   "source": [
    "def find_positive(lst):\n",
    "    for index, x in enumerate(lst):\n",
    "        if x > 0:\n",
    "            return index"
   ]
  },
  {
   "cell_type": "code",
   "execution_count": 251,
   "id": "76cce1e7-e576-49af-92ea-7110ffed70f6",
   "metadata": {},
   "outputs": [],
   "source": [
    "def cal_eff_area_MC2020(data):\n",
    "\n",
    "    Aceff = np.zeros(data.shape[0]);\n",
    "    Aseff = np.zeros(data.shape[0]);\n",
    "    Apeff = np.zeros(data.shape[0]);\n",
    "    phi_eq = np.zeros(data.shape[0]);\n",
    "    rhoeff = np.zeros(data.shape[0]);\n",
    "    hceff = np.zeros(data.shape[0]);\n",
    "    bceff = np.zeros(data.shape[0]);\n",
    "    \n",
    "    for i in range(data.shape[0]):\n",
    "    \n",
    "        # Case: pure bending and / or prestressing\n",
    "        # ========================================\n",
    "        if data[\"Astot\"].iloc[i] > tol and data[\"epsin\"].iloc[i] == str(2) or data[\"epsin\"].iloc[i] == str(3) and data[\"Aptot\"].iloc[i] > tol:\n",
    "            \n",
    "            if data[\"xc\"].iloc[i] > tol:\n",
    "\n",
    "                if data[\"Astot\"].iloc[i] < tol:\n",
    "                    idx = find_positive(zp[i,:]-data[\"xc\"].iloc[i]);\n",
    "                    zptoptens = zp[i,idx];\n",
    "                    \n",
    "                    hceff1 = data[\"ryp\"].iloc[i] + 5*data[\"phi_peq\"].iloc[i];\n",
    "                    hceff2 = 10*data[\"phi_peq\"].iloc[i];\n",
    "                    hceff3 = 3.5*data[\"ryp\"].iloc[i];\n",
    "\n",
    "                else:\n",
    "                    # Determine top layer in tensile zone\n",
    "                    idx = find_positive(zs[i,:]-data[\"xc\"].iloc[i]);\n",
    "                    zstoptens = zs[i,idx];\n",
    "                    \n",
    "                    hceff1 = data[\"ry\"].iloc[i] + 5*phi[i,data[\"indLR\"].iloc[i]];\n",
    "                    hceff2 = 10*phi[i,data[\"indLR\"].iloc[i]];\n",
    "                    hceff3 = 3.5*data[\"ry\"].iloc[i];\n",
    "    \n",
    "                if data[\"Astot\"].iloc[i] < tol:\n",
    "                    hceffint = np.min([hceff1,hceff2,hceff3]) + (zp[i,data[\"indNP\"].iloc[i]] - zptoptens);\n",
    "                else:\n",
    "                    hceffint = np.min([hceff1,hceff2,hceff3]) + (zs[i,data[\"indLR\"].iloc[i]] - zstoptens);\n",
    "                \n",
    "                hceff4 = data[\"h\"].iloc[i] - data[\"xc\"].iloc[i];\n",
    "                \n",
    "                hceff[i] = np.min([hceffint,hceff4]);\n",
    "               \n",
    "                if data[\"Astot\"].iloc[i] > tol:\n",
    "                    nlayertenseff = data[\"indLR\"].iloc[i] - idx + 1;\n",
    "                \n",
    "                Acefftemp = np.zeros(Ncond);\n",
    "                Asefftemp = np.zeros(Ncond);\n",
    "                Apefftemp = np.zeros(Ncond);\n",
    "    \n",
    "                phi_eqtemp = np.zeros(Ncond);\n",
    "                phi_eqtemp_sqrt = np.zeros(Ncond);\n",
    "\n",
    "                press_phi_eqtemp = np.zeros(Ncond);\n",
    "                press_phi_eqtemp_sqrt = np.zeros(Ncond);\n",
    "                \n",
    "                # Case 1: isolated bars --> indien spacing > 10*phi\n",
    "                if df[\"sxLR\"].iloc[i] > 10*phi[i,data[\"indLR\"].iloc[i]]:\n",
    "                    \n",
    "                    # Subcase: MC 2020 fig. 30.5-4 left: lowest reinfocing layer is <= 5*phi (phi of lowest layer)\n",
    "                    if data[\"ry\"].iloc[i] <= 5*phi[i,data[\"indLR\"].iloc[i]]:\n",
    "        \n",
    "                        for j in range(Ncond):\n",
    "                            if zs[i,j] > data[\"h\"].iloc[i] - hceff[i] and data[\"rx\"].iloc[i] < 5*phi[i,data[\"indLR\"].iloc[i]]:\n",
    "                                Acefftemp[j] = 2*( data[\"rx\"].iloc[i] + 5*phi[i,data[\"indLR\"].iloc[i]] )*hceff[i] / nlayertenseff + \\\n",
    "                                    (nbl[i,j]-2)*( 10*phi[i,data[\"indLR\"].iloc[i]] ) * hceff[i] / nlayertenseff;\n",
    "                            \n",
    "                        # zs[i,j] > data[\"h\"].iloc[i] - hceff and data[\"rx\"].iloc[i] >= 5*phi[i,data[\"indLR\"].iloc[i]]:\n",
    "                            elif zs[i,j] > data[\"h\"].iloc[i] - hceff[i] and data[\"rx\"].iloc[i] >= 5*phi[i,data[\"indLR\"].iloc[i]]:\n",
    "                                Acefftemp[j] = nbl[i,j]*10*phi[i,data[\"indLR\"].iloc[i]]*hceff[i] / nlayertenseff;\n",
    "                        \n",
    "                        Aceff[i] = sum(Acefftemp);\n",
    "        \n",
    "                        for j in range(Ncond):\n",
    "                            if zs[i,j] > data[\"h\"].iloc[i] - hceff[i]:\n",
    "                                Asefftemp[j] = nbl[i,j]*(1/4)*np.pi*phi[i,j]**2;\n",
    "    \n",
    "                                phi_eqtemp[j] = nbl[i,j]*phi[i,j];\n",
    "                                phi_eqtemp_sqrt[j] = nbl[i,j]*phi[i,j]**2\n",
    "        \n",
    "                        Aseff[i] = sum(Asefftemp);\n",
    "        \n",
    "                        if data[\"Aptot\"].iloc[i] > tol:\n",
    "                            for j in range(Ncond):\n",
    "                                if zp[i,j] > data[\"h\"].iloc[i] - hceff[i]:\n",
    "                                    Apefftemp[j] = Ap[i,j]*npl[i,j];\n",
    "\n",
    "                                    #press_phi_eqtemp[j] = npl[i,j]*data[\"phi_peq\"].iloc[i];\n",
    "                                    #press_phi_eqtemp_sqrt[j] = npl[i,j]*data[\"phi_peq\"].iloc[i]**2;\n",
    "        \n",
    "                        Apeff[i] = sum(Apefftemp);\n",
    "\n",
    "                        # For below: see Design for SLS accordign to fib Model Code 2010\n",
    "                        if data[\"epsin\"].iloc[i] == str(\"3\"):\n",
    "                            if data[\"Astot\"].iloc[i] > tol: # Combination ordinary and prestressed reinforcing steel\n",
    "                                phi_eq[i] = sum(phi_eqtemp_sqrt)/sum(phi_eqtemp);\n",
    "                            else: # Prestressed reinforcement only\n",
    "                                phi_eq[i] = data[\"phi_peq\"].iloc[i];\n",
    "                        else:\n",
    "                            phi_eq[i] = sum(phi_eqtemp_sqrt)/sum(phi_eqtemp);\n",
    "\n",
    "                    \n",
    "                    # Subcase: MC 2020 fig. 30.5-4 right: lowest reinfocing layer is > 5*phi (phi of lowest layer)\n",
    "                    elif data[\"ry\"].iloc[i] > 5*phi[i,data[\"indLR\"].iloc[i]]:\n",
    "        \n",
    "                        for j in range(Ncond):\n",
    "    \n",
    "                            if zs[i,j] > data[\"h\"].iloc[i] - hceff and data[\"rx\"].iloc[i] < 5*phi[i,data[\"indLR\"].iloc[i]] and nbl[i,j] > 2:\n",
    "                                Acefftemp[j] = 2*( data[\"rx\"].iloc[i] + 5*phi[i,data[\"indLR\"].iloc[i]] )*hceff[i] / nlayertenseff + \\\n",
    "                                    (nbl[i,j]-2)*( 10*phi[i,data[\"indLR\"].iloc[i]] ) * hceff[i] / nlayertenseff;\n",
    "                            \n",
    "                            elif zs[i,j] > data[\"h\"].iloc[i] - hceff[i] and data[\"rx\"].iloc[i] >= 5*phi[i,data[\"indLR\"].iloc[i]]:\n",
    "                                Acefftemp[j] = nbl[i,j]*10*phi[i,data[\"indLR\"].iloc[i]]*hceff[i] / nlayertenseff;\n",
    "                       \n",
    "                        Aceff[i] = sum(Acefftemp);\n",
    "        \n",
    "                        for j in range(Ncond):\n",
    "                            if zs[i,j] > data[\"h\"].iloc[i] - hceff[i]:\n",
    "                                Asefftemp[j] = nbl[i,j]*(1/4)*np.pi*phi[i,j]**2;\n",
    "    \n",
    "                                phi_eqtemp[j] = nbl[i,j]*phi[i,j];\n",
    "                                phi_eqtemp_sqrt[j] = nbl[i,j]*phi[i,j]**2\n",
    "        \n",
    "                        Aseff[i] = sum(Asefftemp);\n",
    "                        phi_eq[i] = sum(phi_eqtemp_sqrt)/sum(phi_eqtemp);\n",
    "        \n",
    "                        if data[\"Aptot\"].iloc[i] > tol:\n",
    "                            for j in range(Ncond):\n",
    "                                if zp[i,j] > data[\"h\"].iloc[i] - hceff[i]:\n",
    "                                    Apefftemp[j] = Ap[i,j]*npl[i,j];\n",
    "\n",
    "                                    #press_phi_eqtemp[j] = npl[i,j]*data[\"phi_peq\"].iloc[i];\n",
    "                                    #press_phi_eqtemp_sqrt[j] = npl[i,j]*data[\"phi_peq\"].iloc[i]**2;\n",
    "        \n",
    "                        Apeff[i] = sum(Apefftemp);\n",
    "\n",
    "                        if data[\"epsin\"].iloc[i] == str(\"3\"):\n",
    "                            if data[\"Astot\"].iloc[i] > tol: # Combination ordinary and prestressed reinforcing steel\n",
    "                                phi_eq[i] = sum(phi_eqtemp_sqrt)/sum(phi_eqtemp);\n",
    "                            else: # Prestressed reinforcement only\n",
    "                                phi_eq[i] = data[\"phi_peq\"].iloc[i];\n",
    "                        else:\n",
    "                            phi_eq[i] = sum(phi_eqtemp_sqrt)/sum(phi_eqtemp);\n",
    "                \n",
    "                # Case 2: grouped bars --> indien spacing <= 10*phi\n",
    "                elif spacall[i,data[\"indLR\"].iloc[i]] <= 10*phi[i,data[\"indLR\"].iloc[i]]:\n",
    "\n",
    "                    if data[\"rx\"].iloc[i] <= 5*phi[i,data[\"indLR\"].iloc[i]]:\n",
    "                        Aceff[i] = quad(func_extract_width,data[\"h\"].iloc[i]-hceff[i],data[\"h\"].iloc[i],args=(data[\"b\"].iloc[i]))[0];\n",
    "                    \n",
    "                    elif data[\"rx\"].iloc[i] > 5*phi[i,data[\"indLR\"].iloc[i]]:\n",
    "                        Aceff[i] = quad(func_extract_width,data[\"h\"].iloc[i]-hceff[i],data[\"h\"].iloc[i],args=(data[\"b\"].iloc[i]))[0] - \\\n",
    "                            2*(data[\"rx\"].iloc[i] - 5*phi[i,data[\"indLR\"].iloc[i]])*hceff[i];\n",
    "                    \n",
    "                    for j in range(Ncond):\n",
    "                        if zs[i,j] > data[\"h\"].iloc[i] - hceff[i]:\n",
    "                            Asefftemp[j] = nbl[i,j]*(1/4)*np.pi*phi[i,j]**2;\n",
    "                            \n",
    "                            phi_eqtemp[j] = nbl[i,j]*phi[i,j];\n",
    "                            phi_eqtemp_sqrt[j] = nbl[i,j]*phi[i,j]**2\n",
    "        \n",
    "                    Aseff[i] = sum(Asefftemp);\n",
    "        \n",
    "                    for j in range(Ncond):\n",
    "                        if zs[i,j] > data[\"h\"].iloc[i] - hceff[i]:\n",
    "                            Asefftemp[j] = nbl[i,j]*(1/4)*np.pi*phi[i,j]**2;\n",
    "    \n",
    "                            phi_eqtemp[j] = nbl[i,j]*phi[i,j];\n",
    "                            phi_eqtemp_sqrt[j] = nbl[i,j]*phi[i,j]**2\n",
    "    \n",
    "                    Aseff[i] = sum(Asefftemp);\n",
    "        \n",
    "                    if data[\"Aptot\"].iloc[i] > tol:\n",
    "                        for j in range(Ncond):\n",
    "                            if zp[i,j] > data[\"h\"].iloc[i] - hceff[i]:\n",
    "                                Apefftemp[j] = Ap[i,j]*npl[i,j];\n",
    "\n",
    "                                #press_phi_eqtemp[j] = npl[i,j]*data[\"phi_peq\"].iloc[i];\n",
    "                                #press_phi_eqtemp_sqrt[j] = npl[i,j]*data[\"phi_peq\"].iloc[i]**2;\n",
    "        \n",
    "                    Apeff[i] = sum(Apefftemp);\n",
    "\n",
    "                    if data[\"epsin\"].iloc[i] == str(\"3\"):\n",
    "                        if data[\"Astot\"].iloc[i] > tol: # Combination ordinary and prestressed reinforcing steel\n",
    "                            phi_eq[i] = sum(phi_eqtemp_sqrt)/sum(phi_eqtemp);\n",
    "                        else: # Prestressed reinforcement only\n",
    "                            phi_eq[i] = data[\"phi_peq\"].iloc[i];\n",
    "                    else:\n",
    "                        phi_eq[i] = sum(phi_eqtemp_sqrt)/sum(phi_eqtemp);\n",
    "\n",
    "        # Case: pure tension\n",
    "        # ========================================\n",
    "\n",
    "        hceff_single = np.zeros(data.shape[0]);\n",
    "        bceff_single = np.zeros(data.shape[0]);\n",
    "        \n",
    "        if data[\"epsin\"].iloc[i] == str(\"1a\"):\n",
    "\n",
    "            hceff1 = data[\"ry\"].iloc[i] + 5*phi[i,data[\"indLR\"].iloc[i]];\n",
    "            hceff2 = 10*phi[i,data[\"indLR\"].iloc[i]];\n",
    "            hceff3 = 3.5*data[\"ry\"].iloc[i];\n",
    "            hceff4 = data[\"h\"].iloc[i]/2;\n",
    "        \n",
    "            hceff[i] = min(min(hceff1,hceff2,hceff3),hceff4);\n",
    "            \n",
    "            bceff1 = data[\"rx\"].iloc[i] + 5*phi[i,data[\"indLR\"].iloc[i]];\n",
    "            bceff2 = 10*phi[i,data[\"indLR\"].iloc[i]];\n",
    "            bceff3 = 3.5*data[\"rx\"].iloc[i];\n",
    "            bceff4 = func_extract_width(data[\"indLR\"].iloc[i],data[\"b\"].iloc[i])/2;\n",
    "\n",
    "            bceff[i] = min(min(bceff1,bceff2,bceff3),bceff4);\n",
    "            \n",
    "            Acefftemp = np.zeros(Ncond);\n",
    "            Asefftemp = np.zeros(Ncond);\n",
    "            phi_eqtemp = np.zeros(Ncond);\n",
    "            phi_eqtemp_sqrt = np.zeros(Ncond);\n",
    "\n",
    "            # For single elements, the effective widths and heights should be interpreted differently!\n",
    "            hceff2_single = hceff2/2; # Wel gedeeld door 2\n",
    "            hceff4_single = hceff4; # NIET gedeeld door 2!\n",
    "        \n",
    "            hceff_single[i] = min(hceff2_single,hceff4_single);\n",
    "        \n",
    "            bceff2_single = bceff2/2;\n",
    "            bceff4_single = bceff4;\n",
    "\n",
    "            bceff_single[i] = min(bceff2_single,bceff4_single);\n",
    "            \n",
    "            # Element with a single bar in the middle of the cross-section (round cross-sections!)\n",
    "            if data[\"EPID\"].iloc[i] in [5,10]:\n",
    "                if data[\"ELID\"].iloc[i] in [\"T-C1-3\",\"T-C1-5\",\"T-C2-3\",\"T-C2-5\",\"T-C3-1\",\"T-C3-2\",\"T-C3-4\",\n",
    "                                            \"Specimen 1\",\"Specimen 2\",\"Specimen 3\",\"Specimen 4\",\"Specimen 5\"]:\n",
    "                    Aceff[i] = 2*quad(func_extract_width,0,hceff_single[i],args=(data[\"b\"].iloc[i]))[0];\n",
    "                    Aseff[i] = (1/4)*np.pi*phi[i,0]**2;\n",
    "                    phi_eq[i] = phi[i,0];\n",
    "                # Address rectangular cross-sections\n",
    "                    \n",
    "                else:\n",
    "                    Aceff[i] = 2*hceff_single[i]*2*bceff_single[i];\n",
    "                    Aseff[i] = (1/4)*np.pi*phi[i,0]**2;\n",
    "                    phi_eq[i] = phi[i,0];\n",
    "\n",
    "            if data[\"EPID\"].iloc[i] in [11,12,19,23]:\n",
    "                Aceff[i] = 2*hceff_single[i]*2*bceff_single[i];\n",
    "                Aseff[i] = (1/4)*np.pi*phi[i,0]**2;\n",
    "                phi_eq[i] = phi[i,0];\n",
    "                \n",
    "            # Case 1: isolated bars --> indien spacing > 10*phi\n",
    "            if df[\"sxLR\"].iloc[i] > 10*phi[i,data[\"indLR\"].iloc[i]]:\n",
    "                \n",
    "                # Subcase: MC 2020 fig. 30.5-4 left: lowest reinfocing layer is <= 5*phi (phi of lowest layer)\n",
    "                if data[\"ry\"].iloc[i] <= 5*phi[i,data[\"indLR\"].iloc[i]]:\n",
    "\n",
    "                    # Elements with three layers (top and bottom layer are symmetrically reinforced)\n",
    "                    if data[\"EPID\"].iloc[i] in [27,28,31]:\n",
    "\n",
    "                        #if data[\"rx\"].iloc[i] < 5*phi[i,data[\"indLR\"].iloc[i]]:\n",
    "                        Acefftemp = 4*( data[\"rx\"].iloc[i] + 5*phi[i,data[\"indLR\"].iloc[i]] )*hceff[i] + \\\n",
    "                                (nbl[i,data[\"indLR\"].iloc[i]]-2)*( 10*phi[i,data[\"indLR\"].iloc[i]] ) * hceff[i] + \\\n",
    "                            2*( clat[i,1] + 5.5*phi[i,1] )*min(max(data[\"h\"].iloc[i] - 2*hceff[i],0),10*phi[i,1]);\n",
    "                        #elif data[\"rx\"].iloc[i] >= 5*phi[i,data[\"indLR\"].iloc[i]]:\n",
    "                            #Acefftemp = nbl[i,j]*10*phi[i,data[\"indLR\"].iloc[i]]*hceff[i] + \\\n",
    "                            #2*( clat[i,1] + 5.5*phi[i,1] )*min(max(data[\"h\"].iloc[i] - 2*hceff[i],0),10*phi[i,1]);\n",
    "\n",
    "                        \n",
    "\n",
    "                        Aceff[i] = Acefftemp;\n",
    "        \n",
    "                        Asefftemp = 2*nbl[i,0]*(1/4)*np.pi*phi[i,0]**2 + nbl[i,1]*(1/4)*np.pi*phi[i,1]**2;\n",
    "    \n",
    "                        phi_eqtemp = 2*nbl[i,0]*phi[i,0] + nbl[i,1]*phi[i,1];\n",
    "                        phi_eqtemp_sqrt = 2*nbl[i,0]*phi[i,0]**2 + nbl[i,1]*phi[i,1]**2\n",
    "        \n",
    "                        Aseff[i] = Asefftemp;\n",
    "        \n",
    "                        phi_eq[i] = phi_eqtemp_sqrt/phi_eqtemp;\n",
    "                    \n",
    "                    # Elements with two layers; symmetrisch gewapend\n",
    "                    if data[\"EPID\"].iloc[i] in [13,15,16,18]:\n",
    "                           \n",
    "                        #if zs[i,j] > data[\"h\"].iloc[i] - hceff[i] and data[\"rx\"].iloc[i] < 5*phi[i,data[\"indLR\"].iloc[i]]:\n",
    "                        if data[\"rx\"].iloc[i] < 5*phi[i,data[\"indLR\"].iloc[i]]:\n",
    "                            #Acefftemp[j] = 2*( data[\"rx\"].iloc[i] + 5*phi[i,data[\"indLR\"].iloc[i]] )*hceff[i] / nlayertenseff + \\\n",
    "                            #    (nbl[i,j]-2)*( 10*phi[i,data[\"indLR\"].iloc[i]] ) * hceff[i] / nlayertenseff;\n",
    "                            Acefftemp = 4*( data[\"rx\"].iloc[i] + 5*phi[i,data[\"indLR\"].iloc[i]] )*hceff[i] + \\\n",
    "                                2*(nbl[i,data[\"indLR\"].iloc[i]]-2)*( 10*phi[i,data[\"indLR\"].iloc[i]] ) * hceff[i];\n",
    "                   \n",
    "                        #elif zs[i,j] > data[\"h\"].iloc[i] - hceff[i] and data[\"rx\"].iloc[i] >= 5*phi[i,data[\"indLR\"].iloc[i]]:\n",
    "                        elif data[\"rx\"].iloc[i] >= 5*phi[i,data[\"indLR\"].iloc[i]]:\n",
    "                            #Acefftemp[j] = nbl[i,j]*10*phi[i,data[\"indLR\"].iloc[i]]*hceff[i] / nlayertenseff;\n",
    "                            Acefftemp = 2*nbl[i,data[\"indLR\"].iloc[i]]*10*phi[i,data[\"indLR\"].iloc[i]]*hceff[i];\n",
    "                        \n",
    "                        Aceff[i] = Acefftemp;\n",
    "        \n",
    "                        Asefftemp = 2*nbl[i,0]*(1/4)*np.pi*phi[i,0]**2;\n",
    "\n",
    "                        phi_eqtemp = 2*nbl[i,0]*phi[i,0];\n",
    "                        phi_eqtemp_sqrt = 2*nbl[i,0]*phi[i,0]**2\n",
    "        \n",
    "                        Aseff[i] = Asefftemp;\n",
    "        \n",
    "                        phi_eq[i] = phi_eqtemp_sqrt/phi_eqtemp;\n",
    "                \n",
    "                # Subcase: MC 2020 fig. 30.5-4 right: lowest reinfocing layer is > 5*phi (phi of lowest layer)\n",
    "                elif data[\"ry\"].iloc[i] > 5*phi[i,data[\"indLR\"].iloc[i]]:\n",
    "\n",
    "                    # Elements with three layers (top and bottom layer are symmetrically reinforced)\n",
    "                    if data[\"EPID\"].iloc[i] in [27,28,31]:\n",
    "\n",
    "                        \n",
    "                        #if data[\"rx\"].iloc[i] < 5*phi[i,data[\"indLR\"].iloc[i]]:\n",
    "                        Acefftemp = 4*( data[\"rx\"].iloc[i] + 5*phi[i,data[\"indLR\"].iloc[i]] )*hceff[i] + \\\n",
    "                            (nbl[i,0]-2)*( 10*phi[i,data[\"indLR\"].iloc[i]] ) * hceff[i] + \\\n",
    "                        2*( clat[i,1] + 5.5*phi[i,1] )*min(max(data[\"h\"].iloc[i] - 2*hceff[i],0),10*phi[i,1]);\n",
    "                        #elif data[\"rx\"].iloc[i] >= 5*phi[i,data[\"indLR\"].iloc[i]]:\n",
    "                            #Acefftemp = nbl[i,0]*10*phi[i,data[\"indLR\"].iloc[i]]*hceff[i] + \\\n",
    "                            #2*( clat[i,1] + 5.5*phi[i,1] )*min(max(data[\"h\"].iloc[i] - 2*hceff[i],0),10*phi[i,1]);\n",
    "\n",
    "                        \n",
    "                        Aceff[i] = Acefftemp;\n",
    "        \n",
    "                        Asefftemp = 2*nbl[i,0]*(1/4)*np.pi*phi[i,0]**2 + nbl[i,1]*(1/4)*np.pi*phi[i,1]**2;\n",
    "\n",
    "                        phi_eqtemp = 2*nbl[i,0]*phi[i,0] + nbl[i,1]*phi[i,1];\n",
    "                        phi_eqtemp_sqrt = 2*nbl[i,0]*phi[i,0]**2 + nbl[i,1]*phi[i,1]**2\n",
    "        \n",
    "                        Aseff[i] = Asefftemp;\n",
    "        \n",
    "                        phi_eq[i] = phi_eqtemp_sqrt/phi_eqtemp;\n",
    "\n",
    "                    # Elements with two layers; symmetrisch gewapend\n",
    "                    if data[\"EPID\"].iloc[i] in [13,15,16,18]:\n",
    "    \n",
    "                        #if zs[i,j] > data[\"h\"].iloc[i] - hceff and data[\"rx\"].iloc[i] < 5*phi[i,data[\"indLR\"].iloc[i]] and nbl[i,j] > 2:\n",
    "                        if data[\"rx\"].iloc[i] < 5*phi[i,data[\"indLR\"].iloc[i]]:\n",
    "                            Acefftemp = 4*( data[\"rx\"].iloc[i] + 5*phi[i,data[\"indLR\"].iloc[i]] )*hceff[i] + \\\n",
    "                                2*(nbl[i,data[\"indLR\"].iloc[i]]-2)*( 10*phi[i,data[\"indLR\"].iloc[i]] ) * hceff[i];\n",
    "                            #Acefftemp[j] = 2*( data[\"rx\"].iloc[i] + 5*phi[i,data[\"indLR\"].iloc[i]] )*hceff[i] / nlayertenseff + \\\n",
    "                            #    (nbl[i,j]-2)*( 10*phi[i,data[\"indLR\"].iloc[i]] ) * hceff[i] / nlayertenseff;\n",
    "\n",
    "                            \n",
    "                        \n",
    "                        #elif zs[i,j] > data[\"h\"].iloc[i] - hceff[i] and data[\"rx\"].iloc[i] >= 5*phi[i,data[\"indLR\"].iloc[i]]:\n",
    "                        elif data[\"rx\"].iloc[i] >= 5*phi[i,data[\"indLR\"].iloc[i]]:\n",
    "                            #Acefftemp[j] = nbl[i,j]*10*phi[i,data[\"indLR\"].iloc[i]]*hceff[i] / nlayertenseff;\n",
    "                            Acefftemp = 2*nbl[i,data[\"indLR\"].iloc[i]]*10*phi[i,data[\"indLR\"].iloc[i]]*hceff[i];\n",
    "                    \n",
    "                        Aceff[i] = Acefftemp;\n",
    "        \n",
    "\n",
    "                        Asefftemp = 2*nbl[i,0]*(1/4)*np.pi*phi[i,0]**2;\n",
    "    \n",
    "                        phi_eqtemp = nbl[i,0]*phi[i,0];\n",
    "                        phi_eqtemp_sqrt = nbl[i,0]*phi[i,0]**2\n",
    "        \n",
    "                        Aseff[i] = Asefftemp;\n",
    "    \n",
    "                        phi_eq[i] = phi_eqtemp_sqrt/phi_eqtemp;\n",
    "            \n",
    "            # Case 2: grouped bars --> indien spacing <= 10*phi\n",
    "            elif spacall[i,data[\"indLR\"].iloc[i]] <= 10*phi[i,data[\"indLR\"].iloc[i]]:\n",
    "\n",
    "                # Elements with three layers (top and bottom layer are symmetrically reinforced)\n",
    "                if data[\"EPID\"].iloc[i] in [27,28,31]:\n",
    "\n",
    "                    #if data[\"rx\"].iloc[i] < 5*phi[i,data[\"indLR\"].iloc[i]]:\n",
    "                    Acefftemp = 2*quad(func_extract_width,0,hceff[i],args=(data[\"b\"].iloc[i]))[0] + \\\n",
    "                        2*( clat[i,1] + 5.5*phi[i,1] )*min(max(data[\"h\"].iloc[i] - 2*hceff[i],0),10*phi[i,1]);\n",
    "                    #elif data[\"rx\"].iloc[i] >= 5*phi[i,data[\"indLR\"].iloc[i]]:\n",
    "                    #    Acefftemp = 2*( 10*phi[i,data[\"indLR\"].iloc[i]] )*hceff[i] + \\\n",
    "                    #                (nbl[i,j]-2)*( 10*phi[i,data[\"indLR\"].iloc[i]] )*hceff[i] + \\\n",
    "                    #    2*( clat[i,1] + 5.5*phi[i,1] )*min(max(data[\"h\"].iloc[i] - 2*hceff[i],0),10*phi[i,1]);\n",
    "                    \n",
    "                    Aceff[i] = min(Acefftemp,data[\"Ac\"].iloc[i]);\n",
    "                    \n",
    "                    Asefftemp = 2*nbl[i,0]*(1/4)*np.pi*phi[i,0]**2 + nbl[i,1]*(1/4)*np.pi*phi[i,1]**2;\n",
    "\n",
    "                    phi_eqtemp = 2*nbl[i,0]*phi[i,0] + nbl[i,1]*phi[i,1];\n",
    "                    phi_eqtemp_sqrt= 2*nbl[i,0]*phi[i,0]**2 + nbl[i,1]*phi[i,1]**2\n",
    "    \n",
    "                    Aseff[i] = Asefftemp;\n",
    "    \n",
    "                    phi_eq[i] = phi_eqtemp_sqrt/phi_eqtemp;\n",
    "                \n",
    "                # Elements with two layers; symmetrisch gewapend\n",
    "                if data[\"EPID\"].iloc[i] in [13,15,16,18]:\n",
    "                    \n",
    "                    Aceff[i] = 2*quad(func_extract_width,0,hceff[i],args=(data[\"b\"].iloc[i]))[0];\n",
    "                    \n",
    "                    for j in range(Ncond):\n",
    "                        if zs[i,j] < hceff[i]:\n",
    "                            Asefftemp[j] = 2*nbl[i,j]*(1/4)*np.pi*phi[i,j]**2;\n",
    "                            \n",
    "                            phi_eqtemp[j] = nbl[i,j]*phi[i,j];\n",
    "                            phi_eqtemp_sqrt[j] = nbl[i,j]*phi[i,j]**2\n",
    "        \n",
    "                    Aseff[i] = sum(Asefftemp);\n",
    "\n",
    "                    phi_eq[i] = sum(phi_eqtemp_sqrt)/sum(phi_eqtemp);\n",
    "\n",
    "            \n",
    "        # Calculation of rhoeff - MC 2020\n",
    "        rhoeff[i] = (Aseff[i] + (data[\"zeta1\"].iloc[i]**2)*Apeff[i])/Aceff[i];\n",
    "                        \n",
    "    return Aceff, Aseff, Apeff, phi_eq, rhoeff, hceff"
   ]
  },
  {
   "cell_type": "code",
   "execution_count": 252,
   "id": "99ea87a4-1cf8-4a93-8b16-549e1833a181",
   "metadata": {},
   "outputs": [],
   "source": [
    "df[\"Aceff_MC2020\"], df[\"Aseff_MC2020\"], df[\"Apeff_MC2020\"], df[\"phi_eq_MC2020\"], df[\"rhoeff_MC2020\"], df[\"hceff_MC2020\"] = cal_eff_area_MC2020(df)\n",
    "\n",
    "df = df.astype({\n",
    "    \"Aceff_MC2020\": \"float\",\n",
    "    \"Aseff_MC2020\": \"float\",\n",
    "    \"Apeff_MC2020\": \"float\",\n",
    "    \"phi_eq_MC2020\": \"float\",\n",
    "    \"rhoeff_MC2020\": \"float\",\n",
    "    \"hceff_MC2020\": \"float\"\n",
    "});"
   ]
  },
  {
   "cell_type": "code",
   "execution_count": 253,
   "id": "cf5a8d1b-38fa-4d09-9031-2e933b55b37f",
   "metadata": {},
   "outputs": [],
   "source": [
    "def cal_eff_area_FPR(data):\n",
    "\n",
    "    Aceff = np.zeros(data.shape[0]);\n",
    "    Aseff = np.zeros(data.shape[0]);\n",
    "    Apeff = np.zeros(data.shape[0]);\n",
    "    phi_eq = np.zeros(data.shape[0]);\n",
    "    rhoeff = np.zeros(data.shape[0]);\n",
    "    hceff = np.zeros(data.shape[0]);\n",
    "    bceff = np.zeros(data.shape[0]);\n",
    "    \n",
    "    for i in range(data.shape[0]):\n",
    "\n",
    "        # Case: pure bending and / or prestressing\n",
    "        # ========================================\n",
    "        if data[\"Astot\"].iloc[i] > tol and data[\"epsin\"].iloc[i] == str(2) or data[\"epsin\"].iloc[i] == str(3) and data[\"Aptot\"].iloc[i] > tol:\n",
    "\n",
    "            if data[\"xc\"].iloc[i] > tol:\n",
    "\n",
    "                if data[\"Astot\"].iloc[i] < tol:\n",
    "                    # Determine top layer in tensile zone\n",
    "                    idx = find_positive(zp[i,:]-data[\"phi_peq\"].iloc[i]);\n",
    "                    zptoptens = zp[i,idx];\n",
    "                    \n",
    "                    hceff1 = data[\"ryp\"].iloc[i] + 5*data[\"phi_peq\"].iloc[i];\n",
    "                    hceff2 = 10*data[\"phi_peq\"].iloc[i];\n",
    "                    hceff3 = 3.5*data[\"ryp\"].iloc[i];\n",
    "                else:\n",
    "                    # Determine top layer in tensile zone\n",
    "                    idx = find_positive(zs[i,:]-data[\"xc\"].iloc[i]);\n",
    "                    zstoptens = zs[i,idx];\n",
    "                    \n",
    "                    hceff1 = data[\"ry\"].iloc[i] + 5*phi[i,data[\"indLR\"].iloc[i]];\n",
    "                    hceff2 = 10*phi[i,data[\"indLR\"].iloc[i]];\n",
    "                    hceff3 = 3.5*data[\"ry\"].iloc[i];\n",
    "\n",
    "                if data[\"Astot\"].iloc[i] < tol:\n",
    "                    hceffint = np.min([hceff1,hceff2,hceff3]) + (zp[i,data[\"indNP\"].iloc[i]] - zptoptens);\n",
    "                else:\n",
    "                    hceffint = np.min([hceff1,hceff2,hceff3]) + (zs[i,data[\"indLR\"].iloc[i]] - zstoptens);\n",
    "\n",
    "                hceff4 = data[\"h\"].iloc[i] - data[\"xc\"].iloc[i];\n",
    "                hceff5 = data[\"h\"].iloc[i]/2;\n",
    "                \n",
    "                hceff[i] = np.min([hceffint,hceff4,hceff5]);\n",
    "\n",
    "                if data[\"Astot\"].iloc[i] > tol:\n",
    "                    nlayertenseff = data[\"indLR\"].iloc[i] - idx + 1;\n",
    "                    \n",
    "                Acefftemp = np.zeros(Ncond);\n",
    "                Asefftemp = np.zeros(Ncond);\n",
    "                Apefftemp = np.zeros(Ncond);\n",
    "    \n",
    "                phi_eqtemp = np.zeros(Ncond);\n",
    "                phi_eqtemp_sqrt = np.zeros(Ncond);\n",
    "\n",
    "                press_phi_eqtemp = np.zeros(Ncond);\n",
    "                press_phi_eqtemp_sqrt = np.zeros(Ncond);\n",
    "                \n",
    "                # Case 1: isolated bars --> indien spacing > 10*phi\n",
    "                if spacall[i,data[\"indLR\"].iloc[i]] > 10*phi[i,data[\"indLR\"].iloc[i]]:\n",
    "                    \n",
    "                    # Subcase: MC 2020 fig. 30.5-4 left: lowest reinfocing layer is <= 5*phi (phi of lowest layer)\n",
    "                    if data[\"ry\"].iloc[i] <= 5*phi[i,data[\"indLR\"].iloc[i]]:\n",
    "                        \n",
    "                        for j in range(Ncond):\n",
    "                            \n",
    "                            if zs[i,j] > data[\"h\"].iloc[i] - hceff[i] and data[\"rx\"].iloc[i] < 5*phi[i,data[\"indLR\"].iloc[i]]:\n",
    "                                Acefftemp[j] = 2*( data[\"rx\"].iloc[i] + 5*phi[i,data[\"indLR\"].iloc[i]] )*hceff[i] / nlayertenseff + \\\n",
    "                                    (nbl[i,j]-2)*( 10*phi[i,data[\"indLR\"].iloc[i]] ) * hceff[i] / nlayertenseff;\n",
    "                            \n",
    "                            elif zs[i,j] > data[\"h\"].iloc[i] - hceff[i] and data[\"rx\"].iloc[i] >= 5*phi[i,data[\"indLR\"].iloc[i]]:\n",
    "                                Acefftemp[j] = nbl[i,j]*10*phi[i,data[\"indLR\"].iloc[i]]*hceff[i] / nlayertenseff;\n",
    "                        \n",
    "                        Aceff[i] = sum(Acefftemp);\n",
    "        \n",
    "                        for j in range(Ncond):\n",
    "                            if zs[i,j] > data[\"h\"].iloc[i] - hceff[i]:\n",
    "                                Asefftemp[j] = nbl[i,j]*(1/4)*np.pi*phi[i,j]**2;\n",
    "    \n",
    "                                phi_eqtemp[j] = nbl[i,j]*phi[i,j];\n",
    "                                phi_eqtemp_sqrt[j] = nbl[i,j]*phi[i,j]**2\n",
    "                                        \n",
    "                        Aseff[i] = sum(Asefftemp);\n",
    "                        \n",
    "                        if data[\"Aptot\"].iloc[i] > tol:\n",
    "                            for j in range(Ncond):\n",
    "                                if zp[i,j] > data[\"h\"].iloc[i] - hceff[i]:\n",
    "                                    Apefftemp[j] = Ap[i,j]*npl[i,j];\n",
    "\n",
    "                                    #press_phi_eqtemp[j] = npl[i,j]*data[\"phi_peq\"].iloc[i];\n",
    "                                    #press_phi_eqtemp_sqrt[j] = npl[i,j]*data[\"phi_peq\"].iloc[i]**2;\n",
    "        \n",
    "                        Apeff[i] = sum(Apefftemp);\n",
    "\n",
    "                        if data[\"epsin\"].iloc[i] == str(\"3\"):\n",
    "                            if data[\"Astot\"].iloc[i] > tol: # Combination ordinary and prestressed reinforcing steel\n",
    "                                phi_eq[i] = sum(phi_eqtemp_sqrt)/sum(phi_eqtemp);\n",
    "                            else: # Prestressed reinforcement only\n",
    "                                phi_eq[i] = data[\"phi_peq\"].iloc[i];\n",
    "                        else:\n",
    "                            phi_eq[i] = sum(phi_eqtemp_sqrt)/sum(phi_eqtemp);\n",
    "                    \n",
    "                    # Subcase: MC 2020 fig. 30.5-4 right: lowest reinfocing layer is > 5*phi (phi of lowest layer)\n",
    "                    elif data[\"ry\"].iloc[i] > 5*phi[i,data[\"indLR\"].iloc[i]]:\n",
    "                        \n",
    "                        for j in range(Ncond):\n",
    "    \n",
    "                            if zs[i,j] > data[\"h\"].iloc[i] - hceff and data[\"rx\"].iloc[i] < 5*phi[i,data[\"indLR\"].iloc[i]] and nbl[i,j] > 2:\n",
    "                                Acefftemp[j] = 2*( data[\"rx\"].iloc[i] + 5*phi[i,data[\"indLR\"].iloc[i]] )*hceff[i] / nlayertenseff + \\\n",
    "                                    (nbl[i,j]-2)*( 10*phi[i,data[\"indLR\"].iloc[i]] ) * hceff[i] / nlayertenseff;\n",
    "    \n",
    "                            elif zs[i,j] > data[\"h\"].iloc[i] - hceff[i] and data[\"rx\"].iloc[i] >= 5*phi[i,data[\"indLR\"].iloc[i]]:\n",
    "                                Acefftemp[j] = nbl[i,j]*10*phi[i,data[\"indLR\"].iloc[i]]*hceff[i] / nlayertenseff;\n",
    "        \n",
    "                        Aceff[i] = sum(Acefftemp);\n",
    "        \n",
    "                        for j in range(Ncond):\n",
    "                            if zs[i,j] > data[\"h\"].iloc[i] - hceff[i]:\n",
    "                                Asefftemp[j] = nbl[i,j]*(1/4)*np.pi*phi[i,j]**2;\n",
    "    \n",
    "                                phi_eqtemp[j] = nbl[i,j]*phi[i,j];\n",
    "                                phi_eqtemp_sqrt[j] = nbl[i,j]*phi[i,j]**2\n",
    "        \n",
    "                        Aseff[i] = sum(Asefftemp);\n",
    "        \n",
    "                        if data[\"Aptot\"].iloc[i] > tol:\n",
    "                            for j in range(Ncond):\n",
    "                                if zp[i,j] > data[\"h\"].iloc[i] - hceff[i]:\n",
    "                                    Apefftemp[j] = Ap[i,j]*npl[i,j];\n",
    "\n",
    "                                    #press_phi_eqtemp[j] = npl[i,j]*data[\"phi_peq\"].iloc[i];\n",
    "                                    #press_phi_eqtemp_sqrt[j] = npl[i,j]*data[\"phi_peq\"].iloc[i]**2;\n",
    "        \n",
    "                        Apeff[i] = sum(Apefftemp);\n",
    "\n",
    "                        if data[\"epsin\"].iloc[i] == str(\"3\"):\n",
    "                            if data[\"Astot\"].iloc[i] > tol: # Combination ordinary and prestressed reinforcing steel\n",
    "                                phi_eq[i] = sum(phi_eqtemp_sqrt)/sum(phi_eqtemp);\n",
    "                            else: # Prestressed reinforcement only\n",
    "                                phi_eq[i] = data[\"phi_peq\"].iloc[i];\n",
    "                        else:\n",
    "                            phi_eq[i] = sum(phi_eqtemp_sqrt)/sum(phi_eqtemp);\n",
    "                \n",
    "                # Case 2: grouped bars --> indien spacing <= 10*phi\n",
    "                elif spacall[i,data[\"indLR\"].iloc[i]] <= 10*phi[i,data[\"indLR\"].iloc[i]]:\n",
    "    \n",
    "                    #Aceff[i] = quad(func_extract_width,data[\"h\"].iloc[i]-hceff[i],data[\"h\"].iloc[i],args=(data[\"b\"].iloc[i]))[0];\n",
    "                    if data[\"rx\"].iloc[i] <= 5*phi[i,data[\"indLR\"].iloc[i]]:\n",
    "                        Aceff[i] = quad(func_extract_width,data[\"h\"].iloc[i]-hceff[i],data[\"h\"].iloc[i],args=(data[\"b\"].iloc[i]))[0];\n",
    "                    \n",
    "                    elif data[\"rx\"].iloc[i] > 5*phi[i,data[\"indLR\"].iloc[i]]:\n",
    "                        Aceff[i] = quad(func_extract_width,data[\"h\"].iloc[i]-hceff[i],data[\"h\"].iloc[i],args=(data[\"b\"].iloc[i]))[0] - \\\n",
    "                            2*(data[\"rx\"].iloc[i] - 5*phi[i,data[\"indLR\"].iloc[i]])*hceff[i];\n",
    "    \n",
    "                    for j in range(Ncond):\n",
    "                        if zs[i,j] > data[\"h\"].iloc[i] - hceff[i]:\n",
    "                            Asefftemp[j] = nbl[i,j]*(1/4)*np.pi*phi[i,j]**2;\n",
    "                            \n",
    "                            phi_eqtemp[j] = nbl[i,j]*phi[i,j];\n",
    "                            phi_eqtemp_sqrt[j] = nbl[i,j]*phi[i,j]**2\n",
    "        \n",
    "                    Aseff[i] = sum(Asefftemp);\n",
    "        \n",
    "                    for j in range(Ncond):\n",
    "                        if zs[i,j] > data[\"h\"].iloc[i] - hceff[i]:\n",
    "                            Asefftemp[j] = nbl[i,j]*(1/4)*np.pi*phi[i,j]**2;\n",
    "    \n",
    "                            phi_eqtemp[j] = nbl[i,j]*phi[i,j];\n",
    "                            phi_eqtemp_sqrt[j] = nbl[i,j]*phi[i,j]**2\n",
    "    \n",
    "                    Aseff[i] = sum(Asefftemp);\n",
    "        \n",
    "                    if data[\"Aptot\"].iloc[i] > tol:\n",
    "                        for j in range(Ncond):\n",
    "                            if zp[i,j] > data[\"h\"].iloc[i] - hceff[i]:\n",
    "                                Apefftemp[j] = Ap[i,j]*npl[i,j];\n",
    "                                \n",
    "                                #press_phi_eqtemp[j] = npl[i,j]*data[\"phi_peq\"].iloc[i];\n",
    "                                #press_phi_eqtemp_sqrt[j] = npl[i,j]*data[\"phi_peq\"].iloc[i]**2;\n",
    "\n",
    "                    Apeff[i] = sum(Apefftemp);\n",
    "\n",
    "                    if data[\"epsin\"].iloc[i] == str(\"3\"):\n",
    "                        if data[\"Astot\"].iloc[i] > tol: # Combination ordinary and prestressed reinforcing steel\n",
    "                            phi_eq[i] = sum(phi_eqtemp_sqrt)/sum(phi_eqtemp);\n",
    "                        else: # Prestressed reinforcement only\n",
    "                            phi_eq[i] = data[\"phi_peq\"].iloc[i];\n",
    "                    else:\n",
    "                        phi_eq[i] = sum(phi_eqtemp_sqrt)/sum(phi_eqtemp);\n",
    "        \n",
    "        # Case: pure tension\n",
    "        # ========================================\n",
    "\n",
    "        hceff_single = np.zeros(data.shape[0]);\n",
    "        bceff_single = np.zeros(data.shape[0]);\n",
    "        \n",
    "        if data[\"epsin\"].iloc[i] == str(\"1a\"):\n",
    "\n",
    "            hceff1 = data[\"ry\"].iloc[i] + 5*phi[i,data[\"indLR\"].iloc[i]];\n",
    "            hceff2 = 10*phi[i,data[\"indLR\"].iloc[i]];\n",
    "            hceff3 = 3.5*data[\"ry\"].iloc[i];\n",
    "            hceff4 = data[\"h\"].iloc[i]/2;\n",
    "        \n",
    "            hceff[i] = min(min(hceff1,hceff2,hceff3),hceff4);\n",
    "            \n",
    "            bceff1 = data[\"rx\"].iloc[i] + 5*phi[i,data[\"indLR\"].iloc[i]];\n",
    "            bceff2 = 10*phi[i,data[\"indLR\"].iloc[i]];\n",
    "            bceff3 = 3.5*data[\"rx\"].iloc[i];\n",
    "            bceff4 = func_extract_width(data[\"indLR\"].iloc[i],data[\"b\"].iloc[i])/2;\n",
    "\n",
    "            bceff[i] = min(min(bceff1,bceff2,bceff3),bceff4);\n",
    "            \n",
    "            Acefftemp = np.zeros(Ncond);\n",
    "            Asefftemp = np.zeros(Ncond);\n",
    "            phi_eqtemp = np.zeros(Ncond);\n",
    "            phi_eqtemp_sqrt = np.zeros(Ncond);\n",
    "\n",
    "            # For single elements, the effective widths and heights should be interpreted differently!\n",
    "            hceff2_single = hceff2/2; # Wel gedeeld door 2\n",
    "            hceff4_single = hceff4; # NIET gedeeld door 2!\n",
    "        \n",
    "            hceff_single[i] = min(hceff2_single,hceff4_single);\n",
    "        \n",
    "            bceff2_single = bceff2/2;\n",
    "            bceff4_single = bceff4;\n",
    "\n",
    "            bceff_single[i] = min(bceff2_single,bceff4_single);\n",
    "            \n",
    "            # Element with a single bar in the middle of the cross-section (round cross-sections!)\n",
    "            if data[\"EPID\"].iloc[i] in [5,10]:\n",
    "                if data[\"ELID\"].iloc[i] in [\"T-C1-3\",\"T-C1-5\",\"T-C2-3\",\"T-C2-5\",\"T-C3-1\",\"T-C3-2\",\"T-C3-4\",\n",
    "                                            \"Specimen 1\",\"Specimen 2\",\"Specimen 3\",\"Specimen 4\",\"Specimen 5\"]:\n",
    "                    Aceff[i] = 2*quad(func_extract_width,0,hceff_single[i],args=(data[\"b\"].iloc[i]))[0];\n",
    "                    Aseff[i] = (1/4)*np.pi*phi[i,0]**2;\n",
    "                    phi_eq[i] = phi[i,0];\n",
    "                # Address rectangular cross-sections\n",
    "                    \n",
    "                else:\n",
    "                    Aceff[i] = 2*hceff_single[i]*2*bceff_single[i];\n",
    "                    Aseff[i] = (1/4)*np.pi*phi[i,0]**2;\n",
    "                    phi_eq[i] = phi[i,0];\n",
    "\n",
    "            if data[\"EPID\"].iloc[i] in [11,12,19,23]:\n",
    "                Aceff[i] = 2*hceff_single[i]*2*bceff_single[i];\n",
    "                Aseff[i] = (1/4)*np.pi*phi[i,0]**2;\n",
    "                phi_eq[i] = phi[i,0];\n",
    "                \n",
    "            # Case 1: isolated bars --> indien spacing > 10*phi\n",
    "            if df[\"sxLR\"].iloc[i] > 10*phi[i,data[\"indLR\"].iloc[i]]:\n",
    "                \n",
    "                # Subcase: MC 2020 fig. 30.5-4 left: lowest reinfocing layer is <= 5*phi (phi of lowest layer)\n",
    "                if data[\"ry\"].iloc[i] <= 5*phi[i,data[\"indLR\"].iloc[i]]:\n",
    "\n",
    "                    # Elements with three layers (top and bottom layer are symmetrically reinforced)\n",
    "                    if data[\"EPID\"].iloc[i] in [27,28,31]:\n",
    "\n",
    "                        #if data[\"rx\"].iloc[i] < 5*phi[i,data[\"indLR\"].iloc[i]]:\n",
    "                        Acefftemp = 4*( data[\"rx\"].iloc[i] + 5*phi[i,data[\"indLR\"].iloc[i]] )*hceff[i] + \\\n",
    "                                (nbl[i,data[\"indLR\"].iloc[i]]-2)*( 10*phi[i,data[\"indLR\"].iloc[i]] ) * hceff[i] + \\\n",
    "                            2*( clat[i,1] + 5.5*phi[i,1] )*min(max(data[\"h\"].iloc[i] - 2*hceff[i],0),10*phi[i,1]);\n",
    "                        #elif data[\"rx\"].iloc[i] >= 5*phi[i,data[\"indLR\"].iloc[i]]:\n",
    "                            #Acefftemp = nbl[i,j]*10*phi[i,data[\"indLR\"].iloc[i]]*hceff[i] + \\\n",
    "                            #2*( clat[i,1] + 5.5*phi[i,1] )*min(max(data[\"h\"].iloc[i] - 2*hceff[i],0),10*phi[i,1]);\n",
    "\n",
    "                        \n",
    "\n",
    "                        Aceff[i] = Acefftemp;\n",
    "        \n",
    "                        Asefftemp = 2*nbl[i,0]*(1/4)*np.pi*phi[i,0]**2 + nbl[i,1]*(1/4)*np.pi*phi[i,1]**2;\n",
    "    \n",
    "                        phi_eqtemp = 2*nbl[i,0]*phi[i,0] + nbl[i,1]*phi[i,1];\n",
    "                        phi_eqtemp_sqrt = 2*nbl[i,0]*phi[i,0]**2 + nbl[i,1]*phi[i,1]**2\n",
    "        \n",
    "                        Aseff[i] = Asefftemp;\n",
    "        \n",
    "                        phi_eq[i] = phi_eqtemp_sqrt/phi_eqtemp;\n",
    "                    \n",
    "                    # Elements with two layers; symmetrisch gewapend\n",
    "                    if data[\"EPID\"].iloc[i] in [13,15,16,18]:\n",
    "                           \n",
    "                        #if zs[i,j] > data[\"h\"].iloc[i] - hceff[i] and data[\"rx\"].iloc[i] < 5*phi[i,data[\"indLR\"].iloc[i]]:\n",
    "                        if data[\"rx\"].iloc[i] < 5*phi[i,data[\"indLR\"].iloc[i]]:\n",
    "                            #Acefftemp[j] = 2*( data[\"rx\"].iloc[i] + 5*phi[i,data[\"indLR\"].iloc[i]] )*hceff[i] / nlayertenseff + \\\n",
    "                            #    (nbl[i,j]-2)*( 10*phi[i,data[\"indLR\"].iloc[i]] ) * hceff[i] / nlayertenseff;\n",
    "                            Acefftemp = 4*( data[\"rx\"].iloc[i] + 5*phi[i,data[\"indLR\"].iloc[i]] )*hceff[i] + \\\n",
    "                                2*(nbl[i,data[\"indLR\"].iloc[i]]-2)*( 10*phi[i,data[\"indLR\"].iloc[i]] ) * hceff[i];\n",
    "                   \n",
    "                        #elif zs[i,j] > data[\"h\"].iloc[i] - hceff[i] and data[\"rx\"].iloc[i] >= 5*phi[i,data[\"indLR\"].iloc[i]]:\n",
    "                        elif data[\"rx\"].iloc[i] >= 5*phi[i,data[\"indLR\"].iloc[i]]:\n",
    "                            #Acefftemp[j] = nbl[i,j]*10*phi[i,data[\"indLR\"].iloc[i]]*hceff[i] / nlayertenseff;\n",
    "                            Acefftemp = 2*nbl[i,data[\"indLR\"].iloc[i]]*10*phi[i,data[\"indLR\"].iloc[i]]*hceff[i];\n",
    "                        \n",
    "                        Aceff[i] = Acefftemp;\n",
    "        \n",
    "                        Asefftemp = 2*nbl[i,0]*(1/4)*np.pi*phi[i,0]**2;\n",
    "\n",
    "                        phi_eqtemp = 2*nbl[i,0]*phi[i,0];\n",
    "                        phi_eqtemp_sqrt = 2*nbl[i,0]*phi[i,0]**2\n",
    "        \n",
    "                        Aseff[i] = Asefftemp;\n",
    "        \n",
    "                        phi_eq[i] = phi_eqtemp_sqrt/phi_eqtemp;\n",
    "                \n",
    "                # Subcase: MC 2020 fig. 30.5-4 right: lowest reinfocing layer is > 5*phi (phi of lowest layer)\n",
    "                elif data[\"ry\"].iloc[i] > 5*phi[i,data[\"indLR\"].iloc[i]]:\n",
    "\n",
    "                    # Elements with three layers (top and bottom layer are symmetrically reinforced)\n",
    "                    if data[\"EPID\"].iloc[i] in [27,28,31]:\n",
    "\n",
    "                        \n",
    "                        #if data[\"rx\"].iloc[i] < 5*phi[i,data[\"indLR\"].iloc[i]]:\n",
    "                        Acefftemp = 4*( data[\"rx\"].iloc[i] + 5*phi[i,data[\"indLR\"].iloc[i]] )*hceff[i] + \\\n",
    "                            (nbl[i,0]-2)*( 10*phi[i,data[\"indLR\"].iloc[i]] ) * hceff[i] + \\\n",
    "                        2*( clat[i,1] + 5.5*phi[i,1] )*min(max(data[\"h\"].iloc[i] - 2*hceff[i],0),10*phi[i,1]);\n",
    "                        #elif data[\"rx\"].iloc[i] >= 5*phi[i,data[\"indLR\"].iloc[i]]:\n",
    "                            #Acefftemp = nbl[i,0]*10*phi[i,data[\"indLR\"].iloc[i]]*hceff[i] + \\\n",
    "                            #2*( clat[i,1] + 5.5*phi[i,1] )*min(max(data[\"h\"].iloc[i] - 2*hceff[i],0),10*phi[i,1]);\n",
    "\n",
    "                        \n",
    "                        Aceff[i] = Acefftemp;\n",
    "        \n",
    "                        Asefftemp = 2*nbl[i,0]*(1/4)*np.pi*phi[i,0]**2 + nbl[i,1]*(1/4)*np.pi*phi[i,1]**2;\n",
    "\n",
    "                        phi_eqtemp = 2*nbl[i,0]*phi[i,0] + nbl[i,1]*phi[i,1];\n",
    "                        phi_eqtemp_sqrt = 2*nbl[i,0]*phi[i,0]**2 + nbl[i,1]*phi[i,1]**2\n",
    "        \n",
    "                        Aseff[i] = Asefftemp;\n",
    "        \n",
    "                        phi_eq[i] = phi_eqtemp_sqrt/phi_eqtemp;\n",
    "\n",
    "                    # Elements with two layers; symmetrisch gewapend\n",
    "                    if data[\"EPID\"].iloc[i] in [13,15,16,18]:\n",
    "    \n",
    "                        #if zs[i,j] > data[\"h\"].iloc[i] - hceff and data[\"rx\"].iloc[i] < 5*phi[i,data[\"indLR\"].iloc[i]] and nbl[i,j] > 2:\n",
    "                        if data[\"rx\"].iloc[i] < 5*phi[i,data[\"indLR\"].iloc[i]]:\n",
    "                            Acefftemp = 4*( data[\"rx\"].iloc[i] + 5*phi[i,data[\"indLR\"].iloc[i]] )*hceff[i] + \\\n",
    "                                2*(nbl[i,data[\"indLR\"].iloc[i]]-2)*( 10*phi[i,data[\"indLR\"].iloc[i]] ) * hceff[i];\n",
    "                            #Acefftemp[j] = 2*( data[\"rx\"].iloc[i] + 5*phi[i,data[\"indLR\"].iloc[i]] )*hceff[i] / nlayertenseff + \\\n",
    "                            #    (nbl[i,j]-2)*( 10*phi[i,data[\"indLR\"].iloc[i]] ) * hceff[i] / nlayertenseff;\n",
    "\n",
    "                            \n",
    "                        \n",
    "                        #elif zs[i,j] > data[\"h\"].iloc[i] - hceff[i] and data[\"rx\"].iloc[i] >= 5*phi[i,data[\"indLR\"].iloc[i]]:\n",
    "                        elif data[\"rx\"].iloc[i] >= 5*phi[i,data[\"indLR\"].iloc[i]]:\n",
    "                            #Acefftemp[j] = nbl[i,j]*10*phi[i,data[\"indLR\"].iloc[i]]*hceff[i] / nlayertenseff;\n",
    "                            Acefftemp = 2*nbl[i,data[\"indLR\"].iloc[i]]*10*phi[i,data[\"indLR\"].iloc[i]]*hceff[i];\n",
    "                    \n",
    "                        Aceff[i] = Acefftemp;\n",
    "        \n",
    "\n",
    "                        Asefftemp = 2*nbl[i,0]*(1/4)*np.pi*phi[i,0]**2;\n",
    "    \n",
    "                        phi_eqtemp = nbl[i,0]*phi[i,0];\n",
    "                        phi_eqtemp_sqrt = nbl[i,0]*phi[i,0]**2\n",
    "        \n",
    "                        Aseff[i] = Asefftemp;\n",
    "    \n",
    "                        phi_eq[i] = phi_eqtemp_sqrt/phi_eqtemp;\n",
    "            \n",
    "            # Case 2: grouped bars --> indien spacing <= 10*phi\n",
    "            elif spacall[i,data[\"indLR\"].iloc[i]] <= 10*phi[i,data[\"indLR\"].iloc[i]]:\n",
    "\n",
    "                # Elements with three layers (top and bottom layer are symmetrically reinforced)\n",
    "                if data[\"EPID\"].iloc[i] in [27,28,31]:\n",
    "\n",
    "                    #if data[\"rx\"].iloc[i] < 5*phi[i,data[\"indLR\"].iloc[i]]:\n",
    "                    Acefftemp = 2*quad(func_extract_width,0,hceff[i],args=(data[\"b\"].iloc[i]))[0] + \\\n",
    "                        2*( clat[i,1] + 5.5*phi[i,1] )*min(max(data[\"h\"].iloc[i] - 2*hceff[i],0),10*phi[i,1]);\n",
    "                    #elif data[\"rx\"].iloc[i] >= 5*phi[i,data[\"indLR\"].iloc[i]]:\n",
    "                    #    Acefftemp = 2*( 10*phi[i,data[\"indLR\"].iloc[i]] )*hceff[i] + \\\n",
    "                    #                (nbl[i,j]-2)*( 10*phi[i,data[\"indLR\"].iloc[i]] )*hceff[i] + \\\n",
    "                    #    2*( clat[i,1] + 5.5*phi[i,1] )*min(max(data[\"h\"].iloc[i] - 2*hceff[i],0),10*phi[i,1]);\n",
    "                    \n",
    "                    Aceff[i] = min(Acefftemp,data[\"Ac\"].iloc[i]);\n",
    "                    \n",
    "                    Asefftemp = 2*nbl[i,0]*(1/4)*np.pi*phi[i,0]**2 + nbl[i,1]*(1/4)*np.pi*phi[i,1]**2;\n",
    "\n",
    "                    phi_eqtemp = 2*nbl[i,0]*phi[i,0] + nbl[i,1]*phi[i,1];\n",
    "                    phi_eqtemp_sqrt= 2*nbl[i,0]*phi[i,0]**2 + nbl[i,1]*phi[i,1]**2\n",
    "    \n",
    "                    Aseff[i] = Asefftemp;\n",
    "    \n",
    "                    phi_eq[i] = phi_eqtemp_sqrt/phi_eqtemp;\n",
    "                \n",
    "                # Elements with two layers; symmetrisch gewapend\n",
    "                if data[\"EPID\"].iloc[i] in [13,15,16,18]:\n",
    "                    \n",
    "                    Aceff[i] = 2*quad(func_extract_width,0,hceff[i],args=(data[\"b\"].iloc[i]))[0];\n",
    "                    \n",
    "                    for j in range(Ncond):\n",
    "                        if zs[i,j] < hceff[i]:\n",
    "                            Asefftemp[j] = 2*nbl[i,j]*(1/4)*np.pi*phi[i,j]**2;\n",
    "                            \n",
    "                            phi_eqtemp[j] = nbl[i,j]*phi[i,j];\n",
    "                            phi_eqtemp_sqrt[j] = nbl[i,j]*phi[i,j]**2\n",
    "        \n",
    "                    Aseff[i] = sum(Asefftemp);\n",
    "\n",
    "                    phi_eq[i] = sum(phi_eqtemp_sqrt)/sum(phi_eqtemp);\n",
    "            \n",
    "        # Calculation of rhoeff\n",
    "        # Keep in mind that zeta1 in case of only prestressing reinforcement was defined as zeta1 = np.sqrt(zeta);\n",
    "        # However, for cases with only prestressing reinforcement, the bond strength should be equal to tau_bmp = zeta*tau_bms\n",
    "        if data[\"Astot\"].iloc[i] > tol:\n",
    "            rhoeff[i] = (Aseff[i] + (data[\"zeta1\"].iloc[i])*Apeff[i])/Aceff[i];\n",
    "        elif data[\"Astot\"].iloc[i] < tol: # Hence, zeta1 was substituted with zeta\n",
    "            rhoeff[i] = (Aseff[i] + (data[\"zeta\"].iloc[i])*Apeff[i])/Aceff[i];\n",
    "                        \n",
    "    return Aceff, Aseff, Apeff, phi_eq, rhoeff, hceff"
   ]
  },
  {
   "cell_type": "code",
   "execution_count": 254,
   "id": "69d9d54f-706b-4904-9a81-0e2e7835b90b",
   "metadata": {},
   "outputs": [],
   "source": [
    "df[\"Aceff_FPR\"], df[\"Aseff_FPR\"], df[\"Apeff_FPR\"], df[\"phi_eq_FPR\"], df[\"rhoeff_FPR\"], df[\"hceff_FPR\"] = cal_eff_area_FPR(df);\n",
    "\n",
    "df = df.astype({\n",
    "    \"Aceff_FPR\": \"float\",\n",
    "    \"Aseff_FPR\": \"float\",\n",
    "    \"Apeff_FPR\": \"float\",\n",
    "    \"phi_eq_FPR\": \"float\",\n",
    "    \"rhoeff_FPR\": \"float\",\n",
    "    \"hceff_FPR\": \"float\",\n",
    "});"
   ]
  },
  {
   "cell_type": "code",
   "execution_count": 255,
   "id": "29f49feb-0f7c-484b-aaab-31d454199ea8",
   "metadata": {},
   "outputs": [],
   "source": [
    "def cal_eff_area_SMTCM(data):\n",
    "\n",
    "    Aceff = np.zeros(data.shape[0]);\n",
    "    Aseff = np.zeros(data.shape[0]);\n",
    "    Apeff = np.zeros(data.shape[0]);\n",
    "    phi_eq = np.zeros(data.shape[0]);\n",
    "    rhoeff = np.zeros(data.shape[0]);\n",
    "    hceff = np.zeros(data.shape[0]);\n",
    "    bceff = np.zeros(data.shape[0]);\n",
    "    sumcirc = np.zeros(data.shape[0]);\n",
    "    sumcirc_p = np.zeros(data.shape[0]);\n",
    "    \n",
    "    for i in range(data.shape[0]):\n",
    "\n",
    "        # Case: pure bending and / or prestressing\n",
    "        # ========================================\n",
    "        if data[\"Astot\"].iloc[i] > tol and data[\"epsin\"].iloc[i] == str(2) or data[\"epsin\"].iloc[i] == str(3) and data[\"Aptot\"].iloc[i] > tol:\n",
    "\n",
    "            if data[\"xc\"].iloc[i] > tol:\n",
    "\n",
    "                if data[\"Astot\"].iloc[i] < tol:\n",
    "                    # Determine top layer in tensile zone\n",
    "                    idx = find_positive(zp[i,:]-data[\"phi_peq\"].iloc[i]);\n",
    "                    zptoptens = zp[i,idx];\n",
    "                    \n",
    "                    #hceff1 = data[\"ryp\"].iloc[i] + 5*data[\"phi_peq\"].iloc[i];\n",
    "                    #hceff2 = 10*data[\"phi_peq\"].iloc[i];\n",
    "                    #hceff3 = 3.5*data[\"ryp\"].iloc[i];\n",
    "                else:\n",
    "                    # Determine top layer in tensile zone\n",
    "                    idx = find_positive(zs[i,:]-data[\"xc\"].iloc[i]);\n",
    "                    zstoptens = zs[i,idx];\n",
    "                    \n",
    "                    #hceff1 = data[\"ry\"].iloc[i] + 5*phi[i,data[\"indLR\"].iloc[i]];\n",
    "                    #hceff2 = 10*phi[i,data[\"indLR\"].iloc[i]];\n",
    "                    #hceff3 = 3.5*data[\"ry\"].iloc[i];\n",
    "\n",
    "                #if data[\"Astot\"].iloc[i] < tol:\n",
    "                #    hceffint = np.min([hceff1,hceff2,hceff3]) + (zp[i,data[\"indNP\"].iloc[i]] - zptoptens);\n",
    "                #else:\n",
    "                #    hceffint = np.min([hceff1,hceff2,hceff3]) + (zs[i,data[\"indLR\"].iloc[i]] - zstoptens);\n",
    "\n",
    "                if data[\"Astot\"].iloc[i] < tol:\n",
    "                    hceff4 = 2.5*(data[\"h\"].iloc[i] - data[\"zptottens\"].iloc[i]);\n",
    "                else:\n",
    "                    hceff4 = 2.5*(data[\"h\"].iloc[i] - data[\"zstottens\"].iloc[i]);\n",
    "                \n",
    "                hceff5 = data[\"h\"].iloc[i]/2;\n",
    "                \n",
    "                hceff[i] = np.min([hceff4,hceff5]);\n",
    "\n",
    "                if data[\"Astot\"].iloc[i] > tol:\n",
    "                    nlayertenseff = data[\"indLR\"].iloc[i] - idx + 1;\n",
    "                    \n",
    "                Acefftemp = np.zeros(Ncond);\n",
    "                Asefftemp = np.zeros(Ncond);\n",
    "                Apefftemp = np.zeros(Ncond);\n",
    "    \n",
    "                phi_eqtemp = np.zeros(Ncond);\n",
    "                phi_eqtemp_sqrt = np.zeros(Ncond);\n",
    "\n",
    "                press_phi_eqtemp = np.zeros(Ncond);\n",
    "                press_phi_eqtemp_sqrt = np.zeros(Ncond);\n",
    "\n",
    "                sumcirctemp = np.zeros(Ncond);\n",
    "                sumcirctemp_p = np.zeros(Ncond);\n",
    "                \n",
    "                # Case 1: isolated bars --> indien spacing > 10*phi\n",
    "                if spacall[i,data[\"indLR\"].iloc[i]] > 10*phi[i,data[\"indLR\"].iloc[i]]:\n",
    "                    \n",
    "                    # Subcase: MC 2020 fig. 30.5-4 left: lowest reinfocing layer is <= 5*phi (phi of lowest layer)\n",
    "                    if data[\"ry\"].iloc[i] <= 5*phi[i,data[\"indLR\"].iloc[i]]:\n",
    "                        \n",
    "                        for j in range(Ncond):\n",
    "                            \n",
    "                            if zs[i,j] > data[\"h\"].iloc[i] - hceff[i] and data[\"rx\"].iloc[i] < 5*phi[i,data[\"indLR\"].iloc[i]]:\n",
    "                                Acefftemp[j] = 2*( data[\"rx\"].iloc[i] + 5*phi[i,data[\"indLR\"].iloc[i]] )*hceff[i] / nlayertenseff + \\\n",
    "                                    (nbl[i,j]-2)*( 10*phi[i,data[\"indLR\"].iloc[i]] ) * hceff[i] / nlayertenseff;\n",
    "                            \n",
    "                            elif zs[i,j] > data[\"h\"].iloc[i] - hceff[i] and data[\"rx\"].iloc[i] >= 5*phi[i,data[\"indLR\"].iloc[i]]:\n",
    "                                Acefftemp[j] = nbl[i,j]*10*phi[i,data[\"indLR\"].iloc[i]]*hceff[i] / nlayertenseff;\n",
    "                        \n",
    "                        Aceff[i] = sum(Acefftemp);\n",
    "        \n",
    "                        for j in range(Ncond):\n",
    "                            if zs[i,j] > data[\"h\"].iloc[i] - hceff[i]:\n",
    "                                Asefftemp[j] = nbl[i,j]*(1/4)*np.pi*phi[i,j]**2;\n",
    "    \n",
    "                                phi_eqtemp[j] = nbl[i,j]*phi[i,j];\n",
    "                                phi_eqtemp_sqrt[j] = nbl[i,j]*phi[i,j]**2;\n",
    "\n",
    "                                sumcirctemp[j] = np.pi*nbl[i,j]*phi[i,j];\n",
    "                                        \n",
    "                        Aseff[i] = sum(Asefftemp);\n",
    "                        sumcirc[i] = sum(sumcirctemp);\n",
    "                        \n",
    "                        if data[\"Aptot\"].iloc[i] > tol:\n",
    "                            for j in range(Ncond):\n",
    "                                if zp[i,j] > data[\"h\"].iloc[i] - hceff[i]:\n",
    "                                    Apefftemp[j] = Ap[i,j]*npl[i,j];\n",
    "\n",
    "                                    #press_phi_eqtemp[j] = npl[i,j]*data[\"phi_peq\"].iloc[i];\n",
    "                                    #press_phi_eqtemp_sqrt[j] = npl[i,j]*data[\"phi_peq\"].iloc[i]**2;\n",
    "                                    \n",
    "                                    sumcirctemp_p[j] = np.pi*npl[i,j]*data[\"phi_peq\"].iloc[i];\n",
    "                        \n",
    "                            sumcirc_p[i] = sum(sumcirctemp_p);\n",
    "                            Apeff[i] = sum(Apefftemp);\n",
    "\n",
    "    \n",
    "                        if data[\"epsin\"].iloc[i] == str(\"3\"):\n",
    "                            if data[\"Astot\"].iloc[i] > tol: # Combination ordinary and prestressed reinforcing steel\n",
    "                                phi_eq[i] = sum(phi_eqtemp_sqrt)/sum(phi_eqtemp);\n",
    "                            else: # Prestressed reinforcement only\n",
    "                                phi_eq[i] = data[\"phi_peq\"].iloc[i];\n",
    "                        else:\n",
    "                            phi_eq[i] = sum(phi_eqtemp_sqrt)/sum(phi_eqtemp);\n",
    "                    \n",
    "                    # Subcase: MC 2020 fig. 30.5-4 right: lowest reinfocing layer is > 5*phi (phi of lowest layer)\n",
    "                    elif data[\"ry\"].iloc[i] > 5*phi[i,data[\"indLR\"].iloc[i]]:\n",
    "                        \n",
    "                        for j in range(Ncond):\n",
    "    \n",
    "                            if zs[i,j] > data[\"h\"].iloc[i] - hceff and data[\"rx\"].iloc[i] < 5*phi[i,data[\"indLR\"].iloc[i]] and nbl[i,j] > 2:\n",
    "                                Acefftemp[j] = 2*( data[\"rx\"].iloc[i] + 5*phi[i,data[\"indLR\"].iloc[i]] )*hceff[i] / nlayertenseff + \\\n",
    "                                    (nbl[i,j]-2)*( 10*phi[i,data[\"indLR\"].iloc[i]] ) * hceff[i] / nlayertenseff;\n",
    "    \n",
    "                            elif zs[i,j] > data[\"h\"].iloc[i] - hceff[i] and data[\"rx\"].iloc[i] >= 5*phi[i,data[\"indLR\"].iloc[i]]:\n",
    "                                Acefftemp[j] = nbl[i,j]*10*phi[i,data[\"indLR\"].iloc[i]]*hceff[i] / nlayertenseff;\n",
    "        \n",
    "                        Aceff[i] = sum(Acefftemp);\n",
    "        \n",
    "                        for j in range(Ncond):\n",
    "                            if zs[i,j] > data[\"h\"].iloc[i] - hceff[i]:\n",
    "                                Asefftemp[j] = nbl[i,j]*(1/4)*np.pi*phi[i,j]**2;\n",
    "    \n",
    "                                phi_eqtemp[j] = nbl[i,j]*phi[i,j];\n",
    "                                phi_eqtemp_sqrt[j] = nbl[i,j]*phi[i,j]**2;\n",
    "\n",
    "                                sumcirctemp[j] = np.pi*nbl[i,j]*phi[i,j];\n",
    "        \n",
    "                        Aseff[i] = sum(Asefftemp);\n",
    "                        sumcirc[i] = sum(sumcirctemp);\n",
    "        \n",
    "                        if data[\"Aptot\"].iloc[i] > tol:\n",
    "                            for j in range(Ncond):\n",
    "                                if zp[i,j] > data[\"h\"].iloc[i] - hceff[i]:\n",
    "                                    Apefftemp[j] = Ap[i,j]*npl[i,j];\n",
    "\n",
    "                                    #press_phi_eqtemp[j] = npl[i,j]*data[\"phi_peq\"].iloc[i];\n",
    "                                    #press_phi_eqtemp_sqrt[j] = npl[i,j]*data[\"phi_peq\"].iloc[i]**2;\n",
    "\n",
    "                                    sumcirctemp_p[j] = np.pi*npl[i,j]*data[\"phi_peq\"].iloc[i];\n",
    "\n",
    "                            sumcirc_p[i] = sum(sumcirctemp_p);\n",
    "                            Apeff[i] = sum(Apefftemp);\n",
    "\n",
    "\n",
    "                        if data[\"epsin\"].iloc[i] == str(\"3\"):\n",
    "                            if data[\"Astot\"].iloc[i] > tol: # Combination ordinary and prestressed reinforcing steel\n",
    "                                phi_eq[i] = sum(phi_eqtemp_sqrt)/sum(phi_eqtemp);\n",
    "                            else: # Prestressed reinforcement only\n",
    "                                phi_eq[i] = data[\"phi_peq\"].iloc[i];\n",
    "                        else:\n",
    "                            phi_eq[i] = sum(phi_eqtemp_sqrt)/sum(phi_eqtemp);\n",
    "                \n",
    "                # Case 2: grouped bars --> indien spacing <= 10*phi\n",
    "                elif spacall[i,data[\"indLR\"].iloc[i]] <= 10*phi[i,data[\"indLR\"].iloc[i]]:\n",
    "    \n",
    "                    #Aceff[i] = quad(func_extract_width,data[\"h\"].iloc[i]-hceff[i],data[\"h\"].iloc[i],args=(data[\"b\"].iloc[i]))[0];\n",
    "                    if data[\"rx\"].iloc[i] <= 5*phi[i,data[\"indLR\"].iloc[i]]:\n",
    "                        Aceff[i] = quad(func_extract_width,data[\"h\"].iloc[i]-hceff[i],data[\"h\"].iloc[i],args=(data[\"b\"].iloc[i]))[0];\n",
    "                    \n",
    "                    elif data[\"rx\"].iloc[i] > 5*phi[i,data[\"indLR\"].iloc[i]]:\n",
    "                        Aceff[i] = quad(func_extract_width,data[\"h\"].iloc[i]-hceff[i],data[\"h\"].iloc[i],args=(data[\"b\"].iloc[i]))[0] - \\\n",
    "                            2*(data[\"rx\"].iloc[i] - 5*phi[i,data[\"indLR\"].iloc[i]])*hceff[i];\n",
    "    \n",
    "                    for j in range(Ncond):\n",
    "                        if zs[i,j] > data[\"h\"].iloc[i] - hceff[i]:\n",
    "                            Asefftemp[j] = nbl[i,j]*(1/4)*np.pi*phi[i,j]**2;\n",
    "                            \n",
    "                            phi_eqtemp[j] = nbl[i,j]*phi[i,j];\n",
    "                            phi_eqtemp_sqrt[j] = nbl[i,j]*phi[i,j]**2;\n",
    "\n",
    "                            sumcirctemp[j] = np.pi*nbl[i,j]*phi[i,j];\n",
    "        \n",
    "                    Aseff[i] = sum(Asefftemp);\n",
    "                    sumcirc[i] = sum(sumcirctemp);\n",
    "        \n",
    "                    for j in range(Ncond):\n",
    "                        if zs[i,j] > data[\"h\"].iloc[i] - hceff[i]:\n",
    "                            Asefftemp[j] = nbl[i,j]*(1/4)*np.pi*phi[i,j]**2;\n",
    "    \n",
    "                            phi_eqtemp[j] = nbl[i,j]*phi[i,j];\n",
    "                            phi_eqtemp_sqrt[j] = nbl[i,j]*phi[i,j]**2;\n",
    "\n",
    "                            sumcirctemp[j] = np.pi*nbl[i,j]*phi[i,j];\n",
    "    \n",
    "                    Aseff[i] = sum(Asefftemp);\n",
    "                    sumcirc[i] = sum(sumcirctemp);\n",
    "        \n",
    "                    if data[\"Aptot\"].iloc[i] > tol:\n",
    "                        for j in range(Ncond):\n",
    "                            if zp[i,j] > data[\"h\"].iloc[i] - hceff[i]:\n",
    "                                Apefftemp[j] = Ap[i,j]*npl[i,j];\n",
    "                                \n",
    "                                #press_phi_eqtemp[j] = npl[i,j]*data[\"phi_peq\"].iloc[i];\n",
    "                                #press_phi_eqtemp_sqrt[j] = npl[i,j]*data[\"phi_peq\"].iloc[i]**2;\n",
    "\n",
    "                                sumcirctemp_p[j] = np.pi*npl[i,j]*data[\"phi_peq\"].iloc[i];\n",
    "\n",
    "                        sumcirc_p[i] = sum(sumcirctemp_p);\n",
    "                        Apeff[i] = sum(Apefftemp);\n",
    "                    \n",
    "\n",
    "                    if data[\"epsin\"].iloc[i] == str(\"3\"):\n",
    "                        if data[\"Astot\"].iloc[i] > tol: # Combination ordinary and prestressed reinforcing steel\n",
    "                            phi_eq[i] = sum(phi_eqtemp_sqrt)/sum(phi_eqtemp);\n",
    "                        else: # Prestressed reinforcement only\n",
    "                            phi_eq[i] = data[\"phi_peq\"].iloc[i];\n",
    "                    else:\n",
    "                        phi_eq[i] = sum(phi_eqtemp_sqrt)/sum(phi_eqtemp);\n",
    "        \n",
    "        # Case: pure tension\n",
    "        # ========================================\n",
    "\n",
    "        hceff_single = np.zeros(data.shape[0]);\n",
    "        bceff_single = np.zeros(data.shape[0]);\n",
    "        \n",
    "        if data[\"epsin\"].iloc[i] == str(\"1a\"):\n",
    "\n",
    "            hceff1 = 2.5*data[\"ry\"].iloc[i];\n",
    "            hceff2 = data[\"h\"].iloc[i]/2;\n",
    "        \n",
    "            hceff[i] = min(hceff1,hceff2);\n",
    "            \n",
    "            bceff1 = data[\"rx\"].iloc[i] + 5*phi[i,data[\"indLR\"].iloc[i]];\n",
    "            bceff2 = 10*phi[i,data[\"indLR\"].iloc[i]];\n",
    "            bceff3 = 3.5*data[\"rx\"].iloc[i];\n",
    "            bceff4 = func_extract_width(data[\"indLR\"].iloc[i],data[\"b\"].iloc[i])/2;\n",
    "\n",
    "            bceff[i] = min(min(bceff1,bceff2,bceff3),bceff4);\n",
    "            \n",
    "            Acefftemp = np.zeros(Ncond);\n",
    "            Asefftemp = np.zeros(Ncond);\n",
    "            phi_eqtemp = np.zeros(Ncond);\n",
    "            phi_eqtemp_sqrt = np.zeros(Ncond);\n",
    "\n",
    "            sumcirctemp = np.zeros(Ncond);\n",
    "            sumcirctemp_p = np.zeros(Ncond);\n",
    "        \n",
    "            hceff_single[i] = hceff[i];\n",
    "        \n",
    "            bceff2_single = bceff2/2;\n",
    "            bceff4_single = bceff4;\n",
    "\n",
    "            bceff_single[i] = min(bceff2_single,bceff4_single);\n",
    "            \n",
    "            # Element with a single bar in the middle of the cross-section (round cross-sections!)\n",
    "            if data[\"EPID\"].iloc[i] in [5,10]:\n",
    "                if data[\"ELID\"].iloc[i] in [\"T-C1-3\",\"T-C1-5\",\"T-C2-3\",\"T-C2-5\",\"T-C3-1\",\"T-C3-2\",\"T-C3-4\",\n",
    "                                            \"Specimen 1\",\"Specimen 2\",\"Specimen 3\",\"Specimen 4\",\"Specimen 5\"]:\n",
    "                    Aceff[i] = 2*quad(func_extract_width,0,hceff_single[i],args=(data[\"b\"].iloc[i]))[0];\n",
    "                    Aseff[i] = (1/4)*np.pi*phi[i,0]**2;\n",
    "                    phi_eq[i] = phi[i,0];\n",
    "                # Address rectangular cross-sections\n",
    "                    \n",
    "                    sumcirc[i] = np.pi*phi[i,0];\n",
    "                    \n",
    "                else:\n",
    "                    Aceff[i] = 2*hceff_single[i]*2*bceff_single[i];\n",
    "                    Aseff[i] = (1/4)*np.pi*phi[i,0]**2;\n",
    "                    phi_eq[i] = phi[i,0];\n",
    "\n",
    "                    sumcirc[i] = np.pi*phi[i,0];\n",
    "\n",
    "            if data[\"EPID\"].iloc[i] in [11,12,19,23]:\n",
    "                Aceff[i] = 2*hceff_single[i]*2*bceff_single[i];\n",
    "                Aseff[i] = (1/4)*np.pi*phi[i,0]**2;\n",
    "                phi_eq[i] = phi[i,0];\n",
    "\n",
    "                sumcirc[i] = np.pi*phi[i,0];\n",
    "                \n",
    "            # Case 1: isolated bars --> indien spacing > 10*phi\n",
    "            if df[\"sxLR\"].iloc[i] > 10*phi[i,data[\"indLR\"].iloc[i]]:\n",
    "                \n",
    "                # Subcase: MC 2020 fig. 30.5-4 left: lowest reinfocing layer is <= 5*phi (phi of lowest layer)\n",
    "                if data[\"ry\"].iloc[i] <= 5*phi[i,data[\"indLR\"].iloc[i]]:\n",
    "\n",
    "                    # Elements with three layers (top and bottom layer are symmetrically reinforced)\n",
    "                    if data[\"EPID\"].iloc[i] in [27,28,31]:\n",
    "\n",
    "                        #if data[\"rx\"].iloc[i] < 5*phi[i,data[\"indLR\"].iloc[i]]:\n",
    "                        Acefftemp = 4*( data[\"rx\"].iloc[i] + 5*phi[i,data[\"indLR\"].iloc[i]] )*hceff[i] + \\\n",
    "                                (nbl[i,data[\"indLR\"].iloc[i]]-2)*( 10*phi[i,data[\"indLR\"].iloc[i]] ) * hceff[i];\n",
    "                        #elif data[\"rx\"].iloc[i] >= 5*phi[i,data[\"indLR\"].iloc[i]]:\n",
    "                            #Acefftemp = nbl[i,j]*10*phi[i,data[\"indLR\"].iloc[i]]*hceff[i] + \\\n",
    "                            #2*( clat[i,1] + 5.5*phi[i,1] )*min(max(data[\"h\"].iloc[i] - 2*hceff[i],0),10*phi[i,1]);\n",
    "\n",
    "                        Aceff[i] = Acefftemp;\n",
    "        \n",
    "                        Asefftemp = 2*nbl[i,0]*(1/4)*np.pi*phi[i,0]**2 + nbl[i,1]*(1/4)*np.pi*phi[i,1]**2;\n",
    "    \n",
    "                        phi_eqtemp = 2*nbl[i,0]*phi[i,0] + nbl[i,1]*phi[i,1];\n",
    "                        phi_eqtemp_sqrt = 2*nbl[i,0]*phi[i,0]**2 + nbl[i,1]*phi[i,1]**2\n",
    "        \n",
    "                        Aseff[i] = Asefftemp;\n",
    "        \n",
    "                        phi_eq[i] = phi_eqtemp_sqrt/phi_eqtemp;\n",
    "\n",
    "                        sumcirc[i] = (2*nbl[i,0]*phi[i,0] + nbl[i,1]*phi[i,1])*np.pi;\n",
    "                    \n",
    "                    # Elements with two layers; symmetrisch gewapend\n",
    "                    if data[\"EPID\"].iloc[i] in [13,15,16,18]:\n",
    "                           \n",
    "                        #if zs[i,j] > data[\"h\"].iloc[i] - hceff[i] and data[\"rx\"].iloc[i] < 5*phi[i,data[\"indLR\"].iloc[i]]:\n",
    "                        if data[\"rx\"].iloc[i] < 5*phi[i,data[\"indLR\"].iloc[i]]:\n",
    "                            #Acefftemp[j] = 2*( data[\"rx\"].iloc[i] + 5*phi[i,data[\"indLR\"].iloc[i]] )*hceff[i] / nlayertenseff + \\\n",
    "                            #    (nbl[i,j]-2)*( 10*phi[i,data[\"indLR\"].iloc[i]] ) * hceff[i] / nlayertenseff;\n",
    "                            Acefftemp = 4*( data[\"rx\"].iloc[i] + 5*phi[i,data[\"indLR\"].iloc[i]] )*hceff[i] + \\\n",
    "                                2*(nbl[i,data[\"indLR\"].iloc[i]]-2)*( 10*phi[i,data[\"indLR\"].iloc[i]] ) * hceff[i];\n",
    "                   \n",
    "                        #elif zs[i,j] > data[\"h\"].iloc[i] - hceff[i] and data[\"rx\"].iloc[i] >= 5*phi[i,data[\"indLR\"].iloc[i]]:\n",
    "                        elif data[\"rx\"].iloc[i] >= 5*phi[i,data[\"indLR\"].iloc[i]]:\n",
    "                            #Acefftemp[j] = nbl[i,j]*10*phi[i,data[\"indLR\"].iloc[i]]*hceff[i] / nlayertenseff;\n",
    "                            Acefftemp = 2*nbl[i,data[\"indLR\"].iloc[i]]*10*phi[i,data[\"indLR\"].iloc[i]]*hceff[i];\n",
    "                        \n",
    "                        Aceff[i] = Acefftemp;\n",
    "        \n",
    "                        Asefftemp = 2*nbl[i,0]*(1/4)*np.pi*phi[i,0]**2;\n",
    "\n",
    "                        phi_eqtemp = 2*nbl[i,0]*phi[i,0];\n",
    "                        phi_eqtemp_sqrt = 2*nbl[i,0]*phi[i,0]**2\n",
    "        \n",
    "                        Aseff[i] = Asefftemp;\n",
    "        \n",
    "                        phi_eq[i] = phi_eqtemp_sqrt/phi_eqtemp;\n",
    "\n",
    "                        sumcirc[i] = (2*nbl[i,0]*phi[i,0])*np.pi;\n",
    "                \n",
    "                # Subcase: MC 2020 fig. 30.5-4 right: lowest reinfocing layer is > 5*phi (phi of lowest layer)\n",
    "                elif data[\"ry\"].iloc[i] > 5*phi[i,data[\"indLR\"].iloc[i]]:\n",
    "\n",
    "                    # Elements with three layers (top and bottom layer are symmetrically reinforced)\n",
    "                    if data[\"EPID\"].iloc[i] in [27,28,31]:\n",
    "\n",
    "                        \n",
    "                        #if data[\"rx\"].iloc[i] < 5*phi[i,data[\"indLR\"].iloc[i]]:\n",
    "                        Acefftemp = 4*( data[\"rx\"].iloc[i] + 5*phi[i,data[\"indLR\"].iloc[i]] )*hceff[i] + \\\n",
    "                            (nbl[i,0]-2)*( 10*phi[i,data[\"indLR\"].iloc[i]] ) * hceff[i];\n",
    "                        #elif data[\"rx\"].iloc[i] >= 5*phi[i,data[\"indLR\"].iloc[i]]:\n",
    "                            #Acefftemp = nbl[i,0]*10*phi[i,data[\"indLR\"].iloc[i]]*hceff[i] + \\\n",
    "                            #2*( clat[i,1] + 5.5*phi[i,1] )*min(max(data[\"h\"].iloc[i] - 2*hceff[i],0),10*phi[i,1]);\n",
    "\n",
    "                        \n",
    "                        Aceff[i] = Acefftemp;\n",
    "        \n",
    "                        Asefftemp = 2*nbl[i,0]*(1/4)*np.pi*phi[i,0]**2 + nbl[i,1]*(1/4)*np.pi*phi[i,1]**2;\n",
    "\n",
    "                        phi_eqtemp = 2*nbl[i,0]*phi[i,0] + nbl[i,1]*phi[i,1];\n",
    "                        phi_eqtemp_sqrt = 2*nbl[i,0]*phi[i,0]**2 + nbl[i,1]*phi[i,1]**2\n",
    "        \n",
    "                        Aseff[i] = Asefftemp;\n",
    "        \n",
    "                        phi_eq[i] = phi_eqtemp_sqrt/phi_eqtemp;\n",
    "\n",
    "                        sumcirc[i] = (2*nbl[i,0]*phi[i,0] + nbl[i,1]*phi[i,1])*np.pi;\n",
    "\n",
    "                    # Elements with two layers; symmetrisch gewapend\n",
    "                    if data[\"EPID\"].iloc[i] in [13,15,16,18]:\n",
    "    \n",
    "                        #if zs[i,j] > data[\"h\"].iloc[i] - hceff and data[\"rx\"].iloc[i] < 5*phi[i,data[\"indLR\"].iloc[i]] and nbl[i,j] > 2:\n",
    "                        if data[\"rx\"].iloc[i] < 5*phi[i,data[\"indLR\"].iloc[i]]:\n",
    "                            Acefftemp = 4*( data[\"rx\"].iloc[i] + 5*phi[i,data[\"indLR\"].iloc[i]] )*hceff[i] + \\\n",
    "                                2*(nbl[i,data[\"indLR\"].iloc[i]]-2)*( 10*phi[i,data[\"indLR\"].iloc[i]] ) * hceff[i];\n",
    "                            #Acefftemp[j] = 2*( data[\"rx\"].iloc[i] + 5*phi[i,data[\"indLR\"].iloc[i]] )*hceff[i] / nlayertenseff + \\\n",
    "                            #    (nbl[i,j]-2)*( 10*phi[i,data[\"indLR\"].iloc[i]] ) * hceff[i] / nlayertenseff;\n",
    "\n",
    "  \n",
    "                        \n",
    "                        #elif zs[i,j] > data[\"h\"].iloc[i] - hceff[i] and data[\"rx\"].iloc[i] >= 5*phi[i,data[\"indLR\"].iloc[i]]:\n",
    "                        elif data[\"rx\"].iloc[i] >= 5*phi[i,data[\"indLR\"].iloc[i]]:\n",
    "                            #Acefftemp[j] = nbl[i,j]*10*phi[i,data[\"indLR\"].iloc[i]]*hceff[i] / nlayertenseff;\n",
    "                            Acefftemp = 2*nbl[i,data[\"indLR\"].iloc[i]]*10*phi[i,data[\"indLR\"].iloc[i]]*hceff[i];\n",
    "                    \n",
    "                        Aceff[i] = Acefftemp;\n",
    "\n",
    "                        Asefftemp = 2*nbl[i,0]*(1/4)*np.pi*phi[i,0]**2;\n",
    "    \n",
    "                        phi_eqtemp = nbl[i,0]*phi[i,0];\n",
    "                        phi_eqtemp_sqrt = nbl[i,0]*phi[i,0]**2\n",
    "        \n",
    "                        Aseff[i] = Asefftemp;\n",
    "    \n",
    "                        phi_eq[i] = phi_eqtemp_sqrt/phi_eqtemp;\n",
    "                        \n",
    "                        sumcirc[i] = (2*nbl[i,0]*phi[i,0])*np.pi;\n",
    "            \n",
    "            # Case 2: grouped bars --> indien spacing <= 10*phi\n",
    "            elif spacall[i,data[\"indLR\"].iloc[i]] <= 10*phi[i,data[\"indLR\"].iloc[i]]:\n",
    "\n",
    "                # Elements with three layers (top and bottom layer are symmetrically reinforced)\n",
    "                if data[\"EPID\"].iloc[i] in [27,28,31]:\n",
    "\n",
    "                    #if data[\"rx\"].iloc[i] < 5*phi[i,data[\"indLR\"].iloc[i]]:\n",
    "                    Acefftemp = 2*quad(func_extract_width,0,hceff[i],args=(data[\"b\"].iloc[i]))[0];\n",
    "                    #elif data[\"rx\"].iloc[i] >= 5*phi[i,data[\"indLR\"].iloc[i]]:\n",
    "                    #    Acefftemp = 2*( 10*phi[i,data[\"indLR\"].iloc[i]] )*hceff[i] + \\\n",
    "                    #                (nbl[i,j]-2)*( 10*phi[i,data[\"indLR\"].iloc[i]] )*hceff[i] + \\\n",
    "                    #    2*( clat[i,1] + 5.5*phi[i,1] )*min(max(data[\"h\"].iloc[i] - 2*hceff[i],0),10*phi[i,1]);\n",
    "                    \n",
    "                    Aceff[i] = min(Acefftemp,data[\"Ac\"].iloc[i]);\n",
    "                    \n",
    "                    Asefftemp = 2*nbl[i,0]*(1/4)*np.pi*phi[i,0]**2 + nbl[i,1]*(1/4)*np.pi*phi[i,1]**2;\n",
    "\n",
    "                    phi_eqtemp = 2*nbl[i,0]*phi[i,0] + nbl[i,1]*phi[i,1];\n",
    "                    phi_eqtemp_sqrt= 2*nbl[i,0]*phi[i,0]**2 + nbl[i,1]*phi[i,1]**2\n",
    "    \n",
    "                    Aseff[i] = Asefftemp;\n",
    "    \n",
    "                    phi_eq[i] = phi_eqtemp_sqrt/phi_eqtemp;\n",
    "\n",
    "                    sumcirc[i] = (2*nbl[i,0]*phi[i,0] + nbl[i,1]*phi[i,1])*np.pi;\n",
    "                \n",
    "                # Elements with two layers; symmetrisch gewapend\n",
    "                if data[\"EPID\"].iloc[i] in [13,15,16,18]:\n",
    "                    \n",
    "                    Aceff[i] = 2*quad(func_extract_width,0,hceff[i],args=(data[\"b\"].iloc[i]))[0];\n",
    "                    \n",
    "                    for j in range(Ncond):\n",
    "                        if zs[i,j] < hceff[i]:\n",
    "                            Asefftemp[j] = 2*nbl[i,j]*(1/4)*np.pi*phi[i,j]**2;\n",
    "                            \n",
    "                            phi_eqtemp[j] = nbl[i,j]*phi[i,j];\n",
    "                            phi_eqtemp_sqrt[j] = nbl[i,j]*phi[i,j]**2\n",
    "        \n",
    "                    Aseff[i] = sum(Asefftemp);\n",
    "\n",
    "                    phi_eq[i] = sum(phi_eqtemp_sqrt)/sum(phi_eqtemp);\n",
    "\n",
    "                    sumcirc[i] = (2*nbl[i,0]*phi[i,0])*np.pi;\n",
    "            \n",
    "           \n",
    "        # Calculation of rhoeff\n",
    "        # Keep in mind that zeta1 in case of only prestressing reinforcement was defined as zeta1 = np.sqrt(zeta);\n",
    "        # However, for cases with only prestressing reinforcement, the bond strength should be equal to tau_bmp = zeta*tau_bms\n",
    "        if data[\"Astot\"].iloc[i] > tol:\n",
    "            rhoeff[i] = (Aseff[i] + (data[\"zeta1\"].iloc[i])*Apeff[i])/Aceff[i];\n",
    "        elif data[\"Astot\"].iloc[i] < tol: # Hence, zeta1 was substituted with zeta\n",
    "            rhoeff[i] = (Aseff[i] + (data[\"zeta\"].iloc[i])*Apeff[i])/Aceff[i];\n",
    "\n",
    "    \n",
    "    return Aceff, Aseff, Apeff, phi_eq, rhoeff, hceff, sumcirc, sumcirc_p"
   ]
  },
  {
   "cell_type": "code",
   "execution_count": 256,
   "id": "326a72bd-52a1-4821-b90d-cc79128da981",
   "metadata": {},
   "outputs": [],
   "source": [
    "df[\"Aceff_SMTCM\"], df[\"Aseff_SMTCM\"], df[\"Apeff_SMTCM\"], df[\"phi_eq_SMTCM\"], df[\"rhoeff_SMTCM\"], df[\"hceff_SMTCM\"], \\\n",
    "    df[\"sumcirc_SMTCM\"], df[\"sumcirc_p_SMTCM\"] = cal_eff_area_SMTCM(df);\n",
    "\n",
    "df = df.astype({\n",
    "    \"Aceff_SMTCM\": \"float\",\n",
    "    \"Aseff_SMTCM\": \"float\",\n",
    "    \"Apeff_SMTCM\": \"float\",\n",
    "    \"phi_eq_SMTCM\": \"float\",\n",
    "    \"rhoeff_SMTCM\": \"float\",\n",
    "    \"hceff_SMTCM\": \"float\",\n",
    "    \"sumcirc_SMTCM\": \"float\",\n",
    "    \"sumcirc_p_SMTCM\": \"float\"\n",
    "});"
   ]
  },
  {
   "cell_type": "code",
   "execution_count": 257,
   "id": "c1fa7e87-75ef-48a9-bfb4-5faa1d0db529",
   "metadata": {},
   "outputs": [
    {
     "data": {
      "text/plain": [
       "<matplotlib.legend.Legend at 0x1581dcd2960>"
      ]
     },
     "execution_count": 257,
     "metadata": {},
     "output_type": "execute_result"
    },
    {
     "data": {
      "image/png": "[encoded data removed]",
      "text/plain": [
       "<Figure size 640x480 with 1 Axes>"
      ]
     },
     "metadata": {},
     "output_type": "display_data"
    }
   ],
   "source": [
    "plt.plot(df[\"EPID\"],df[\"Aceff_SMTCM\"],label=\"SMTCM\")\n",
    "plt.plot(df[\"EPID\"],df[\"Aceff_MC2020\"],label=\"MC2020\")\n",
    "plt.plot(df[\"EPID\"],df[\"Aceff_FPR\"],label=\"FPR\")\n",
    "plt.legend()"
   ]
  },
  {
   "cell_type": "markdown",
   "id": "cc6c205c-dd67-49ea-8510-65c24a1234df",
   "metadata": {},
   "source": [
    "### Preparation for conversion targets"
   ]
  },
  {
   "cell_type": "code",
   "execution_count": 258,
   "id": "71988896-d2eb-4515-bed3-8fee61f5893b",
   "metadata": {},
   "outputs": [],
   "source": [
    "def func_compute_Actens_Astens_state_1(data):\n",
    "\n",
    "    Actens_state_1 = np.zeros(data.shape[0]);\n",
    "    \n",
    "    Astenstemp = np.zeros((data.shape[0],Ncond));\n",
    "    Aptenstemp = np.zeros((data.shape[0],Ncond));\n",
    "    \n",
    "    Astens_state_1 = np.zeros(data.shape[0]);\n",
    "    Aptens_state_1 = np.zeros(data.shape[0]);\n",
    "    \n",
    "    for i in range(data.shape[0]):\n",
    "        if data[\"epsin\"].iloc[i] == str(\"1a\"):\n",
    "            Actens_state_1[i] = data[\"Ac\"].iloc[i];\n",
    "            Astens_state_1[i] = data[\"Astens\"].iloc[i];\n",
    "        elif data[\"epsin\"].iloc[i] == str(2):\n",
    "            Actens_state_1[i] = quad(func_extract_width,data[\"cog\"].iloc[i],data[\"h\"].iloc[i],args=(data[\"b\"].iloc[i]))[0];\n",
    "\n",
    "            for j in range(Ncond):\n",
    "                if zs[i,j] - tol > data[\"cog\"].iloc[i]:\n",
    "                    Astenstemp[i,j] = nbl[i,j]*(1/4)*np.pi*(phi[i,j]**2);\n",
    "\n",
    "            Astens_state_1[i] = sum(Astenstemp[i,:]);\n",
    "        \n",
    "        elif data[\"epsin\"].iloc[i] == str(3):\n",
    "            \n",
    "            sig_top = - data[\"PL\"].iloc[i]*1000/data[\"Ac\"].iloc[i] - (1e6)*data[\"Mcr\"].iloc[i]/data[\"W_It\"].iloc[i];\n",
    "            #print(\"sig_top\",sig_top)\n",
    "            sig_bot = - data[\"PL\"].iloc[i]*1000/data[\"Ac\"].iloc[i] + (1e6)*data[\"Mcr\"].iloc[i]/data[\"W_Ib\"].iloc[i];\n",
    "            #print(\"sig_bot\",sig_bot)\n",
    "            \n",
    "            sl = (sig_bot-sig_top)/data[\"h\"].iloc[i]; # Slope\n",
    "            hctens_state_1 = sig_bot/sl;\n",
    "    \n",
    "            Actens_state_1[i] = quad(func_extract_width,data[\"h\"].iloc[i] - hctens_state_1,data[\"h\"].iloc[i],args=(data[\"b\"].iloc[i]))[0];\n",
    "            \n",
    "            for j in range(Ncond):\n",
    "                    if zs[i,j] - tol > data[\"h\"].iloc[i] - hctens_state_1:\n",
    "                        Astenstemp[i,j] = nbl[i,j]*(1/4)*np.pi*(phi[i,j]**2);\n",
    "            Astens_state_1[i] = sum(Astenstemp[i,:]);\n",
    "\n",
    "            for j in range(Ncond):\n",
    "                if zp[i,j] - tol > data[\"h\"].iloc[i] - hctens_state_1:\n",
    "                    Aptenstemp[i,j] = npl[i,j]*Ap[i,j];\n",
    "            Aptens_state_1[i] = sum(Aptenstemp[i,:]);\n",
    "\n",
    "   \n",
    "    return Actens_state_1, Astens_state_1, Aptens_state_1"
   ]
  },
  {
   "cell_type": "code",
   "execution_count": 259,
   "id": "e24beb47-26c7-4e49-a7a5-320285cef6bb",
   "metadata": {},
   "outputs": [],
   "source": [
    "df[\"Actensstate1\"],df[\"Astensstate1\"],df[\"Aptensstate1\"] = func_compute_Actens_Astens_state_1(df);"
   ]
  },
  {
   "cell_type": "markdown",
   "id": "5eada5a3-06e5-43e4-9a26-3e3f6c149995",
   "metadata": {},
   "source": [
    "### Drop stuff"
   ]
  },
  {
   "cell_type": "code",
   "execution_count": 260,
   "id": "f4abf975-919d-477d-81d4-cb8e070ce624",
   "metadata": {},
   "outputs": [
    {
     "name": "stdout",
     "output_type": "stream",
     "text": [
      "(4783, 15)\n",
      "(4783, 209)\n"
     ]
    }
   ],
   "source": [
    "print(nbl.shape);\n",
    "print(df.shape)"
   ]
  },
  {
   "cell_type": "code",
   "execution_count": 261,
   "id": "bfaba985-ab65-4a58-b91c-ee955e8f6679",
   "metadata": {},
   "outputs": [],
   "source": [
    "df = df[df['sigs'].notna()];"
   ]
  },
  {
   "cell_type": "code",
   "execution_count": 262,
   "id": "4ecdf414-5acc-43d7-9496-5e5e948627a3",
   "metadata": {},
   "outputs": [
    {
     "data": {
      "text/plain": [
       "(4649, 209)"
      ]
     },
     "execution_count": 262,
     "metadata": {},
     "output_type": "execute_result"
    }
   ],
   "source": [
    "df.shape"
   ]
  },
  {
   "cell_type": "markdown",
   "id": "7024f9b2-d962-4b58-8e87-ee4640ee8033",
   "metadata": {},
   "source": [
    "### 05.14 - Imputation of targets"
   ]
  },
  {
   "cell_type": "code",
   "execution_count": 263,
   "id": "0077508f-2cea-47e1-989d-911cd19205eb",
   "metadata": {},
   "outputs": [],
   "source": [
    "if targetimputation == \"yes\":\n",
    "    for i in range(df.shape[0]):\n",
    "        if df[\"sm\"].iloc[i] < tol and df[\"ncr\"].iloc[i] > Ncracksub and df[\"Lcons\"].iloc[i] > 1 and df[\"CS\"].iloc[i] == 2:\n",
    "            df[\"sm\"].iloc[i] = df[\"Lcons\"].iloc[i]/df[\"ncr\"].iloc[i];"
   ]
  },
  {
   "cell_type": "markdown",
   "id": "71b7efaf-82b5-4194-ab40-20deec68d65a",
   "metadata": {},
   "source": [
    "### Global data filtering"
   ]
  },
  {
   "cell_type": "code",
   "execution_count": 264,
   "id": "f695eda6-4b22-437a-be98-f31fe8e9a094",
   "metadata": {},
   "outputs": [],
   "source": [
    "df.drop(df[(df[\"Astot\"] > tol) & (df[\"sigs\"] < tol)].index, inplace=True); # Remove failure computations\n",
    "df.drop(df[(df[\"sigs\"] > 0.7*df[\"fy\"])].index, inplace=True); # Remove failure computations\n",
    "df.drop(df[(df[\"Aptot\"] > tol) & (df[\"dpsigs\"] < tol)].index, inplace=True); # Remove failure computations\n",
    "\n",
    "if filtercrackingplateau == \"yes\":\n",
    "    df.drop(df[(df[\"N\"] < df[\"Ncr005\"])].index, inplace=True);\n",
    "    df.drop(df[(df[\"M\"] < df[\"Mcr005\"])].index, inplace=True);\n",
    "    \n",
    "if globalfilterstress == \"yes\":\n",
    "    df.drop(df[(df[\"sigs\"] > sigsupper) & (df[\"Astot\"] > tol)].index, inplace=True); # \"Region of interest: 150-350 MPa\";\n",
    "    df.drop(df[(df[\"sigs\"] < sigslower) & (df[\"Astot\"] > tol)].index, inplace=True); # \"Region of interest: 150-350 MPa\";"
   ]
  },
  {
   "cell_type": "code",
   "execution_count": 265,
   "id": "138403c1-3aa5-443d-98b0-14af0941775e",
   "metadata": {},
   "outputs": [
    {
     "data": {
      "text/plain": [
       "(1693, 209)"
      ]
     },
     "execution_count": 265,
     "metadata": {},
     "output_type": "execute_result"
    }
   ],
   "source": [
    "df.shape"
   ]
  },
  {
   "cell_type": "markdown",
   "id": "a006b741-0466-4fde-af26-b860a32f7c5d",
   "metadata": {},
   "source": [
    "### Compute ratios for the case of uniformly defined targets"
   ]
  },
  {
   "cell_type": "markdown",
   "id": "55acd958-74d9-46cd-aa90-1e9f938bb34e",
   "metadata": {},
   "source": [
    "#### Check before imputation - conversions"
   ]
  },
  {
   "cell_type": "code",
   "execution_count": 266,
   "id": "2eae9432-ca44-4443-99cb-6e1eb1424c73",
   "metadata": {},
   "outputs": [
    {
     "data": {
      "text/plain": [
       "(1693, 209)"
      ]
     },
     "execution_count": 266,
     "metadata": {},
     "output_type": "execute_result"
    }
   ],
   "source": [
    "df.shape"
   ]
  },
  {
   "cell_type": "code",
   "execution_count": 267,
   "id": "821899fb-1466-4886-9d62-50c4284aa597",
   "metadata": {},
   "outputs": [
    {
     "name": "stdout",
     "output_type": "stream",
     "text": [
      "umber of unknown max. crack widths (309, 209)\n",
      "Unknown maximum crack widths in CFS (230, 209)\n",
      "Unknown maximum crack widths in CFS - EPID18 (19, 209)\n",
      "Unknown maximum crack widths in SCS (79, 209)\n",
      "Unknown maximum crack widths in CFS - EPID18 (0, 209)\n"
     ]
    },
    {
     "data": {
      "image/png": "[encoded data removed]",
      "text/plain": [
       "<Figure size 640x480 with 1 Axes>"
      ]
     },
     "metadata": {},
     "output_type": "display_data"
    }
   ],
   "source": [
    "plt.title(\"Size database before conversion\");\n",
    "plt.plot(df[\"wmax\"],\"*\",label=\"wmax\");\n",
    "plt.plot(df[\"wm\"],\"*\",label=\"wm\");\n",
    "\n",
    "# Count number of zero wmwax (unknown)\n",
    "print(\"umber of unknown max. crack widths\",df[(df[\"wmax\"] < tol) & (df[\"wm\"] > tol) & (df[\"Lcons\"] > filter_length)].shape)\n",
    "\n",
    "# Counter number of zero wmax related to crack formation stage\n",
    "print(\"Unknown maximum crack widths in CFS\",df[(df[\"wmax\"] < tol) & (df[\"wm\"] > tol) & (df[\"CS\"] == 1) & (df[\"Lcons\"] > filter_length)].shape)\n",
    "\n",
    "print(\"Unknown maximum crack widths in CFS - EPID18\",df[(df[\"wmax\"] < tol) & (df[\"wm\"] > tol) & (df[\"CS\"] == 1) & (df[\"Lcons\"] > filter_length) &\n",
    "      (df[\"EPID\"] == 18)].shape)\n",
    "\n",
    "# Counter number of zero wmax related to crack formation stage\n",
    "print(\"Unknown maximum crack widths in SCS\",df[(df[\"wmax\"] < tol) & (df[\"wm\"] > tol) & (df[\"CS\"] == 2) & (df[\"Lcons\"] > filter_length)].shape)\n",
    "\n",
    "print(\"Unknown maximum crack widths in CFS - EPID18\",df[(df[\"wmax\"] < tol) & (df[\"wm\"] > tol) & (df[\"CS\"] == 2) & (df[\"Lcons\"] > filter_length) &\n",
    "      (df[\"EPID\"] == 18)].shape)"
   ]
  },
  {
   "cell_type": "code",
   "execution_count": 268,
   "id": "683f6750-cb71-4875-b57c-1684f621ea7b",
   "metadata": {},
   "outputs": [],
   "source": [
    "def func_compute_rat_targ(data):\n",
    "\n",
    "    r = np.zeros(data.shape[0]);\n",
    "    p = np.zeros(data.shape[0]);\n",
    "    k1 = np.zeros(data.shape[0]);\n",
    "    \n",
    "\n",
    "    for i in range(data.shape[0]):\n",
    "        if data[\"epsin\"].iloc[i] == str(\"1a\"):\n",
    "            k1[i] = data[\"N\"].iloc[i]/data[\"Ncr\"].iloc[i];\n",
    "        else:\n",
    "            k1[i] = data[\"M\"].iloc[i]/data[\"Mcr\"].iloc[i];\n",
    "\n",
    "        #rho_tens = data[\"Astens\"].iloc[i]/data[\"Ac\"].iloc[i] + ((data[\"zeta1\"].iloc[i]**2)*data[\"Aptens\"].iloc[i]/data[\"Ac\"].iloc[i]);\n",
    "        rho_tens = data[\"Astensstate1\"].iloc[i]/data[\"Actensstate1\"].iloc[i] + \\\n",
    "            ((data[\"zeta1\"].iloc[i]**2)*data[\"Aptensstate1\"].iloc[i]/data[\"Actensstate1\"].iloc[i]);\n",
    "        \n",
    "        #print(rho_tens);\n",
    "\n",
    "        if data[\"CS\"].iloc[i] == 2:\n",
    "            r[i] = 1 - 0.5*np.sqrt(1-(1/k1[i])**(1 + 2.5/((rho_tens)*100)));\n",
    "    \n",
    "            p[i] = r[i]*(k1[i]-0.33*(3*r[i]-r[i]**2))/(k1[i]-0.67);\n",
    "            \n",
    "        elif data[\"CS\"].iloc[i] == 1:\n",
    "            r[i] = 1;\n",
    "            p[i] = 1;\n",
    "    \n",
    "    return r,p,k1"
   ]
  },
  {
   "cell_type": "markdown",
   "id": "f3b71a1a-0a1f-403e-9dfb-dd9aa9ca2e1d",
   "metadata": {},
   "source": [
    "### Impute common targets"
   ]
  },
  {
   "cell_type": "code",
   "execution_count": 269,
   "id": "7e56145b-0184-4db0-8de2-a1a41e167371",
   "metadata": {},
   "outputs": [],
   "source": [
    "def func_fill_empty_targets(data):\n",
    "\n",
    "    w_max_imputed = np.zeros(data.shape[0]);\n",
    "    w_m_imputed = np.zeros(data.shape[0]);\n",
    "    s_max_imputed = np.zeros(data.shape[0]);\n",
    "    s_m_imputed = np.zeros(data.shape[0]);\n",
    "    \n",
    "    for i in range(data.shape[0]):\n",
    "\n",
    "        # if the latter case is applicable: estimate the maximum crack width from the mean crack width: wmax = wm/p\n",
    "        if data[\"wm\"].iloc[i] > tol and data[\"wmax\"].iloc[i] < tol:\n",
    "            #w_max_imputed[i] = data[\"wm\"].iloc[i]/data[\"p\"].iloc[i];\n",
    "            data[\"wmax\"].iloc[i] = data[\"wm\"].iloc[i]/data[\"p\"].iloc[i];\n",
    "\n",
    "        # wm = wmax*p\n",
    "        elif data[\"wm\"].iloc[i] < tol and data[\"wmax\"].iloc[i] > tol:\n",
    "            #w_m_imputed[i] = data[\"wmax\"].iloc[i]*data[\"p\"].iloc[i];\n",
    "            data[\"wm\"].iloc[i] = data[\"wmax\"].iloc[i]*data[\"p\"].iloc[i];\n",
    "        \n",
    "        # smax = sm/r\n",
    "        if data[\"sm\"].iloc[i] > tol and data[\"smax\"].iloc[i] < tol:\n",
    "            #s_max_imputed[i] = data[\"sm\"].iloc[i]/data[\"r\"].iloc[i];\n",
    "            data[\"smax\"].iloc[i] = data[\"sm\"].iloc[i]/data[\"r\"].iloc[i];\n",
    "\n",
    "        # sm = smax*r\n",
    "        elif data[\"sm\"].iloc[i] < tol and data[\"smax\"].iloc[i] > tol:\n",
    "            #s_m_imputed[i] = data[\"smax\"].iloc[i]*data[\"r\"].iloc[i];\n",
    "            data[\"sm\"].iloc[i] = data[\"smax\"].iloc[i]*data[\"r\"].iloc[i];\n",
    "    \n",
    "    return data"
   ]
  },
  {
   "cell_type": "code",
   "execution_count": 270,
   "id": "9f8ba959-dc12-4f36-b90d-6ce7f9823a31",
   "metadata": {},
   "outputs": [],
   "source": [
    "if uniformtargets == \"yes\":\n",
    "    \n",
    "    df[\"r\"],df[\"p\"],df[\"k1\"] = func_compute_rat_targ(df);\n",
    "    df = df.astype({\n",
    "        \"r\": \"float\",\n",
    "        \"p\": \"float\",\n",
    "        \"k1\": \"float\"\n",
    "    });\n",
    "\n",
    "else:\n",
    "    df[\"r\"] = np.zeros(df.shape[0]);\n",
    "    df[\"p\"] = np.zeros(df.shape[0]);\n",
    "    df[\"k1\"] = np.zeros(df.shape[0]);"
   ]
  },
  {
   "cell_type": "markdown",
   "id": "e2492822-37f2-4c8b-b2a8-0bf750fad16a",
   "metadata": {},
   "source": [
    "### 0.5.15 - Filtering of secondary crack widths"
   ]
  },
  {
   "cell_type": "code",
   "execution_count": 271,
   "id": "b57a2cd2-7401-45b3-9efe-ee3433bbe88a",
   "metadata": {},
   "outputs": [],
   "source": [
    "def filter_secondary_crack_widths(data):\n",
    "\n",
    "    start = time.time()\n",
    "    sr_lower = np.zeros(data.shape[0]);\n",
    "    srtemp = np.zeros(data.shape[0]);\n",
    "\n",
    "    # EPIDs for which it is not clear if there are primary/secondary cracks\n",
    "    genlist = [1,6,7,8,9,16,24,26,27,28,31];\n",
    "\n",
    "    ele = data[\"ELID\"].unique();\n",
    "    \n",
    "    for i in range(data.shape[0]):\n",
    "\n",
    "        if data[\"EPID\"].iloc[i] in genlist:\n",
    "            sr_lower[i] = data[\"fctm\"].iloc[i]*data[\"phi_eq_MC2020\"].iloc[i] / (4*data[\"tau_bms\"].iloc[i]*data[\"rhoeff_MC2020\"].iloc[i]);\n",
    "            sr_mintemp = np.zeros(ele.shape[0]);\n",
    "    \n",
    "            for j in range(ele.shape[0]):\n",
    "                srtemplist = [];\n",
    "                for i in range(data.shape[0]):\n",
    "                    if ele[j] == data[\"ELID\"].iloc[i]:\n",
    "                        if data[\"sm\"].iloc[i] > tol: # Computation in case of known mean crack widths\n",
    "                            srtemplist.append(data[\"sm\"].iloc[i])\n",
    "                        elif data[\"smax\"].iloc[i]*data[\"r\"].iloc[i] > tol: # Computation in case of known maximum crack widths (to get mean ones)\n",
    "                            srtemplist.append(data[\"smax\"].iloc[i]*data[\"r\"].iloc[i])\n",
    "                if len(srtemplist) > 0:\n",
    "                    sr_mintemp[j] = np.min(srtemplist);\n",
    "                else: # Address empty arrays; thus without known spacings --> then not cancelled out, temporarily place a high value\n",
    "                    sr_mintemp[j] = 1500; # High upper bound, so these will not be filtered out\n",
    "\n",
    "    for i in range(data.shape[0]):\n",
    "        if data[\"EPID\"].iloc[i] in genlist:\n",
    "            for j in range(ele.shape[0]):\n",
    "                if ele[j] == data[\"ELID\"].iloc[i]:\n",
    "                    srtemp[i] = sr_mintemp[j];\n",
    "        else:\n",
    "            srtemp[i] = 1500; # High upper bound, so these will not be filtered out\n",
    "            sr_lower[i] = data[\"fctm\"].iloc[i]*data[\"phi_eq_MC2020\"].iloc[i] / (4*data[\"tau_bms\"].iloc[i]*data[\"rhoeff_MC2020\"].iloc[i]);\n",
    "\n",
    "    data[\"srtemp\"] = srtemp;\n",
    "    data[\"srlower\"] = sr_lower;\n",
    "    \n",
    "    end = time.time()\n",
    "    print(\"Elapsed time\",end-start,\"seconds\");\n",
    "    \n",
    "    return data"
   ]
  },
  {
   "cell_type": "code",
   "execution_count": 272,
   "id": "7926a268-97d6-4ffa-b80f-e28565f08450",
   "metadata": {},
   "outputs": [],
   "source": [
    "# Finally, we can remove the rows with \"too low crack spacings\"\n",
    "if exclude_secondary_cracks == \"yes\":\n",
    "    df = filter_secondary_crack_widths(df);\n",
    "    df = df.astype({\n",
    "    \"srtemp\": \"float\",\n",
    "    \"srlower\": \"float\"});\n",
    "    df.drop(df[(df[\"srtemp\"] < df[\"srlower\"])].index, inplace=True); # Remove secondary crack widths"
   ]
  },
  {
   "cell_type": "code",
   "execution_count": 273,
   "id": "603659d5-8039-4d4e-b40c-4597b0c3ee50",
   "metadata": {},
   "outputs": [
    {
     "data": {
      "text/plain": [
       "(1693, 212)"
      ]
     },
     "execution_count": 273,
     "metadata": {},
     "output_type": "execute_result"
    }
   ],
   "source": [
    "df.shape"
   ]
  },
  {
   "cell_type": "markdown",
   "id": "ee63721c-2c35-4a5e-94f8-276cda3951cf",
   "metadata": {},
   "source": [
    "#### Filter for elements with small element lengths"
   ]
  },
  {
   "cell_type": "code",
   "execution_count": 274,
   "id": "6f10c5ac-a090-4896-964e-aed28cf39fcc",
   "metadata": {},
   "outputs": [
    {
     "name": "stdout",
     "output_type": "stream",
     "text": [
      "(1680, 212)\n"
     ]
    }
   ],
   "source": [
    "df.drop(df[(df[\"Lcons\"] <= filter_length)].index,inplace=True);\n",
    "print(df.shape)"
   ]
  },
  {
   "cell_type": "markdown",
   "id": "0982bbc5-a2c1-4951-8112-0741a95b6519",
   "metadata": {},
   "source": [
    "#### Plot of the extrapolation - before filling the empty targets"
   ]
  },
  {
   "cell_type": "code",
   "execution_count": 275,
   "id": "081d8248-e4da-43b3-b9ae-fac41c484dae",
   "metadata": {},
   "outputs": [
    {
     "name": "stdout",
     "output_type": "stream",
     "text": [
      "1680\n"
     ]
    }
   ],
   "source": [
    "if uniformtargets == \"yes\":\n",
    "    df = func_fill_empty_targets(df);\n",
    "print(df.shape[0]);"
   ]
  },
  {
   "cell_type": "markdown",
   "id": "8f6e651a-409f-4e13-8be2-526067e1b191",
   "metadata": {},
   "source": [
    "#### Filter on the concrete compression strength"
   ]
  },
  {
   "cell_type": "code",
   "execution_count": 276,
   "id": "4244ae44-c38e-4bb0-8190-22689004ca3e",
   "metadata": {},
   "outputs": [
    {
     "name": "stdout",
     "output_type": "stream",
     "text": [
      "1680\n"
     ]
    }
   ],
   "source": [
    "df.drop(df[(df[\"fcm\"] < fcmlower)].index, inplace=True);\n",
    "print(df.shape[0]);"
   ]
  },
  {
   "cell_type": "markdown",
   "id": "c01dbc12-9884-447d-ba8f-a26674a8f6be",
   "metadata": {},
   "source": [
    "#### Filter for outliers"
   ]
  },
  {
   "cell_type": "code",
   "execution_count": 277,
   "id": "66db835e-df3b-4b5b-ab35-e8619db437f9",
   "metadata": {},
   "outputs": [
    {
     "name": "stdout",
     "output_type": "stream",
     "text": [
      "1566\n"
     ]
    }
   ],
   "source": [
    "if fitleroutliers == \"yes\":\n",
    "    df.drop(df[(df[\"wm\"] > wmaxU)].index, inplace=True);\n",
    "    df.drop(df[(df[\"wmax\"] > wmaxU)].index, inplace=True);\n",
    "    df.drop(df[(df[\"wm\"] < wmaxL)].index, inplace=True);\n",
    "    df.drop(df[(df[\"wmax\"] < wmaxL)].index, inplace=True);\n",
    "\n",
    "    #if df[\"CS\"] == 2: # The filter below is valid only in the CFS\n",
    "    df.drop(df[(df[\"sm\"] > smaxU) & (df[\"CS\"] == 2)].index, inplace=True);\n",
    "    df.drop(df[(df[\"smax\"] > smaxU) & (df[\"CS\"] == 2)].index, inplace=True);\n",
    "    #df.drop(df[(df[\"sm\"] > smaxU)].index, inplace=True);\n",
    "    #df.drop(df[(df[\"smax\"] > smaxU)].index, inplace=True);\n",
    "\n",
    "print(df.shape[0]);"
   ]
  },
  {
   "cell_type": "markdown",
   "id": "39365179-ceff-4566-9530-c59345b4f224",
   "metadata": {},
   "source": [
    "### Temporarily - generate pictures with effect of common targets"
   ]
  },
  {
   "cell_type": "code",
   "execution_count": 278,
   "id": "97c4bdd7-6fb6-424e-8e01-9a74265ff7ed",
   "metadata": {},
   "outputs": [],
   "source": [
    "\n",
    "def func_plot_common_targets_w_V3_CFS(data):\n",
    "    fig,ax = plt.subplots(nrows = 1,ncols = 4,figsize=(10,4),gridspec_kw = {\"width_ratios\": [3,1,3,1]});\n",
    "\n",
    "    fig.suptitle(\"Conversion factors for uniform crack widths and spacings\")\n",
    "    \n",
    "    ax1 = ax[0];\n",
    "    ax2 = ax[1];\n",
    "    ax3 = ax[2];\n",
    "    ax4 = ax[3];\n",
    "    \n",
    "    # Plot figure - w\n",
    "    datatemp_w = data[(data[\"wm\"] > tol) & (data[\"wmax\"] > tol) & (data[\"sm\"] > tol) & (data[\"smax\"] > tol) & (data[\"Aptot\"] < tol) & (data[\"CS\"] == 1)];\n",
    "    r,p,k1 = func_compute_rat_targ(datatemp_w);\n",
    "\n",
    "    #ax1.figure();\n",
    "    ax1.plot(k1,1/p,\"ob\",mfc=\"none\",zorder=10,label=r\"$\\beta_{\\rm w}$ - Theoretical\");\n",
    "    ax1.plot(k1,datatemp_w[\"wmax\"]/datatemp_w[\"wm\"],\"ro\",mfc=\"none\",label=r\"$\\beta_{\\rm w}$ - Based on data\");\n",
    "    \n",
    "    ax1.set_xlabel(r\"$k_1$ = $\\sigma_{\\rm s}$/$\\sigma_{\\rm s,r}$\");\n",
    "    ax1.set_ylabel(r\"$\\beta_{\\rm w} = w_{\\rm max} / w_{\\rm m}$\");\n",
    "    ax1.set_xlim([0,14]);\n",
    "    ax1.set_ylim([0.75,3.5]);\n",
    "    ax1.grid(axis=\"y\");\n",
    "    ax1.set_title(\"$\\\\bf{(a)}$ Crack widths\")\n",
    "\n",
    "    diff = 1/p - datatemp_w[\"wmax\"]/datatemp_w[\"wm\"]\n",
    "    bx2 = ax2.boxplot(diff,patch_artist=True);\n",
    "    for err,patch_box,patch_flier,patch_med,col in zip(diff,bx2[\"boxes\"], bx2[\"fliers\"],bx2[\"medians\"],\"silver\"):\n",
    "        patch_box.set_facecolor(\"silver\");\n",
    "        patch_med.set_color(\"k\")\n",
    "        patch_flier.set_markerfacecolor(\"silver\")\n",
    "\n",
    "    #ax2.violinplot(diff);\n",
    "    \n",
    "    ax2.set_ylabel(r\"$\\beta_{\\rm w,cal}$ - $\\beta_{\\rm w,exp}$\")\n",
    "    ax2.set_xlim([0,2]);\n",
    "    ax2.set_ylim([-2,2]);\n",
    "    ax2.grid(axis=\"y\");\n",
    "    ax2.set_xticks([])\n",
    "\n",
    "    ax2.plot([2.4, 2.4], [-2.5, 2.2], color='k', lw=2,\n",
    "          clip_on=False)\n",
    "    \n",
    "    print(\"Median - wmax\",np.median(diff));\n",
    "    print(\"Q3 - wmax\",np.percentile(diff,75));\n",
    "    print(\"Q1 - wmax\",np.percentile(diff,25));\n",
    "    print(\"IQR - wmax\",np.percentile(diff,75) - np.percentile(diff,25));\n",
    "    \n",
    "    # Plot figure - s\n",
    "    datatemp_s = data[(data[\"wm\"] > tol) & (data[\"wmax\"] > tol) & (data[\"sm\"] > tol) & (data[\"smax\"] > tol) & (data[\"Aptot\"] < tol) & (data[\"CS\"] == 1)];\n",
    "    r,p,k1 = func_compute_rat_targ(datatemp_w);\n",
    "\n",
    "    ax3.plot(k1,1/r,\"ob\",mfc=\"none\",zorder=10,label=r\"$\\beta_{\\rm s,r}$ - Theoretical\");\n",
    "    ax3.plot(k1,datatemp_s[\"smax\"]/datatemp_s[\"sm\"],\"ro\",mfc=\"none\",label=r\"$\\beta_{\\rm s,r}$ - Based on data\");\n",
    "    \n",
    "    ax3.set_xlabel(r\"$k_1$ = $\\sigma_{\\rm s}$/$\\sigma_{\\rm s,r}$\");\n",
    "    ax3.set_ylabel(r\"$\\beta_{\\rm s,r} = s_{\\rm r,max}$ / $s_{\\rm r,m}$\");\n",
    "    ax3.set_xlim([0,14]);\n",
    "    ax3.set_ylim([0.75,3.5]);\n",
    "    ax3.grid(axis=\"y\");\n",
    "    ax3.set_title(\"$\\\\bf{(b)}$ Crack spacings\")\n",
    "\n",
    "    #ax2.figure();\n",
    "    diff = 1/r - datatemp_s[\"smax\"]/datatemp_s[\"sm\"]\n",
    "    bx4 = ax4.boxplot(diff,patch_artist=True)\n",
    "    for err,patch_box,patch_flier,patch_med,col in zip(diff,bx4[\"boxes\"], bx4[\"fliers\"],bx4[\"medians\"],\"silver\"):\n",
    "        patch_box.set_facecolor(\"silver\");\n",
    "        patch_med.set_color(\"k\")\n",
    "        patch_flier.set_markerfacecolor(\"silver\")\n",
    "\n",
    "    #ax4.violinplot(diff)\n",
    "    \n",
    "    ax4.set_ylabel(r\"$\\beta_{\\rm s,r,cal}$ - $\\beta_{\\rm s,r,exp}$\")\n",
    "    ax4.set_xlim([0,2]);\n",
    "    ax4.set_ylim([-2,2]);\n",
    "    ax4.grid(axis=\"y\");\n",
    "    ax4.set_xticks([])\n",
    "\n",
    "    #ax1.text(-3,0.3,\"(a)\");\n",
    "    #ax3.text(-3,0.3,\"(b)\");\n",
    "    \n",
    "    print(\"Median - srmax\",np.median(diff));\n",
    "    print(\"Q3 - srmax\",np.percentile(diff,75));\n",
    "    print(\"Q1 - srmax\",np.percentile(diff,25));\n",
    "    print(\"IQR - srmax\",np.percentile(diff,75) - np.percentile(diff,25));\n",
    "\n",
    "    # LEGEND\n",
    "    # ========================================================\n",
    "    legend_elements = [Line2D([0], [0], color='blue', lw=6, label=r\"$\\beta$ - Calculated (cal)\",marker=\"o\",linestyle=\"none\"),\n",
    "                       Line2D([0], [0], color='red', lw=6, label=r\"$\\beta$ - Based on data (exp)\",marker=\"o\",linestyle=\"none\")\n",
    "                      ];\n",
    "    fig.legend(handles=legend_elements, loc=\"lower center\",ncol=2,bbox_to_anchor=(1/2,-0.08));\n",
    "    fig.tight_layout();\n",
    "\n",
    "    plt.savefig(r\"C:\\Users\\20210065\\OneDrive - TU Eindhoven\\60_Publications\\1_st_Journal_Paper\\Figures\\SVG\\conv_ratios_CFS.svg\",bbox_inches='tight');\n"
   ]
  },
  {
   "cell_type": "code",
   "execution_count": 279,
   "id": "7cbc7010-c767-49b1-b35c-fed8620bf8b3",
   "metadata": {},
   "outputs": [],
   "source": [
    "#### PAPER - FIGURE 4, conversion factors $\\beta_{w}$ and $\\beta_{sr}$ for the stabilised cracking stage"
   ]
  },
  {
   "cell_type": "code",
   "execution_count": 280,
   "id": "0f95df28-7119-40ed-b1c8-109b66a3c7b1",
   "metadata": {},
   "outputs": [],
   "source": [
    "\n",
    "def func_plot_common_targets_w_V3_SCS(data):\n",
    "    fig,ax = plt.subplots(nrows = 1,ncols = 4,figsize=(10,4),gridspec_kw = {\"width_ratios\": [3,1,3,1]});\n",
    "\n",
    "    #fig.suptitle(\"Conversion factors for uniform crack widths and spacings\")\n",
    "    \n",
    "    ax1 = ax[0];\n",
    "    ax2 = ax[1];\n",
    "    ax3 = ax[2];\n",
    "    ax4 = ax[3];\n",
    "    \n",
    "    # Plot figure - w\n",
    "    datatemp_w = data[(data[\"wm\"] > tol) & (data[\"wmax\"] > tol) & (data[\"sm\"] > tol) & (data[\"smax\"] > tol) & (data[\"Aptot\"] < tol) & (data[\"CS\"] == 2)];\n",
    "    r,p,k1 = func_compute_rat_targ(datatemp_w);\n",
    "\n",
    "    #ax1.figure();\n",
    "    ax1.plot(k1,1/p,\"ob\",mfc=\"none\",zorder=10,label=r\"$\\beta_{\\rm w}$ - Theoretical\");\n",
    "    ax1.plot(k1,datatemp_w[\"wmax\"]/datatemp_w[\"wm\"],\"ro\",mfc=\"none\",label=r\"$\\beta_{\\rm w}$ - Based on data\");\n",
    "    \n",
    "    ax1.set_xlabel(r\"$k$ = $\\sigma_{\\rm s}$/$\\sigma_{\\rm s,r}$\");\n",
    "    ax1.set_ylabel(r\"$\\beta_{\\rm w} = w_{\\rm max} / w_{\\rm m}$\");\n",
    "    ax1.set_xlim([0,14]);\n",
    "    ax1.set_ylim([0.75,3.5]);\n",
    "    ax1.grid(axis=\"y\");\n",
    "    ax1.set_title(\"$\\\\bf{(a)}$ $\\\\bf{Crack}$ $\\\\bf{widths}$\")\n",
    "\n",
    "    diff = 1/p - datatemp_w[\"wmax\"]/datatemp_w[\"wm\"]\n",
    "    bx2 = ax2.boxplot(diff,patch_artist=True);\n",
    "    for err,patch_box,patch_flier,patch_med,col in zip(diff,bx2[\"boxes\"], bx2[\"fliers\"],bx2[\"medians\"],\"silver\"):\n",
    "        patch_box.set_facecolor(\"silver\");\n",
    "        patch_med.set_color(\"k\")\n",
    "        patch_flier.set_markerfacecolor(\"silver\")\n",
    "\n",
    "    #ax2.violinplot(diff);\n",
    "    \n",
    "    ax2.set_ylabel(r\"$\\beta_{\\rm w,cal}$ - $\\beta_{\\rm w,exp}$\")\n",
    "    ax2.set_xlim([0,2]);\n",
    "    ax2.set_ylim([-2,2]);\n",
    "    ax2.grid(axis=\"y\");\n",
    "    ax2.set_xticks([])\n",
    "\n",
    "    ax2.plot([2.4, 2.4], [-2.5, 2.2], color='k', lw=2,\n",
    "          clip_on=False)\n",
    "    \n",
    "    print(\"Median - wmax\",np.median(diff));\n",
    "    print(\"Q3 - wmax\",np.percentile(diff,75));\n",
    "    print(\"Q1 - wmax\",np.percentile(diff,25));\n",
    "    print(\"IQR - wmax\",np.percentile(diff,75) - np.percentile(diff,25));\n",
    "    \n",
    "    # Plot figure - s\n",
    "    datatemp_s = data[(data[\"wm\"] > tol) & (data[\"wmax\"] > tol) & (data[\"sm\"] > tol) & (data[\"smax\"] > tol) & (data[\"Aptot\"] < tol) & (data[\"CS\"] == 2)];\n",
    "    r,p,k1 = func_compute_rat_targ(datatemp_w);\n",
    "\n",
    "    ax3.plot(k1,1/r,\"ob\",mfc=\"none\",zorder=10,label=r\"$\\beta_{\\rm s,r}$ - Theoretical\");\n",
    "    ax3.plot(k1,datatemp_s[\"smax\"]/datatemp_s[\"sm\"],\"ro\",mfc=\"none\",label=r\"$\\beta_{\\rm s,r}$ - Based on data\");\n",
    "    \n",
    "    ax3.set_xlabel(r\"$k$ = $\\sigma_{\\rm s}$/$\\sigma_{\\rm s,r}$\");\n",
    "    ax3.set_ylabel(r\"$\\beta_{\\rm s,r} = s_{\\rm r,max}$ / $s_{\\rm r,m}$\");\n",
    "    ax3.set_xlim([0,14]);\n",
    "    ax3.set_ylim([0.75,3.5]);\n",
    "    ax3.grid(axis=\"y\");\n",
    "    ax3.set_title(\"$\\\\bf{(b)}$ $\\\\bf{Crack}$ $\\\\bf{spacings}$\")\n",
    "\n",
    "    #ax2.figure();\n",
    "    diff = 1/r - datatemp_s[\"smax\"]/datatemp_s[\"sm\"]\n",
    "    bx4 = ax4.boxplot(diff,patch_artist=True)\n",
    "    for err,patch_box,patch_flier,patch_med,col in zip(diff,bx4[\"boxes\"], bx4[\"fliers\"],bx4[\"medians\"],\"silver\"):\n",
    "        patch_box.set_facecolor(\"silver\");\n",
    "        patch_med.set_color(\"k\")\n",
    "        patch_flier.set_markerfacecolor(\"silver\")\n",
    "\n",
    "    #ax4.violinplot(diff)\n",
    "    \n",
    "    ax4.set_ylabel(r\"$\\beta_{\\rm s,r,cal}$ - $\\beta_{\\rm s,r,exp}$\")\n",
    "    ax4.set_xlim([0,2]);\n",
    "    ax4.set_ylim([-2,2]);\n",
    "    ax4.grid(axis=\"y\");\n",
    "    ax4.set_xticks([])\n",
    "\n",
    "    #ax1.text(-3,0.3,\"(a)\");\n",
    "    #ax3.text(-3,0.3,\"(b)\");\n",
    "    \n",
    "    print(\"Median - srmax\",np.median(diff));\n",
    "    print(\"Q3 - srmax\",np.percentile(diff,75));\n",
    "    print(\"Q1 - srmax\",np.percentile(diff,25));\n",
    "    print(\"IQR - srmax\",np.percentile(diff,75) - np.percentile(diff,25));\n",
    "\n",
    "    # LEGEND\n",
    "    # ========================================================\n",
    "    legend_elements = [Line2D([0], [0], color='blue', lw=6, label=r\"$\\beta$ - Calculated (cal)\",marker=\"o\",linestyle=\"none\"),\n",
    "                       Line2D([0], [0], color='red', lw=6, label=r\"$\\beta$ - Based on data (exp)\",marker=\"o\",linestyle=\"none\")\n",
    "                      ];\n",
    "    fig.legend(handles=legend_elements, loc=\"lower center\",ncol=2,bbox_to_anchor=(1/2,-0.08));\n",
    "    fig.tight_layout();\n",
    "\n",
    "    #plt.savefig(r\"C:\\Users\\20210065\\OneDrive - TU Eindhoven\\60_Publications\\1_st_Journal_Paper\\Figures\\SVG\\conv_ratios_SCS.svg\",bbox_inches='tight');\n"
   ]
  },
  {
   "cell_type": "code",
   "execution_count": 281,
   "id": "accfd272-8efa-4a35-889c-d5a1a5da03d2",
   "metadata": {},
   "outputs": [],
   "source": [
    "# Plot for SCS!\n",
    "#func_plot_common_targets_w_V3_CFS(df);"
   ]
  },
  {
   "cell_type": "code",
   "execution_count": 282,
   "id": "bde66ec2-db7f-4da3-9663-b7bcc7309ab4",
   "metadata": {},
   "outputs": [
    {
     "name": "stdout",
     "output_type": "stream",
     "text": [
      "Median - wmax -0.06647179706270079\n",
      "Q3 - wmax 0.08656565544657557\n",
      "Q1 - wmax -0.2865751027884263\n",
      "IQR - wmax 0.37314075823500187\n",
      "Median - srmax 0.0\n",
      "Q3 - srmax 0.21468390130709536\n",
      "Q1 - srmax -1.6653345369377348e-16\n",
      "IQR - srmax 0.21468390130709553\n"
     ]
    },
    {
     "data": {
      "image/png": "[encoded data removed]",
      "text/plain": [
       "<Figure size 1000x400 with 4 Axes>"
      ]
     },
     "metadata": {},
     "output_type": "display_data"
    }
   ],
   "source": [
    "# Plot for SCS!\n",
    "func_plot_common_targets_w_V3_SCS(df);"
   ]
  },
  {
   "cell_type": "code",
   "execution_count": 283,
   "id": "62b1585f-5a27-488b-ac19-7e7574081dc2",
   "metadata": {},
   "outputs": [],
   "source": [
    "# Export database including additional variables - for instance, export it to your downloads --> called working database\n",
    "# This working database can also be found on Github; under the same name."
   ]
  },
  {
   "cell_type": "code",
   "execution_count": 284,
   "id": "0a7eb157-d920-4543-ac4c-b757748d938f",
   "metadata": {},
   "outputs": [],
   "source": [
    "df.to_csv(r\"C:\\Users/20210065/Downloads/Working_database_no_hordijk_no_initshrink.csv\")"
   ]
  }
 ],
 "metadata": {
  "kernelspec": {
   "display_name": "Python 3 (ipykernel)",
   "language": "python",
   "name": "python3"
  },
  "language_info": {
   "codemirror_mode": {
    "name": "ipython",
    "version": 3
   },
   "file_extension": ".py",
   "mimetype": "text/x-python",
   "name": "python",
   "nbconvert_exporter": "python",
   "pygments_lexer": "ipython3",
   "version": "3.12.4"
  }
 },
 "nbformat": 4,
 "nbformat_minor": 5
}
