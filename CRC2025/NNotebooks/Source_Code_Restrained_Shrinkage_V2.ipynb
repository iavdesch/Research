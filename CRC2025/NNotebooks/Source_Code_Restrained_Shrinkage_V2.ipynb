{
 "cells": [
  {
   "cell_type": "markdown",
   "id": "41137256-b0a0-48b1-aa09-1676f1134055",
   "metadata": {},
   "source": [
    "# Jupyter Notebook: \"The Effect of Shrinkage Prior to Testing on the Prediction of the Crack Widths in Reinforced Concrete Elements\""
   ]
  },
  {
   "cell_type": "markdown",
   "id": "4e7c9064-d5f9-44a9-aa23-ce62cd2d3978",
   "metadata": {},
   "source": [
    "## Info"
   ]
  },
  {
   "cell_type": "markdown",
   "id": "28e31cf6-e6f2-48a1-b267-0a171edbcb7e",
   "metadata": {},
   "source": [
    "Anton van der Esch created and uploaded this notebook to GitHub. It contains the data analysis of the paper \"The Effect of Shrinkage Prior to Testing on the Prediction of the Crack Widths in Reinforced Concrete Elements.\" Please read the licence.\n",
    "\n",
    "For the calculation of variables is referred to a different Jupyter Notebook.\n",
    "\n",
    "Contact info:\\\n",
    "-antonvanderesch@hotmail.com or i.a.v.d.esch@tue.nl \\\n",
    "-Notebook created on 2025-01-11"
   ]
  },
  {
   "cell_type": "markdown",
   "id": "9f0f2407-80dd-4d65-89e4-8d4a439be49d",
   "metadata": {},
   "source": [
    "## Contents"
   ]
  },
  {
   "cell_type": "markdown",
   "id": "a7d9c751-88a1-4678-8d45-b1aa5b337e20",
   "metadata": {},
   "source": [
    "This notebook consists of several sections:\n",
    "1) Packages\n",
    "2) Data import\n",
    "3) Exploration of datasets\n",
    "4) Plot settings and functions\n",
    "5) Data analysis and filtering\n",
    "6) Analysis and plots"
   ]
  },
  {
   "cell_type": "markdown",
   "id": "222a17af-60c1-4cac-ab6f-cd68ae34d511",
   "metadata": {},
   "source": [
    "## 1 - Import packages"
   ]
  },
  {
   "cell_type": "code",
   "execution_count": 1,
   "id": "e66620ab-a0eb-4f8c-a983-4c96eaddfc0b",
   "metadata": {},
   "outputs": [],
   "source": [
    "import pandas as pd\n",
    "import matplotlib.pyplot as plt\n",
    "import numpy as np\n",
    "import numpy.ma as ma\n",
    "\n",
    "from pathlib import Path\n",
    "import ast\n",
    "\n",
    "from scipy.integrate import quad\n",
    "from scipy.interpolate import interp1d\n",
    "from scipy.optimize import fsolve\n",
    "\n",
    "from sklearn.metrics import r2_score \n",
    "\n",
    "from contextlib import suppress\n",
    "\n",
    "from scipy.stats import norm\n",
    "from scipy.stats import lognorm\n",
    "from sklearn.metrics import root_mean_squared_error\n",
    "\n",
    "import time\n",
    "\n",
    "from matplotlib.lines import Line2D\n",
    "from matplotlib.patches import Patch\n",
    "\n",
    "from scipy.stats import variation "
   ]
  },
  {
   "cell_type": "markdown",
   "id": "89191949-d349-46b3-aa43-7e682356b909",
   "metadata": {},
   "source": [
    "## 2 - Import data"
   ]
  },
  {
   "cell_type": "code",
   "execution_count": 2,
   "id": "fa57d069-ac15-4bb5-8fb7-c37f6ee71bce",
   "metadata": {},
   "outputs": [],
   "source": [
    "motherpath = Path(r\"C:\\Users/20210065/OneDrive - TU Eindhoven/60_Publications/\");"
   ]
  },
  {
   "cell_type": "markdown",
   "id": "bdb7f12f-4d6e-459f-8503-4b6f541c25e6",
   "metadata": {},
   "source": [
    "The datasets imported below were created in another study performed by the author. This study aimed to determine the accuracy of formulas for predicting the crack width and spacing in reinforced and prestressed concrete structures. The datasets are also available on GitHub.\n",
    "\n",
    "Two different datasets were created to study the effect of shrinkage on the predicted crack widths for nine different formulas:\\\n",
    "-EN 1992-1-1 (2005)  \\\n",
    "-NEN-EN 1992-1-1 (2020) \\\n",
    "-EN 1992-1-1 (2023) \\\n",
    "-fib MC 2010 \\\n",
    "-fib MC 2020 \\\n",
    "-Noakowski \\\n",
    "-JSCE \\\n",
    "-Oh \\& Kang \\\n",
    "-Gergely \\& Lutz"
   ]
  },
  {
   "cell_type": "code",
   "execution_count": 3,
   "id": "70bae152-6bbf-4c95-9e7f-b63af9591f27",
   "metadata": {},
   "outputs": [],
   "source": [
    "df_ns = pd.read_csv(Path(motherpath/r\"RILEM_conf\\Data\\New_data_revised_submission\\export_no_shrinkage.csv\"));\n",
    "df_ys = pd.read_csv(Path(motherpath/r\"RILEM_conf\\Data\\New_data_revised_submission\\export_with_shrinkage.csv\"));"
   ]
  },
  {
   "cell_type": "markdown",
   "id": "e07cbe5e-1565-480e-94da-49e94cb4814f",
   "metadata": {},
   "source": [
    "Two other datasets present a detailed description of all the parameters derived. The dataset contains in total 189 different parameters and 28 data points (maximum crack widths) obtained from three different experiments described in the literature:\n",
    "\n",
    "1) Wu et al.: Tension stiffening in reinforced concrete - instantaneous and time-dependent behaviour\n",
    "2) Pérez Caldentey et al.: Cracking of RC members revisited: influence of cover, $\\phi$/$\\rho$ and stirrup spacing - an experimental and theoretical study\n",
    "3) Pérez Caldentey et al.: Tension versus flexure: reasons to modify the formulation of MC 2010 for cracking\n"
   ]
  },
  {
   "cell_type": "code",
   "execution_count": 4,
   "id": "84ee1972-0a3c-48ca-b403-fa6fc22aae4b",
   "metadata": {},
   "outputs": [],
   "source": [
    "df_ns_full = pd.read_csv(Path(motherpath/r\"RILEM_conf\\Data\\New_data_revised_submission\\Parameter_ranges_no_init_krimp.csv\"));\n",
    "df_ys_full = pd.read_csv(Path(motherpath/r\"RILEM_conf\\Data\\New_data_revised_submission\\Parameter_ranges_with_init_krimp.csv\"));"
   ]
  },
  {
   "cell_type": "markdown",
   "id": "96797eb5-cf2b-46aa-8721-8f07140eca87",
   "metadata": {},
   "source": [
    "## 3 - Explore datasets"
   ]
  },
  {
   "cell_type": "code",
   "execution_count": 5,
   "id": "d64cc7be-cd01-4e55-87cb-822f1f183f7f",
   "metadata": {},
   "outputs": [
    {
     "name": "stdout",
     "output_type": "stream",
     "text": [
      "Number of tested elements: 14\n",
      "Number of datapoints in dataset: 36\n"
     ]
    }
   ],
   "source": [
    "print(\"Number of tested elements:\",df_ns_full['ELID'].nunique());\n",
    "print(\"Number of datapoints in dataset:\",df_ns_full.shape[0]);"
   ]
  },
  {
   "cell_type": "code",
   "execution_count": 6,
   "id": "399c1be8-41c6-4112-9a30-19673ca657db",
   "metadata": {},
   "outputs": [
    {
     "name": "stdout",
     "output_type": "stream",
     "text": [
      "Dataset - no shrinkage\n",
      "Number of datapoints: 36\n",
      "\n",
      "\n",
      "Dataset - with shrinkage\n",
      "Number of datapoints: 36\n"
     ]
    }
   ],
   "source": [
    "print(\"Dataset - no shrinkage\");\n",
    "print(\"Number of datapoints:\",df_ns.shape[0]);\n",
    "print(\"\\n\");\n",
    "print(\"Dataset - with shrinkage\");\n",
    "print(\"Number of datapoints:\",df_ys.shape[0]);"
   ]
  },
  {
   "cell_type": "markdown",
   "id": "9f93e700-c59f-4639-9f8a-14ea90db7368",
   "metadata": {},
   "source": [
    "## 4 - Plot settings and functions"
   ]
  },
  {
   "cell_type": "markdown",
   "id": "3c68e835-6726-4bd4-b3ab-74c88e8f09cf",
   "metadata": {},
   "source": [
    "### 4.1 - Functions"
   ]
  },
  {
   "cell_type": "code",
   "execution_count": 7,
   "id": "d8e6a6d9-b678-4b43-8320-554bcf21fb8f",
   "metadata": {},
   "outputs": [],
   "source": [
    "xmin = 0;\n",
    "xmax = 1;\n",
    "ymin = 0;\n",
    "ymax = 1;"
   ]
  },
  {
   "cell_type": "code",
   "execution_count": 8,
   "id": "34d2de8f-9311-4284-a51a-e57c4d4356c0",
   "metadata": {},
   "outputs": [],
   "source": [
    "def func_plot_stem(difflist,col,CWFname):\n",
    "\n",
    "    legend_elements = [Line2D([], [], marker = \"o\", color=\"white\", markerfacecolor=col, lw=6, label=CWFname)\n",
    "                      ];\n",
    "    \n",
    "    plt.stem(difflist,markerfmt=col);\n",
    "    plt.legend(handles=legend_elements, loc=\"lower center\",ncol=6,bbox_to_anchor=(0.5,-0.15));\n",
    "    \n",
    "    plt.ylabel(\"$w_{max,cwf,no,init} - w_{max,cwf,init} $ [mm]\");\n",
    "    plt.xlabel(\"Datapoint\");\n",
    "    plt.grid();"
   ]
  },
  {
   "cell_type": "code",
   "execution_count": 9,
   "id": "86bc49c3-0248-435b-99ce-42c6879f3a62",
   "metadata": {},
   "outputs": [],
   "source": [
    "def rmse(predictions, targets):\n",
    "    return np.sqrt((np.nanmean((predictions - targets) ** 2)))"
   ]
  },
  {
   "cell_type": "markdown",
   "id": "e098def1-4ce1-4a96-88c7-47ac2355fe1b",
   "metadata": {},
   "source": [
    "### 4.2 - Define colors"
   ]
  },
  {
   "cell_type": "code",
   "execution_count": 10,
   "id": "850af0f2-6f57-48ef-8142-1a4789d48231",
   "metadata": {},
   "outputs": [],
   "source": [
    "col_001a = 'salmon'; # EN 1992-1-1\n",
    "col_001b = 'sienna'; # NEN-EN 1992-1-1\n",
    "col_002 = 'sandybrown'; # FprEN 1992-1-1\n",
    "col_006 = 'olive'; # MC 2010\n",
    "col_007 = 'lawngreen'; # MC 2020\n",
    "col_012 = 'turquoise'; # Noakowski\n",
    "col_038 = 'teal'; # JSCE\n",
    "col_047 = 'dodgerblue'; # Oh + Kang\n",
    "col_053 = 'navy'; # Gergely + Lutz"
   ]
  },
  {
   "cell_type": "code",
   "execution_count": 11,
   "id": "02ea5b75-c72f-48d4-a9fc-1baeb84a65ce",
   "metadata": {},
   "outputs": [],
   "source": [
    "legend_elements = [Line2D([0], [0], color=col_001a, lw=6, label='EN 1992-1-1'),\n",
    "                   Line2D([0], [0], color=col_001b, lw=6, label='NEN-EN 1992-1-1'),\n",
    "                   Line2D([0], [0], color=col_002, lw=6, label='FprEN 1992-1-1'),\n",
    "                   Line2D([0], [0], color=col_006, lw=6, label='MC 2010'),\n",
    "                   Line2D([0], [0], color=col_007, lw=6, label='MC 2020'),\n",
    "                   Line2D([0], [0], color=col_012, lw=6, label='Noakowski'),\n",
    "                   Line2D([0], [0], color=col_038, lw=6, label='JSCE'),\n",
    "                   Line2D([0], [0], color=col_047, lw=6, label='Oh + Kang'),\n",
    "                   Line2D([0], [0], color=col_053, lw=6, label='Gergely + Lutz'),\n",
    "                  ];"
   ]
  },
  {
   "cell_type": "markdown",
   "id": "7d1eee33-f887-4369-b3d5-9425d8098163",
   "metadata": {},
   "source": [
    "## 5 - Data analysis"
   ]
  },
  {
   "cell_type": "markdown",
   "id": "8a622243-4c8a-45a2-9645-c9c039bfa1dc",
   "metadata": {},
   "source": [
    "### 5.1 - Create datasets considering similar datapoints"
   ]
  },
  {
   "cell_type": "markdown",
   "id": "fbfb5087-ae95-479c-95a8-d873e066e8a2",
   "metadata": {},
   "source": [
    "The code below ensures that the dataset is based on restrained shrinkage, and the dataset, without considering the effects of shrinkage, considers similar data points."
   ]
  },
  {
   "cell_type": "code",
   "execution_count": 12,
   "id": "554554ee-b275-4a86-aee5-150fcb42cb6e",
   "metadata": {},
   "outputs": [],
   "source": [
    "ns_idx = [];\n",
    "ys_idx = [];\n",
    "\n",
    "for i in range(df_ns.shape[0]):\n",
    "    for j in range(df_ys.shape[0]):\n",
    "        if df_ns[\"EPID\"].iloc[i] == df_ys[\"EPID\"].iloc[j]:\n",
    "            if df_ns[\"ELID\"].iloc[i] == df_ys[\"ELID\"].iloc[j]:\n",
    "                if df_ns[\"LOADID\"].iloc[i] == df_ys[\"LOADID\"].iloc[j]:\n",
    "                    if df_ns[\"locw\"].iloc[i] == df_ys[\"locw\"].iloc[j]:\n",
    "                        ns_idx.append(i);\n",
    "                        ys_idx.append(j);"
   ]
  },
  {
   "cell_type": "code",
   "execution_count": 13,
   "id": "0345b6fe-a2b1-4768-9d64-9e5c2b91b9b7",
   "metadata": {},
   "outputs": [],
   "source": [
    "# Now remove the rows that are not in the indexes\n",
    "df_ns.drop(df_ns.index[~df_ns.index.isin(ns_idx)],inplace=True);\n",
    "df_ys.drop(df_ys.index[~df_ys.index.isin(ys_idx)],inplace=True);\n",
    "\n",
    "df_ns_full.drop(df_ns_full.index[~df_ns_full.index.isin(ns_idx)],inplace=True);\n",
    "df_ys_full.drop(df_ys_full.index[~df_ys_full.index.isin(ys_idx)],inplace=True);"
   ]
  },
  {
   "cell_type": "markdown",
   "id": "9b7a96c0-9cb4-4510-b680-870ef98f36eb",
   "metadata": {},
   "source": [
    "The nine formulas selected allow for the evaluation of the crack width at the most tensioned face. Hence, crack widths evaluated at the reinforcement level are excluded from the analysis."
   ]
  },
  {
   "cell_type": "code",
   "execution_count": 14,
   "id": "5e2dc9e2-260d-464b-9804-a1dc9a0b6288",
   "metadata": {},
   "outputs": [],
   "source": [
    "df_ns = df_ns.drop(df_ns[(df_ns['epsin'] == str(2)) & (df_ns['locw'] == 1)].index)\n",
    "df_ys = df_ys.drop(df_ys[(df_ys['epsin'] == str(2)) & (df_ys['locw'] == 1)].index)\n",
    "\n",
    "df_ns_full = df_ns_full.drop(df_ns_full[(df_ns_full['epsin'] == str(2)) & (df_ns_full['locw'] == 1)].index)\n",
    "df_ys_full = df_ys_full.drop(df_ys_full[(df_ys_full['epsin'] == str(2)) & (df_ys_full['locw'] == 1)].index)"
   ]
  },
  {
   "cell_type": "markdown",
   "id": "7a05bf06-cafc-459b-973f-f769f4e37d9e",
   "metadata": {},
   "source": [
    "The study focuses on the Serviceability Limit State (SLS). Therefore, maximum crack widths, based on measurements larger than $0.5$ mm, are excluded from the analysis."
   ]
  },
  {
   "cell_type": "code",
   "execution_count": 15,
   "id": "dccdda76-0715-43d1-9801-43b553a6fe28",
   "metadata": {},
   "outputs": [],
   "source": [
    "df_ns = df_ns.drop(df_ns[(df_ns['meas_wmax'] > 0.5)].index)\n",
    "df_ys = df_ys.drop(df_ys[(df_ys['meas_wmax'] > 0.5)].index)\n",
    "\n",
    "df_ns_full = df_ns_full.drop(df_ns_full[(df_ns_full['wmax'] > 0.5)].index)\n",
    "df_ys_full = df_ys_full.drop(df_ys_full[(df_ys_full['wmax'] > 0.5)].index)"
   ]
  },
  {
   "cell_type": "markdown",
   "id": "2ca43b0d-61ac-4cd9-bd7e-bbd0ea65ffa3",
   "metadata": {},
   "source": [
    "This leads to datasets with 13 datapoints, instead of 28 points."
   ]
  },
  {
   "cell_type": "code",
   "execution_count": 16,
   "id": "5c3662aa-e287-45c0-80b3-8b9f47b45dde",
   "metadata": {},
   "outputs": [
    {
     "name": "stdout",
     "output_type": "stream",
     "text": [
      "(23, 24)\n",
      "(23, 199)\n",
      "(23, 24)\n",
      "(23, 199)\n"
     ]
    }
   ],
   "source": [
    "print(df_ns.shape)\n",
    "print(df_ns_full.shape)\n",
    "print(df_ys.shape)\n",
    "print(df_ys_full.shape)"
   ]
  },
  {
   "cell_type": "markdown",
   "id": "d2c351f9-15e5-42d1-84e0-a0917ed63f26",
   "metadata": {},
   "source": [
    "### 5.2 - Characteristics of datasets"
   ]
  },
  {
   "cell_type": "markdown",
   "id": "cddc3d8c-18e1-48c9-a42c-b72de0c84981",
   "metadata": {},
   "source": [
    "The thirteen datapoints are based on eight different elements."
   ]
  },
  {
   "cell_type": "code",
   "execution_count": 17,
   "id": "24ee685c-ca1c-407a-a39d-b180f543f22b",
   "metadata": {},
   "outputs": [
    {
     "name": "stdout",
     "output_type": "stream",
     "text": [
      "Number of tested elements: 11\n",
      "Number of datapoints in dataset: 23\n"
     ]
    }
   ],
   "source": [
    "print(\"Number of tested elements:\",df_ns_full['ELID'].nunique());\n",
    "print(\"Number of datapoints in dataset:\",df_ns_full.shape[0]);"
   ]
  },
  {
   "cell_type": "code",
   "execution_count": 18,
   "id": "9c2903da-2b45-4bc0-a0b5-33b97d489bba",
   "metadata": {},
   "outputs": [
    {
     "name": "stdout",
     "output_type": "stream",
     "text": [
      "Dataset - no shrinkage\n",
      "Number of datapoints: 23\n",
      "\n",
      "\n",
      "Dataset - with shrinkage\n",
      "Number of datapoints: 23\n"
     ]
    }
   ],
   "source": [
    "print(\"Dataset - no shrinkage\");\n",
    "print(\"Number of datapoints:\",df_ns.shape[0]);\n",
    "print(\"\\n\");\n",
    "print(\"Dataset - with shrinkage\");\n",
    "print(\"Number of datapoints:\",df_ys.shape[0]);"
   ]
  },
  {
   "cell_type": "markdown",
   "id": "f8107ad5-c6f8-4da9-8431-68a94cb9a642",
   "metadata": {},
   "source": [
    "### 5.3 - Print summary of datasets"
   ]
  },
  {
   "cell_type": "markdown",
   "id": "f1756c95-d7e6-45c9-b616-b4a5e37db532",
   "metadata": {},
   "source": [
    "#### Initial shrinkage not considered"
   ]
  },
  {
   "cell_type": "markdown",
   "id": "7b1b9d9b-383b-4747-af37-9deb3b36298f",
   "metadata": {},
   "source": [
    "Below the dataset, for the case without considering restrained shrinkage."
   ]
  },
  {
   "cell_type": "code",
   "execution_count": 19,
   "id": "77f3d89c-74a0-4bbb-93b5-2ef893a67967",
   "metadata": {},
   "outputs": [
    {
     "data": {
      "text/html": [
       "<div>\n",
       "<style scoped>\n",
       "    .dataframe tbody tr th:only-of-type {\n",
       "        vertical-align: middle;\n",
       "    }\n",
       "\n",
       "    .dataframe tbody tr th {\n",
       "        vertical-align: top;\n",
       "    }\n",
       "\n",
       "    .dataframe thead th {\n",
       "        text-align: right;\n",
       "    }\n",
       "</style>\n",
       "<table border=\"1\" class=\"dataframe\">\n",
       "  <thead>\n",
       "    <tr style=\"text-align: right;\">\n",
       "      <th></th>\n",
       "      <th>ELID</th>\n",
       "      <th>LOADID</th>\n",
       "      <th>epsin</th>\n",
       "      <th>nbl</th>\n",
       "      <th>b</th>\n",
       "      <th>h</th>\n",
       "      <th>rx</th>\n",
       "      <th>ry</th>\n",
       "      <th>phi</th>\n",
       "      <th>zs</th>\n",
       "      <th>fctm</th>\n",
       "      <th>tau_bms</th>\n",
       "      <th>sigs</th>\n",
       "      <th>Es</th>\n",
       "      <th>Ecm</th>\n",
       "      <th>wmax</th>\n",
       "    </tr>\n",
       "  </thead>\n",
       "  <tbody>\n",
       "    <tr>\n",
       "      <th>6</th>\n",
       "      <td>STN12</td>\n",
       "      <td>1</td>\n",
       "      <td>1a</td>\n",
       "      <td>[1]</td>\n",
       "      <td>100</td>\n",
       "      <td>100.0</td>\n",
       "      <td>50.0</td>\n",
       "      <td>50.0</td>\n",
       "      <td>[12]</td>\n",
       "      <td>[50]</td>\n",
       "      <td>2.040000</td>\n",
       "      <td>3.672000</td>\n",
       "      <td>158.000000</td>\n",
       "      <td>200000.0</td>\n",
       "      <td>22162.558834</td>\n",
       "      <td>0.075</td>\n",
       "    </tr>\n",
       "    <tr>\n",
       "      <th>7</th>\n",
       "      <td>STN12</td>\n",
       "      <td>3</td>\n",
       "      <td>1a</td>\n",
       "      <td>[1]</td>\n",
       "      <td>100</td>\n",
       "      <td>100.0</td>\n",
       "      <td>50.0</td>\n",
       "      <td>50.0</td>\n",
       "      <td>[12]</td>\n",
       "      <td>[50]</td>\n",
       "      <td>2.040000</td>\n",
       "      <td>3.672000</td>\n",
       "      <td>173.000000</td>\n",
       "      <td>200000.0</td>\n",
       "      <td>22162.558834</td>\n",
       "      <td>0.125</td>\n",
       "    </tr>\n",
       "    <tr>\n",
       "      <th>8</th>\n",
       "      <td>STN12</td>\n",
       "      <td>4</td>\n",
       "      <td>1a</td>\n",
       "      <td>[1]</td>\n",
       "      <td>100</td>\n",
       "      <td>100.0</td>\n",
       "      <td>50.0</td>\n",
       "      <td>50.0</td>\n",
       "      <td>[12]</td>\n",
       "      <td>[50]</td>\n",
       "      <td>2.040000</td>\n",
       "      <td>3.672000</td>\n",
       "      <td>212.000000</td>\n",
       "      <td>200000.0</td>\n",
       "      <td>22162.558834</td>\n",
       "      <td>0.250</td>\n",
       "    </tr>\n",
       "    <tr>\n",
       "      <th>9</th>\n",
       "      <td>STN12</td>\n",
       "      <td>5</td>\n",
       "      <td>1a</td>\n",
       "      <td>[1]</td>\n",
       "      <td>100</td>\n",
       "      <td>100.0</td>\n",
       "      <td>50.0</td>\n",
       "      <td>50.0</td>\n",
       "      <td>[12]</td>\n",
       "      <td>[50]</td>\n",
       "      <td>2.040000</td>\n",
       "      <td>3.672000</td>\n",
       "      <td>338.000000</td>\n",
       "      <td>200000.0</td>\n",
       "      <td>22162.558834</td>\n",
       "      <td>0.300</td>\n",
       "    </tr>\n",
       "    <tr>\n",
       "      <th>10</th>\n",
       "      <td>STN16</td>\n",
       "      <td>4</td>\n",
       "      <td>1a</td>\n",
       "      <td>[1]</td>\n",
       "      <td>100</td>\n",
       "      <td>100.0</td>\n",
       "      <td>50.0</td>\n",
       "      <td>50.0</td>\n",
       "      <td>[16]</td>\n",
       "      <td>[50]</td>\n",
       "      <td>2.040000</td>\n",
       "      <td>3.672000</td>\n",
       "      <td>196.000000</td>\n",
       "      <td>204000.0</td>\n",
       "      <td>22162.558834</td>\n",
       "      <td>0.250</td>\n",
       "    </tr>\n",
       "    <tr>\n",
       "      <th>11</th>\n",
       "      <td>STN16</td>\n",
       "      <td>5</td>\n",
       "      <td>1a</td>\n",
       "      <td>[1]</td>\n",
       "      <td>100</td>\n",
       "      <td>100.0</td>\n",
       "      <td>50.0</td>\n",
       "      <td>50.0</td>\n",
       "      <td>[16]</td>\n",
       "      <td>[50]</td>\n",
       "      <td>2.040000</td>\n",
       "      <td>3.672000</td>\n",
       "      <td>299.000000</td>\n",
       "      <td>204000.0</td>\n",
       "      <td>22162.558834</td>\n",
       "      <td>0.325</td>\n",
       "    </tr>\n",
       "    <tr>\n",
       "      <th>12</th>\n",
       "      <td>STS12</td>\n",
       "      <td>5</td>\n",
       "      <td>1a</td>\n",
       "      <td>[1]</td>\n",
       "      <td>100</td>\n",
       "      <td>100.0</td>\n",
       "      <td>50.0</td>\n",
       "      <td>50.0</td>\n",
       "      <td>[12]</td>\n",
       "      <td>[50]</td>\n",
       "      <td>2.150000</td>\n",
       "      <td>3.870000</td>\n",
       "      <td>265.000000</td>\n",
       "      <td>200000.0</td>\n",
       "      <td>20559.805100</td>\n",
       "      <td>0.350</td>\n",
       "    </tr>\n",
       "    <tr>\n",
       "      <th>13</th>\n",
       "      <td>STS16</td>\n",
       "      <td>7</td>\n",
       "      <td>1a</td>\n",
       "      <td>[1]</td>\n",
       "      <td>100</td>\n",
       "      <td>100.0</td>\n",
       "      <td>50.0</td>\n",
       "      <td>50.0</td>\n",
       "      <td>[16]</td>\n",
       "      <td>[50]</td>\n",
       "      <td>2.150000</td>\n",
       "      <td>3.870000</td>\n",
       "      <td>249.000000</td>\n",
       "      <td>204000.0</td>\n",
       "      <td>20559.805100</td>\n",
       "      <td>0.325</td>\n",
       "    </tr>\n",
       "    <tr>\n",
       "      <th>16</th>\n",
       "      <td>12-20-00</td>\n",
       "      <td>2</td>\n",
       "      <td>2</td>\n",
       "      <td>[4]</td>\n",
       "      <td>350</td>\n",
       "      <td>450.0</td>\n",
       "      <td>38.0</td>\n",
       "      <td>38.0</td>\n",
       "      <td>[12]</td>\n",
       "      <td>[412]</td>\n",
       "      <td>1.769666</td>\n",
       "      <td>3.185400</td>\n",
       "      <td>172.279228</td>\n",
       "      <td>200000.0</td>\n",
       "      <td>28100.577853</td>\n",
       "      <td>0.077</td>\n",
       "    </tr>\n",
       "    <tr>\n",
       "      <th>17</th>\n",
       "      <td>12-20-00</td>\n",
       "      <td>3</td>\n",
       "      <td>2</td>\n",
       "      <td>[4]</td>\n",
       "      <td>350</td>\n",
       "      <td>450.0</td>\n",
       "      <td>38.0</td>\n",
       "      <td>38.0</td>\n",
       "      <td>[12]</td>\n",
       "      <td>[412]</td>\n",
       "      <td>1.769666</td>\n",
       "      <td>3.185400</td>\n",
       "      <td>193.626695</td>\n",
       "      <td>200000.0</td>\n",
       "      <td>28100.577853</td>\n",
       "      <td>0.105</td>\n",
       "    </tr>\n",
       "    <tr>\n",
       "      <th>18</th>\n",
       "      <td>12-20-00</td>\n",
       "      <td>4</td>\n",
       "      <td>2</td>\n",
       "      <td>[4]</td>\n",
       "      <td>350</td>\n",
       "      <td>450.0</td>\n",
       "      <td>38.0</td>\n",
       "      <td>38.0</td>\n",
       "      <td>[12]</td>\n",
       "      <td>[412]</td>\n",
       "      <td>1.769666</td>\n",
       "      <td>3.185400</td>\n",
       "      <td>280.351373</td>\n",
       "      <td>200000.0</td>\n",
       "      <td>28100.577853</td>\n",
       "      <td>0.370</td>\n",
       "    </tr>\n",
       "    <tr>\n",
       "      <th>22</th>\n",
       "      <td>12-70-00</td>\n",
       "      <td>1</td>\n",
       "      <td>2</td>\n",
       "      <td>[4]</td>\n",
       "      <td>350</td>\n",
       "      <td>450.0</td>\n",
       "      <td>88.0</td>\n",
       "      <td>88.0</td>\n",
       "      <td>[12]</td>\n",
       "      <td>[362]</td>\n",
       "      <td>1.769666</td>\n",
       "      <td>3.185400</td>\n",
       "      <td>171.974971</td>\n",
       "      <td>200000.0</td>\n",
       "      <td>28100.577853</td>\n",
       "      <td>0.137</td>\n",
       "    </tr>\n",
       "    <tr>\n",
       "      <th>23</th>\n",
       "      <td>12-70-00</td>\n",
       "      <td>2</td>\n",
       "      <td>2</td>\n",
       "      <td>[4]</td>\n",
       "      <td>350</td>\n",
       "      <td>450.0</td>\n",
       "      <td>88.0</td>\n",
       "      <td>88.0</td>\n",
       "      <td>[12]</td>\n",
       "      <td>[362]</td>\n",
       "      <td>1.769666</td>\n",
       "      <td>3.185400</td>\n",
       "      <td>221.499622</td>\n",
       "      <td>200000.0</td>\n",
       "      <td>28100.577853</td>\n",
       "      <td>0.330</td>\n",
       "    </tr>\n",
       "    <tr>\n",
       "      <th>24</th>\n",
       "      <td>12-70-00</td>\n",
       "      <td>3</td>\n",
       "      <td>2</td>\n",
       "      <td>[4]</td>\n",
       "      <td>350</td>\n",
       "      <td>450.0</td>\n",
       "      <td>88.0</td>\n",
       "      <td>88.0</td>\n",
       "      <td>[12]</td>\n",
       "      <td>[362]</td>\n",
       "      <td>1.769666</td>\n",
       "      <td>3.185400</td>\n",
       "      <td>271.134912</td>\n",
       "      <td>200000.0</td>\n",
       "      <td>28100.577853</td>\n",
       "      <td>0.478</td>\n",
       "    </tr>\n",
       "    <tr>\n",
       "      <th>27</th>\n",
       "      <td>25-20-00</td>\n",
       "      <td>11</td>\n",
       "      <td>2</td>\n",
       "      <td>[4]</td>\n",
       "      <td>350</td>\n",
       "      <td>450.0</td>\n",
       "      <td>44.5</td>\n",
       "      <td>44.5</td>\n",
       "      <td>[25]</td>\n",
       "      <td>[405.5]</td>\n",
       "      <td>1.769666</td>\n",
       "      <td>3.185400</td>\n",
       "      <td>190.047767</td>\n",
       "      <td>200000.0</td>\n",
       "      <td>28100.577853</td>\n",
       "      <td>0.287</td>\n",
       "    </tr>\n",
       "    <tr>\n",
       "      <th>28</th>\n",
       "      <td>25-20-00</td>\n",
       "      <td>12</td>\n",
       "      <td>2</td>\n",
       "      <td>[4]</td>\n",
       "      <td>350</td>\n",
       "      <td>450.0</td>\n",
       "      <td>44.5</td>\n",
       "      <td>44.5</td>\n",
       "      <td>[25]</td>\n",
       "      <td>[405.5]</td>\n",
       "      <td>1.769666</td>\n",
       "      <td>3.185400</td>\n",
       "      <td>279.525634</td>\n",
       "      <td>200000.0</td>\n",
       "      <td>28100.577853</td>\n",
       "      <td>0.430</td>\n",
       "    </tr>\n",
       "    <tr>\n",
       "      <th>29</th>\n",
       "      <td>16-20T</td>\n",
       "      <td>4</td>\n",
       "      <td>1a</td>\n",
       "      <td>[4,2,4]</td>\n",
       "      <td>350</td>\n",
       "      <td>450.0</td>\n",
       "      <td>40.0</td>\n",
       "      <td>40.0</td>\n",
       "      <td>[16,12,16]</td>\n",
       "      <td>[40,225,410]</td>\n",
       "      <td>2.212562</td>\n",
       "      <td>3.982612</td>\n",
       "      <td>150.000000</td>\n",
       "      <td>200000.0</td>\n",
       "      <td>31694.000000</td>\n",
       "      <td>0.368</td>\n",
       "    </tr>\n",
       "    <tr>\n",
       "      <th>30</th>\n",
       "      <td>16-20T</td>\n",
       "      <td>5</td>\n",
       "      <td>1a</td>\n",
       "      <td>[4,2,4]</td>\n",
       "      <td>350</td>\n",
       "      <td>450.0</td>\n",
       "      <td>40.0</td>\n",
       "      <td>40.0</td>\n",
       "      <td>[16,12,16]</td>\n",
       "      <td>[40,225,410]</td>\n",
       "      <td>2.212562</td>\n",
       "      <td>3.982612</td>\n",
       "      <td>226.900000</td>\n",
       "      <td>200000.0</td>\n",
       "      <td>31694.000000</td>\n",
       "      <td>0.458</td>\n",
       "    </tr>\n",
       "    <tr>\n",
       "      <th>31</th>\n",
       "      <td>16-20T</td>\n",
       "      <td>6</td>\n",
       "      <td>1a</td>\n",
       "      <td>[4,2,4]</td>\n",
       "      <td>350</td>\n",
       "      <td>450.0</td>\n",
       "      <td>40.0</td>\n",
       "      <td>40.0</td>\n",
       "      <td>[16,12,16]</td>\n",
       "      <td>[40,225,410]</td>\n",
       "      <td>2.212562</td>\n",
       "      <td>3.982612</td>\n",
       "      <td>287.700000</td>\n",
       "      <td>200000.0</td>\n",
       "      <td>31694.000000</td>\n",
       "      <td>0.497</td>\n",
       "    </tr>\n",
       "    <tr>\n",
       "      <th>32</th>\n",
       "      <td>16-70T</td>\n",
       "      <td>4</td>\n",
       "      <td>1a</td>\n",
       "      <td>[4,2,4]</td>\n",
       "      <td>350</td>\n",
       "      <td>450.0</td>\n",
       "      <td>40.0</td>\n",
       "      <td>90.0</td>\n",
       "      <td>[16,12,16]</td>\n",
       "      <td>[90,225,360]</td>\n",
       "      <td>2.159677</td>\n",
       "      <td>3.887419</td>\n",
       "      <td>194.100000</td>\n",
       "      <td>200000.0</td>\n",
       "      <td>31450.000000</td>\n",
       "      <td>0.450</td>\n",
       "    </tr>\n",
       "    <tr>\n",
       "      <th>33</th>\n",
       "      <td>25-20T</td>\n",
       "      <td>6</td>\n",
       "      <td>1a</td>\n",
       "      <td>[4,2,4]</td>\n",
       "      <td>350</td>\n",
       "      <td>450.0</td>\n",
       "      <td>44.5</td>\n",
       "      <td>44.5</td>\n",
       "      <td>[25,12,25]</td>\n",
       "      <td>[44.5,225,405.5]</td>\n",
       "      <td>2.678450</td>\n",
       "      <td>4.821210</td>\n",
       "      <td>251.300000</td>\n",
       "      <td>200000.0</td>\n",
       "      <td>33784.000000</td>\n",
       "      <td>0.310</td>\n",
       "    </tr>\n",
       "    <tr>\n",
       "      <th>34</th>\n",
       "      <td>25-20T</td>\n",
       "      <td>7</td>\n",
       "      <td>1a</td>\n",
       "      <td>[4,2,4]</td>\n",
       "      <td>350</td>\n",
       "      <td>450.0</td>\n",
       "      <td>44.5</td>\n",
       "      <td>44.5</td>\n",
       "      <td>[25,12,25]</td>\n",
       "      <td>[44.5,225,405.5]</td>\n",
       "      <td>2.678450</td>\n",
       "      <td>4.821210</td>\n",
       "      <td>320.800000</td>\n",
       "      <td>200000.0</td>\n",
       "      <td>33784.000000</td>\n",
       "      <td>0.384</td>\n",
       "    </tr>\n",
       "    <tr>\n",
       "      <th>35</th>\n",
       "      <td>25-70T</td>\n",
       "      <td>6</td>\n",
       "      <td>1a</td>\n",
       "      <td>[4,2,4]</td>\n",
       "      <td>350</td>\n",
       "      <td>450.0</td>\n",
       "      <td>44.5</td>\n",
       "      <td>94.5</td>\n",
       "      <td>[25,12,25]</td>\n",
       "      <td>[94.5,225,355.5]</td>\n",
       "      <td>2.821555</td>\n",
       "      <td>5.078800</td>\n",
       "      <td>245.700000</td>\n",
       "      <td>200000.0</td>\n",
       "      <td>34404.000000</td>\n",
       "      <td>0.392</td>\n",
       "    </tr>\n",
       "  </tbody>\n",
       "</table>\n",
       "</div>"
      ],
      "text/plain": [
       "        ELID  LOADID epsin      nbl    b      h    rx    ry         phi  \\\n",
       "6      STN12       1    1a      [1]  100  100.0  50.0  50.0        [12]   \n",
       "7      STN12       3    1a      [1]  100  100.0  50.0  50.0        [12]   \n",
       "8      STN12       4    1a      [1]  100  100.0  50.0  50.0        [12]   \n",
       "9      STN12       5    1a      [1]  100  100.0  50.0  50.0        [12]   \n",
       "10     STN16       4    1a      [1]  100  100.0  50.0  50.0        [16]   \n",
       "11     STN16       5    1a      [1]  100  100.0  50.0  50.0        [16]   \n",
       "12     STS12       5    1a      [1]  100  100.0  50.0  50.0        [12]   \n",
       "13     STS16       7    1a      [1]  100  100.0  50.0  50.0        [16]   \n",
       "16  12-20-00       2     2      [4]  350  450.0  38.0  38.0        [12]   \n",
       "17  12-20-00       3     2      [4]  350  450.0  38.0  38.0        [12]   \n",
       "18  12-20-00       4     2      [4]  350  450.0  38.0  38.0        [12]   \n",
       "22  12-70-00       1     2      [4]  350  450.0  88.0  88.0        [12]   \n",
       "23  12-70-00       2     2      [4]  350  450.0  88.0  88.0        [12]   \n",
       "24  12-70-00       3     2      [4]  350  450.0  88.0  88.0        [12]   \n",
       "27  25-20-00      11     2      [4]  350  450.0  44.5  44.5        [25]   \n",
       "28  25-20-00      12     2      [4]  350  450.0  44.5  44.5        [25]   \n",
       "29    16-20T       4    1a  [4,2,4]  350  450.0  40.0  40.0  [16,12,16]   \n",
       "30    16-20T       5    1a  [4,2,4]  350  450.0  40.0  40.0  [16,12,16]   \n",
       "31    16-20T       6    1a  [4,2,4]  350  450.0  40.0  40.0  [16,12,16]   \n",
       "32    16-70T       4    1a  [4,2,4]  350  450.0  40.0  90.0  [16,12,16]   \n",
       "33    25-20T       6    1a  [4,2,4]  350  450.0  44.5  44.5  [25,12,25]   \n",
       "34    25-20T       7    1a  [4,2,4]  350  450.0  44.5  44.5  [25,12,25]   \n",
       "35    25-70T       6    1a  [4,2,4]  350  450.0  44.5  94.5  [25,12,25]   \n",
       "\n",
       "                  zs      fctm   tau_bms        sigs        Es           Ecm  \\\n",
       "6               [50]  2.040000  3.672000  158.000000  200000.0  22162.558834   \n",
       "7               [50]  2.040000  3.672000  173.000000  200000.0  22162.558834   \n",
       "8               [50]  2.040000  3.672000  212.000000  200000.0  22162.558834   \n",
       "9               [50]  2.040000  3.672000  338.000000  200000.0  22162.558834   \n",
       "10              [50]  2.040000  3.672000  196.000000  204000.0  22162.558834   \n",
       "11              [50]  2.040000  3.672000  299.000000  204000.0  22162.558834   \n",
       "12              [50]  2.150000  3.870000  265.000000  200000.0  20559.805100   \n",
       "13              [50]  2.150000  3.870000  249.000000  204000.0  20559.805100   \n",
       "16             [412]  1.769666  3.185400  172.279228  200000.0  28100.577853   \n",
       "17             [412]  1.769666  3.185400  193.626695  200000.0  28100.577853   \n",
       "18             [412]  1.769666  3.185400  280.351373  200000.0  28100.577853   \n",
       "22             [362]  1.769666  3.185400  171.974971  200000.0  28100.577853   \n",
       "23             [362]  1.769666  3.185400  221.499622  200000.0  28100.577853   \n",
       "24             [362]  1.769666  3.185400  271.134912  200000.0  28100.577853   \n",
       "27           [405.5]  1.769666  3.185400  190.047767  200000.0  28100.577853   \n",
       "28           [405.5]  1.769666  3.185400  279.525634  200000.0  28100.577853   \n",
       "29      [40,225,410]  2.212562  3.982612  150.000000  200000.0  31694.000000   \n",
       "30      [40,225,410]  2.212562  3.982612  226.900000  200000.0  31694.000000   \n",
       "31      [40,225,410]  2.212562  3.982612  287.700000  200000.0  31694.000000   \n",
       "32      [90,225,360]  2.159677  3.887419  194.100000  200000.0  31450.000000   \n",
       "33  [44.5,225,405.5]  2.678450  4.821210  251.300000  200000.0  33784.000000   \n",
       "34  [44.5,225,405.5]  2.678450  4.821210  320.800000  200000.0  33784.000000   \n",
       "35  [94.5,225,355.5]  2.821555  5.078800  245.700000  200000.0  34404.000000   \n",
       "\n",
       "     wmax  \n",
       "6   0.075  \n",
       "7   0.125  \n",
       "8   0.250  \n",
       "9   0.300  \n",
       "10  0.250  \n",
       "11  0.325  \n",
       "12  0.350  \n",
       "13  0.325  \n",
       "16  0.077  \n",
       "17  0.105  \n",
       "18  0.370  \n",
       "22  0.137  \n",
       "23  0.330  \n",
       "24  0.478  \n",
       "27  0.287  \n",
       "28  0.430  \n",
       "29  0.368  \n",
       "30  0.458  \n",
       "31  0.497  \n",
       "32  0.450  \n",
       "33  0.310  \n",
       "34  0.384  \n",
       "35  0.392  "
      ]
     },
     "execution_count": 19,
     "metadata": {},
     "output_type": "execute_result"
    }
   ],
   "source": [
    "df_ns_full[[\"ELID\",\"LOADID\",\"epsin\",\"nbl\",\"b\",\"h\",\"rx\",\"ry\",\"phi\",\"zs\",\"fctm\",\"tau_bms\",\"sigs\",\"Es\",\"Ecm\",\"wmax\"]]"
   ]
  },
  {
   "cell_type": "markdown",
   "id": "2a834873-696c-4d30-a6c8-9371eeaae44e",
   "metadata": {},
   "source": [
    "#### Initial shrinkage considered"
   ]
  },
  {
   "cell_type": "markdown",
   "id": "3bb577c6-2b62-4057-bab5-5f216eedf182",
   "metadata": {},
   "source": [
    "Below is the dataset for the case considering restrained shrinkage. The variable 'shrinkage_init' indicates the free shrinkage strain $\\epsilon_{\\mathrm{cs,free}}$, while the 'initstrain' indicates the restrained shrinkage."
   ]
  },
  {
   "cell_type": "code",
   "execution_count": 20,
   "id": "d900ef38-777b-4989-9e44-b746bba7231a",
   "metadata": {},
   "outputs": [
    {
     "data": {
      "text/html": [
       "<div>\n",
       "<style scoped>\n",
       "    .dataframe tbody tr th:only-of-type {\n",
       "        vertical-align: middle;\n",
       "    }\n",
       "\n",
       "    .dataframe tbody tr th {\n",
       "        vertical-align: top;\n",
       "    }\n",
       "\n",
       "    .dataframe thead th {\n",
       "        text-align: right;\n",
       "    }\n",
       "</style>\n",
       "<table border=\"1\" class=\"dataframe\">\n",
       "  <thead>\n",
       "    <tr style=\"text-align: right;\">\n",
       "      <th></th>\n",
       "      <th>ELID</th>\n",
       "      <th>LOADID</th>\n",
       "      <th>epsin</th>\n",
       "      <th>nbl</th>\n",
       "      <th>b</th>\n",
       "      <th>h</th>\n",
       "      <th>rx</th>\n",
       "      <th>ry</th>\n",
       "      <th>phi</th>\n",
       "      <th>zs</th>\n",
       "      <th>fctm</th>\n",
       "      <th>tau_bms</th>\n",
       "      <th>sigs</th>\n",
       "      <th>Es</th>\n",
       "      <th>Ecm</th>\n",
       "      <th>initstrain</th>\n",
       "      <th>shrinkage_init</th>\n",
       "      <th>wmax</th>\n",
       "    </tr>\n",
       "  </thead>\n",
       "  <tbody>\n",
       "    <tr>\n",
       "      <th>6</th>\n",
       "      <td>STN12</td>\n",
       "      <td>1</td>\n",
       "      <td>1a</td>\n",
       "      <td>[1]</td>\n",
       "      <td>100</td>\n",
       "      <td>100.0</td>\n",
       "      <td>50.0</td>\n",
       "      <td>50.0</td>\n",
       "      <td>[12]</td>\n",
       "      <td>[50]</td>\n",
       "      <td>1.982531</td>\n",
       "      <td>3.672000</td>\n",
       "      <td>158.000000</td>\n",
       "      <td>200000.0</td>\n",
       "      <td>22162.558834</td>\n",
       "      <td>-0.000025</td>\n",
       "      <td>-0.000028</td>\n",
       "      <td>0.075</td>\n",
       "    </tr>\n",
       "    <tr>\n",
       "      <th>7</th>\n",
       "      <td>STN12</td>\n",
       "      <td>3</td>\n",
       "      <td>1a</td>\n",
       "      <td>[1]</td>\n",
       "      <td>100</td>\n",
       "      <td>100.0</td>\n",
       "      <td>50.0</td>\n",
       "      <td>50.0</td>\n",
       "      <td>[12]</td>\n",
       "      <td>[50]</td>\n",
       "      <td>1.982531</td>\n",
       "      <td>3.672000</td>\n",
       "      <td>173.000000</td>\n",
       "      <td>200000.0</td>\n",
       "      <td>22162.558834</td>\n",
       "      <td>-0.000025</td>\n",
       "      <td>-0.000028</td>\n",
       "      <td>0.125</td>\n",
       "    </tr>\n",
       "    <tr>\n",
       "      <th>8</th>\n",
       "      <td>STN12</td>\n",
       "      <td>4</td>\n",
       "      <td>1a</td>\n",
       "      <td>[1]</td>\n",
       "      <td>100</td>\n",
       "      <td>100.0</td>\n",
       "      <td>50.0</td>\n",
       "      <td>50.0</td>\n",
       "      <td>[12]</td>\n",
       "      <td>[50]</td>\n",
       "      <td>1.982531</td>\n",
       "      <td>3.672000</td>\n",
       "      <td>212.000000</td>\n",
       "      <td>200000.0</td>\n",
       "      <td>22162.558834</td>\n",
       "      <td>-0.000025</td>\n",
       "      <td>-0.000028</td>\n",
       "      <td>0.250</td>\n",
       "    </tr>\n",
       "    <tr>\n",
       "      <th>9</th>\n",
       "      <td>STN12</td>\n",
       "      <td>5</td>\n",
       "      <td>1a</td>\n",
       "      <td>[1]</td>\n",
       "      <td>100</td>\n",
       "      <td>100.0</td>\n",
       "      <td>50.0</td>\n",
       "      <td>50.0</td>\n",
       "      <td>[12]</td>\n",
       "      <td>[50]</td>\n",
       "      <td>1.982531</td>\n",
       "      <td>3.672000</td>\n",
       "      <td>338.000000</td>\n",
       "      <td>200000.0</td>\n",
       "      <td>22162.558834</td>\n",
       "      <td>-0.000025</td>\n",
       "      <td>-0.000028</td>\n",
       "      <td>0.300</td>\n",
       "    </tr>\n",
       "    <tr>\n",
       "      <th>10</th>\n",
       "      <td>STN16</td>\n",
       "      <td>4</td>\n",
       "      <td>1a</td>\n",
       "      <td>[1]</td>\n",
       "      <td>100</td>\n",
       "      <td>100.0</td>\n",
       "      <td>50.0</td>\n",
       "      <td>50.0</td>\n",
       "      <td>[16]</td>\n",
       "      <td>[50]</td>\n",
       "      <td>1.943089</td>\n",
       "      <td>3.672000</td>\n",
       "      <td>196.000000</td>\n",
       "      <td>204000.0</td>\n",
       "      <td>22162.558834</td>\n",
       "      <td>-0.000024</td>\n",
       "      <td>-0.000028</td>\n",
       "      <td>0.250</td>\n",
       "    </tr>\n",
       "    <tr>\n",
       "      <th>11</th>\n",
       "      <td>STN16</td>\n",
       "      <td>5</td>\n",
       "      <td>1a</td>\n",
       "      <td>[1]</td>\n",
       "      <td>100</td>\n",
       "      <td>100.0</td>\n",
       "      <td>50.0</td>\n",
       "      <td>50.0</td>\n",
       "      <td>[16]</td>\n",
       "      <td>[50]</td>\n",
       "      <td>1.943089</td>\n",
       "      <td>3.672000</td>\n",
       "      <td>299.000000</td>\n",
       "      <td>204000.0</td>\n",
       "      <td>22162.558834</td>\n",
       "      <td>-0.000024</td>\n",
       "      <td>-0.000028</td>\n",
       "      <td>0.325</td>\n",
       "    </tr>\n",
       "    <tr>\n",
       "      <th>12</th>\n",
       "      <td>STS12</td>\n",
       "      <td>5</td>\n",
       "      <td>1a</td>\n",
       "      <td>[1]</td>\n",
       "      <td>100</td>\n",
       "      <td>100.0</td>\n",
       "      <td>50.0</td>\n",
       "      <td>50.0</td>\n",
       "      <td>[12]</td>\n",
       "      <td>[50]</td>\n",
       "      <td>1.642599</td>\n",
       "      <td>3.870000</td>\n",
       "      <td>265.000000</td>\n",
       "      <td>200000.0</td>\n",
       "      <td>20559.805100</td>\n",
       "      <td>-0.000224</td>\n",
       "      <td>-0.000249</td>\n",
       "      <td>0.350</td>\n",
       "    </tr>\n",
       "    <tr>\n",
       "      <th>13</th>\n",
       "      <td>STS16</td>\n",
       "      <td>7</td>\n",
       "      <td>1a</td>\n",
       "      <td>[1]</td>\n",
       "      <td>100</td>\n",
       "      <td>100.0</td>\n",
       "      <td>50.0</td>\n",
       "      <td>50.0</td>\n",
       "      <td>[16]</td>\n",
       "      <td>[50]</td>\n",
       "      <td>1.298549</td>\n",
       "      <td>3.870000</td>\n",
       "      <td>249.000000</td>\n",
       "      <td>204000.0</td>\n",
       "      <td>20559.805100</td>\n",
       "      <td>-0.000208</td>\n",
       "      <td>-0.000249</td>\n",
       "      <td>0.325</td>\n",
       "    </tr>\n",
       "    <tr>\n",
       "      <th>16</th>\n",
       "      <td>12-20-00</td>\n",
       "      <td>2</td>\n",
       "      <td>2</td>\n",
       "      <td>[4]</td>\n",
       "      <td>350</td>\n",
       "      <td>450.0</td>\n",
       "      <td>38.0</td>\n",
       "      <td>38.0</td>\n",
       "      <td>[12]</td>\n",
       "      <td>[412]</td>\n",
       "      <td>1.563753</td>\n",
       "      <td>3.185400</td>\n",
       "      <td>172.279228</td>\n",
       "      <td>200000.0</td>\n",
       "      <td>28100.577853</td>\n",
       "      <td>-0.000117</td>\n",
       "      <td>-0.000124</td>\n",
       "      <td>0.077</td>\n",
       "    </tr>\n",
       "    <tr>\n",
       "      <th>17</th>\n",
       "      <td>12-20-00</td>\n",
       "      <td>3</td>\n",
       "      <td>2</td>\n",
       "      <td>[4]</td>\n",
       "      <td>350</td>\n",
       "      <td>450.0</td>\n",
       "      <td>38.0</td>\n",
       "      <td>38.0</td>\n",
       "      <td>[12]</td>\n",
       "      <td>[412]</td>\n",
       "      <td>1.563753</td>\n",
       "      <td>3.185400</td>\n",
       "      <td>193.626695</td>\n",
       "      <td>200000.0</td>\n",
       "      <td>28100.577853</td>\n",
       "      <td>-0.000117</td>\n",
       "      <td>-0.000124</td>\n",
       "      <td>0.105</td>\n",
       "    </tr>\n",
       "    <tr>\n",
       "      <th>18</th>\n",
       "      <td>12-20-00</td>\n",
       "      <td>4</td>\n",
       "      <td>2</td>\n",
       "      <td>[4]</td>\n",
       "      <td>350</td>\n",
       "      <td>450.0</td>\n",
       "      <td>38.0</td>\n",
       "      <td>38.0</td>\n",
       "      <td>[12]</td>\n",
       "      <td>[412]</td>\n",
       "      <td>1.563753</td>\n",
       "      <td>3.185400</td>\n",
       "      <td>280.351373</td>\n",
       "      <td>200000.0</td>\n",
       "      <td>28100.577853</td>\n",
       "      <td>-0.000117</td>\n",
       "      <td>-0.000124</td>\n",
       "      <td>0.370</td>\n",
       "    </tr>\n",
       "    <tr>\n",
       "      <th>22</th>\n",
       "      <td>12-70-00</td>\n",
       "      <td>1</td>\n",
       "      <td>2</td>\n",
       "      <td>[4]</td>\n",
       "      <td>350</td>\n",
       "      <td>450.0</td>\n",
       "      <td>88.0</td>\n",
       "      <td>88.0</td>\n",
       "      <td>[12]</td>\n",
       "      <td>[362]</td>\n",
       "      <td>1.653349</td>\n",
       "      <td>3.185400</td>\n",
       "      <td>171.974971</td>\n",
       "      <td>200000.0</td>\n",
       "      <td>28100.577853</td>\n",
       "      <td>-0.000096</td>\n",
       "      <td>-0.000100</td>\n",
       "      <td>0.137</td>\n",
       "    </tr>\n",
       "    <tr>\n",
       "      <th>23</th>\n",
       "      <td>12-70-00</td>\n",
       "      <td>2</td>\n",
       "      <td>2</td>\n",
       "      <td>[4]</td>\n",
       "      <td>350</td>\n",
       "      <td>450.0</td>\n",
       "      <td>88.0</td>\n",
       "      <td>88.0</td>\n",
       "      <td>[12]</td>\n",
       "      <td>[362]</td>\n",
       "      <td>1.653349</td>\n",
       "      <td>3.185400</td>\n",
       "      <td>221.499622</td>\n",
       "      <td>200000.0</td>\n",
       "      <td>28100.577853</td>\n",
       "      <td>-0.000096</td>\n",
       "      <td>-0.000100</td>\n",
       "      <td>0.330</td>\n",
       "    </tr>\n",
       "    <tr>\n",
       "      <th>24</th>\n",
       "      <td>12-70-00</td>\n",
       "      <td>3</td>\n",
       "      <td>2</td>\n",
       "      <td>[4]</td>\n",
       "      <td>350</td>\n",
       "      <td>450.0</td>\n",
       "      <td>88.0</td>\n",
       "      <td>88.0</td>\n",
       "      <td>[12]</td>\n",
       "      <td>[362]</td>\n",
       "      <td>1.653349</td>\n",
       "      <td>3.185400</td>\n",
       "      <td>271.134912</td>\n",
       "      <td>200000.0</td>\n",
       "      <td>28100.577853</td>\n",
       "      <td>-0.000096</td>\n",
       "      <td>-0.000100</td>\n",
       "      <td>0.478</td>\n",
       "    </tr>\n",
       "    <tr>\n",
       "      <th>27</th>\n",
       "      <td>25-20-00</td>\n",
       "      <td>11</td>\n",
       "      <td>2</td>\n",
       "      <td>[4]</td>\n",
       "      <td>350</td>\n",
       "      <td>450.0</td>\n",
       "      <td>44.5</td>\n",
       "      <td>44.5</td>\n",
       "      <td>[25]</td>\n",
       "      <td>[405.5]</td>\n",
       "      <td>0.795407</td>\n",
       "      <td>3.185400</td>\n",
       "      <td>190.047767</td>\n",
       "      <td>200000.0</td>\n",
       "      <td>28100.577853</td>\n",
       "      <td>-0.000133</td>\n",
       "      <td>-0.000168</td>\n",
       "      <td>0.287</td>\n",
       "    </tr>\n",
       "    <tr>\n",
       "      <th>28</th>\n",
       "      <td>25-20-00</td>\n",
       "      <td>12</td>\n",
       "      <td>2</td>\n",
       "      <td>[4]</td>\n",
       "      <td>350</td>\n",
       "      <td>450.0</td>\n",
       "      <td>44.5</td>\n",
       "      <td>44.5</td>\n",
       "      <td>[25]</td>\n",
       "      <td>[405.5]</td>\n",
       "      <td>0.795407</td>\n",
       "      <td>3.185400</td>\n",
       "      <td>279.525634</td>\n",
       "      <td>200000.0</td>\n",
       "      <td>28100.577853</td>\n",
       "      <td>-0.000133</td>\n",
       "      <td>-0.000168</td>\n",
       "      <td>0.430</td>\n",
       "    </tr>\n",
       "    <tr>\n",
       "      <th>29</th>\n",
       "      <td>16-20T</td>\n",
       "      <td>4</td>\n",
       "      <td>1a</td>\n",
       "      <td>[4,2,4]</td>\n",
       "      <td>350</td>\n",
       "      <td>450.0</td>\n",
       "      <td>40.0</td>\n",
       "      <td>40.0</td>\n",
       "      <td>[16,12,16]</td>\n",
       "      <td>[40,225,410]</td>\n",
       "      <td>1.973837</td>\n",
       "      <td>3.982612</td>\n",
       "      <td>150.000000</td>\n",
       "      <td>200000.0</td>\n",
       "      <td>31694.000000</td>\n",
       "      <td>-0.000102</td>\n",
       "      <td>-0.000110</td>\n",
       "      <td>0.368</td>\n",
       "    </tr>\n",
       "    <tr>\n",
       "      <th>30</th>\n",
       "      <td>16-20T</td>\n",
       "      <td>5</td>\n",
       "      <td>1a</td>\n",
       "      <td>[4,2,4]</td>\n",
       "      <td>350</td>\n",
       "      <td>450.0</td>\n",
       "      <td>40.0</td>\n",
       "      <td>40.0</td>\n",
       "      <td>[16,12,16]</td>\n",
       "      <td>[40,225,410]</td>\n",
       "      <td>1.973837</td>\n",
       "      <td>3.982612</td>\n",
       "      <td>226.900000</td>\n",
       "      <td>200000.0</td>\n",
       "      <td>31694.000000</td>\n",
       "      <td>-0.000102</td>\n",
       "      <td>-0.000110</td>\n",
       "      <td>0.458</td>\n",
       "    </tr>\n",
       "    <tr>\n",
       "      <th>31</th>\n",
       "      <td>16-20T</td>\n",
       "      <td>6</td>\n",
       "      <td>1a</td>\n",
       "      <td>[4,2,4]</td>\n",
       "      <td>350</td>\n",
       "      <td>450.0</td>\n",
       "      <td>40.0</td>\n",
       "      <td>40.0</td>\n",
       "      <td>[16,12,16]</td>\n",
       "      <td>[40,225,410]</td>\n",
       "      <td>1.973837</td>\n",
       "      <td>3.982612</td>\n",
       "      <td>287.700000</td>\n",
       "      <td>200000.0</td>\n",
       "      <td>31694.000000</td>\n",
       "      <td>-0.000102</td>\n",
       "      <td>-0.000110</td>\n",
       "      <td>0.497</td>\n",
       "    </tr>\n",
       "    <tr>\n",
       "      <th>32</th>\n",
       "      <td>16-70T</td>\n",
       "      <td>4</td>\n",
       "      <td>1a</td>\n",
       "      <td>[4,2,4]</td>\n",
       "      <td>350</td>\n",
       "      <td>450.0</td>\n",
       "      <td>40.0</td>\n",
       "      <td>90.0</td>\n",
       "      <td>[16,12,16]</td>\n",
       "      <td>[90,225,360]</td>\n",
       "      <td>1.910233</td>\n",
       "      <td>3.887419</td>\n",
       "      <td>194.100000</td>\n",
       "      <td>200000.0</td>\n",
       "      <td>31450.000000</td>\n",
       "      <td>-0.000107</td>\n",
       "      <td>-0.000115</td>\n",
       "      <td>0.450</td>\n",
       "    </tr>\n",
       "    <tr>\n",
       "      <th>33</th>\n",
       "      <td>25-20T</td>\n",
       "      <td>6</td>\n",
       "      <td>1a</td>\n",
       "      <td>[4,2,4]</td>\n",
       "      <td>350</td>\n",
       "      <td>450.0</td>\n",
       "      <td>44.5</td>\n",
       "      <td>44.5</td>\n",
       "      <td>[25,12,25]</td>\n",
       "      <td>[44.5,225,405.5]</td>\n",
       "      <td>2.085421</td>\n",
       "      <td>4.821210</td>\n",
       "      <td>251.300000</td>\n",
       "      <td>200000.0</td>\n",
       "      <td>33784.000000</td>\n",
       "      <td>-0.000112</td>\n",
       "      <td>-0.000130</td>\n",
       "      <td>0.310</td>\n",
       "    </tr>\n",
       "    <tr>\n",
       "      <th>34</th>\n",
       "      <td>25-20T</td>\n",
       "      <td>7</td>\n",
       "      <td>1a</td>\n",
       "      <td>[4,2,4]</td>\n",
       "      <td>350</td>\n",
       "      <td>450.0</td>\n",
       "      <td>44.5</td>\n",
       "      <td>44.5</td>\n",
       "      <td>[25,12,25]</td>\n",
       "      <td>[44.5,225,405.5]</td>\n",
       "      <td>2.085421</td>\n",
       "      <td>4.821210</td>\n",
       "      <td>320.800000</td>\n",
       "      <td>200000.0</td>\n",
       "      <td>33784.000000</td>\n",
       "      <td>-0.000112</td>\n",
       "      <td>-0.000130</td>\n",
       "      <td>0.384</td>\n",
       "    </tr>\n",
       "    <tr>\n",
       "      <th>35</th>\n",
       "      <td>25-70T</td>\n",
       "      <td>6</td>\n",
       "      <td>1a</td>\n",
       "      <td>[4,2,4]</td>\n",
       "      <td>350</td>\n",
       "      <td>450.0</td>\n",
       "      <td>44.5</td>\n",
       "      <td>94.5</td>\n",
       "      <td>[25,12,25]</td>\n",
       "      <td>[94.5,225,355.5]</td>\n",
       "      <td>2.053309</td>\n",
       "      <td>5.078800</td>\n",
       "      <td>245.700000</td>\n",
       "      <td>200000.0</td>\n",
       "      <td>34404.000000</td>\n",
       "      <td>-0.000146</td>\n",
       "      <td>-0.000168</td>\n",
       "      <td>0.392</td>\n",
       "    </tr>\n",
       "  </tbody>\n",
       "</table>\n",
       "</div>"
      ],
      "text/plain": [
       "        ELID  LOADID epsin      nbl    b      h    rx    ry         phi  \\\n",
       "6      STN12       1    1a      [1]  100  100.0  50.0  50.0        [12]   \n",
       "7      STN12       3    1a      [1]  100  100.0  50.0  50.0        [12]   \n",
       "8      STN12       4    1a      [1]  100  100.0  50.0  50.0        [12]   \n",
       "9      STN12       5    1a      [1]  100  100.0  50.0  50.0        [12]   \n",
       "10     STN16       4    1a      [1]  100  100.0  50.0  50.0        [16]   \n",
       "11     STN16       5    1a      [1]  100  100.0  50.0  50.0        [16]   \n",
       "12     STS12       5    1a      [1]  100  100.0  50.0  50.0        [12]   \n",
       "13     STS16       7    1a      [1]  100  100.0  50.0  50.0        [16]   \n",
       "16  12-20-00       2     2      [4]  350  450.0  38.0  38.0        [12]   \n",
       "17  12-20-00       3     2      [4]  350  450.0  38.0  38.0        [12]   \n",
       "18  12-20-00       4     2      [4]  350  450.0  38.0  38.0        [12]   \n",
       "22  12-70-00       1     2      [4]  350  450.0  88.0  88.0        [12]   \n",
       "23  12-70-00       2     2      [4]  350  450.0  88.0  88.0        [12]   \n",
       "24  12-70-00       3     2      [4]  350  450.0  88.0  88.0        [12]   \n",
       "27  25-20-00      11     2      [4]  350  450.0  44.5  44.5        [25]   \n",
       "28  25-20-00      12     2      [4]  350  450.0  44.5  44.5        [25]   \n",
       "29    16-20T       4    1a  [4,2,4]  350  450.0  40.0  40.0  [16,12,16]   \n",
       "30    16-20T       5    1a  [4,2,4]  350  450.0  40.0  40.0  [16,12,16]   \n",
       "31    16-20T       6    1a  [4,2,4]  350  450.0  40.0  40.0  [16,12,16]   \n",
       "32    16-70T       4    1a  [4,2,4]  350  450.0  40.0  90.0  [16,12,16]   \n",
       "33    25-20T       6    1a  [4,2,4]  350  450.0  44.5  44.5  [25,12,25]   \n",
       "34    25-20T       7    1a  [4,2,4]  350  450.0  44.5  44.5  [25,12,25]   \n",
       "35    25-70T       6    1a  [4,2,4]  350  450.0  44.5  94.5  [25,12,25]   \n",
       "\n",
       "                  zs      fctm   tau_bms        sigs        Es           Ecm  \\\n",
       "6               [50]  1.982531  3.672000  158.000000  200000.0  22162.558834   \n",
       "7               [50]  1.982531  3.672000  173.000000  200000.0  22162.558834   \n",
       "8               [50]  1.982531  3.672000  212.000000  200000.0  22162.558834   \n",
       "9               [50]  1.982531  3.672000  338.000000  200000.0  22162.558834   \n",
       "10              [50]  1.943089  3.672000  196.000000  204000.0  22162.558834   \n",
       "11              [50]  1.943089  3.672000  299.000000  204000.0  22162.558834   \n",
       "12              [50]  1.642599  3.870000  265.000000  200000.0  20559.805100   \n",
       "13              [50]  1.298549  3.870000  249.000000  204000.0  20559.805100   \n",
       "16             [412]  1.563753  3.185400  172.279228  200000.0  28100.577853   \n",
       "17             [412]  1.563753  3.185400  193.626695  200000.0  28100.577853   \n",
       "18             [412]  1.563753  3.185400  280.351373  200000.0  28100.577853   \n",
       "22             [362]  1.653349  3.185400  171.974971  200000.0  28100.577853   \n",
       "23             [362]  1.653349  3.185400  221.499622  200000.0  28100.577853   \n",
       "24             [362]  1.653349  3.185400  271.134912  200000.0  28100.577853   \n",
       "27           [405.5]  0.795407  3.185400  190.047767  200000.0  28100.577853   \n",
       "28           [405.5]  0.795407  3.185400  279.525634  200000.0  28100.577853   \n",
       "29      [40,225,410]  1.973837  3.982612  150.000000  200000.0  31694.000000   \n",
       "30      [40,225,410]  1.973837  3.982612  226.900000  200000.0  31694.000000   \n",
       "31      [40,225,410]  1.973837  3.982612  287.700000  200000.0  31694.000000   \n",
       "32      [90,225,360]  1.910233  3.887419  194.100000  200000.0  31450.000000   \n",
       "33  [44.5,225,405.5]  2.085421  4.821210  251.300000  200000.0  33784.000000   \n",
       "34  [44.5,225,405.5]  2.085421  4.821210  320.800000  200000.0  33784.000000   \n",
       "35  [94.5,225,355.5]  2.053309  5.078800  245.700000  200000.0  34404.000000   \n",
       "\n",
       "    initstrain  shrinkage_init   wmax  \n",
       "6    -0.000025       -0.000028  0.075  \n",
       "7    -0.000025       -0.000028  0.125  \n",
       "8    -0.000025       -0.000028  0.250  \n",
       "9    -0.000025       -0.000028  0.300  \n",
       "10   -0.000024       -0.000028  0.250  \n",
       "11   -0.000024       -0.000028  0.325  \n",
       "12   -0.000224       -0.000249  0.350  \n",
       "13   -0.000208       -0.000249  0.325  \n",
       "16   -0.000117       -0.000124  0.077  \n",
       "17   -0.000117       -0.000124  0.105  \n",
       "18   -0.000117       -0.000124  0.370  \n",
       "22   -0.000096       -0.000100  0.137  \n",
       "23   -0.000096       -0.000100  0.330  \n",
       "24   -0.000096       -0.000100  0.478  \n",
       "27   -0.000133       -0.000168  0.287  \n",
       "28   -0.000133       -0.000168  0.430  \n",
       "29   -0.000102       -0.000110  0.368  \n",
       "30   -0.000102       -0.000110  0.458  \n",
       "31   -0.000102       -0.000110  0.497  \n",
       "32   -0.000107       -0.000115  0.450  \n",
       "33   -0.000112       -0.000130  0.310  \n",
       "34   -0.000112       -0.000130  0.384  \n",
       "35   -0.000146       -0.000168  0.392  "
      ]
     },
     "execution_count": 20,
     "metadata": {},
     "output_type": "execute_result"
    }
   ],
   "source": [
    "df_ys_full[[\"ELID\",\"LOADID\",\"epsin\",\"nbl\",\"b\",\"h\",\"rx\",\"ry\",\"phi\",\"zs\",\"fctm\",\"tau_bms\",\"sigs\",\"Es\",\"Ecm\",\"initstrain\",\"shrinkage_init\",\"wmax\"]]"
   ]
  },
  {
   "cell_type": "markdown",
   "id": "e650186a-609f-488e-9919-3c7bb4eea3e4",
   "metadata": {},
   "source": [
    "### 5.4 - Plots"
   ]
  },
  {
   "cell_type": "markdown",
   "id": "cb2dfe4d-74b6-4163-8819-be4fae162942",
   "metadata": {},
   "source": [
    "#### Tensile strength: difference in strength available for external loads"
   ]
  },
  {
   "cell_type": "markdown",
   "id": "cd96af69-7fb9-4753-b661-5264554f9767",
   "metadata": {},
   "source": [
    "Restrained shrinkage leads to tensile stresses in the concrete. Therefore, when the element is loaded, the tensile strength available for resisting the load becomes smaller. The effects are depicted below."
   ]
  },
  {
   "cell_type": "code",
   "execution_count": 21,
   "id": "2c01e108-8824-422e-b296-631fb5182fd6",
   "metadata": {},
   "outputs": [
    {
     "data": {
      "image/png": "[encoded data removed]",
      "text/plain": [
       "<Figure size 640x480 with 1 Axes>"
      ]
     },
     "metadata": {},
     "output_type": "display_data"
    }
   ],
   "source": [
    "plt.plot(df_ys_full[\"ELID\"],df_ys_full[\"fctm\"].astype(\"float\"),\"*b\",label=\"initial shrinkage\");\n",
    "plt.plot(df_ns_full[\"ELID\"],df_ns_full[\"fctm\"],\"*r\",label=\"no initial shrinkage\");\n",
    "plt.legend();\n",
    "plt.xticks(rotation=90);\n",
    "plt.grid();\n",
    "plt.ylabel(\"$f_{\\\\rm{ctm}}$ available for experiment [MPa]\");"
   ]
  },
  {
   "cell_type": "markdown",
   "id": "019922fd-c05f-40eb-a427-106ffa8a445a",
   "metadata": {},
   "source": [
    "### 5.5 - Create lists per crack width formula"
   ]
  },
  {
   "cell_type": "markdown",
   "id": "7901006c-671d-4ab4-b4b5-9ae8f7cbac4b",
   "metadata": {},
   "source": [
    "#### EN 1992-1-1"
   ]
  },
  {
   "cell_type": "code",
   "execution_count": 22,
   "id": "b4534c4f-3a58-43c5-b034-9d1146373c4f",
   "metadata": {},
   "outputs": [],
   "source": [
    "list_001a = np.zeros((df_ns[\"wmax_001a\"].shape[0],4));\n",
    "epsinlist = [];\n",
    "sigslist = [];\n",
    "for i in range(df_ns[\"wmax_001a\"].shape[0]):\n",
    "    list_001a[i,0] = df_ns[\"wmax_001a\"].iloc[i];\n",
    "    list_001a[i,1] = df_ys[\"wmax_001a\"].iloc[i];\n",
    "    list_001a[i,2] = df_ns[\"meas_wmax\"].iloc[i];\n",
    "    list_001a[i,3] = df_ns[\"sigs\"].iloc[i];\n",
    "    epsinlist.append(df_ns[\"epsin\"].iloc[i]);\n",
    "    sigslist.append(df_ns[\"sigs\"].iloc[i]);\n",
    "list_001a = pd.DataFrame(list_001a,columns=[\"wmax_001a_ns\",\"wmax_001a_ys\",\"meas_wmax\",\"sigs\"]);\n",
    "list_001a[\"epsin\"] = epsinlist;\n",
    "list_001a.dropna(inplace=True);"
   ]
  },
  {
   "cell_type": "code",
   "execution_count": 23,
   "id": "bcac751b-33dd-430a-ab33-c0847f006029",
   "metadata": {},
   "outputs": [],
   "source": [
    "list_001a_bend = list_001a[list_001a[\"epsin\"] == str(2)];\n",
    "list_001a_tens = list_001a[list_001a[\"epsin\"] == str(\"1a\")];"
   ]
  },
  {
   "cell_type": "markdown",
   "id": "43a1c541-f4b8-4f63-99db-9ad7b390a639",
   "metadata": {},
   "source": [
    "#### NEN-EN 1992-1-1"
   ]
  },
  {
   "cell_type": "code",
   "execution_count": 24,
   "id": "961e448e-8337-46bc-a9d4-90d2da3e1290",
   "metadata": {},
   "outputs": [],
   "source": [
    "list_001b = np.zeros((df_ns[\"wmax_001b\"].shape[0],3));\n",
    "epsinlist = [];\n",
    "for i in range(df_ns[\"wmax_001b\"].shape[0]):\n",
    "    list_001b[i,0] = df_ns[\"wmax_001b\"].iloc[i];\n",
    "    list_001b[i,1] = df_ys[\"wmax_001b\"].iloc[i];\n",
    "    list_001b[i,2] = df_ns[\"meas_wmax\"].iloc[i];\n",
    "    epsinlist.append(df_ns[\"epsin\"].iloc[i]);\n",
    "list_001b = pd.DataFrame(list_001b,columns=[\"wmax_001b_ns\",\"wmax_001b_ys\",\"meas_wmax\"]);\n",
    "list_001b[\"epsin\"] = epsinlist;\n",
    "list_001b.dropna(inplace=True);"
   ]
  },
  {
   "cell_type": "code",
   "execution_count": 25,
   "id": "6917a7fa-6497-44d5-9415-f4da6d3cb928",
   "metadata": {},
   "outputs": [],
   "source": [
    "list_001b_bend = list_001b[list_001b[\"epsin\"] == str(2)];\n",
    "list_001b_tens = list_001b[list_001b[\"epsin\"] == str(\"1a\")];"
   ]
  },
  {
   "cell_type": "markdown",
   "id": "e991ffd8-95c9-4db4-b5af-3e8ba3859d00",
   "metadata": {},
   "source": [
    "#### FprEN 1992-1-1"
   ]
  },
  {
   "cell_type": "code",
   "execution_count": 26,
   "id": "d5cc1ec9-71c7-447b-8f6b-867df48678fa",
   "metadata": {},
   "outputs": [],
   "source": [
    "list_002 = np.zeros((df_ns[\"wmax_002\"].shape[0],3));\n",
    "epsinlist = [];\n",
    "for i in range(df_ns[\"wmax_002\"].shape[0]):\n",
    "    list_002[i,0] = df_ns[\"wmax_002\"].iloc[i];\n",
    "    list_002[i,1] = df_ys[\"wmax_002\"].iloc[i];\n",
    "    list_002[i,2] = df_ns[\"meas_wmax\"].iloc[i];\n",
    "    epsinlist.append(df_ns[\"epsin\"].iloc[i]);\n",
    "list_002 = pd.DataFrame(list_002,columns=[\"wmax_002_ns\",\"wmax_002_ys\",\"meas_wmax\"]);\n",
    "list_002[\"epsin\"] = epsinlist;\n",
    "list_002.dropna(inplace=True);"
   ]
  },
  {
   "cell_type": "code",
   "execution_count": 27,
   "id": "89850934-27e3-44b3-9b8a-5e4cb0c0a806",
   "metadata": {},
   "outputs": [],
   "source": [
    "list_002_bend = list_002[list_002[\"epsin\"] == str(2)];\n",
    "list_002_tens = list_002[list_002[\"epsin\"] == str(\"1a\")];"
   ]
  },
  {
   "cell_type": "markdown",
   "id": "3bffff78-7e1d-40e7-9e68-46d76fb8cb7f",
   "metadata": {},
   "source": [
    "#### *fib* MC 2010"
   ]
  },
  {
   "cell_type": "code",
   "execution_count": 28,
   "id": "b81c8799-cac2-4ef4-b230-8c36a2ff03c2",
   "metadata": {},
   "outputs": [],
   "source": [
    "list_006 = np.zeros((df_ns[\"wmax_006\"].shape[0],3));\n",
    "epsinlist = [];\n",
    "for i in range(df_ns[\"wmax_006\"].shape[0]):\n",
    "    list_006[i,0] = df_ns[\"wmax_006\"].iloc[i];\n",
    "    list_006[i,1] = df_ys[\"wmax_006\"].iloc[i];\n",
    "    list_006[i,2] = df_ns[\"meas_wmax\"].iloc[i];\n",
    "    epsinlist.append(df_ns[\"epsin\"].iloc[i]);\n",
    "list_006 = pd.DataFrame(list_006,columns=[\"wmax_006_ns\",\"wmax_006_ys\",\"meas_wmax\"]);\n",
    "list_006[\"epsin\"] = epsinlist;\n",
    "list_006.dropna(inplace=True);"
   ]
  },
  {
   "cell_type": "code",
   "execution_count": 29,
   "id": "fdffdc94-1b4d-4b5a-bcb2-c6845958d262",
   "metadata": {},
   "outputs": [],
   "source": [
    "list_006_bend = list_006[list_006[\"epsin\"] == str(2)];\n",
    "list_006_tens = list_006[list_006[\"epsin\"] == str(\"1a\")];"
   ]
  },
  {
   "cell_type": "markdown",
   "id": "3a0985a9-3bbd-49ba-9d6e-eda89a5e358b",
   "metadata": {},
   "source": [
    "#### *fib* MC 2020"
   ]
  },
  {
   "cell_type": "code",
   "execution_count": 30,
   "id": "54e1a273-8b67-45b6-bf84-d02704651ff3",
   "metadata": {},
   "outputs": [],
   "source": [
    "list_007 = np.zeros((df_ns[\"wmax_007\"].shape[0],3));\n",
    "epsinlist = [];\n",
    "for i in range(df_ns[\"wmax_007\"].shape[0]):\n",
    "    list_007[i,0] = df_ns[\"wmax_007\"].iloc[i];\n",
    "    list_007[i,1] = df_ys[\"wmax_007\"].iloc[i];\n",
    "    list_007[i,2] = df_ns[\"meas_wmax\"].iloc[i];\n",
    "    epsinlist.append(df_ns[\"epsin\"].iloc[i]);\n",
    "list_007 = pd.DataFrame(list_007,columns=[\"wmax_007_ns\",\"wmax_007_ys\",\"meas_wmax\"]);\n",
    "list_007[\"epsin\"] = epsinlist;\n",
    "list_007.dropna(inplace=True);"
   ]
  },
  {
   "cell_type": "code",
   "execution_count": 31,
   "id": "2013ff1a-8027-45fc-a1bd-347deb64b2be",
   "metadata": {},
   "outputs": [],
   "source": [
    "list_007_bend = list_007[list_007[\"epsin\"] == str(2)];\n",
    "list_007_tens = list_007[list_007[\"epsin\"] == str(\"1a\")];"
   ]
  },
  {
   "cell_type": "markdown",
   "id": "87a0b6e2-a226-4766-b264-a20c9cca9042",
   "metadata": {},
   "source": [
    "#### Noakowski"
   ]
  },
  {
   "cell_type": "code",
   "execution_count": 32,
   "id": "0d6338ab-6323-4b0c-b95e-f4f37c968703",
   "metadata": {},
   "outputs": [],
   "source": [
    "list_012 = np.zeros((df_ns[\"wmax_012\"].shape[0],3));\n",
    "epsinlist = [];\n",
    "for i in range(df_ns[\"wmax_012\"].shape[0]):\n",
    "    list_012[i,0] = df_ns[\"wmax_012\"].iloc[i];\n",
    "    list_012[i,1] = df_ys[\"wmax_012\"].iloc[i];\n",
    "    list_012[i,2] = df_ns[\"meas_wmax\"].iloc[i];\n",
    "    epsinlist.append(df_ns[\"epsin\"].iloc[i]);\n",
    "list_012 = pd.DataFrame(list_012,columns=[\"wmax_012_ns\",\"wmax_012_ys\",\"meas_wmax\"]);\n",
    "list_012[\"epsin\"] = epsinlist;\n",
    "list_012.dropna(inplace=True);"
   ]
  },
  {
   "cell_type": "code",
   "execution_count": 33,
   "id": "a60a6b46-9bd1-4a7c-9b87-99960d7913dd",
   "metadata": {},
   "outputs": [],
   "source": [
    "list_012_bend = list_012[list_012[\"epsin\"] == str(2)];\n",
    "list_012_tens = list_012[list_012[\"epsin\"] == str(\"1a\")];"
   ]
  },
  {
   "cell_type": "markdown",
   "id": "35d7729e-eff3-48d4-b7d5-73be5f1f7be1",
   "metadata": {},
   "source": [
    "#### JSCE (Japan Society of Civil Engineers)"
   ]
  },
  {
   "cell_type": "code",
   "execution_count": 34,
   "id": "69e0da05-b5a3-4d47-a03a-79306e11c0cd",
   "metadata": {},
   "outputs": [],
   "source": [
    "list_038 = np.zeros((df_ns[\"wmax_038\"].shape[0],3));\n",
    "epsinlist = [];\n",
    "for i in range(df_ns[\"wmax_038\"].shape[0]):\n",
    "    list_038[i,0] = df_ns[\"wmax_038\"].iloc[i];\n",
    "    list_038[i,1] = df_ys[\"wmax_038\"].iloc[i];\n",
    "    list_038[i,2] = df_ns[\"meas_wmax\"].iloc[i];\n",
    "    epsinlist.append(df_ns[\"epsin\"].iloc[i]);\n",
    "list_038 = pd.DataFrame(list_038,columns=[\"wmax_038_ns\",\"wmax_038_ys\",\"meas_wmax\"]);\n",
    "list_038[\"epsin\"] = epsinlist;\n",
    "list_038.dropna(inplace=True);"
   ]
  },
  {
   "cell_type": "code",
   "execution_count": 35,
   "id": "ddffbc3d-8b92-49cf-ad50-222cce65e90e",
   "metadata": {},
   "outputs": [],
   "source": [
    "list_038_bend = list_038[list_038[\"epsin\"] == str(2)];\n",
    "list_038_tens = list_038[list_038[\"epsin\"] == str(\"1a\")];"
   ]
  },
  {
   "cell_type": "markdown",
   "id": "b2e410cd-c608-4c81-a4e9-2445c20c146f",
   "metadata": {},
   "source": [
    "#### Oh and Kang"
   ]
  },
  {
   "cell_type": "code",
   "execution_count": 36,
   "id": "52501341-494d-47a6-ac98-aeda8639f28a",
   "metadata": {},
   "outputs": [],
   "source": [
    "list_047 = np.zeros((df_ns[\"wmax_047\"].shape[0],3));\n",
    "epsinlist = [];\n",
    "for i in range(df_ns[\"wmax_047\"].shape[0]):\n",
    "    list_047[i,0] = df_ns[\"wmax_047\"].iloc[i];\n",
    "    list_047[i,1] = df_ys[\"wmax_047\"].iloc[i];\n",
    "    list_047[i,2] = df_ns[\"meas_wmax\"].iloc[i];\n",
    "    epsinlist.append(df_ns[\"epsin\"].iloc[i]);\n",
    "list_047 = pd.DataFrame(list_047,columns=[\"wmax_047_ns\",\"wmax_047_ys\",\"meas_wmax\"]);\n",
    "list_047[\"epsin\"] = epsinlist;\n",
    "list_047.dropna(inplace=True);"
   ]
  },
  {
   "cell_type": "code",
   "execution_count": 37,
   "id": "e2d25cec-3b55-46ae-8c66-dbcdf6b025c1",
   "metadata": {},
   "outputs": [],
   "source": [
    "list_047_bend = list_047[list_047[\"epsin\"] == str(2)];\n",
    "list_047_tens = list_047[list_047[\"epsin\"] == str(\"1a\")];"
   ]
  },
  {
   "cell_type": "markdown",
   "id": "69c8d014-5aba-4021-8b02-02e88d485b43",
   "metadata": {},
   "source": [
    "#### Gergely and Lutz"
   ]
  },
  {
   "cell_type": "code",
   "execution_count": 38,
   "id": "dd7875e2-5ffc-4cba-8cbb-8c02fb89c471",
   "metadata": {},
   "outputs": [],
   "source": [
    "list_053 = np.zeros((df_ns[\"wmax_053\"].shape[0],3));\n",
    "epsinlist = [];\n",
    "for i in range(df_ns[\"wmax_053\"].shape[0]):\n",
    "    list_053[i,0] = df_ns[\"wmax_053\"].iloc[i];\n",
    "    list_053[i,1] = df_ns[\"wmax_053\"].iloc[i]; # Take care: instead of df_ys --> df_ns; since initial shrinkage shouldn't have effects!\n",
    "    list_053[i,2] = df_ns[\"meas_wmax\"].iloc[i];\n",
    "    epsinlist.append(df_ns[\"epsin\"].iloc[i]);\n",
    "list_053 = pd.DataFrame(list_053,columns=[\"wmax_053_ns\",\"wmax_053_ys\",\"meas_wmax\"]);\n",
    "list_053[\"epsin\"] = epsinlist\n",
    "list_053.dropna(inplace=True);"
   ]
  },
  {
   "cell_type": "code",
   "execution_count": 39,
   "id": "6a9f3d2f-46bc-4758-aac6-d9924506f064",
   "metadata": {},
   "outputs": [],
   "source": [
    "list_053_bend = list_053[list_053[\"epsin\"] == str(2)];\n",
    "list_053_tens = list_053[list_053[\"epsin\"] == str(\"1a\")];"
   ]
  },
  {
   "cell_type": "markdown",
   "id": "6711be34-1e3a-4d81-b9b0-f1050a158815",
   "metadata": {},
   "source": [
    "## 6 - Analysis and plots"
   ]
  },
  {
   "cell_type": "markdown",
   "id": "a20bbc19-aabe-48f4-976e-8a519666d732",
   "metadata": {},
   "source": [
    "Three groups are created:\\\n",
    "-Group 1: no initial shrinkage \\\n",
    "-Group 2: $(1-k_{\\mathrm{t}})\\epsilon_{\\mathrm{cs,free}}$; tension stiffening is considered in the respective formula \\\n",
    "-Group 3: $\\epsilon_{\\mathrm{cs,free}}$; tension stiffening is not considered\n",
    "\n",
    "The considered CWFs are related to the three different groups:\\\n",
    "-Group 1: no initial shrinkage:\\\n",
    "$\\quad$ -Gergely and Lutz\n",
    "\n",
    "-Group 2: $(1-k_t)\\epsilon_{\\mathrm{cs,free}}$:\\\n",
    "$\\quad$ -EN 1992-1-1\\\n",
    "$\\quad$ -NEN-EN 1992-1-1\\\n",
    "$\\quad$ -FprEN 1992-1-1\\\n",
    "$\\quad$ -*fib* MC 2010\\\n",
    "$\\quad$ -*fib* MC 2020\\\n",
    "$\\quad$ -Noakowski\n",
    "\n",
    "-Group 3: $\\epsilon_{\\mathrm{cs,free}}$:\\\n",
    "$\\quad$ -JSCE\\\n",
    "$\\quad$ -Oh and Kang"
   ]
  },
  {
   "cell_type": "markdown",
   "id": "8539c3e7-4738-4e45-853d-883e7cfe53f2",
   "metadata": {},
   "source": [
    "### Group 1: no initial shrinkage"
   ]
  },
  {
   "cell_type": "markdown",
   "id": "dd432838-4d40-427f-acbe-18043327c45d",
   "metadata": {},
   "source": [
    "#### Gergely and Lutz"
   ]
  },
  {
   "cell_type": "code",
   "execution_count": 40,
   "id": "f3556e45-68ec-4c36-9f4f-5ac1d1684c99",
   "metadata": {},
   "outputs": [
    {
     "data": {
      "image/png": "[encoded data removed]",
      "text/plain": [
       "<Figure size 640x480 with 1 Axes>"
      ]
     },
     "metadata": {},
     "output_type": "display_data"
    }
   ],
   "source": [
    "legend_elements = [Line2D([], [], marker = \"o\", color=\"white\", markerfacecolor=col_053, lw=1, label='Gergely + Lutz'),\n",
    "                  ];\n",
    "\n",
    "plt.stem(list_053[\"wmax_053_ns\"]-list_053[\"wmax_053_ys\"],markerfmt=col_053);\n",
    "\n",
    "plt.legend(handles=legend_elements, loc=\"lower center\",ncol=6,bbox_to_anchor=(0.5,-0.22));\n",
    "\n",
    "plt.ylabel(\"$w_{\\\\rm{max,cwf,no,init}} - w_{\\\\rm{max,cwf,init}} $ [mm]\");\n",
    "plt.xlabel(\"Datapoint\");\n",
    "plt.grid();"
   ]
  },
  {
   "cell_type": "code",
   "execution_count": 41,
   "id": "fcb99c9e-ccc5-470a-93b0-8e1114a430d3",
   "metadata": {},
   "outputs": [
    {
     "data": {
      "image/png": "[encoded data removed]",
      "text/plain": [
       "<Figure size 640x480 with 1 Axes>"
      ]
     },
     "metadata": {},
     "output_type": "display_data"
    }
   ],
   "source": [
    "legend_elements = [\n",
    "    Line2D([], [], marker = \"o\", color=\"white\", markerfacecolor=\"b\", lw=1, label='$w_{max,cwf,no,init} - w_{max,exp} $'),\n",
    "    Line2D([], [], marker = \"o\", color=\"white\", markerfacecolor=\"r\", lw=1, label='$w_{max,cwf,init} - w_{max,exp} $'),\n",
    "                  ];\n",
    "\n",
    "plt.stem(list_053[\"wmax_053_ns\"]-list_053[\"meas_wmax\"],markerfmt=\"b\");\n",
    "plt.stem(list_053[\"wmax_053_ys\"]-list_053[\"meas_wmax\"],markerfmt=\"r\");\n",
    "\n",
    "plt.legend(handles=legend_elements, loc=\"lower center\",ncol=6,bbox_to_anchor=(0.5,-0.22));\n",
    "\n",
    "plt.ylabel(\"$w_{\\\\rm{max,cwf}} - w_{\\\\rm{max,exp}} $ [mm]\");\n",
    "plt.xlabel(\"Datapoint\");\n",
    "plt.grid();"
   ]
  },
  {
   "cell_type": "code",
   "execution_count": 42,
   "id": "d32623da-ed08-499c-ad53-30f9bca8482e",
   "metadata": {},
   "outputs": [
    {
     "data": {
      "image/png": "[encoded data removed]",
      "text/plain": [
       "<Figure size 640x480 with 1 Axes>"
      ]
     },
     "metadata": {},
     "output_type": "display_data"
    }
   ],
   "source": [
    "legend_elements = [Line2D([], [], marker = \"o\", color=\"white\", markerfacecolor=col_053, lw=1, label='Gergely + Lutz'),\n",
    "                  ];\n",
    "\n",
    "plt.stem(100*(list_053[\"wmax_053_ns\"]-list_053[\"wmax_053_ys\"])/list_053[\"meas_wmax\"],markerfmt=col_053);\n",
    "\n",
    "plt.legend(handles=legend_elements, loc=\"lower center\",ncol=6,bbox_to_anchor=(0.5,-0.22));\n",
    "\n",
    "plt.ylabel(\"$(w_{\\\\rm{max,cwf,no,init}} - w_{\\\\rm{max,cwf,init}})/w_{\\\\rm{max,exp}} $ [%]\");\n",
    "plt.xlabel(\"Datapoint\");\n",
    "plt.grid();"
   ]
  },
  {
   "cell_type": "code",
   "execution_count": 43,
   "id": "01a1f37e-b885-4d91-9b47-0aa9f37a08af",
   "metadata": {},
   "outputs": [
    {
     "name": "stdout",
     "output_type": "stream",
     "text": [
      "CWF 053 - Gergely + Lutz\n",
      "\n",
      "\n",
      "Ratio w_cwf/w_meas - no init shrink: mean= 1.115\n",
      "Ratio w_cwf/w_meas - init shrink: mean= 1.115\n",
      "\n",
      "\n",
      "Ratio w_cwf/w_meas - no init shrink + bending: mean= 1.115\n",
      "Ratio w_cwf/w_meas - init shrink + bending: mean= 1.115\n",
      "\n",
      "\n",
      "Ratio w_cwf/w_meas - no init shrink + tension: mean= nan\n",
      "Ratio w_cwf/w_meas - init shrink + tension: mean= nan\n"
     ]
    }
   ],
   "source": [
    "print(\"CWF 053 - Gergely + Lutz\");\n",
    "print(\"\\n\");\n",
    "print(\"Ratio w_cwf/w_meas - no init shrink: mean=\",np.round(np.mean(list_053[\"wmax_053_ns\"]/list_053[\"meas_wmax\"]),3));\n",
    "print(\"Ratio w_cwf/w_meas - init shrink: mean=\",np.round(np.mean(list_053[\"wmax_053_ys\"]/list_053[\"meas_wmax\"]),3));\n",
    "print(\"\\n\");\n",
    "print(\"Ratio w_cwf/w_meas - no init shrink + bending: mean=\",np.round(np.mean(list_053_bend[\"wmax_053_ns\"]/list_053_bend[\"meas_wmax\"]),3));\n",
    "print(\"Ratio w_cwf/w_meas - init shrink + bending: mean=\",np.round(np.mean(list_053_bend[\"wmax_053_ys\"]/list_053_bend[\"meas_wmax\"]),3));\n",
    "print(\"\\n\");\n",
    "print(\"Ratio w_cwf/w_meas - no init shrink + tension: mean=\",np.round(np.mean(list_053_tens[\"wmax_053_ns\"]/list_053_tens[\"meas_wmax\"]),3));\n",
    "print(\"Ratio w_cwf/w_meas - init shrink + tension: mean=\",np.round(np.mean(list_053_tens[\"wmax_053_ys\"]/list_053_tens[\"meas_wmax\"]),3));"
   ]
  },
  {
   "cell_type": "markdown",
   "id": "c08629ed-010a-4562-85b5-3c9784f1131c",
   "metadata": {},
   "source": [
    "### Group 2: $(1-k_t)\\epsilon_{\\mathrm{cs,free}}$"
   ]
  },
  {
   "cell_type": "markdown",
   "id": "39e50894-475d-47be-a2b5-bf871cbb576e",
   "metadata": {},
   "source": [
    "#### Summary"
   ]
  },
  {
   "cell_type": "code",
   "execution_count": 44,
   "id": "52e19f4c-b41c-4592-ac4c-4e0cb5db58bb",
   "metadata": {},
   "outputs": [
    {
     "data": {
      "image/png": "[encoded data removed]",
      "text/plain": [
       "<Figure size 640x480 with 1 Axes>"
      ]
     },
     "metadata": {},
     "output_type": "display_data"
    }
   ],
   "source": [
    "legend_elements = [Line2D([], [], marker = \"o\", color=\"white\", markerfacecolor=col_001a, lw=1, label='EN-1992-1-1'),\n",
    "                   Line2D([], [], marker = \"o\", color=\"white\", markerfacecolor=col_001b, lw=1, label='NEN-EN-1992-1-1'),\n",
    "                   Line2D([], [], marker = \"o\", color=\"white\", markerfacecolor=col_002, lw=1, label='FprEN 1992-1-1'),\n",
    "                   Line2D([], [], marker = \"o\", color=\"white\", markerfacecolor=col_006, lw=1, label='MC 2010'),\n",
    "                   Line2D([], [], marker = \"o\", color=\"white\", markerfacecolor=col_007, lw=1, label='MC 2020'),\n",
    "                   Line2D([], [], marker = \"o\", color=\"white\", markerfacecolor=col_012, lw=1, label='Noakowksi'),\n",
    "                  ];\n",
    "\n",
    "plt.stem(list_001a[\"wmax_001a_ns\"]-list_001a[\"wmax_001a_ys\"],markerfmt=col_001a);\n",
    "plt.stem(list_001b[\"wmax_001b_ns\"]-list_001b[\"wmax_001b_ys\"],markerfmt=col_001b);\n",
    "plt.stem(list_002[\"wmax_002_ns\"]-list_002[\"wmax_002_ys\"],markerfmt=col_002);\n",
    "plt.stem(list_006[\"wmax_006_ns\"]-list_006[\"wmax_006_ys\"],markerfmt=col_006);\n",
    "plt.stem(list_007[\"wmax_007_ns\"]-list_007[\"wmax_007_ys\"],markerfmt=col_007);\n",
    "plt.stem(list_012[\"wmax_012_ns\"]-list_012[\"wmax_012_ys\"],markerfmt=col_012);\n",
    "\n",
    "plt.legend(handles=legend_elements, loc=\"lower center\",ncol=6,bbox_to_anchor=(0.5,-0.22));\n",
    "\n",
    "plt.ylabel(\"$w_{\\\\rm{max,cwf,no,init}} - w_{\\\\rm{max,cwf,init}} $ [mm]\");\n",
    "plt.xlabel(\"Datapoint\");\n",
    "plt.grid();"
   ]
  },
  {
   "cell_type": "code",
   "execution_count": 45,
   "id": "102c3181-d430-4cb7-ac3d-046172a71b36",
   "metadata": {},
   "outputs": [
    {
     "data": {
      "image/png": "[encoded data removed]",
      "text/plain": [
       "<Figure size 640x480 with 1 Axes>"
      ]
     },
     "metadata": {},
     "output_type": "display_data"
    }
   ],
   "source": [
    "legend_elements = [Line2D([], [], marker = \"o\", color=\"white\", markerfacecolor=col_001a, lw=1, label='EN-1992-1-1'),\n",
    "                   Line2D([], [], marker = \"o\", color=\"white\", markerfacecolor=col_001b, lw=1, label='NEN-EN-1992-1-1'),\n",
    "                   Line2D([], [], marker = \"o\", color=\"white\", markerfacecolor=col_002, lw=1, label='FprEN 1992-1-1'),\n",
    "                   Line2D([], [], marker = \"o\", color=\"white\", markerfacecolor=col_006, lw=1, label='MC 2010'),\n",
    "                   Line2D([], [], marker = \"o\", color=\"white\", markerfacecolor=col_007, lw=1, label='MC 2020'),\n",
    "                   Line2D([], [], marker = \"o\", color=\"white\", markerfacecolor=col_012, lw=1, label='Noakowksi')\n",
    "                  ];\n",
    "\n",
    "plt.stem(100*(list_001a[\"wmax_001a_ns\"]-list_001a[\"wmax_001a_ys\"])/list_001a[\"meas_wmax\"],markerfmt=col_001a);\n",
    "plt.stem(100*(list_001b[\"wmax_001b_ns\"]-list_001b[\"wmax_001b_ys\"])/list_001b[\"meas_wmax\"],markerfmt=col_001b);\n",
    "plt.stem(100*(list_002[\"wmax_002_ns\"]-list_002[\"wmax_002_ys\"])/list_002[\"meas_wmax\"],markerfmt=col_002);\n",
    "plt.stem(100*(list_006[\"wmax_006_ns\"]-list_006[\"wmax_006_ys\"])/list_006[\"meas_wmax\"],markerfmt=col_006);\n",
    "plt.stem(100*(list_007[\"wmax_007_ns\"]-list_007[\"wmax_007_ys\"])/list_007[\"meas_wmax\"],markerfmt=col_007);\n",
    "plt.stem(100*(list_012[\"wmax_012_ns\"]-list_012[\"wmax_012_ys\"])/list_012[\"meas_wmax\"],markerfmt=col_012);\n",
    "\n",
    "plt.legend(handles=legend_elements, loc=\"lower center\",ncol=6,bbox_to_anchor=(0.5,-0.22));\n",
    "\n",
    "plt.ylabel(\"$(w_{\\\\rm{max,cwf,no,init}} - w_{\\\\rm{max,cwf,init}})/w_{\\\\rm{max,exp}} $ [%]\");\n",
    "plt.xlabel(\"Datapoint\");\n",
    "plt.grid();"
   ]
  },
  {
   "cell_type": "markdown",
   "id": "ec896e63-c97e-4bd4-97f8-f3e131d8dfa8",
   "metadata": {},
   "source": [
    "#### EN 1992-1-1"
   ]
  },
  {
   "cell_type": "code",
   "execution_count": 46,
   "id": "e8f482c9-cbdc-4ba9-8392-2136c19d2b5a",
   "metadata": {},
   "outputs": [
    {
     "name": "stdout",
     "output_type": "stream",
     "text": [
      "CWF 001 - EN 1992-1-1\n",
      "\n",
      "\n",
      "Ratio w_cwf/w_meas - no init shrink: mean= 1.194\n",
      "Ratio w_cwf/w_meas - init shrink: mean= 1.29\n",
      "\n",
      "\n",
      "Ratio w_cwf/w_meas - no init shrink + bending: mean= 1.058\n",
      "Ratio w_cwf/w_meas - init shrink + bending: mean= 1.157\n",
      "\n",
      "\n",
      "Ratio w_cwf/w_meas - no init shrink + tension: mean= 1.267\n",
      "Ratio w_cwf/w_meas - init shrink + tension: mean= 1.362\n",
      "\n",
      "\n",
      "Ratio w_cwf_ys/w_cwf_ns + bending: mean = 1.1\n"
     ]
    }
   ],
   "source": [
    "print(\"CWF 001 - EN 1992-1-1\");\n",
    "print(\"\\n\");\n",
    "print(\"Ratio w_cwf/w_meas - no init shrink: mean=\",np.round(np.mean(list_001a[\"wmax_001a_ns\"]/list_001a[\"meas_wmax\"]),3));\n",
    "print(\"Ratio w_cwf/w_meas - init shrink: mean=\",np.round(np.mean(list_001a[\"wmax_001a_ys\"]/list_001a[\"meas_wmax\"]),3));\n",
    "print(\"\\n\");\n",
    "print(\"Ratio w_cwf/w_meas - no init shrink + bending: mean=\",np.round(np.mean(list_001a_bend[\"wmax_001a_ns\"]/list_001a_bend[\"meas_wmax\"]),3));\n",
    "print(\"Ratio w_cwf/w_meas - init shrink + bending: mean=\",np.round(np.mean(list_001a_bend[\"wmax_001a_ys\"]/list_001a_bend[\"meas_wmax\"]),3));\n",
    "print(\"\\n\");\n",
    "print(\"Ratio w_cwf/w_meas - no init shrink + tension: mean=\",np.round(np.mean(list_001a_tens[\"wmax_001a_ns\"]/list_001a_tens[\"meas_wmax\"]),3));\n",
    "print(\"Ratio w_cwf/w_meas - init shrink + tension: mean=\",np.round(np.mean(list_001a_tens[\"wmax_001a_ys\"]/list_001a_tens[\"meas_wmax\"]),3));\n",
    "print(\"\\n\");\n",
    "print(\"Ratio w_cwf_ys/w_cwf_ns + bending: mean =\",np.round(np.mean(list_001a_bend[\"wmax_001a_ys\"]/list_001a_bend[\"wmax_001a_ns\"]),3));"
   ]
  },
  {
   "cell_type": "markdown",
   "id": "08e065dd-7178-4cd5-97b4-249afcecfff2",
   "metadata": {},
   "source": [
    "#### NEN-EN 1992-1-1"
   ]
  },
  {
   "cell_type": "code",
   "execution_count": 47,
   "id": "0c07b45a-6568-41a4-a699-042425ef072c",
   "metadata": {},
   "outputs": [
    {
     "name": "stdout",
     "output_type": "stream",
     "text": [
      "CWF 001b - NEN-EN 1992-1-1\n",
      "\n",
      "\n",
      "Ratio w_cwf/w_meas - no init shrink: mean= 1.15\n",
      "Ratio w_cwf/w_meas - init shrink: mean= 1.244\n",
      "\n",
      "\n",
      "Ratio w_cwf/w_meas - no init shrink + bending: mean= 1.046\n",
      "Ratio w_cwf/w_meas - init shrink + bending: mean= 1.144\n",
      "\n",
      "\n",
      "Ratio w_cwf/w_meas - no init shrink + tension: mean= 1.206\n",
      "Ratio w_cwf/w_meas - init shrink + tension: mean= 1.297\n"
     ]
    }
   ],
   "source": [
    "print(\"CWF 001b - NEN-EN 1992-1-1\");\n",
    "print(\"\\n\");\n",
    "print(\"Ratio w_cwf/w_meas - no init shrink: mean=\",np.round(np.mean(list_001b[\"wmax_001b_ns\"]/list_001b[\"meas_wmax\"]),3));\n",
    "print(\"Ratio w_cwf/w_meas - init shrink: mean=\",np.round(np.mean(list_001b[\"wmax_001b_ys\"]/list_001b[\"meas_wmax\"]),3));\n",
    "print(\"\\n\");\n",
    "print(\"Ratio w_cwf/w_meas - no init shrink + bending: mean=\",np.round(np.mean(list_001b_bend[\"wmax_001b_ns\"]/list_001b_bend[\"meas_wmax\"]),3));\n",
    "print(\"Ratio w_cwf/w_meas - init shrink + bending: mean=\",np.round(np.mean(list_001b_bend[\"wmax_001b_ys\"]/list_001b_bend[\"meas_wmax\"]),3));\n",
    "print(\"\\n\");\n",
    "print(\"Ratio w_cwf/w_meas - no init shrink + tension: mean=\",np.round(np.mean(list_001b_tens[\"wmax_001b_ns\"]/list_001b_tens[\"meas_wmax\"]),3));\n",
    "print(\"Ratio w_cwf/w_meas - init shrink + tension: mean=\",np.round(np.mean(list_001b_tens[\"wmax_001b_ys\"]/list_001b_tens[\"meas_wmax\"]),3));"
   ]
  },
  {
   "cell_type": "markdown",
   "id": "75355201-c760-4d63-9a3e-7f687bb488df",
   "metadata": {},
   "source": [
    "#### EN 1992-1-1 (2023)"
   ]
  },
  {
   "cell_type": "code",
   "execution_count": 48,
   "id": "143b21b3-4b67-40e1-9f32-1101caad0021",
   "metadata": {},
   "outputs": [
    {
     "name": "stdout",
     "output_type": "stream",
     "text": [
      "CWF 002 - FprEN 1992-1-1\n",
      "\n",
      "\n",
      "Ratio w_cwf/w_meas - no init shrink: mean= 0.827\n",
      "Ratio w_cwf/w_meas - init shrink: mean= 0.941\n",
      "\n",
      "\n",
      "Ratio w_cwf/w_meas - no init shrink + bending: mean= 0.939\n",
      "Ratio w_cwf/w_meas - init shrink + bending: mean= 1.098\n",
      "\n",
      "\n",
      "Ratio w_cwf/w_meas - no init shrink + tension: mean= 0.767\n",
      "Ratio w_cwf/w_meas - init shrink + tension: mean= 0.857\n"
     ]
    }
   ],
   "source": [
    "print(\"CWF 002 - FprEN 1992-1-1\");\n",
    "print(\"\\n\");\n",
    "print(\"Ratio w_cwf/w_meas - no init shrink: mean=\",np.round(np.mean(list_002[\"wmax_002_ns\"]/list_002[\"meas_wmax\"]),3));\n",
    "print(\"Ratio w_cwf/w_meas - init shrink: mean=\",np.round(np.mean(list_002[\"wmax_002_ys\"]/list_002[\"meas_wmax\"]),3));\n",
    "print(\"\\n\");\n",
    "print(\"Ratio w_cwf/w_meas - no init shrink + bending: mean=\",np.round(np.mean(list_002_bend[\"wmax_002_ns\"]/list_002_bend[\"meas_wmax\"]),3));\n",
    "print(\"Ratio w_cwf/w_meas - init shrink + bending: mean=\",np.round(np.mean(list_002_bend[\"wmax_002_ys\"]/list_002_bend[\"meas_wmax\"]),3));\n",
    "print(\"\\n\");\n",
    "print(\"Ratio w_cwf/w_meas - no init shrink + tension: mean=\",np.round(np.mean(list_002_tens[\"wmax_002_ns\"]/list_002_tens[\"meas_wmax\"]),3));\n",
    "print(\"Ratio w_cwf/w_meas - init shrink + tension: mean=\",np.round(np.mean(list_002_tens[\"wmax_002_ys\"]/list_002_tens[\"meas_wmax\"]),3));"
   ]
  },
  {
   "cell_type": "markdown",
   "id": "2c33f300-babd-46b0-9553-3950c8c86879",
   "metadata": {},
   "source": [
    "#### *fib* MC 2010"
   ]
  },
  {
   "cell_type": "code",
   "execution_count": 49,
   "id": "99bad174-6b84-4113-861b-5a916b52157e",
   "metadata": {},
   "outputs": [
    {
     "name": "stdout",
     "output_type": "stream",
     "text": [
      "CWF 006 - MC 2010\n",
      "\n",
      "\n",
      "Ratio w_cwf/w_meas - no init shrink: mean= 0.9\n",
      "Ratio w_cwf/w_meas - init shrink: mean= 0.931\n",
      "\n",
      "\n",
      "Ratio w_cwf/w_meas - no init shrink + bending: mean= 1.183\n",
      "Ratio w_cwf/w_meas - init shrink + bending: mean= 1.237\n",
      "\n",
      "\n",
      "Ratio w_cwf/w_meas - no init shrink + tension: mean= 0.75\n",
      "Ratio w_cwf/w_meas - init shrink + tension: mean= 0.767\n"
     ]
    }
   ],
   "source": [
    "print(\"CWF 006 - MC 2010\");\n",
    "print(\"\\n\");\n",
    "print(\"Ratio w_cwf/w_meas - no init shrink: mean=\",np.round(np.mean(list_006[\"wmax_006_ns\"]/list_006[\"meas_wmax\"]),3));\n",
    "print(\"Ratio w_cwf/w_meas - init shrink: mean=\",np.round(np.mean(list_006[\"wmax_006_ys\"]/list_006[\"meas_wmax\"]),3));\n",
    "print(\"\\n\");\n",
    "print(\"Ratio w_cwf/w_meas - no init shrink + bending: mean=\",np.round(np.mean(list_006_bend[\"wmax_006_ns\"]/list_006_bend[\"meas_wmax\"]),3));\n",
    "print(\"Ratio w_cwf/w_meas - init shrink + bending: mean=\",np.round(np.mean(list_006_bend[\"wmax_006_ys\"]/list_006_bend[\"meas_wmax\"]),3));\n",
    "print(\"\\n\");\n",
    "print(\"Ratio w_cwf/w_meas - no init shrink + tension: mean=\",np.round(np.mean(list_006_tens[\"wmax_006_ns\"]/list_006_tens[\"meas_wmax\"]),3));\n",
    "print(\"Ratio w_cwf/w_meas - init shrink + tension: mean=\",np.round(np.mean(list_006_tens[\"wmax_006_ys\"]/list_006_tens[\"meas_wmax\"]),3));"
   ]
  },
  {
   "cell_type": "markdown",
   "id": "7b3358fa-a114-4750-aeed-fe474ad898ee",
   "metadata": {},
   "source": [
    "#### *fib* MC 2020"
   ]
  },
  {
   "cell_type": "code",
   "execution_count": 50,
   "id": "0a265376-d75c-4e2a-bdd3-72568216d8f4",
   "metadata": {},
   "outputs": [
    {
     "name": "stdout",
     "output_type": "stream",
     "text": [
      "CWF 007 - MC 2020\n",
      "\n",
      "\n",
      "Ratio w_cwf/w_meas - no init shrink: mean= 0.895\n",
      "Ratio w_cwf/w_meas - init shrink: mean= 0.892\n",
      "\n",
      "\n",
      "Ratio w_cwf/w_meas - no init shrink + bending: mean= 1.046\n",
      "Ratio w_cwf/w_meas - init shrink + bending: mean= 0.998\n",
      "\n",
      "\n",
      "Ratio w_cwf/w_meas - no init shrink + tension: mean= 0.815\n",
      "Ratio w_cwf/w_meas - init shrink + tension: mean= 0.835\n"
     ]
    }
   ],
   "source": [
    "print(\"CWF 007 - MC 2020\");\n",
    "print(\"\\n\");\n",
    "print(\"Ratio w_cwf/w_meas - no init shrink: mean=\",np.round(np.mean(list_007[\"wmax_007_ns\"]/list_007[\"meas_wmax\"]),3));\n",
    "print(\"Ratio w_cwf/w_meas - init shrink: mean=\",np.round(np.mean(list_007[\"wmax_007_ys\"]/list_007[\"meas_wmax\"]),3));\n",
    "print(\"\\n\");\n",
    "print(\"Ratio w_cwf/w_meas - no init shrink + bending: mean=\",np.round(np.mean(list_007_bend[\"wmax_007_ns\"]/list_007_bend[\"meas_wmax\"]),3));\n",
    "print(\"Ratio w_cwf/w_meas - init shrink + bending: mean=\",np.round(np.mean(list_007_bend[\"wmax_007_ys\"]/list_007_bend[\"meas_wmax\"]),3));\n",
    "print(\"\\n\");\n",
    "print(\"Ratio w_cwf/w_meas - no init shrink + tension: mean=\",np.round(np.mean(list_007_tens[\"wmax_007_ns\"]/list_007_tens[\"meas_wmax\"]),3));\n",
    "print(\"Ratio w_cwf/w_meas - init shrink + tension: mean=\",np.round(np.mean(list_007_tens[\"wmax_007_ys\"]/list_007_tens[\"meas_wmax\"]),3));"
   ]
  },
  {
   "cell_type": "markdown",
   "id": "63b97ed6-3dd6-4874-a892-c48cf4ac83f0",
   "metadata": {},
   "source": [
    "#### Noakowski"
   ]
  },
  {
   "cell_type": "code",
   "execution_count": 51,
   "id": "32b8fcc6-744f-47c3-841c-0c3d7035af11",
   "metadata": {},
   "outputs": [
    {
     "name": "stdout",
     "output_type": "stream",
     "text": [
      "CWF 012 - Noakowski\n",
      "\n",
      "\n",
      "Ratio w_cwf/w_meas - no init shrink: mean= 0.811\n",
      "Ratio w_cwf/w_meas - init shrink: mean= 0.776\n",
      "\n",
      "\n",
      "Ratio w_cwf/w_meas - no init shrink + bending: mean= 0.873\n",
      "Ratio w_cwf/w_meas - init shrink + bending: mean= 0.775\n",
      "\n",
      "\n",
      "Ratio w_cwf/w_meas - no init shrink + tension: mean= 0.778\n",
      "Ratio w_cwf/w_meas - init shrink + tension: mean= 0.776\n"
     ]
    }
   ],
   "source": [
    "print(\"CWF 012 - Noakowski\");\n",
    "print(\"\\n\");\n",
    "print(\"Ratio w_cwf/w_meas - no init shrink: mean=\",np.round(np.mean(list_012[\"wmax_012_ns\"]/list_012[\"meas_wmax\"]),3));\n",
    "print(\"Ratio w_cwf/w_meas - init shrink: mean=\",np.round(np.mean(list_012[\"wmax_012_ys\"]/list_012[\"meas_wmax\"]),3));\n",
    "print(\"\\n\");\n",
    "print(\"Ratio w_cwf/w_meas - no init shrink + bending: mean=\",np.round(np.mean(list_012_bend[\"wmax_012_ns\"]/list_012_bend[\"meas_wmax\"]),3));\n",
    "print(\"Ratio w_cwf/w_meas - init shrink + bending: mean=\",np.round(np.mean(list_012_bend[\"wmax_012_ys\"]/list_012_bend[\"meas_wmax\"]),3));\n",
    "print(\"\\n\");\n",
    "print(\"Ratio w_cwf/w_meas - no init shrink + tension: mean=\",np.round(np.mean(list_012_tens[\"wmax_012_ns\"]/list_012_tens[\"meas_wmax\"]),3));\n",
    "print(\"Ratio w_cwf/w_meas - init shrink + tension: mean=\",np.round(np.mean(list_012_tens[\"wmax_012_ys\"]/list_012_tens[\"meas_wmax\"]),3));"
   ]
  },
  {
   "cell_type": "markdown",
   "id": "2a32c447-512f-4814-980f-38708c20dae3",
   "metadata": {},
   "source": [
    "### Group 3: $\\epsilon_{\\mathrm{cs,free}}$"
   ]
  },
  {
   "cell_type": "markdown",
   "id": "ada1da13-6155-4c3d-bc74-174792746985",
   "metadata": {},
   "source": [
    "#### Summary"
   ]
  },
  {
   "cell_type": "code",
   "execution_count": 52,
   "id": "f98fa73d-a3ed-4ad2-890b-94824216d5f5",
   "metadata": {},
   "outputs": [
    {
     "data": {
      "image/png": "[encoded data removed]",
      "text/plain": [
       "<Figure size 640x480 with 1 Axes>"
      ]
     },
     "metadata": {},
     "output_type": "display_data"
    }
   ],
   "source": [
    "legend_elements = [Line2D([], [], marker = \"o\", color=\"white\", markerfacecolor=col_038, lw=1, label='JSCE'),\n",
    "                   Line2D([], [], marker = \"o\", color=\"white\", markerfacecolor=col_047, lw=1, label='Oh en Kang'),\n",
    "                  ];\n",
    "\n",
    "plt.stem(list_038[\"wmax_038_ns\"]-list_038[\"wmax_038_ys\"],markerfmt=col_038);\n",
    "plt.stem(list_047[\"wmax_047_ns\"]-list_047[\"wmax_047_ys\"],markerfmt=col_047);\n",
    "\n",
    "plt.legend(handles=legend_elements, loc=\"lower center\",ncol=6,bbox_to_anchor=(0.5,-0.22));\n",
    "\n",
    "plt.ylabel(\"$w_{\\\\rm{max,cwf,no,init}} - w_{\\\\rm{max,cwf,init}} $ [mm]\");\n",
    "plt.xlabel(\"Datapoint\");\n",
    "plt.grid();"
   ]
  },
  {
   "cell_type": "code",
   "execution_count": 53,
   "id": "33b51f57-2bf1-4a31-b464-b7088668eaba",
   "metadata": {},
   "outputs": [
    {
     "data": {
      "image/png": "[encoded data removed]",
      "text/plain": [
       "<Figure size 640x480 with 1 Axes>"
      ]
     },
     "metadata": {},
     "output_type": "display_data"
    }
   ],
   "source": [
    "legend_elements = [Line2D([], [], marker = \"o\", color=\"white\", markerfacecolor=col_038, lw=1, label='JSCE'),\n",
    "                   Line2D([], [], marker = \"o\", color=\"white\", markerfacecolor=col_047, lw=1, label='Oh en Kang'),\n",
    "                  ];\n",
    "\n",
    "plt.stem(100*(list_038[\"wmax_038_ns\"]-list_038[\"wmax_038_ys\"])/list_038[\"meas_wmax\"],markerfmt=col_038);\n",
    "plt.stem(100*(list_047[\"wmax_047_ns\"]-list_047[\"wmax_047_ys\"])/list_047[\"meas_wmax\"],markerfmt=col_047);\n",
    "\n",
    "plt.legend(handles=legend_elements, loc=\"lower center\",ncol=6,bbox_to_anchor=(0.5,-0.22));\n",
    "\n",
    "plt.ylabel(\"$(w_{\\\\rm{max,cwf,no,init}} - w_{\\\\rm{max,cwf,init}})/w_{\\\\rm{max,exp}} $ [%]\");\n",
    "plt.xlabel(\"Datapoint\");\n",
    "plt.grid();"
   ]
  },
  {
   "cell_type": "markdown",
   "id": "cdb800af-0ab2-4314-8c4d-cc7a32d4716e",
   "metadata": {},
   "source": [
    "#### Japan Society of Civil Engineers"
   ]
  },
  {
   "cell_type": "code",
   "execution_count": 54,
   "id": "e0eae918-4d07-4c2a-aa01-c81dd3925867",
   "metadata": {},
   "outputs": [
    {
     "name": "stdout",
     "output_type": "stream",
     "text": [
      "CWF 038 - JSCE\n",
      "\n",
      "\n",
      "Ratio w_cwf/w_meas - no init shrink: mean= 1.665\n",
      "Ratio w_cwf/w_meas - init shrink: mean= 1.863\n",
      "\n",
      "\n",
      "Ratio w_cwf/w_meas - no init shrink + bending: mean= 1.665\n",
      "Ratio w_cwf/w_meas - init shrink + bending: mean= 1.863\n",
      "\n",
      "\n",
      "Ratio w_cwf/w_meas - no init shrink + tension: mean= nan\n",
      "Ratio w_cwf/w_meas - init shrink + tension: mean= nan\n"
     ]
    }
   ],
   "source": [
    "print(\"CWF 038 - JSCE\");\n",
    "print(\"\\n\");\n",
    "print(\"Ratio w_cwf/w_meas - no init shrink: mean=\",np.round(np.mean(list_038[\"wmax_038_ns\"]/list_038[\"meas_wmax\"]),3));\n",
    "print(\"Ratio w_cwf/w_meas - init shrink: mean=\",np.round(np.mean(list_038[\"wmax_038_ys\"]/list_038[\"meas_wmax\"]),3));\n",
    "print(\"\\n\");\n",
    "print(\"Ratio w_cwf/w_meas - no init shrink + bending: mean=\",np.round(np.mean(list_038_bend[\"wmax_038_ns\"]/list_038_bend[\"meas_wmax\"]),3));\n",
    "print(\"Ratio w_cwf/w_meas - init shrink + bending: mean=\",np.round(np.mean(list_038_bend[\"wmax_038_ys\"]/list_038_bend[\"meas_wmax\"]),3));\n",
    "print(\"\\n\");\n",
    "print(\"Ratio w_cwf/w_meas - no init shrink + tension: mean=\",np.round(np.mean(list_038_tens[\"wmax_038_ns\"]/list_038_tens[\"meas_wmax\"]),3));\n",
    "print(\"Ratio w_cwf/w_meas - init shrink + tension: mean=\",np.round(np.mean(list_038_tens[\"wmax_038_ys\"]/list_038_tens[\"meas_wmax\"]),3));"
   ]
  },
  {
   "cell_type": "markdown",
   "id": "88be8fb5-5c62-49c2-93c0-3e44e810834e",
   "metadata": {},
   "source": [
    "#### Oh and Kang"
   ]
  },
  {
   "cell_type": "code",
   "execution_count": 55,
   "id": "bc627a0a-43d6-4ac7-9624-7f7223c8d1d9",
   "metadata": {},
   "outputs": [
    {
     "name": "stdout",
     "output_type": "stream",
     "text": [
      "CWF 047 - Oh + Kang\n",
      "\n",
      "\n",
      "Ratio w_cwf/w_meas - no init shrink: mean= 0.917\n",
      "Ratio w_cwf/w_meas - init shrink: mean= 1.058\n",
      "\n",
      "\n",
      "Ratio w_cwf/w_meas - no init shrink + bending: mean= 0.917\n",
      "Ratio w_cwf/w_meas - init shrink + bending: mean= 1.058\n",
      "\n",
      "\n",
      "Ratio w_cwf/w_meas - no init shrink + tension: mean= nan\n",
      "Ratio w_cwf/w_meas - init shrink + tension: mean= nan\n"
     ]
    }
   ],
   "source": [
    "print(\"CWF 047 - Oh + Kang\");\n",
    "print(\"\\n\");\n",
    "print(\"Ratio w_cwf/w_meas - no init shrink: mean=\",np.round(np.mean(list_047[\"wmax_047_ns\"]/list_038[\"meas_wmax\"]),3));\n",
    "print(\"Ratio w_cwf/w_meas - init shrink: mean=\",np.round(np.mean(list_047[\"wmax_047_ys\"]/list_038[\"meas_wmax\"]),3));\n",
    "print(\"\\n\");\n",
    "print(\"Ratio w_cwf/w_meas - no init shrink + bending: mean=\",np.round(np.mean(list_047_bend[\"wmax_047_ns\"]/list_047_bend[\"meas_wmax\"]),3));\n",
    "print(\"Ratio w_cwf/w_meas - init shrink + bending: mean=\",np.round(np.mean(list_047_bend[\"wmax_047_ys\"]/list_047_bend[\"meas_wmax\"]),3));\n",
    "print(\"\\n\");\n",
    "print(\"Ratio w_cwf/w_meas - no init shrink + tension: mean=\",np.round(np.mean(list_047_tens[\"wmax_047_ns\"]/list_047_tens[\"meas_wmax\"]),3));\n",
    "print(\"Ratio w_cwf/w_meas - init shrink + tension: mean=\",np.round(np.mean(list_047_tens[\"wmax_047_ys\"]/list_047_tens[\"meas_wmax\"]),3));"
   ]
  }
 ],
 "metadata": {
  "kernelspec": {
   "display_name": "Python 3 (ipykernel)",
   "language": "python",
   "name": "python3"
  },
  "language_info": {
   "codemirror_mode": {
    "name": "ipython",
    "version": 3
   },
   "file_extension": ".py",
   "mimetype": "text/x-python",
   "name": "python",
   "nbconvert_exporter": "python",
   "pygments_lexer": "ipython3",
   "version": "3.12.4"
  }
 },
 "nbformat": 4,
 "nbformat_minor": 5
}
